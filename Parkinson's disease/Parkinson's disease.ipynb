{
  "nbformat": 4,
  "nbformat_minor": 0,
  "metadata": {
    "colab": {
      "provenance": []
    },
    "kernelspec": {
      "name": "python3",
      "display_name": "Python 3"
    },
    "language_info": {
      "name": "python"
    }
  },
  "cells": [
    {
      "cell_type": "code",
      "execution_count": null,
      "metadata": {
        "colab": {
          "base_uri": "https://localhost:8080/"
        },
        "id": "3OdAmKlHK9Os",
        "outputId": "f783297e-692c-4b88-f282-2ae61e370bec"
      },
      "outputs": [
        {
          "output_type": "stream",
          "name": "stdout",
          "text": [
            "Logistic regression\n",
            "83.6734693877551\n",
            "0.4287427131192695\n",
            "              precision    recall  f1-score   support\n",
            "\n",
            "         0.0       0.67      0.40      0.50        10\n",
            "         1.0       0.86      0.95      0.90        39\n",
            "\n",
            "    accuracy                           0.84        49\n",
            "   macro avg       0.76      0.67      0.70        49\n",
            "weighted avg       0.82      0.84      0.82        49\n",
            "\n"
          ]
        }
      ],
      "source": [
        "import pandas\n",
        "from sklearn.model_selection import train_test_split\n",
        "from sklearn.metrics import matthews_corrcoef\n",
        "from sklearn.metrics import classification_report\n",
        "from sklearn.neighbors import KNeighborsClassifier\n",
        "from sklearn.preprocessing import MinMaxScaler\n",
        "from sklearn.metrics import accuracy_score\n",
        "from sklearn.model_selection import KFold\n",
        "from sklearn.model_selection import cross_val_score\n",
        "from sklearn.linear_model import LogisticRegression\n",
        "from sklearn.tree import DecisionTreeClassifier, export_graphviz\n",
        "from sklearn.neighbors import KNeighborsClassifier\n",
        "from sklearn.discriminant_analysis import LinearDiscriminantAnalysis\n",
        "from sklearn.naive_bayes import GaussianNB\n",
        "from sklearn.neural_network import MLPClassifier\n",
        "from sklearn.preprocessing import MinMaxScaler\n",
        "from sklearn.ensemble import GradientBoostingClassifier\n",
        "from sklearn.metrics import accuracy_score\n",
        "\n",
        "\n",
        "\n",
        "url = \"data.csv\"\n",
        "# feature names\n",
        "features = [\"MDVP:Fo(Hz)\",\"MDVP:Fhi(Hz)\",\"MDVP:Flo(Hz)\",\"MDVP:Jitter(%)\",\"MDVP:Jitter(Abs)\",\"MDVP:RAP\",\"MDVP:PPQ\",\"Jitter:DDP\",\"MDVP:Shimmer\",\"MDVP:Shimmer(dB)\",\"Shimmer:APQ3\",\"Shimmer:APQ5\",\"MDVP:APQ\",\"Shimmer:DDA\",\"NHR\",\"HNR\",\"RPDE\",\"DFA\",\"spread1\",\"spread2\",\"D2\",\"PPE\",\"status\"]\n",
        "dataset = pandas.read_csv(url, names=features)\n",
        "\n",
        "\n",
        "array = dataset.values\n",
        "scaler = MinMaxScaler(feature_range=(0,1))\n",
        "scaled = scaler.fit_transform(array)\n",
        "\n",
        "X = scaled[:,0:22]\n",
        "\n",
        "Y = scaled[:,22]\n",
        "validation_size = 0.25\n",
        "\n",
        "seed = 7\n",
        "\n",
        "X_train, X_validation, Y_train, Y_validation = train_test_split(X, Y, test_size=validation_size, random_state=seed)\n",
        "\n",
        "\n",
        "num_folds = 10\n",
        "num_instances = len(X_train)\n",
        "\n",
        "scoring = 'accuracy'\n",
        "\n",
        "results = []\n",
        "clf = LogisticRegression()\n",
        "kfold = KFold(n_splits=num_folds, shuffle=True, random_state=seed)\n",
        "cv_results = cross_val_score(clf, X_train, Y_train, cv=kfold, scoring=scoring)\n",
        "clf.fit(X_train, Y_train)\n",
        "\n",
        "\n",
        "\n",
        "\n",
        "predictions = clf.predict(X_validation)\n",
        "print(\"Logistic regression\")\n",
        "print(accuracy_score(Y_validation, predictions)*100)\n",
        "acc1 = accuracy_score(Y_validation, predictions) * 100\n",
        "print(matthews_corrcoef(Y_validation, predictions))\n",
        "print(classification_report(Y_validation, predictions))\n"
      ]
    },
    {
      "cell_type": "code",
      "source": [
        "url = \"data.csv\"\n",
        "\n",
        "features = [\"MDVP:Fo(Hz)\",\"MDVP:Fhi(Hz)\",\"MDVP:Flo(Hz)\",\"MDVP:Jitter(%)\",\"MDVP:Jitter(Abs)\",\"MDVP:RAP\",\"MDVP:PPQ\",\"Jitter:DDP\",\"MDVP:Shimmer\",\"MDVP:Shimmer(dB)\",\"Shimmer:APQ3\",\"Shimmer:APQ5\",\"MDVP:APQ\",\"Shimmer:DDA\",\"NHR\",\"HNR\",\"RPDE\",\"DFA\",\"spread1\",\"spread2\",\"D2\",\"PPE\",\"status\"]\n",
        "dataset = pandas.read_csv(url, names=features)\n",
        "\n",
        "array = dataset.values\n",
        "scaler = MinMaxScaler(feature_range=(0,1))\n",
        "scaled = scaler.fit_transform(array)\n",
        "\n",
        "X = scaled[:,0:22]\n",
        "\n",
        "Y = scaled[:,22]\n",
        "validation_size = 0.25\n",
        "\n",
        "seed = 7\n",
        "\n",
        "X_train, X_validation, Y_train, Y_validation = train_test_split(X, Y, test_size=validation_size, random_state=seed)\n",
        "\n",
        "\n",
        "num_folds = 10\n",
        "num_instances = len(X_train)\n",
        "\n",
        "\n",
        "scoring = 'accuracy'\n",
        "\n",
        "results = []\n",
        "clf = KNeighborsClassifier()\n",
        "kfold = KFold(n_splits=num_folds, shuffle=True, random_state=seed)\n",
        "cv_results = cross_val_score(clf, X_train, Y_train, cv=kfold, scoring=scoring)\n",
        "clf.fit(X_train, Y_train)\n",
        "predictions = clf.predict(X_validation)\n",
        "print(\"K-Nearest Neighbour\")\n",
        "print(accuracy_score(Y_validation, predictions)*100)\n",
        "acc2 = accuracy_score(Y_validation, predictions) * 100\n",
        "print(matthews_corrcoef(Y_validation, predictions))\n",
        "print(classification_report(Y_validation, predictions))"
      ],
      "metadata": {
        "colab": {
          "base_uri": "https://localhost:8080/"
        },
        "id": "gVK1a2hksWf0",
        "outputId": "fad5f0c6-a1df-45f6-fb37-dd9ddbab9ee1"
      },
      "execution_count": null,
      "outputs": [
        {
          "output_type": "stream",
          "name": "stdout",
          "text": [
            "K-Nearest Neighbour\n",
            "97.95918367346938\n",
            "0.9367496997597597\n",
            "              precision    recall  f1-score   support\n",
            "\n",
            "         0.0       1.00      0.90      0.95        10\n",
            "         1.0       0.97      1.00      0.99        39\n",
            "\n",
            "    accuracy                           0.98        49\n",
            "   macro avg       0.99      0.95      0.97        49\n",
            "weighted avg       0.98      0.98      0.98        49\n",
            "\n"
          ]
        }
      ]
    },
    {
      "cell_type": "code",
      "source": [
        "import pandas\n",
        "from pandas.plotting import scatter_matrix\n",
        "from sklearn.model_selection import train_test_split, KFold, cross_val_score\n",
        "from sklearn.metrics import matthews_corrcoef, classification_report, confusion_matrix, accuracy_score\n",
        "from sklearn.neural_network import MLPClassifier\n",
        "from sklearn.preprocessing import MinMaxScaler\n",
        "\n",
        "\n",
        "url = \"data.csv\"\n",
        "\n",
        "features = [\"MDVP:Fo(Hz)\",\"MDVP:Fhi(Hz)\",\"MDVP:Flo(Hz)\",\"MDVP:Jitter(%)\",\"MDVP:Jitter(Abs)\",\"MDVP:RAP\",\"MDVP:PPQ\",\"Jitter:DDP\",\"MDVP:Shimmer\",\"MDVP:Shimmer(dB)\",\"Shimmer:APQ3\",\"Shimmer:APQ5\",\"MDVP:APQ\",\"Shimmer:DDA\",\"NHR\",\"HNR\",\"RPDE\",\"DFA\",\"spread1\",\"spread2\",\"D2\",\"PPE\",\"status\"]\n",
        "dataset = pandas.read_csv(url, names=features)\n",
        "\n",
        "\n",
        "array = dataset.values\n",
        "scaler = MinMaxScaler(feature_range=(0, 1))\n",
        "scaled = scaler.fit_transform(array)\n",
        "\n",
        "X = scaled[:, 0:22]\n",
        "\n",
        "Y = scaled[:, 22]\n",
        "validation_size = 0.25\n",
        "\n",
        "seed = 7\n",
        "\n",
        "X_train, X_validation, Y_train, Y_validation = train_test_split(X, Y, test_size=validation_size, random_state=seed)\n",
        "\n",
        "\n",
        "num_folds = 10\n",
        "scoring = 'accuracy'\n",
        "\n",
        "results = []\n",
        "clf = MLPClassifier(solver='lbfgs')\n",
        "kfold = KFold(n_splits=num_folds, shuffle=True, random_state=seed)\n",
        "cv_results = cross_val_score(clf, X_train, Y_train, cv=kfold, scoring=scoring)\n",
        "clf.fit(X_train, Y_train)\n",
        "predictions = clf.predict(X_validation)\n",
        "print(\"NN MLP classifier\")\n",
        "print(\"Accuracy:\", accuracy_score(Y_validation, predictions) * 100)\n",
        "acc3 = accuracy_score(Y_validation, predictions) * 100\n",
        "print(\"MCC:\", matthews_corrcoef(Y_validation, predictions))\n",
        "print(classification_report(Y_validation, predictions))\n"
      ],
      "metadata": {
        "colab": {
          "base_uri": "https://localhost:8080/"
        },
        "id": "NZ49anQ0R1f4",
        "outputId": "1c9c35ff-cf85-44c0-a0d4-c95f852d24ef"
      },
      "execution_count": null,
      "outputs": [
        {
          "output_type": "stream",
          "name": "stdout",
          "text": [
            "NN MLP classifier\n",
            "Accuracy: 95.91836734693877\n",
            "MCC: 0.8743589743589744\n",
            "              precision    recall  f1-score   support\n",
            "\n",
            "         0.0       0.90      0.90      0.90        10\n",
            "         1.0       0.97      0.97      0.97        39\n",
            "\n",
            "    accuracy                           0.96        49\n",
            "   macro avg       0.94      0.94      0.94        49\n",
            "weighted avg       0.96      0.96      0.96        49\n",
            "\n"
          ]
        }
      ]
    },
    {
      "cell_type": "code",
      "source": [
        "url = \"data.csv\"\n",
        "\n",
        "features = [\"MDVP:Fo(Hz)\",\"MDVP:Fhi(Hz)\",\"MDVP:Flo(Hz)\",\"MDVP:Jitter(%)\",\"MDVP:Jitter(Abs)\",\"MDVP:RAP\",\"MDVP:PPQ\",\"Jitter:DDP\",\"MDVP:Shimmer\",\"MDVP:Shimmer(dB)\",\"Shimmer:APQ3\",\"Shimmer:APQ5\",\"MDVP:APQ\",\"Shimmer:DDA\",\"NHR\",\"HNR\",\"RPDE\",\"DFA\",\"spread1\",\"spread2\",\"D2\",\"PPE\",\"status\"]\n",
        "dataset = pandas.read_csv(url, names=features)\n",
        "\n",
        "array = dataset.values\n",
        "scaler = MinMaxScaler(feature_range=(0,1))\n",
        "scaled = scaler.fit_transform(array)\n",
        "\n",
        "X = scaled[:,0:22]\n",
        "\n",
        "Y = scaled[:,22]\n",
        "validation_size = 0.25\n",
        "\n",
        "seed = 7\n",
        "X_train, X_validation, Y_train, Y_validation = train_test_split(X, Y, test_size=validation_size, random_state=seed)\n",
        "\n",
        "\n",
        "num_folds = 10\n",
        "num_instances = len(X_train)\n",
        "\n",
        "scoring = 'accuracy'\n",
        "\n",
        "models = []\n",
        "models.append(('Decision tree', DecisionTreeClassifier()))\n",
        "\n",
        "\n",
        "results = []\n",
        "names = []\n",
        "for name, model in models:\n",
        "  kfold = KFold(n_splits=num_folds,shuffle=True, random_state=seed)\n",
        "  cv_results = cross_val_score(model, X_train, Y_train, cv=kfold, scoring=scoring)\n",
        "  results.append(cv_results)\n",
        "  names.append(name)\n",
        "  model.fit(X_train, Y_train)\n",
        "  predictions = model.predict(X_validation)\n",
        "  print(name, accuracy_score(Y_validation, predictions)*100)\n",
        "  acc4 = accuracy_score(Y_validation, predictions) * 100\n",
        "  print(matthews_corrcoef(Y_validation, predictions))\n",
        "  print('----------------------')\n",
        "  export_graphviz(model, out_file=\"tree.dot\")"
      ],
      "metadata": {
        "colab": {
          "base_uri": "https://localhost:8080/"
        },
        "id": "iaB2Es8vuprO",
        "outputId": "94c871e8-7a51-4c69-f5a0-4c7bd4c35126"
      },
      "execution_count": null,
      "outputs": [
        {
          "output_type": "stream",
          "name": "stdout",
          "text": [
            "Decision tree 95.91836734693877\n",
            "0.8743589743589744\n",
            "----------------------\n"
          ]
        }
      ]
    },
    {
      "cell_type": "code",
      "source": [
        "import pandas\n",
        "from pandas.plotting import scatter_matrix\n",
        "from sklearn.model_selection import train_test_split\n",
        "from sklearn.metrics import matthews_corrcoef\n",
        "from sklearn.metrics import classification_report\n",
        "from sklearn.metrics import confusion_matrix\n",
        "from sklearn.linear_model import LogisticRegression\n",
        "from sklearn.tree import DecisionTreeClassifier, export_graphviz\n",
        "from sklearn.neighbors import KNeighborsClassifier\n",
        "from sklearn.discriminant_analysis import LinearDiscriminantAnalysis\n",
        "from sklearn.naive_bayes import GaussianNB\n",
        "from sklearn.neural_network import MLPClassifier\n",
        "from sklearn.preprocessing import MinMaxScaler\n",
        "from sklearn.ensemble import GradientBoostingClassifier\n",
        "from sklearn.metrics import accuracy_score\n",
        "\n",
        "\n",
        "\n",
        "\n",
        "features = [\"MDVP:Fo(Hz)\",\"MDVP:Fhi(Hz)\",\"MDVP:Flo(Hz)\",\"MDVP:Jitter(%)\",\"MDVP:Jitter(Abs)\",\"MDVP:RAP\",\"MDVP:PPQ\",\"Jitter:DDP\",\"MDVP:Shimmer\",\"MDVP:Shimmer(dB)\",\"Shimmer:APQ3\",\"Shimmer:APQ5\",\"MDVP:APQ\",\"Shimmer:DDA\",\"NHR\",\"HNR\",\"RPDE\",\"DFA\",\"spread1\",\"spread2\",\"D2\",\"PPE\",\"status\"]\n",
        "dataset = pandas.read_csv(\"data.csv\", names=features)\n",
        "\n",
        "array = dataset.values\n",
        "scaler = MinMaxScaler(feature_range=(0,1))\n",
        "scaled = scaler.fit_transform(array)\n",
        "\n",
        "X = scaled[:,0:22]\n",
        "\n",
        "Y = scaled[:,22]\n",
        "validation_size = 0.25\n",
        "\n",
        "seed = 7\n",
        "X_train, X_validation, Y_train, Y_validation = train_test_split(X, Y, test_size=validation_size, random_state=seed)\n",
        "\n",
        "\n",
        "num_folds = 10\n",
        "num_instances = len(X_train)\n",
        "scoring = 'accuracy'\n",
        "\n",
        "\n",
        "models = []\n",
        "models.append(('Gradient Boosting', GradientBoostingClassifier(n_estimators=1000)))\n",
        "\n",
        "\n",
        "results = []\n",
        "names = []\n",
        "for name, model in models:\n",
        "  kfold = KFold(n_splits=num_folds,shuffle=True, random_state=seed)\n",
        "  cv_results = cross_val_score(model, X_train, Y_train, cv=kfold, scoring=scoring)\n",
        "  results.append(cv_results)\n",
        "  names.append(name)\n",
        "  model.fit(X_train, Y_train)\n",
        "  predictions = model.predict(X_validation)\n",
        "  print(name, accuracy_score(Y_validation, predictions)*100)\n",
        "  acc5 = accuracy_score(Y_validation, predictions) * 100\n",
        "  print(matthews_corrcoef(Y_validation, predictions))"
      ],
      "metadata": {
        "colab": {
          "base_uri": "https://localhost:8080/"
        },
        "id": "gfE7kgCWqZum",
        "outputId": "00035706-2d0c-4820-fed3-a637af5ba8f1"
      },
      "execution_count": null,
      "outputs": [
        {
          "output_type": "stream",
          "name": "stdout",
          "text": [
            "Gradient Boosting 95.91836734693877\n",
            "0.8723391598203635\n"
          ]
        }
      ]
    },
    {
      "cell_type": "code",
      "source": [
        "from sklearn.feature_selection import SelectPercentile, chi2\n",
        "percentile = 70  # Select top 50% of features\n",
        "selector = SelectPercentile(score_func=chi2, percentile=percentile)\n",
        "\n",
        "# Apply feature selection to the training data\n",
        "X_train_selected = selector.fit_transform(X_train, Y_train)\n",
        "\n",
        "# Get the indices of the selected features\n",
        "selected_feature_indices = selector.get_support(indices=True)\n",
        "\n",
        "# Print the selected feature indices\n",
        "print(\"Selected feature indices:\", selected_feature_indices)\n"
      ],
      "metadata": {
        "colab": {
          "base_uri": "https://localhost:8080/"
        },
        "id": "V7nDCPdWUSdT",
        "outputId": "18aea6e1-6089-4ff5-9cb2-fa0beaaacf0b"
      },
      "execution_count": null,
      "outputs": [
        {
          "output_type": "stream",
          "name": "stdout",
          "text": [
            "Selected feature indices: [ 0  2  3  4  5  6  8  9 10 11 12 13 18 19 21]\n"
          ]
        }
      ]
    },
    {
      "cell_type": "code",
      "source": [
        "import matplotlib.pyplot as plt\n",
        "import seaborn as sns\n",
        "\n",
        "\n",
        "acc = [acc1,acc2,acc3,acc4,acc5]\n",
        "mod = ['LR','kNN','MLP','DT','GB']\n",
        "\n",
        "\n",
        "plt.plot(mod, acc, marker='o')\n",
        "\n",
        "plt.xlabel('Model')\n",
        "plt.ylabel('Accuracy')\n",
        "plt.title('Accuracy of Different Models')\n",
        "\n",
        "plt.show()"
      ],
      "metadata": {
        "id": "9OVYQd2KtW4a",
        "colab": {
          "base_uri": "https://localhost:8080/",
          "height": 472
        },
        "outputId": "59560b55-2338-4cd7-9684-4b01df5626b1"
      },
      "execution_count": null,
      "outputs": [
        {
          "output_type": "display_data",
          "data": {
            "text/plain": [
              "<Figure size 640x480 with 1 Axes>"
            ],
            "image/png": "[encoded data removed]"
          },
          "metadata": {}
        }
      ]
    },
    {
      "cell_type": "code",
      "source": [],
      "metadata": {
        "id": "9vbCoHJM893r"
      },
      "execution_count": null,
      "outputs": []
    }
  ]
}