{
  "nbformat": 4,
  "nbformat_minor": 0,
  "metadata": {
    "colab": {
      "provenance": []
    },
    "kernelspec": {
      "name": "python3",
      "display_name": "Python 3"
    },
    "language_info": {
      "name": "python"
    }
  },
  "cells": [
    {
      "cell_type": "code",
      "execution_count": 20,
      "metadata": {
        "id": "kJ8DaFDGn2X0"
      },
      "outputs": [],
      "source": [
        "import numpy as np\n",
        "from sklearn import datasets\n",
        "from sklearn.model_selection import train_test_split\n",
        "from sklearn.preprocessing import StandardScaler\n",
        "from tensorflow.keras.models import Sequential\n",
        "from tensorflow.keras.layers import Dense\n",
        "from tensorflow.keras.utils import to_categorical\n",
        "import matplotlib.pyplot as plt"
      ]
    },
    {
      "cell_type": "code",
      "source": [
        "iris = datasets.load_iris()"
      ],
      "metadata": {
        "id": "BGwd30jCoPGp"
      },
      "execution_count": 21,
      "outputs": []
    },
    {
      "cell_type": "code",
      "source": [
        "X = iris.data\n",
        "y = iris.target"
      ],
      "metadata": {
        "id": "5G1S1dHmoRVE"
      },
      "execution_count": 22,
      "outputs": []
    },
    {
      "cell_type": "code",
      "source": [
        "X_train, X_test, y_train, y_test = train_test_split(X, y, test_size=0.2, random_state=42)"
      ],
      "metadata": {
        "id": "INY7oM3boUeC"
      },
      "execution_count": 23,
      "outputs": []
    },
    {
      "cell_type": "code",
      "source": [
        "scaler = StandardScaler()\n",
        "X_train_scaled = scaler.fit_transform(X_train)\n",
        "X_test_scaled = scaler.transform(X_test)"
      ],
      "metadata": {
        "id": "EulaEQQgoXfz"
      },
      "execution_count": 24,
      "outputs": []
    },
    {
      "cell_type": "code",
      "source": [
        "y_train_encoded = to_categorical(y_train)\n",
        "y_test_encoded = to_categorical(y_test)"
      ],
      "metadata": {
        "id": "_bVdsJmXoZ7w"
      },
      "execution_count": 25,
      "outputs": []
    },
    {
      "cell_type": "code",
      "source": [
        "model = Sequential([\n",
        "    Dense(64, activation='relu', input_shape=(4,)),\n",
        "    Dense(64, activation='relu'),\n",
        "    Dense(3, activation='softmax')\n",
        "])"
      ],
      "metadata": {
        "id": "g18eEreBocSx"
      },
      "execution_count": 26,
      "outputs": []
    },
    {
      "cell_type": "code",
      "source": [
        "model.compile(loss='categorical_crossentropy', optimizer='adam', metrics=['accuracy'])"
      ],
      "metadata": {
        "id": "1lb9Jz_pofs9"
      },
      "execution_count": 27,
      "outputs": []
    },
    {
      "cell_type": "code",
      "source": [
        "history=model.fit(X_train_scaled, y_train_encoded, epochs=100, batch_size=4, validation_split=0.1)"
      ],
      "metadata": {
        "colab": {
          "base_uri": "https://localhost:8080/"
        },
        "id": "K6lWGR05okUt",
        "outputId": "b47f9d89-d687-44cb-ffdc-9a9d0926d7f9"
      },
      "execution_count": 28,
      "outputs": [
        {
          "output_type": "stream",
          "name": "stdout",
          "text": [
            "Epoch 1/100\n",
            "27/27 [==============================] - 1s 14ms/step - loss: 0.9356 - accuracy: 0.5926 - val_loss: 0.8169 - val_accuracy: 0.9167\n",
            "Epoch 2/100\n",
            "27/27 [==============================] - 0s 3ms/step - loss: 0.5941 - accuracy: 0.7963 - val_loss: 0.6571 - val_accuracy: 0.8333\n",
            "Epoch 3/100\n",
            "27/27 [==============================] - 0s 2ms/step - loss: 0.4474 - accuracy: 0.8148 - val_loss: 0.5371 - val_accuracy: 0.8333\n",
            "Epoch 4/100\n",
            "27/27 [==============================] - 0s 3ms/step - loss: 0.3711 - accuracy: 0.8333 - val_loss: 0.4564 - val_accuracy: 0.9167\n",
            "Epoch 5/100\n",
            "27/27 [==============================] - 0s 2ms/step - loss: 0.3255 - accuracy: 0.8241 - val_loss: 0.4112 - val_accuracy: 0.9167\n",
            "Epoch 6/100\n",
            "27/27 [==============================] - 0s 2ms/step - loss: 0.2865 - accuracy: 0.8704 - val_loss: 0.3727 - val_accuracy: 0.9167\n",
            "Epoch 7/100\n",
            "27/27 [==============================] - 0s 3ms/step - loss: 0.2577 - accuracy: 0.8889 - val_loss: 0.3395 - val_accuracy: 0.9167\n",
            "Epoch 8/100\n",
            "27/27 [==============================] - 0s 2ms/step - loss: 0.2252 - accuracy: 0.9444 - val_loss: 0.3082 - val_accuracy: 0.9167\n",
            "Epoch 9/100\n",
            "27/27 [==============================] - 0s 3ms/step - loss: 0.2052 - accuracy: 0.9074 - val_loss: 0.3089 - val_accuracy: 0.9167\n",
            "Epoch 10/100\n",
            "27/27 [==============================] - 0s 3ms/step - loss: 0.1821 - accuracy: 0.9444 - val_loss: 0.3148 - val_accuracy: 0.9167\n",
            "Epoch 11/100\n",
            "27/27 [==============================] - 0s 2ms/step - loss: 0.1600 - accuracy: 0.9537 - val_loss: 0.2952 - val_accuracy: 0.9167\n",
            "Epoch 12/100\n",
            "27/27 [==============================] - 0s 2ms/step - loss: 0.1467 - accuracy: 0.9630 - val_loss: 0.2702 - val_accuracy: 0.9167\n",
            "Epoch 13/100\n",
            "27/27 [==============================] - 0s 2ms/step - loss: 0.1322 - accuracy: 0.9722 - val_loss: 0.3056 - val_accuracy: 0.9167\n",
            "Epoch 14/100\n",
            "27/27 [==============================] - 0s 2ms/step - loss: 0.1185 - accuracy: 0.9352 - val_loss: 0.2758 - val_accuracy: 0.9167\n",
            "Epoch 15/100\n",
            "27/27 [==============================] - 0s 3ms/step - loss: 0.1132 - accuracy: 0.9630 - val_loss: 0.3377 - val_accuracy: 0.9167\n",
            "Epoch 16/100\n",
            "27/27 [==============================] - 0s 3ms/step - loss: 0.1041 - accuracy: 0.9444 - val_loss: 0.3310 - val_accuracy: 0.9167\n",
            "Epoch 17/100\n",
            "27/27 [==============================] - 0s 2ms/step - loss: 0.0975 - accuracy: 0.9630 - val_loss: 0.3091 - val_accuracy: 0.9167\n",
            "Epoch 18/100\n",
            "27/27 [==============================] - 0s 2ms/step - loss: 0.1006 - accuracy: 0.9722 - val_loss: 0.3301 - val_accuracy: 0.9167\n",
            "Epoch 19/100\n",
            "27/27 [==============================] - 0s 2ms/step - loss: 0.0840 - accuracy: 0.9537 - val_loss: 0.3387 - val_accuracy: 0.9167\n",
            "Epoch 20/100\n",
            "27/27 [==============================] - 0s 2ms/step - loss: 0.0821 - accuracy: 0.9722 - val_loss: 0.3769 - val_accuracy: 0.9167\n",
            "Epoch 21/100\n",
            "27/27 [==============================] - 0s 3ms/step - loss: 0.0748 - accuracy: 0.9722 - val_loss: 0.3554 - val_accuracy: 0.9167\n",
            "Epoch 22/100\n",
            "27/27 [==============================] - 0s 3ms/step - loss: 0.0743 - accuracy: 0.9722 - val_loss: 0.3966 - val_accuracy: 0.9167\n",
            "Epoch 23/100\n",
            "27/27 [==============================] - 0s 2ms/step - loss: 0.0709 - accuracy: 0.9722 - val_loss: 0.3771 - val_accuracy: 0.9167\n",
            "Epoch 24/100\n",
            "27/27 [==============================] - 0s 3ms/step - loss: 0.0700 - accuracy: 0.9722 - val_loss: 0.3954 - val_accuracy: 0.9167\n",
            "Epoch 25/100\n",
            "27/27 [==============================] - 0s 3ms/step - loss: 0.0648 - accuracy: 0.9815 - val_loss: 0.4117 - val_accuracy: 0.9167\n",
            "Epoch 26/100\n",
            "27/27 [==============================] - 0s 3ms/step - loss: 0.0677 - accuracy: 0.9815 - val_loss: 0.3662 - val_accuracy: 0.9167\n",
            "Epoch 27/100\n",
            "27/27 [==============================] - 0s 3ms/step - loss: 0.0716 - accuracy: 0.9630 - val_loss: 0.4129 - val_accuracy: 0.9167\n",
            "Epoch 28/100\n",
            "27/27 [==============================] - 0s 2ms/step - loss: 0.0877 - accuracy: 0.9444 - val_loss: 0.3819 - val_accuracy: 0.9167\n",
            "Epoch 29/100\n",
            "27/27 [==============================] - 0s 2ms/step - loss: 0.0655 - accuracy: 0.9722 - val_loss: 0.4655 - val_accuracy: 0.9167\n",
            "Epoch 30/100\n",
            "27/27 [==============================] - 0s 2ms/step - loss: 0.0607 - accuracy: 0.9815 - val_loss: 0.3738 - val_accuracy: 0.9167\n",
            "Epoch 31/100\n",
            "27/27 [==============================] - 0s 2ms/step - loss: 0.0585 - accuracy: 0.9722 - val_loss: 0.4470 - val_accuracy: 0.9167\n",
            "Epoch 32/100\n",
            "27/27 [==============================] - 0s 2ms/step - loss: 0.0600 - accuracy: 0.9722 - val_loss: 0.4259 - val_accuracy: 0.9167\n",
            "Epoch 33/100\n",
            "27/27 [==============================] - 0s 3ms/step - loss: 0.0550 - accuracy: 0.9815 - val_loss: 0.4348 - val_accuracy: 0.9167\n",
            "Epoch 34/100\n",
            "27/27 [==============================] - 0s 2ms/step - loss: 0.0574 - accuracy: 0.9815 - val_loss: 0.4250 - val_accuracy: 0.9167\n",
            "Epoch 35/100\n",
            "27/27 [==============================] - 0s 2ms/step - loss: 0.0617 - accuracy: 0.9722 - val_loss: 0.4848 - val_accuracy: 0.9167\n",
            "Epoch 36/100\n",
            "27/27 [==============================] - 0s 2ms/step - loss: 0.0688 - accuracy: 0.9722 - val_loss: 0.4467 - val_accuracy: 0.9167\n",
            "Epoch 37/100\n",
            "27/27 [==============================] - 0s 2ms/step - loss: 0.0644 - accuracy: 0.9630 - val_loss: 0.4273 - val_accuracy: 0.9167\n",
            "Epoch 38/100\n",
            "27/27 [==============================] - 0s 2ms/step - loss: 0.0552 - accuracy: 0.9815 - val_loss: 0.4687 - val_accuracy: 0.9167\n",
            "Epoch 39/100\n",
            "27/27 [==============================] - 0s 3ms/step - loss: 0.0542 - accuracy: 0.9815 - val_loss: 0.5133 - val_accuracy: 0.9167\n",
            "Epoch 40/100\n",
            "27/27 [==============================] - 0s 2ms/step - loss: 0.0515 - accuracy: 0.9815 - val_loss: 0.4815 - val_accuracy: 0.9167\n",
            "Epoch 41/100\n",
            "27/27 [==============================] - 0s 2ms/step - loss: 0.0540 - accuracy: 0.9815 - val_loss: 0.5322 - val_accuracy: 0.9167\n",
            "Epoch 42/100\n",
            "27/27 [==============================] - 0s 2ms/step - loss: 0.0492 - accuracy: 0.9630 - val_loss: 0.5117 - val_accuracy: 0.9167\n",
            "Epoch 43/100\n",
            "27/27 [==============================] - 0s 3ms/step - loss: 0.0461 - accuracy: 0.9815 - val_loss: 0.5108 - val_accuracy: 0.9167\n",
            "Epoch 44/100\n",
            "27/27 [==============================] - 0s 3ms/step - loss: 0.0486 - accuracy: 0.9815 - val_loss: 0.5193 - val_accuracy: 0.9167\n",
            "Epoch 45/100\n",
            "27/27 [==============================] - 0s 2ms/step - loss: 0.0520 - accuracy: 0.9722 - val_loss: 0.4719 - val_accuracy: 0.9167\n",
            "Epoch 46/100\n",
            "27/27 [==============================] - 0s 3ms/step - loss: 0.0558 - accuracy: 0.9722 - val_loss: 0.5531 - val_accuracy: 0.9167\n",
            "Epoch 47/100\n",
            "27/27 [==============================] - 0s 2ms/step - loss: 0.0495 - accuracy: 0.9815 - val_loss: 0.5279 - val_accuracy: 0.9167\n",
            "Epoch 48/100\n",
            "27/27 [==============================] - 0s 3ms/step - loss: 0.0455 - accuracy: 0.9815 - val_loss: 0.5324 - val_accuracy: 0.9167\n",
            "Epoch 49/100\n",
            "27/27 [==============================] - 0s 2ms/step - loss: 0.0484 - accuracy: 0.9815 - val_loss: 0.5500 - val_accuracy: 0.9167\n",
            "Epoch 50/100\n",
            "27/27 [==============================] - 0s 3ms/step - loss: 0.0495 - accuracy: 0.9815 - val_loss: 0.5321 - val_accuracy: 0.9167\n",
            "Epoch 51/100\n",
            "27/27 [==============================] - 0s 2ms/step - loss: 0.0443 - accuracy: 0.9907 - val_loss: 0.5456 - val_accuracy: 0.9167\n",
            "Epoch 52/100\n",
            "27/27 [==============================] - 0s 2ms/step - loss: 0.0437 - accuracy: 0.9815 - val_loss: 0.5484 - val_accuracy: 0.9167\n",
            "Epoch 53/100\n",
            "27/27 [==============================] - 0s 2ms/step - loss: 0.0516 - accuracy: 0.9722 - val_loss: 0.5497 - val_accuracy: 0.9167\n",
            "Epoch 54/100\n",
            "27/27 [==============================] - 0s 2ms/step - loss: 0.0434 - accuracy: 0.9815 - val_loss: 0.5500 - val_accuracy: 0.9167\n",
            "Epoch 55/100\n",
            "27/27 [==============================] - 0s 2ms/step - loss: 0.0405 - accuracy: 0.9907 - val_loss: 0.5638 - val_accuracy: 0.9167\n",
            "Epoch 56/100\n",
            "27/27 [==============================] - 0s 2ms/step - loss: 0.0433 - accuracy: 0.9815 - val_loss: 0.6283 - val_accuracy: 0.9167\n",
            "Epoch 57/100\n",
            "27/27 [==============================] - 0s 3ms/step - loss: 0.0460 - accuracy: 0.9815 - val_loss: 0.5503 - val_accuracy: 0.9167\n",
            "Epoch 58/100\n",
            "27/27 [==============================] - 0s 2ms/step - loss: 0.0390 - accuracy: 0.9907 - val_loss: 0.5868 - val_accuracy: 0.9167\n",
            "Epoch 59/100\n",
            "27/27 [==============================] - 0s 3ms/step - loss: 0.0442 - accuracy: 0.9722 - val_loss: 0.5711 - val_accuracy: 0.9167\n",
            "Epoch 60/100\n",
            "27/27 [==============================] - 0s 3ms/step - loss: 0.0461 - accuracy: 0.9630 - val_loss: 0.5685 - val_accuracy: 0.9167\n",
            "Epoch 61/100\n",
            "27/27 [==============================] - 0s 2ms/step - loss: 0.0440 - accuracy: 0.9907 - val_loss: 0.5941 - val_accuracy: 0.9167\n",
            "Epoch 62/100\n",
            "27/27 [==============================] - 0s 2ms/step - loss: 0.0365 - accuracy: 0.9907 - val_loss: 0.5910 - val_accuracy: 0.9167\n",
            "Epoch 63/100\n",
            "27/27 [==============================] - 0s 3ms/step - loss: 0.0365 - accuracy: 0.9907 - val_loss: 0.6173 - val_accuracy: 0.9167\n",
            "Epoch 64/100\n",
            "27/27 [==============================] - 0s 2ms/step - loss: 0.0371 - accuracy: 0.9907 - val_loss: 0.5918 - val_accuracy: 0.9167\n",
            "Epoch 65/100\n",
            "27/27 [==============================] - 0s 3ms/step - loss: 0.0345 - accuracy: 0.9907 - val_loss: 0.6566 - val_accuracy: 0.9167\n",
            "Epoch 66/100\n",
            "27/27 [==============================] - 0s 2ms/step - loss: 0.0386 - accuracy: 0.9815 - val_loss: 0.6215 - val_accuracy: 0.9167\n",
            "Epoch 67/100\n",
            "27/27 [==============================] - 0s 2ms/step - loss: 0.0357 - accuracy: 0.9907 - val_loss: 0.5990 - val_accuracy: 0.9167\n",
            "Epoch 68/100\n",
            "27/27 [==============================] - 0s 2ms/step - loss: 0.0412 - accuracy: 0.9907 - val_loss: 0.5837 - val_accuracy: 0.9167\n",
            "Epoch 69/100\n",
            "27/27 [==============================] - 0s 3ms/step - loss: 0.0360 - accuracy: 0.9907 - val_loss: 0.6601 - val_accuracy: 0.9167\n",
            "Epoch 70/100\n",
            "27/27 [==============================] - 0s 3ms/step - loss: 0.0365 - accuracy: 0.9815 - val_loss: 0.6288 - val_accuracy: 0.9167\n",
            "Epoch 71/100\n",
            "27/27 [==============================] - 0s 2ms/step - loss: 0.0373 - accuracy: 0.9815 - val_loss: 0.6209 - val_accuracy: 0.9167\n",
            "Epoch 72/100\n",
            "27/27 [==============================] - 0s 2ms/step - loss: 0.0323 - accuracy: 0.9815 - val_loss: 0.6582 - val_accuracy: 0.9167\n",
            "Epoch 73/100\n",
            "27/27 [==============================] - 0s 2ms/step - loss: 0.0347 - accuracy: 0.9907 - val_loss: 0.6782 - val_accuracy: 0.9167\n",
            "Epoch 74/100\n",
            "27/27 [==============================] - 0s 3ms/step - loss: 0.0363 - accuracy: 0.9815 - val_loss: 0.6135 - val_accuracy: 0.9167\n",
            "Epoch 75/100\n",
            "27/27 [==============================] - 0s 2ms/step - loss: 0.0395 - accuracy: 0.9907 - val_loss: 0.6428 - val_accuracy: 0.9167\n",
            "Epoch 76/100\n",
            "27/27 [==============================] - 0s 2ms/step - loss: 0.0316 - accuracy: 0.9907 - val_loss: 0.6552 - val_accuracy: 0.9167\n",
            "Epoch 77/100\n",
            "27/27 [==============================] - 0s 3ms/step - loss: 0.0365 - accuracy: 0.9907 - val_loss: 0.6731 - val_accuracy: 0.9167\n",
            "Epoch 78/100\n",
            "27/27 [==============================] - 0s 2ms/step - loss: 0.0406 - accuracy: 0.9815 - val_loss: 0.6498 - val_accuracy: 0.9167\n",
            "Epoch 79/100\n",
            "27/27 [==============================] - 0s 2ms/step - loss: 0.0308 - accuracy: 0.9907 - val_loss: 0.6833 - val_accuracy: 0.9167\n",
            "Epoch 80/100\n",
            "27/27 [==============================] - 0s 3ms/step - loss: 0.0300 - accuracy: 0.9907 - val_loss: 0.6833 - val_accuracy: 0.9167\n",
            "Epoch 81/100\n",
            "27/27 [==============================] - 0s 2ms/step - loss: 0.0352 - accuracy: 0.9815 - val_loss: 0.6527 - val_accuracy: 0.9167\n",
            "Epoch 82/100\n",
            "27/27 [==============================] - 0s 3ms/step - loss: 0.0307 - accuracy: 0.9907 - val_loss: 0.6864 - val_accuracy: 0.9167\n",
            "Epoch 83/100\n",
            "27/27 [==============================] - 0s 2ms/step - loss: 0.0318 - accuracy: 0.9907 - val_loss: 0.7008 - val_accuracy: 0.9167\n",
            "Epoch 84/100\n",
            "27/27 [==============================] - 0s 2ms/step - loss: 0.0302 - accuracy: 0.9815 - val_loss: 0.7250 - val_accuracy: 0.9167\n",
            "Epoch 85/100\n",
            "27/27 [==============================] - 0s 3ms/step - loss: 0.0357 - accuracy: 0.9815 - val_loss: 0.7256 - val_accuracy: 0.9167\n",
            "Epoch 86/100\n",
            "27/27 [==============================] - 0s 2ms/step - loss: 0.0310 - accuracy: 0.9907 - val_loss: 0.7230 - val_accuracy: 0.9167\n",
            "Epoch 87/100\n",
            "27/27 [==============================] - 0s 2ms/step - loss: 0.0274 - accuracy: 0.9907 - val_loss: 0.7568 - val_accuracy: 0.9167\n",
            "Epoch 88/100\n",
            "27/27 [==============================] - 0s 2ms/step - loss: 0.0286 - accuracy: 0.9907 - val_loss: 0.7583 - val_accuracy: 0.9167\n",
            "Epoch 89/100\n",
            "27/27 [==============================] - 0s 2ms/step - loss: 0.0260 - accuracy: 0.9907 - val_loss: 0.7269 - val_accuracy: 0.9167\n",
            "Epoch 90/100\n",
            "27/27 [==============================] - 0s 3ms/step - loss: 0.0321 - accuracy: 0.9907 - val_loss: 0.7549 - val_accuracy: 0.9167\n",
            "Epoch 91/100\n",
            "27/27 [==============================] - 0s 2ms/step - loss: 0.0281 - accuracy: 0.9907 - val_loss: 0.7543 - val_accuracy: 0.9167\n",
            "Epoch 92/100\n",
            "27/27 [==============================] - 0s 3ms/step - loss: 0.0275 - accuracy: 0.9907 - val_loss: 0.7246 - val_accuracy: 0.9167\n",
            "Epoch 93/100\n",
            "27/27 [==============================] - 0s 3ms/step - loss: 0.0268 - accuracy: 0.9907 - val_loss: 0.7358 - val_accuracy: 0.9167\n",
            "Epoch 94/100\n",
            "27/27 [==============================] - 0s 3ms/step - loss: 0.0250 - accuracy: 0.9907 - val_loss: 0.7458 - val_accuracy: 0.9167\n",
            "Epoch 95/100\n",
            "27/27 [==============================] - 0s 3ms/step - loss: 0.0360 - accuracy: 0.9907 - val_loss: 0.6975 - val_accuracy: 0.9167\n",
            "Epoch 96/100\n",
            "27/27 [==============================] - 0s 3ms/step - loss: 0.0350 - accuracy: 0.9815 - val_loss: 0.7614 - val_accuracy: 0.9167\n",
            "Epoch 97/100\n",
            "27/27 [==============================] - 0s 3ms/step - loss: 0.0255 - accuracy: 0.9907 - val_loss: 0.7671 - val_accuracy: 0.9167\n",
            "Epoch 98/100\n",
            "27/27 [==============================] - 0s 3ms/step - loss: 0.0262 - accuracy: 0.9907 - val_loss: 0.7652 - val_accuracy: 0.9167\n",
            "Epoch 99/100\n",
            "27/27 [==============================] - 0s 3ms/step - loss: 0.0276 - accuracy: 0.9907 - val_loss: 0.7462 - val_accuracy: 0.9167\n",
            "Epoch 100/100\n",
            "27/27 [==============================] - 0s 3ms/step - loss: 0.0301 - accuracy: 0.9815 - val_loss: 0.7207 - val_accuracy: 0.9167\n"
          ]
        }
      ]
    },
    {
      "cell_type": "code",
      "source": [
        "model.summary()"
      ],
      "metadata": {
        "colab": {
          "base_uri": "https://localhost:8080/"
        },
        "id": "TM7lhNPOoxec",
        "outputId": "2a99edaa-469f-4565-f401-5ab10d6b6194"
      },
      "execution_count": 29,
      "outputs": [
        {
          "output_type": "stream",
          "name": "stdout",
          "text": [
            "Model: \"sequential_1\"\n",
            "_________________________________________________________________\n",
            " Layer (type)                Output Shape              Param #   \n",
            "=================================================================\n",
            " dense_3 (Dense)             (None, 64)                320       \n",
            "                                                                 \n",
            " dense_4 (Dense)             (None, 64)                4160      \n",
            "                                                                 \n",
            " dense_5 (Dense)             (None, 3)                 195       \n",
            "                                                                 \n",
            "=================================================================\n",
            "Total params: 4,675\n",
            "Trainable params: 4,675\n",
            "Non-trainable params: 0\n",
            "_________________________________________________________________\n"
          ]
        }
      ]
    },
    {
      "cell_type": "code",
      "source": [
        "loss, accuracy = model.evaluate(X_test_scaled, y_test_encoded)\n",
        "print(f\"Test Loss: {loss:.4f}\")\n",
        "print(f\"Test Accuracy: {accuracy:.4f}\")"
      ],
      "metadata": {
        "colab": {
          "base_uri": "https://localhost:8080/"
        },
        "id": "7XpLGQ3Hon66",
        "outputId": "1de413e3-92b9-4ef9-d959-41aee4323bd1"
      },
      "execution_count": 30,
      "outputs": [
        {
          "output_type": "stream",
          "name": "stdout",
          "text": [
            "1/1 [==============================] - 0s 103ms/step - loss: 0.0081 - accuracy: 1.0000\n",
            "Test Loss: 0.0081\n",
            "Test Accuracy: 1.0000\n"
          ]
        }
      ]
    },
    {
      "cell_type": "code",
      "source": [
        "plt.plot(history.history['accuracy'], label='Training Accuracy')\n",
        "plt.title('Training Accuracy')"
      ],
      "metadata": {
        "colab": {
          "base_uri": "https://localhost:8080/",
          "height": 469
        },
        "id": "ywT3yZ7Vo-zK",
        "outputId": "804f4c28-6483-4035-a01e-1a18edcde5b0"
      },
      "execution_count": 33,
      "outputs": [
        {
          "output_type": "execute_result",
          "data": {
            "text/plain": [
              "Text(0.5, 1.0, 'Training Accuracy')"
            ]
          },
          "metadata": {},
          "execution_count": 33
        },
        {
          "output_type": "display_data",
          "data": {
            "text/plain": [
              "<Figure size 640x480 with 1 Axes>"
            ],
            "image/png": "[encoded data removed]"
          },
          "metadata": {}
        }
      ]
    },
    {
      "cell_type": "code",
      "source": [
        "plt.plot(history.history['val_accuracy'], label='Validation Accuracy')\n",
        "plt.title(' Validation Accuracy')"
      ],
      "metadata": {
        "colab": {
          "base_uri": "https://localhost:8080/",
          "height": 469
        },
        "id": "JEeQbQIBpT_L",
        "outputId": "f54e4495-e467-4925-da77-c804262f1ffe"
      },
      "execution_count": 34,
      "outputs": [
        {
          "output_type": "execute_result",
          "data": {
            "text/plain": [
              "Text(0.5, 1.0, ' Validation Accuracy')"
            ]
          },
          "metadata": {},
          "execution_count": 34
        },
        {
          "output_type": "display_data",
          "data": {
            "text/plain": [
              "<Figure size 640x480 with 1 Axes>"
            ],
            "image/png": "[encoded data removed]"
          },
          "metadata": {}
        }
      ]
    }
  ]
}