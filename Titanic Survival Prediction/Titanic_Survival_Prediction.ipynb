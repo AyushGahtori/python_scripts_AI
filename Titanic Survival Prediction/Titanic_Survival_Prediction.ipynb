{
  "nbformat": 4,
  "nbformat_minor": 0,
  "metadata": {
    "colab": {
      "provenance": []
    },
    "kernelspec": {
      "name": "python3",
      "display_name": "Python 3"
    },
    "language_info": {
      "name": "python"
    },
    "widgets": {
      "application/vnd.jupyter.widget-state+json": {
        "fb017b501b294ce68e561234c97e1a71": {
          "model_module": "catboost-widget",
          "model_name": "CatboostWidgetModel",
          "model_module_version": "^1.0.0",
          "state": {
            "_dom_classes": [],
            "_model_module": "catboost-widget",
            "_model_module_version": "^1.0.0",
            "_model_name": "CatboostWidgetModel",
            "_view_count": null,
            "_view_module": "catboost-widget",
            "_view_module_version": "^1.0.0",
            "_view_name": "CatboostWidgetView",
            "data": {
              "catboost_info": {
                "path": "catboost_info",
                "name": "catboost_info",
                "content": {
                  "passed_iterations": 1468,
                  "total_iterations": 5000,
                  "data": {
                    "iterations": [
                      {
                        "learn": [
                          0.6880061787
                        ],
                        "iteration": 0,
                        "passed_time": 0.01336721963,
                        "remaining_time": 66.82273094,
                        "test": [
                          0.8412151774,
                          0.687641064
                        ]
                      },
                      {
                        "learn": [
                          0.6832306564
                        ],
                        "iteration": 1,
                        "passed_time": 0.01750954792,
                        "remaining_time": 43.75636026,
                        "test": [
                          0.8268864153,
                          0.6824874852
                        ]
                      },
                      {
                        "learn": [
                          0.6785643027
                        ],
                        "iteration": 2,
                        "passed_time": 0.020074625,
                        "remaining_time": 33.43763371,
                        "test": [
                          0.8268864153,
                          0.6774479781
                        ]
                      },
                      {
                        "learn": [
                          0.6740045568
                        ],
                        "iteration": 3,
                        "passed_time": 0.02272337343,
                        "remaining_time": 28.38149341,
                        "test": [
                          0.8268864153,
                          0.6725198714
                        ]
                      },
                      {
                        "learn": [
                          0.6691691031
                        ],
                        "iteration": 4,
                        "passed_time": 0.0254373674,
                        "remaining_time": 25.41193003,
                        "test": [
                          0.8364491729,
                          0.6670662863
                        ]
                      },
                      {
                        "learn": [
                          0.6648133119
                        ],
                        "iteration": 5,
                        "passed_time": 0.02765977684,
                        "remaining_time": 23.02215426,
                        "test": [
                          0.8364491729,
                          0.6623801898
                        ]
                      },
                      {
                        "learn": [
                          0.6606328993
                        ],
                        "iteration": 6,
                        "passed_time": 0.02991634472,
                        "remaining_time": 21.33890132,
                        "test": [
                          0.8416149068,
                          0.6582055276
                        ]
                      },
                      {
                        "learn": [
                          0.6562495051
                        ],
                        "iteration": 7,
                        "passed_time": 0.03221586237,
                        "remaining_time": 20.10269812,
                        "test": [
                          0.8418301457,
                          0.6535258092
                        ]
                      },
                      {
                        "learn": [
                          0.6522527692
                        ],
                        "iteration": 8,
                        "passed_time": 0.03437401808,
                        "remaining_time": 19.06230269,
                        "test": [
                          0.8418301457,
                          0.6490058415
                        ]
                      },
                      {
                        "learn": [
                          0.6493251661
                        ],
                        "iteration": 9,
                        "passed_time": 0.03613969233,
                        "remaining_time": 18.03370647,
                        "test": [
                          0.8418301457,
                          0.6460087431
                        ]
                      },
                      {
                        "learn": [
                          0.6449380163
                        ],
                        "iteration": 10,
                        "passed_time": 0.03869642582,
                        "remaining_time": 17.55058804,
                        "test": [
                          0.8428140951,
                          0.6415294152
                        ]
                      },
                      {
                        "learn": [
                          0.6410781147
                        ],
                        "iteration": 11,
                        "passed_time": 0.04092639521,
                        "remaining_time": 17.01173828,
                        "test": [
                          0.8428140951,
                          0.6377732062
                        ]
                      },
                      {
                        "learn": [
                          0.6373380613
                        ],
                        "iteration": 12,
                        "passed_time": 0.04318584308,
                        "remaining_time": 16.5667538,
                        "test": [
                          0.8428140951,
                          0.6338345632
                        ]
                      },
                      {
                        "learn": [
                          0.6334977277
                        ],
                        "iteration": 13,
                        "passed_time": 0.04563389308,
                        "remaining_time": 16.25218507,
                        "test": [
                          0.8431523277,
                          0.6296110961
                        ]
                      },
                      {
                        "learn": [
                          0.6298557753
                        ],
                        "iteration": 14,
                        "passed_time": 0.04784240896,
                        "remaining_time": 15.89962725,
                        "test": [
                          0.8465346535,
                          0.6254888829
                        ]
                      },
                      {
                        "learn": [
                          0.6261924546
                        ],
                        "iteration": 15,
                        "passed_time": 0.0501379589,
                        "remaining_time": 15.6179742,
                        "test": [
                          0.8469036345,
                          0.6214967783
                        ]
                      },
                      {
                        "learn": [
                          0.6227930451
                        ],
                        "iteration": 16,
                        "passed_time": 0.05231960448,
                        "remaining_time": 15.33579936,
                        "test": [
                          0.8469036345,
                          0.617784129
                        ]
                      },
                      {
                        "learn": [
                          0.6194782947
                        ],
                        "iteration": 17,
                        "passed_time": 0.05446958523,
                        "remaining_time": 15.07597076,
                        "test": [
                          0.8469036345,
                          0.6141613508
                        ]
                      },
                      {
                        "learn": [
                          0.6162401138
                        ],
                        "iteration": 18,
                        "passed_time": 0.05664982809,
                        "remaining_time": 14.85119967,
                        "test": [
                          0.8469036345,
                          0.6106191062
                        ]
                      },
                      {
                        "learn": [
                          0.6129489592
                        ],
                        "iteration": 19,
                        "passed_time": 0.05887164571,
                        "remaining_time": 14.65903978,
                        "test": [
                          0.8477030933,
                          0.6069769604
                        ]
                      },
                      {
                        "learn": [
                          0.6097779476
                        ],
                        "iteration": 20,
                        "passed_time": 0.06119376641,
                        "remaining_time": 14.50875062,
                        "test": [
                          0.8477030933,
                          0.6032224933
                        ]
                      },
                      {
                        "learn": [
                          0.6067483335
                        ],
                        "iteration": 21,
                        "passed_time": 0.06329328926,
                        "remaining_time": 14.32154518,
                        "test": [
                          0.8477030933,
                          0.59990141
                        ]
                      },
                      {
                        "learn": [
                          0.6035030536
                        ],
                        "iteration": 22,
                        "passed_time": 0.0657472465,
                        "remaining_time": 14.22713243,
                        "test": [
                          0.8478875838,
                          0.5961537466
                        ]
                      },
                      {
                        "learn": [
                          0.6013997161
                        ],
                        "iteration": 23,
                        "passed_time": 0.06751416166,
                        "remaining_time": 13.99793618,
                        "test": [
                          0.8478875838,
                          0.5940002367
                        ]
                      },
                      {
                        "learn": [
                          0.5983254146
                        ],
                        "iteration": 24,
                        "passed_time": 0.06985059137,
                        "remaining_time": 13.90026768,
                        "test": [
                          0.8466576471,
                          0.59054334
                        ]
                      },
                      {
                        "learn": [
                          0.5954283855
                        ],
                        "iteration": 25,
                        "passed_time": 0.07203693738,
                        "remaining_time": 13.78122025,
                        "test": [
                          0.8466576471,
                          0.5874113203
                        ]
                      },
                      {
                        "learn": [
                          0.5926645451
                        ],
                        "iteration": 26,
                        "passed_time": 0.07434644815,
                        "remaining_time": 13.69351432,
                        "test": [
                          0.8460426788,
                          0.5847274366
                        ]
                      },
                      {
                        "learn": [
                          0.5897095729
                        ],
                        "iteration": 27,
                        "passed_time": 0.07651652106,
                        "remaining_time": 13.58714795,
                        "test": [
                          0.8458581883,
                          0.5816172492
                        ]
                      },
                      {
                        "learn": [
                          0.5866697141
                        ],
                        "iteration": 28,
                        "passed_time": 0.07891697724,
                        "remaining_time": 13.52745841,
                        "test": [
                          0.8429678372,
                          0.5784531355
                        ]
                      },
                      {
                        "learn": [
                          0.5848480948
                        ],
                        "iteration": 29,
                        "passed_time": 0.08071627812,
                        "remaining_time": 13.37199674,
                        "test": [
                          0.8429678372,
                          0.5765879264
                        ]
                      },
                      {
                        "learn": [
                          0.582300628
                        ],
                        "iteration": 30,
                        "passed_time": 0.08299240226,
                        "remaining_time": 13.30287893,
                        "test": [
                          0.843029334,
                          0.573702932
                        ]
                      },
                      {
                        "learn": [
                          0.5798995465
                        ],
                        "iteration": 31,
                        "passed_time": 0.08526767232,
                        "remaining_time": 13.23780613,
                        "test": [
                          0.8449972326,
                          0.5711705945
                        ]
                      },
                      {
                        "learn": [
                          0.5772668656
                        ],
                        "iteration": 32,
                        "passed_time": 0.08773315313,
                        "remaining_time": 13.20516884,
                        "test": [
                          0.845612201,
                          0.5683383784
                        ]
                      },
                      {
                        "learn": [
                          0.5751570827
                        ],
                        "iteration": 33,
                        "passed_time": 0.0901636955,
                        "remaining_time": 13.16920329,
                        "test": [
                          0.8461041756,
                          0.5659504561
                        ]
                      },
                      {
                        "learn": [
                          0.5728159126
                        ],
                        "iteration": 34,
                        "passed_time": 0.09244261735,
                        "remaining_time": 13.11364558,
                        "test": [
                          0.8461041756,
                          0.563370469
                        ]
                      },
                      {
                        "learn": [
                          0.5703545852
                        ],
                        "iteration": 35,
                        "passed_time": 0.09498267275,
                        "remaining_time": 13.09705521,
                        "test": [
                          0.8468421376,
                          0.5605780203
                        ]
                      },
                      {
                        "learn": [
                          0.568328105
                        ],
                        "iteration": 36,
                        "passed_time": 0.09823063102,
                        "remaining_time": 13.17617897,
                        "test": [
                          0.8461041756,
                          0.5582921959
                        ]
                      },
                      {
                        "learn": [
                          0.5656204502
                        ],
                        "iteration": 37,
                        "passed_time": 0.100575468,
                        "remaining_time": 13.13303874,
                        "test": [
                          0.8463194146,
                          0.5556164862
                        ]
                      },
                      {
                        "learn": [
                          0.5635757857
                        ],
                        "iteration": 38,
                        "passed_time": 0.1028755024,
                        "remaining_time": 13.08629147,
                        "test": [
                          0.8460734272,
                          0.5534704044
                        ]
                      },
                      {
                        "learn": [
                          0.5613933139
                        ],
                        "iteration": 39,
                        "passed_time": 0.1052466678,
                        "remaining_time": 13.05058681,
                        "test": [
                          0.8386938073,
                          0.5511975647
                        ]
                      },
                      {
                        "learn": [
                          0.5593066403
                        ],
                        "iteration": 40,
                        "passed_time": 0.1081131964,
                        "remaining_time": 13.07642295,
                        "test": [
                          0.8383248263,
                          0.5488478039
                        ]
                      },
                      {
                        "learn": [
                          0.5579344848
                        ],
                        "iteration": 41,
                        "passed_time": 0.1099728002,
                        "remaining_time": 12.98202722,
                        "test": [
                          0.8383248263,
                          0.5474426031
                        ]
                      },
                      {
                        "learn": [
                          0.5556381039
                        ],
                        "iteration": 42,
                        "passed_time": 0.1123643827,
                        "remaining_time": 12.95326152,
                        "test": [
                          0.8394317693,
                          0.5450764961
                        ]
                      },
                      {
                        "learn": [
                          0.5535094986
                        ],
                        "iteration": 43,
                        "passed_time": 0.1149599315,
                        "remaining_time": 12.94866864,
                        "test": [
                          0.8394317693,
                          0.5426324035
                        ]
                      },
                      {
                        "learn": [
                          0.5522308384
                        ],
                        "iteration": 44,
                        "passed_time": 0.116784619,
                        "remaining_time": 12.85928416,
                        "test": [
                          0.8394317693,
                          0.5413227393
                        ]
                      },
                      {
                        "learn": [
                          0.5504327745
                        ],
                        "iteration": 45,
                        "passed_time": 0.1191936115,
                        "remaining_time": 12.83663373,
                        "test": [
                          0.8394317693,
                          0.5392953303
                        ]
                      },
                      {
                        "learn": [
                          0.548852209
                        ],
                        "iteration": 46,
                        "passed_time": 0.1217143729,
                        "remaining_time": 12.82662317,
                        "test": [
                          0.8394317693,
                          0.5377870631
                        ]
                      },
                      {
                        "learn": [
                          0.547018638
                        ],
                        "iteration": 47,
                        "passed_time": 0.1239766044,
                        "remaining_time": 12.79025302,
                        "test": [
                          0.8394317693,
                          0.535782886
                        ]
                      },
                      {
                        "learn": [
                          0.5454173974
                        ],
                        "iteration": 48,
                        "passed_time": 0.1262956751,
                        "remaining_time": 12.76101812,
                        "test": [
                          0.8394317693,
                          0.5340737872
                        ]
                      },
                      {
                        "learn": [
                          0.5433791529
                        ],
                        "iteration": 49,
                        "passed_time": 0.1286498616,
                        "remaining_time": 12.7363363,
                        "test": [
                          0.8396777566,
                          0.5319047192
                        ]
                      },
                      {
                        "learn": [
                          0.5416494817
                        ],
                        "iteration": 50,
                        "passed_time": 0.1309702073,
                        "remaining_time": 12.70924619,
                        "test": [
                          0.8396777566,
                          0.5299820651
                        ]
                      },
                      {
                        "learn": [
                          0.5401204703
                        ],
                        "iteration": 51,
                        "passed_time": 0.1334462621,
                        "remaining_time": 12.6979251,
                        "test": [
                          0.8396777566,
                          0.5282692204
                        ]
                      },
                      {
                        "learn": [
                          0.5389520341
                        ],
                        "iteration": 52,
                        "passed_time": 0.1356340672,
                        "remaining_time": 12.66003265,
                        "test": [
                          0.8396777566,
                          0.5269072134
                        ]
                      },
                      {
                        "learn": [
                          0.5371737111
                        ],
                        "iteration": 53,
                        "passed_time": 0.1381339287,
                        "remaining_time": 12.65204466,
                        "test": [
                          0.8396777566,
                          0.5250750154
                        ]
                      },
                      {
                        "learn": [
                          0.5356141647
                        ],
                        "iteration": 54,
                        "passed_time": 0.140626858,
                        "remaining_time": 12.64363296,
                        "test": [
                          0.8407846996,
                          0.5233111286
                        ]
                      },
                      {
                        "learn": [
                          0.5341766196
                        ],
                        "iteration": 55,
                        "passed_time": 0.142843483,
                        "remaining_time": 12.61103893,
                        "test": [
                          0.8407846996,
                          0.5216635023
                        ]
                      },
                      {
                        "learn": [
                          0.5327674203
                        ],
                        "iteration": 56,
                        "passed_time": 0.1451188903,
                        "remaining_time": 12.58460833,
                        "test": [
                          0.8407846996,
                          0.520174358
                        ]
                      },
                      {
                        "learn": [
                          0.5315027733
                        ],
                        "iteration": 57,
                        "passed_time": 0.147455805,
                        "remaining_time": 12.56425152,
                        "test": [
                          0.8367874054,
                          0.5191582067
                        ]
                      },
                      {
                        "learn": [
                          0.5301475293
                        ],
                        "iteration": 58,
                        "passed_time": 0.1504005527,
                        "remaining_time": 12.595409,
                        "test": [
                          0.8367259086,
                          0.5176609595
                        ]
                      },
                      {
                        "learn": [
                          0.5287392426
                        ],
                        "iteration": 59,
                        "passed_time": 0.152881883,
                        "remaining_time": 12.58727503,
                        "test": [
                          0.8367259086,
                          0.5160717331
                        ]
                      },
                      {
                        "learn": [
                          0.5274468729
                        ],
                        "iteration": 60,
                        "passed_time": 0.1551885188,
                        "remaining_time": 12.56518187,
                        "test": [
                          0.8360494435,
                          0.5145738231
                        ]
                      },
                      {
                        "learn": [
                          0.5260213059
                        ],
                        "iteration": 61,
                        "passed_time": 0.1576519309,
                        "remaining_time": 12.55621347,
                        "test": [
                          0.8365414181,
                          0.5129642781
                        ]
                      },
                      {
                        "learn": [
                          0.5247339851
                        ],
                        "iteration": 62,
                        "passed_time": 0.1602846031,
                        "remaining_time": 12.56071564,
                        "test": [
                          0.8365414181,
                          0.5117087588
                        ]
                      },
                      {
                        "learn": [
                          0.5231641773
                        ],
                        "iteration": 63,
                        "passed_time": 0.163261642,
                        "remaining_time": 12.59155414,
                        "test": [
                          0.8367259086,
                          0.5099053109
                        ]
                      },
                      {
                        "learn": [
                          0.5219215697
                        ],
                        "iteration": 64,
                        "passed_time": 0.1657304337,
                        "remaining_time": 12.58276446,
                        "test": [
                          0.8367259086,
                          0.5084999516
                        ]
                      },
                      {
                        "learn": [
                          0.5205927636
                        ],
                        "iteration": 65,
                        "passed_time": 0.1682814154,
                        "remaining_time": 12.58031066,
                        "test": [
                          0.8371871349,
                          0.5072505051
                        ]
                      },
                      {
                        "learn": [
                          0.5196115877
                        ],
                        "iteration": 66,
                        "passed_time": 0.1705381096,
                        "remaining_time": 12.55618649,
                        "test": [
                          0.8371871349,
                          0.506210211
                        ]
                      },
                      {
                        "learn": [
                          0.5188634741
                        ],
                        "iteration": 67,
                        "passed_time": 0.17234753,
                        "remaining_time": 12.50026497,
                        "test": [
                          0.8371871349,
                          0.505441239
                        ]
                      },
                      {
                        "learn": [
                          0.5174575386
                        ],
                        "iteration": 68,
                        "passed_time": 0.1746196392,
                        "remaining_time": 12.4789774,
                        "test": [
                          0.8372793801,
                          0.5040193845
                        ]
                      },
                      {
                        "learn": [
                          0.5162075588
                        ],
                        "iteration": 69,
                        "passed_time": 0.177007084,
                        "remaining_time": 12.46635606,
                        "test": [
                          0.8387553041,
                          0.5026187658
                        ]
                      },
                      {
                        "learn": [
                          0.5149213018
                        ],
                        "iteration": 70,
                        "passed_time": 0.1802051617,
                        "remaining_time": 12.51029918,
                        "test": [
                          0.8388782978,
                          0.5011199742
                        ]
                      },
                      {
                        "learn": [
                          0.5137344721
                        ],
                        "iteration": 71,
                        "passed_time": 0.1826492717,
                        "remaining_time": 12.50132793,
                        "test": [
                          0.8394932661,
                          0.4997026666
                        ]
                      },
                      {
                        "learn": [
                          0.5130692516
                        ],
                        "iteration": 72,
                        "passed_time": 0.1845582374,
                        "remaining_time": 12.45641693,
                        "test": [
                          0.8394932661,
                          0.4990191612
                        ]
                      },
                      {
                        "learn": [
                          0.5120685225
                        ],
                        "iteration": 73,
                        "passed_time": 0.1870139788,
                        "remaining_time": 12.44906567,
                        "test": [
                          0.8405387123,
                          0.4980191896
                        ]
                      },
                      {
                        "learn": [
                          0.5109764138
                        ],
                        "iteration": 74,
                        "passed_time": 0.1904686604,
                        "remaining_time": 12.50744203,
                        "test": [
                          0.8405387123,
                          0.4966680827
                        ]
                      },
                      {
                        "learn": [
                          0.5098334646
                        ],
                        "iteration": 75,
                        "passed_time": 0.1931830294,
                        "remaining_time": 12.5162268,
                        "test": [
                          0.8406002091,
                          0.4953432773
                        ]
                      },
                      {
                        "learn": [
                          0.5086331644
                        ],
                        "iteration": 76,
                        "passed_time": 0.1957453606,
                        "remaining_time": 12.51499234,
                        "test": [
                          0.8408461964,
                          0.4940436713
                        ]
                      },
                      {
                        "learn": [
                          0.5076488781
                        ],
                        "iteration": 77,
                        "passed_time": 0.1983703814,
                        "remaining_time": 12.51767971,
                        "test": [
                          0.8413996679,
                          0.4930721694
                        ]
                      },
                      {
                        "learn": [
                          0.5066841601
                        ],
                        "iteration": 78,
                        "passed_time": 0.2007074243,
                        "remaining_time": 12.50229411,
                        "test": [
                          0.8413996679,
                          0.4919776489
                        ]
                      },
                      {
                        "learn": [
                          0.5057581189
                        ],
                        "iteration": 79,
                        "passed_time": 0.2030594798,
                        "remaining_time": 12.48815801,
                        "test": [
                          0.8414611648,
                          0.4909636574
                        ]
                      },
                      {
                        "learn": [
                          0.5046615086
                        ],
                        "iteration": 80,
                        "passed_time": 0.2083985901,
                        "remaining_time": 12.65571191,
                        "test": [
                          0.8417071521,
                          0.4897668335
                        ]
                      },
                      {
                        "learn": [
                          0.5035606162
                        ],
                        "iteration": 81,
                        "passed_time": 0.2118513431,
                        "remaining_time": 12.70591348,
                        "test": [
                          0.8418301457,
                          0.488620125
                        ]
                      },
                      {
                        "learn": [
                          0.5026353194
                        ],
                        "iteration": 82,
                        "passed_time": 0.2146957823,
                        "remaining_time": 12.71878508,
                        "test": [
                          0.8419531394,
                          0.4876270967
                        ]
                      },
                      {
                        "learn": [
                          0.5019433964
                        ],
                        "iteration": 83,
                        "passed_time": 0.2171472127,
                        "remaining_time": 12.70828212,
                        "test": [
                          0.8419531394,
                          0.4868180048
                        ]
                      },
                      {
                        "learn": [
                          0.5011557857
                        ],
                        "iteration": 84,
                        "passed_time": 0.2194528208,
                        "remaining_time": 12.68953664,
                        "test": [
                          0.8426911014,
                          0.4856290237
                        ]
                      },
                      {
                        "learn": [
                          0.500273315
                        ],
                        "iteration": 85,
                        "passed_time": 0.2219557491,
                        "remaining_time": 12.68244827,
                        "test": [
                          0.8424758625,
                          0.4845953032
                        ]
                      },
                      {
                        "learn": [
                          0.4993671445
                        ],
                        "iteration": 86,
                        "passed_time": 0.2242077216,
                        "remaining_time": 12.66129352,
                        "test": [
                          0.8421683783,
                          0.4835594871
                        ]
                      },
                      {
                        "learn": [
                          0.4985605988
                        ],
                        "iteration": 87,
                        "passed_time": 0.2265173246,
                        "remaining_time": 12.64378521,
                        "test": [
                          0.8430908308,
                          0.4826471383
                        ]
                      },
                      {
                        "learn": [
                          0.4975023036
                        ],
                        "iteration": 88,
                        "passed_time": 0.2287652166,
                        "remaining_time": 12.62321325,
                        "test": [
                          0.8431523277,
                          0.4816296269
                        ]
                      },
                      {
                        "learn": [
                          0.4968666864
                        ],
                        "iteration": 89,
                        "passed_time": 0.2310004151,
                        "remaining_time": 12.60235598,
                        "test": [
                          0.8430908308,
                          0.4811148408
                        ]
                      },
                      {
                        "learn": [
                          0.4958968727
                        ],
                        "iteration": 90,
                        "passed_time": 0.2331823998,
                        "remaining_time": 12.57903737,
                        "test": [
                          0.8432138245,
                          0.4800412433
                        ]
                      },
                      {
                        "learn": [
                          0.4950663694
                        ],
                        "iteration": 91,
                        "passed_time": 0.235545458,
                        "remaining_time": 12.56583813,
                        "test": [
                          0.844136277,
                          0.479239421
                        ]
                      },
                      {
                        "learn": [
                          0.4941124335
                        ],
                        "iteration": 92,
                        "passed_time": 0.2377603543,
                        "remaining_time": 12.54505439,
                        "test": [
                          0.8440440317,
                          0.4781784056
                        ]
                      },
                      {
                        "learn": [
                          0.4935753973
                        ],
                        "iteration": 93,
                        "passed_time": 0.2399384871,
                        "remaining_time": 12.522747,
                        "test": [
                          0.8441670254,
                          0.4773754606
                        ]
                      },
                      {
                        "learn": [
                          0.4928736064
                        ],
                        "iteration": 94,
                        "passed_time": 0.2421657679,
                        "remaining_time": 12.50340096,
                        "test": [
                          0.8453969621,
                          0.4765729372
                        ]
                      },
                      {
                        "learn": [
                          0.4921100242
                        ],
                        "iteration": 95,
                        "passed_time": 0.2445183784,
                        "remaining_time": 12.49081383,
                        "test": [
                          0.8458274399,
                          0.4756744116
                        ]
                      },
                      {
                        "learn": [
                          0.4915375765
                        ],
                        "iteration": 96,
                        "passed_time": 0.2468103093,
                        "remaining_time": 12.47537058,
                        "test": [
                          0.8458274399,
                          0.4750314942
                        ]
                      },
                      {
                        "learn": [
                          0.4912201477
                        ],
                        "iteration": 97,
                        "passed_time": 0.2507644986,
                        "remaining_time": 12.54334258,
                        "test": [
                          0.8452739684,
                          0.474732452
                        ]
                      },
                      {
                        "learn": [
                          0.4903072059
                        ],
                        "iteration": 98,
                        "passed_time": 0.2581205209,
                        "remaining_time": 12.77826942,
                        "test": [
                          0.8451509747,
                          0.4737262039
                        ]
                      },
                      {
                        "learn": [
                          0.4897470168
                        ],
                        "iteration": 99,
                        "passed_time": 0.2609909262,
                        "remaining_time": 12.78855539,
                        "test": [
                          0.8455199557,
                          0.473113911
                        ]
                      },
                      {
                        "learn": [
                          0.4893400731
                        ],
                        "iteration": 100,
                        "passed_time": 0.2634728865,
                        "remaining_time": 12.77973932,
                        "test": [
                          0.8455199557,
                          0.4726083019
                        ]
                      },
                      {
                        "learn": [
                          0.4886328995
                        ],
                        "iteration": 101,
                        "passed_time": 0.2659129411,
                        "remaining_time": 12.76903515,
                        "test": [
                          0.8453047168,
                          0.4719512232
                        ]
                      },
                      {
                        "learn": [
                          0.4881248105
                        ],
                        "iteration": 102,
                        "passed_time": 0.2683442385,
                        "remaining_time": 12.7580751,
                        "test": [
                          0.8447512453,
                          0.4715029845
                        ]
                      },
                      {
                        "learn": [
                          0.4874637876
                        ],
                        "iteration": 103,
                        "passed_time": 0.2706306575,
                        "remaining_time": 12.74045865,
                        "test": [
                          0.8453047168,
                          0.4706292501
                        ]
                      },
                      {
                        "learn": [
                          0.4868371811
                        ],
                        "iteration": 104,
                        "passed_time": 0.2730283478,
                        "remaining_time": 12.72832155,
                        "test": [
                          0.8462886661,
                          0.4699364776
                        ]
                      },
                      {
                        "learn": [
                          0.4865834558
                        ],
                        "iteration": 105,
                        "passed_time": 0.2751989075,
                        "remaining_time": 12.70588164,
                        "test": [
                          0.8468421376,
                          0.4696810796
                        ]
                      },
                      {
                        "learn": [
                          0.4859240828
                        ],
                        "iteration": 106,
                        "passed_time": 0.2776034446,
                        "remaining_time": 12.69452014,
                        "test": [
                          0.8467806408,
                          0.4690971491
                        ]
                      },
                      {
                        "learn": [
                          0.4852962576
                        ],
                        "iteration": 107,
                        "passed_time": 0.2798198,
                        "remaining_time": 12.67480057,
                        "test": [
                          0.8470266281,
                          0.4683318626
                        ]
                      },
                      {
                        "learn": [
                          0.4846551668
                        ],
                        "iteration": 108,
                        "passed_time": 0.2819113583,
                        "remaining_time": 12.64980233,
                        "test": [
                          0.8472111186,
                          0.4676342097
                        ]
                      },
                      {
                        "learn": [
                          0.4842055303
                        ],
                        "iteration": 109,
                        "passed_time": 0.2840948107,
                        "remaining_time": 12.62930568,
                        "test": [
                          0.8472726155,
                          0.4671768754
                        ]
                      },
                      {
                        "learn": [
                          0.4833991042
                        ],
                        "iteration": 110,
                        "passed_time": 0.2862741054,
                        "remaining_time": 12.60895587,
                        "test": [
                          0.8473341123,
                          0.4661278823
                        ]
                      },
                      {
                        "learn": [
                          0.4826381871
                        ],
                        "iteration": 111,
                        "passed_time": 0.2886813402,
                        "remaining_time": 12.59887849,
                        "test": [
                          0.847457106,
                          0.4653458375
                        ]
                      },
                      {
                        "learn": [
                          0.4820215331
                        ],
                        "iteration": 112,
                        "passed_time": 0.2908954178,
                        "remaining_time": 12.58058325,
                        "test": [
                          0.8473956091,
                          0.4645374813
                        ]
                      },
                      {
                        "learn": [
                          0.4815266202
                        ],
                        "iteration": 113,
                        "passed_time": 0.2934711449,
                        "remaining_time": 12.5780703,
                        "test": [
                          0.8470266281,
                          0.4640235806
                        ]
                      },
                      {
                        "learn": [
                          0.4811429933
                        ],
                        "iteration": 114,
                        "passed_time": 0.2960472005,
                        "remaining_time": 12.57557021,
                        "test": [
                          0.8469651313,
                          0.4637757504
                        ]
                      },
                      {
                        "learn": [
                          0.4806337893
                        ],
                        "iteration": 115,
                        "passed_time": 0.2982617059,
                        "remaining_time": 12.55784631,
                        "test": [
                          0.846719144,
                          0.4632225696
                        ]
                      },
                      {
                        "learn": [
                          0.4801504637
                        ],
                        "iteration": 116,
                        "passed_time": 0.3004180439,
                        "remaining_time": 12.5379599,
                        "test": [
                          0.846719144,
                          0.4626653625
                        ]
                      },
                      {
                        "learn": [
                          0.4796015102
                        ],
                        "iteration": 117,
                        "passed_time": 0.3026664655,
                        "remaining_time": 12.52218377,
                        "test": [
                          0.846719144,
                          0.462065774
                        ]
                      },
                      {
                        "learn": [
                          0.4791654381
                        ],
                        "iteration": 118,
                        "passed_time": 0.305060128,
                        "remaining_time": 12.51259231,
                        "test": [
                          0.8471496218,
                          0.4616854136
                        ]
                      },
                      {
                        "learn": [
                          0.4787961795
                        ],
                        "iteration": 119,
                        "passed_time": 0.3075255384,
                        "remaining_time": 12.50603856,
                        "test": [
                          0.844874239,
                          0.4614112763
                        ]
                      },
                      {
                        "learn": [
                          0.4782587368
                        ],
                        "iteration": 120,
                        "passed_time": 0.3098078257,
                        "remaining_time": 12.49216844,
                        "test": [
                          0.8448127421,
                          0.4609590288
                        ]
                      },
                      {
                        "learn": [
                          0.4777414356
                        ],
                        "iteration": 121,
                        "passed_time": 0.311939552,
                        "remaining_time": 12.47246832,
                        "test": [
                          0.8445667548,
                          0.4603936072
                        ]
                      },
                      {
                        "learn": [
                          0.4772709644
                        ],
                        "iteration": 122,
                        "passed_time": 0.3143116483,
                        "remaining_time": 12.46258462,
                        "test": [
                          0.8446897485,
                          0.4598213446
                        ]
                      },
                      {
                        "learn": [
                          0.4769491752
                        ],
                        "iteration": 123,
                        "passed_time": 0.3165455836,
                        "remaining_time": 12.44738924,
                        "test": [
                          0.8446282516,
                          0.4595843111
                        ]
                      },
                      {
                        "learn": [
                          0.4766697574
                        ],
                        "iteration": 124,
                        "passed_time": 0.3190034576,
                        "remaining_time": 12.44113485,
                        "test": [
                          0.8449972326,
                          0.4593079425
                        ]
                      },
                      {
                        "learn": [
                          0.4763878564
                        ],
                        "iteration": 125,
                        "passed_time": 0.3212075485,
                        "remaining_time": 12.42512374,
                        "test": [
                          0.844874239,
                          0.459128738
                        ]
                      },
                      {
                        "learn": [
                          0.4760018701
                        ],
                        "iteration": 126,
                        "passed_time": 0.323859002,
                        "remaining_time": 12.42649541,
                        "test": [
                          0.8450587295,
                          0.4587449267
                        ]
                      },
                      {
                        "learn": [
                          0.4755566566
                        ],
                        "iteration": 127,
                        "passed_time": 0.3261192344,
                        "remaining_time": 12.41291336,
                        "test": [
                          0.8451817231,
                          0.4582053895
                        ]
                      },
                      {
                        "learn": [
                          0.4753595134
                        ],
                        "iteration": 128,
                        "passed_time": 0.3287490088,
                        "remaining_time": 12.41346063,
                        "test": [
                          0.8451817231,
                          0.4579854368
                        ]
                      },
                      {
                        "learn": [
                          0.474988875
                        ],
                        "iteration": 129,
                        "passed_time": 0.3311849807,
                        "remaining_time": 12.40669889,
                        "test": [
                          0.8453662136,
                          0.4576212582
                        ]
                      },
                      {
                        "learn": [
                          0.4744935207
                        ],
                        "iteration": 130,
                        "passed_time": 0.3335687656,
                        "remaining_time": 12.39806351,
                        "test": [
                          0.8454277105,
                          0.4570323073
                        ]
                      },
                      {
                        "learn": [
                          0.474002083
                        ],
                        "iteration": 131,
                        "passed_time": 0.3358152744,
                        "remaining_time": 12.38446027,
                        "test": [
                          0.8454892073,
                          0.4565430603
                        ]
                      },
                      {
                        "learn": [
                          0.4736099917
                        ],
                        "iteration": 132,
                        "passed_time": 0.338067126,
                        "remaining_time": 12.37122332,
                        "test": [
                          0.8454892073,
                          0.4561912446
                        ]
                      },
                      {
                        "learn": [
                          0.4734513437
                        ],
                        "iteration": 133,
                        "passed_time": 0.3397692888,
                        "remaining_time": 12.33818925,
                        "test": [
                          0.8454277105,
                          0.4559942919
                        ]
                      },
                      {
                        "learn": [
                          0.4729659413
                        ],
                        "iteration": 134,
                        "passed_time": 0.3419600402,
                        "remaining_time": 12.32322663,
                        "test": [
                          0.8454277105,
                          0.4553545559
                        ]
                      },
                      {
                        "learn": [
                          0.4725805239
                        ],
                        "iteration": 135,
                        "passed_time": 0.3441836156,
                        "remaining_time": 12.30962578,
                        "test": [
                          0.8452124716,
                          0.4548534954
                        ]
                      },
                      {
                        "learn": [
                          0.4723782145
                        ],
                        "iteration": 136,
                        "passed_time": 0.346377167,
                        "remaining_time": 12.29512528,
                        "test": [
                          0.8450894779,
                          0.4547787689
                        ]
                      },
                      {
                        "learn": [
                          0.4721367881
                        ],
                        "iteration": 137,
                        "passed_time": 0.3488426901,
                        "remaining_time": 12.29038521,
                        "test": [
                          0.8448434906,
                          0.4546271423
                        ]
                      },
                      {
                        "learn": [
                          0.4717224951
                        ],
                        "iteration": 138,
                        "passed_time": 0.3512004987,
                        "remaining_time": 12.28191097,
                        "test": [
                          0.8447204969,
                          0.4541679619
                        ]
                      },
                      {
                        "learn": [
                          0.4712053153
                        ],
                        "iteration": 139,
                        "passed_time": 0.3535827491,
                        "remaining_time": 12.27437258,
                        "test": [
                          0.8450894779,
                          0.4536400264
                        ]
                      },
                      {
                        "learn": [
                          0.4707579199
                        ],
                        "iteration": 140,
                        "passed_time": 0.3558061876,
                        "remaining_time": 12.26143451,
                        "test": [
                          0.8450279811,
                          0.453272559
                        ]
                      },
                      {
                        "learn": [
                          0.4703429316
                        ],
                        "iteration": 141,
                        "passed_time": 0.3581217347,
                        "remaining_time": 12.2517985,
                        "test": [
                          0.8450894779,
                          0.4527054403
                        ]
                      },
                      {
                        "learn": [
                          0.4699920224
                        ],
                        "iteration": 142,
                        "passed_time": 0.360356605,
                        "remaining_time": 12.23952469,
                        "test": [
                          0.8452124716,
                          0.4523995783
                        ]
                      },
                      {
                        "learn": [
                          0.4696005865
                        ],
                        "iteration": 143,
                        "passed_time": 0.3627293254,
                        "remaining_time": 12.23203892,
                        "test": [
                          0.8453354652,
                          0.4520823239
                        ]
                      },
                      {
                        "learn": [
                          0.4692216125
                        ],
                        "iteration": 144,
                        "passed_time": 0.3650366621,
                        "remaining_time": 12.22243445,
                        "test": [
                          0.8453354652,
                          0.4517513375
                        ]
                      },
                      {
                        "learn": [
                          0.4689340149
                        ],
                        "iteration": 145,
                        "passed_time": 0.3672507984,
                        "remaining_time": 12.20983134,
                        "test": [
                          0.845612201,
                          0.4516973904
                        ]
                      },
                      {
                        "learn": [
                          0.4687438885
                        ],
                        "iteration": 146,
                        "passed_time": 0.3695324689,
                        "remaining_time": 12.19959913,
                        "test": [
                          0.8454892073,
                          0.4515664597
                        ]
                      },
                      {
                        "learn": [
                          0.4685073811
                        ],
                        "iteration": 147,
                        "passed_time": 0.3718190798,
                        "remaining_time": 12.18963632,
                        "test": [
                          0.8456736978,
                          0.4512904288
                        ]
                      },
                      {
                        "learn": [
                          0.4683782594
                        ],
                        "iteration": 148,
                        "passed_time": 0.3742776775,
                        "remaining_time": 12.18537593,
                        "test": [
                          0.8463809114,
                          0.4512433789
                        ]
                      },
                      {
                        "learn": [
                          0.4680900021
                        ],
                        "iteration": 149,
                        "passed_time": 0.3767748154,
                        "remaining_time": 12.1823857,
                        "test": [
                          0.8463194146,
                          0.4510627398
                        ]
                      },
                      {
                        "learn": [
                          0.4678449996
                        ],
                        "iteration": 150,
                        "passed_time": 0.3790441273,
                        "remaining_time": 12.17208592,
                        "test": [
                          0.8461349241,
                          0.4508366539
                        ]
                      },
                      {
                        "learn": [
                          0.4674088558
                        ],
                        "iteration": 151,
                        "passed_time": 0.3814659779,
                        "remaining_time": 12.16675698,
                        "test": [
                          0.8466883955,
                          0.450279561
                        ]
                      },
                      {
                        "learn": [
                          0.4671710575
                        ],
                        "iteration": 152,
                        "passed_time": 0.3840167214,
                        "remaining_time": 12.16554934,
                        "test": [
                          0.8467498924,
                          0.4500560386
                        ]
                      },
                      {
                        "learn": [
                          0.4667671928
                        ],
                        "iteration": 153,
                        "passed_time": 0.3866719521,
                        "remaining_time": 12.16761221,
                        "test": [
                          0.8469958797,
                          0.4497198779
                        ]
                      },
                      {
                        "learn": [
                          0.4664986197
                        ],
                        "iteration": 154,
                        "passed_time": 0.3891139171,
                        "remaining_time": 12.16294793,
                        "test": [
                          0.8474878544,
                          0.4496018911
                        ]
                      },
                      {
                        "learn": [
                          0.4664074606
                        ],
                        "iteration": 155,
                        "passed_time": 0.3976234893,
                        "remaining_time": 12.34671911,
                        "test": [
                          0.8473033639,
                          0.4495101974
                        ]
                      },
                      {
                        "learn": [
                          0.4660583441
                        ],
                        "iteration": 156,
                        "passed_time": 0.4029625772,
                        "remaining_time": 12.43024052,
                        "test": [
                          0.846719144,
                          0.4493345093
                        ]
                      },
                      {
                        "learn": [
                          0.4657363329
                        ],
                        "iteration": 157,
                        "passed_time": 0.4109659195,
                        "remaining_time": 12.5942847,
                        "test": [
                          0.8469651313,
                          0.4489205705
                        ]
                      },
                      {
                        "learn": [
                          0.4656081264
                        ],
                        "iteration": 158,
                        "passed_time": 0.4144807999,
                        "remaining_time": 12.61950662,
                        "test": [
                          0.8472111186,
                          0.4487703292
                        ]
                      },
                      {
                        "learn": [
                          0.4652158577
                        ],
                        "iteration": 159,
                        "passed_time": 0.4179064504,
                        "remaining_time": 12.64167012,
                        "test": [
                          0.847457106,
                          0.4484615199
                        ]
                      },
                      {
                        "learn": [
                          0.4650048869
                        ],
                        "iteration": 160,
                        "passed_time": 0.4203438981,
                        "remaining_time": 12.63381443,
                        "test": [
                          0.847457106,
                          0.4483312394
                        ]
                      },
                      {
                        "learn": [
                          0.4646317542
                        ],
                        "iteration": 161,
                        "passed_time": 0.4235830565,
                        "remaining_time": 12.64996807,
                        "test": [
                          0.8475800996,
                          0.4480346264
                        ]
                      },
                      {
                        "learn": [
                          0.464415553
                        ],
                        "iteration": 162,
                        "passed_time": 0.4270986469,
                        "remaining_time": 12.67408684,
                        "test": [
                          0.8473341123,
                          0.4478899508
                        ]
                      },
                      {
                        "learn": [
                          0.4642378366
                        ],
                        "iteration": 163,
                        "passed_time": 0.4295698813,
                        "remaining_time": 12.66707284,
                        "test": [
                          0.8475800996,
                          0.4477660258
                        ]
                      },
                      {
                        "learn": [
                          0.4638906263
                        ],
                        "iteration": 164,
                        "passed_time": 0.43193176,
                        "remaining_time": 12.65690945,
                        "test": [
                          0.8475186028,
                          0.4475222599
                        ]
                      },
                      {
                        "learn": [
                          0.463669323
                        ],
                        "iteration": 165,
                        "passed_time": 0.4343031913,
                        "remaining_time": 12.64711823,
                        "test": [
                          0.8475186028,
                          0.4473575134
                        ]
                      },
                      {
                        "learn": [
                          0.4632675389
                        ],
                        "iteration": 166,
                        "passed_time": 0.4365708287,
                        "remaining_time": 12.63441207,
                        "test": [
                          0.8473341123,
                          0.4471015746
                        ]
                      },
                      {
                        "learn": [
                          0.4629531632
                        ],
                        "iteration": 167,
                        "passed_time": 0.4390084487,
                        "remaining_time": 12.62671919,
                        "test": [
                          0.8473341123,
                          0.4468097732
                        ]
                      },
                      {
                        "learn": [
                          0.4626459844
                        ],
                        "iteration": 168,
                        "passed_time": 0.4413255458,
                        "remaining_time": 12.61564327,
                        "test": [
                          0.8475186028,
                          0.44639432
                        ]
                      },
                      {
                        "learn": [
                          0.4624695793
                        ],
                        "iteration": 169,
                        "passed_time": 0.4436114226,
                        "remaining_time": 12.60378336,
                        "test": [
                          0.8472726155,
                          0.4463246367
                        ]
                      },
                      {
                        "learn": [
                          0.4620469838
                        ],
                        "iteration": 170,
                        "passed_time": 0.4459189025,
                        "remaining_time": 12.5926455,
                        "test": [
                          0.8473341123,
                          0.4461505663
                        ]
                      },
                      {
                        "learn": [
                          0.4619155449
                        ],
                        "iteration": 171,
                        "passed_time": 0.4480567201,
                        "remaining_time": 12.57684794,
                        "test": [
                          0.8472111186,
                          0.4460380713
                        ]
                      },
                      {
                        "learn": [
                          0.4617498823
                        ],
                        "iteration": 172,
                        "passed_time": 0.4503906444,
                        "remaining_time": 12.56668,
                        "test": [
                          0.8471496218,
                          0.4458956267
                        ]
                      },
                      {
                        "learn": [
                          0.4615042679
                        ],
                        "iteration": 173,
                        "passed_time": 0.4526532527,
                        "remaining_time": 12.55462412,
                        "test": [
                          0.8477030933,
                          0.4456429212
                        ]
                      },
                      {
                        "learn": [
                          0.4611091262
                        ],
                        "iteration": 174,
                        "passed_time": 0.4550589348,
                        "remaining_time": 12.54662492,
                        "test": [
                          0.8475800996,
                          0.4454130008
                        ]
                      },
                      {
                        "learn": [
                          0.4608797716
                        ],
                        "iteration": 175,
                        "passed_time": 0.457211641,
                        "remaining_time": 12.53175543,
                        "test": [
                          0.8478875838,
                          0.4450755004
                        ]
                      },
                      {
                        "learn": [
                          0.4605472802
                        ],
                        "iteration": 176,
                        "passed_time": 0.4593923616,
                        "remaining_time": 12.51779299,
                        "test": [
                          0.8482565648,
                          0.4447681595
                        ]
                      },
                      {
                        "learn": [
                          0.460405237
                        ],
                        "iteration": 177,
                        "passed_time": 0.4615677526,
                        "remaining_time": 12.50381856,
                        "test": [
                          0.8480720743,
                          0.4447021451
                        ]
                      },
                      {
                        "learn": [
                          0.4602527585
                        ],
                        "iteration": 178,
                        "passed_time": 0.4640174981,
                        "remaining_time": 12.49736513,
                        "test": [
                          0.8481335711,
                          0.4446008337
                        ]
                      },
                      {
                        "learn": [
                          0.4600706328
                        ],
                        "iteration": 179,
                        "passed_time": 0.4663590537,
                        "remaining_time": 12.4880591,
                        "test": [
                          0.8480720743,
                          0.4444397982
                        ]
                      },
                      {
                        "learn": [
                          0.4599678912
                        ],
                        "iteration": 180,
                        "passed_time": 0.4681078557,
                        "remaining_time": 12.46304838,
                        "test": [
                          0.8480720743,
                          0.4443362618
                        ]
                      },
                      {
                        "learn": [
                          0.4597340932
                        ],
                        "iteration": 181,
                        "passed_time": 0.4706256067,
                        "remaining_time": 12.4586493,
                        "test": [
                          0.8482565648,
                          0.4440815366
                        ]
                      },
                      {
                        "learn": [
                          0.4595808598
                        ],
                        "iteration": 182,
                        "passed_time": 0.4731362582,
                        "remaining_time": 12.45408391,
                        "test": [
                          0.8483180616,
                          0.4439197963
                        ]
                      },
                      {
                        "learn": [
                          0.4593773826
                        ],
                        "iteration": 183,
                        "passed_time": 0.4754610525,
                        "remaining_time": 12.44467624,
                        "test": [
                          0.847826087,
                          0.443814106
                        ]
                      },
                      {
                        "learn": [
                          0.4592865175
                        ],
                        "iteration": 184,
                        "passed_time": 0.4776692825,
                        "remaining_time": 12.43231132,
                        "test": [
                          0.8481335711,
                          0.4436854585
                        ]
                      },
                      {
                        "learn": [
                          0.4589543139
                        ],
                        "iteration": 185,
                        "passed_time": 0.4799017441,
                        "remaining_time": 12.42068278,
                        "test": [
                          0.8482565648,
                          0.4431921997
                        ]
                      },
                      {
                        "learn": [
                          0.4586553267
                        ],
                        "iteration": 186,
                        "passed_time": 0.482259331,
                        "remaining_time": 12.41237519,
                        "test": [
                          0.8482565648,
                          0.4429212501
                        ]
                      },
                      {
                        "learn": [
                          0.4582818407
                        ],
                        "iteration": 187,
                        "passed_time": 0.4845593968,
                        "remaining_time": 12.4026586,
                        "test": [
                          0.848195068,
                          0.442576249
                        ]
                      },
                      {
                        "learn": [
                          0.4580047878
                        ],
                        "iteration": 188,
                        "passed_time": 0.4870538643,
                        "remaining_time": 12.397969,
                        "test": [
                          0.8477030933,
                          0.4423924668
                        ]
                      },
                      {
                        "learn": [
                          0.4577967458
                        ],
                        "iteration": 189,
                        "passed_time": 0.4895043561,
                        "remaining_time": 12.39218923,
                        "test": [
                          0.8480105775,
                          0.4422616809
                        ]
                      },
                      {
                        "learn": [
                          0.4576226651
                        ],
                        "iteration": 190,
                        "passed_time": 0.4921752203,
                        "remaining_time": 12.39199285,
                        "test": [
                          0.8478875838,
                          0.4420443704
                        ]
                      },
                      {
                        "learn": [
                          0.4575273972
                        ],
                        "iteration": 191,
                        "passed_time": 0.4962333754,
                        "remaining_time": 12.42651078,
                        "test": [
                          0.8481335711,
                          0.4420447828
                        ]
                      },
                      {
                        "learn": [
                          0.4572832939
                        ],
                        "iteration": 192,
                        "passed_time": 0.4988890515,
                        "remaining_time": 12.42569778,
                        "test": [
                          0.8482565648,
                          0.4417881281
                        ]
                      },
                      {
                        "learn": [
                          0.4570849312
                        ],
                        "iteration": 193,
                        "passed_time": 0.5012301881,
                        "remaining_time": 12.41707363,
                        "test": [
                          0.8482565648,
                          0.4415593194
                        ]
                      },
                      {
                        "learn": [
                          0.4570174882
                        ],
                        "iteration": 194,
                        "passed_time": 0.5037535363,
                        "remaining_time": 12.4130038,
                        "test": [
                          0.848195068,
                          0.4415126136
                        ]
                      },
                      {
                        "learn": [
                          0.4568395145
                        ],
                        "iteration": 195,
                        "passed_time": 0.506052798,
                        "remaining_time": 12.40345736,
                        "test": [
                          0.8479490806,
                          0.4413043963
                        ]
                      },
                      {
                        "learn": [
                          0.4566338737
                        ],
                        "iteration": 196,
                        "passed_time": 0.5088996676,
                        "remaining_time": 12.40733555,
                        "test": [
                          0.847826087,
                          0.4412060958
                        ]
                      },
                      {
                        "learn": [
                          0.4564171691
                        ],
                        "iteration": 197,
                        "passed_time": 0.5112211242,
                        "remaining_time": 12.39840322,
                        "test": [
                          0.847826087,
                          0.4410033323
                        ]
                      },
                      {
                        "learn": [
                          0.4562177776
                        ],
                        "iteration": 198,
                        "passed_time": 0.5238667883,
                        "remaining_time": 12.63861533,
                        "test": [
                          0.847826087,
                          0.4408136032
                        ]
                      },
                      {
                        "learn": [
                          0.4559246589
                        ],
                        "iteration": 199,
                        "passed_time": 0.5262698118,
                        "remaining_time": 12.63047548,
                        "test": [
                          0.847826087,
                          0.4405175966
                        ]
                      },
                      {
                        "learn": [
                          0.4557605385
                        ],
                        "iteration": 200,
                        "passed_time": 0.5285860498,
                        "remaining_time": 12.62032066,
                        "test": [
                          0.8476415965,
                          0.4403984645
                        ]
                      },
                      {
                        "learn": [
                          0.4556701963
                        ],
                        "iteration": 201,
                        "passed_time": 0.5315421083,
                        "remaining_time": 12.62544077,
                        "test": [
                          0.8476415965,
                          0.4402870283
                        ]
                      },
                      {
                        "learn": [
                          0.4555137761
                        ],
                        "iteration": 202,
                        "passed_time": 0.5337913621,
                        "remaining_time": 12.61377913,
                        "test": [
                          0.8477645901,
                          0.4402531057
                        ]
                      },
                      {
                        "learn": [
                          0.455214528
                        ],
                        "iteration": 203,
                        "passed_time": 0.5360636467,
                        "remaining_time": 12.60275122,
                        "test": [
                          0.847826087,
                          0.4401639626
                        ]
                      },
                      {
                        "learn": [
                          0.4549306773
                        ],
                        "iteration": 204,
                        "passed_time": 0.5383303287,
                        "remaining_time": 12.59167769,
                        "test": [
                          0.8478875838,
                          0.4400003036
                        ]
                      },
                      {
                        "learn": [
                          0.4548844946
                        ],
                        "iteration": 205,
                        "passed_time": 0.5400856043,
                        "remaining_time": 12.56878829,
                        "test": [
                          0.8477645901,
                          0.4399776058
                        ]
                      },
                      {
                        "learn": [
                          0.4547243876
                        ],
                        "iteration": 206,
                        "passed_time": 0.5425872327,
                        "remaining_time": 12.56338457,
                        "test": [
                          0.847610848,
                          0.4398292445
                        ]
                      },
                      {
                        "learn": [
                          0.4545655708
                        ],
                        "iteration": 207,
                        "passed_time": 0.5448235398,
                        "remaining_time": 12.55189617,
                        "test": [
                          0.8477953385,
                          0.4396449132
                        ]
                      },
                      {
                        "learn": [
                          0.4544080646
                        ],
                        "iteration": 208,
                        "passed_time": 0.5472628285,
                        "remaining_time": 12.54514934,
                        "test": [
                          0.8477338417,
                          0.4395159647
                        ]
                      },
                      {
                        "learn": [
                          0.4542161127
                        ],
                        "iteration": 209,
                        "passed_time": 0.5494225255,
                        "remaining_time": 12.53206618,
                        "test": [
                          0.8478568354,
                          0.4392957381
                        ]
                      },
                      {
                        "learn": [
                          0.4540783081
                        ],
                        "iteration": 210,
                        "passed_time": 0.5518528302,
                        "remaining_time": 12.52522845,
                        "test": [
                          0.8477953385,
                          0.4391463867
                        ]
                      },
                      {
                        "learn": [
                          0.4539979862
                        ],
                        "iteration": 211,
                        "passed_time": 0.5541938989,
                        "remaining_time": 12.51641693,
                        "test": [
                          0.8477953385,
                          0.4390501727
                        ]
                      },
                      {
                        "learn": [
                          0.4538137898
                        ],
                        "iteration": 212,
                        "passed_time": 0.556569248,
                        "remaining_time": 12.50843657,
                        "test": [
                          0.8477953385,
                          0.4389619606
                        ]
                      },
                      {
                        "learn": [
                          0.4537673375
                        ],
                        "iteration": 213,
                        "passed_time": 0.5588250331,
                        "remaining_time": 12.49783462,
                        "test": [
                          0.8477953385,
                          0.4389495948
                        ]
                      },
                      {
                        "learn": [
                          0.4536696494
                        ],
                        "iteration": 214,
                        "passed_time": 0.5610518403,
                        "remaining_time": 12.48666538,
                        "test": [
                          0.8477953385,
                          0.438847114
                        ]
                      },
                      {
                        "learn": [
                          0.4534309888
                        ],
                        "iteration": 215,
                        "passed_time": 0.5634464874,
                        "remaining_time": 12.47929628,
                        "test": [
                          0.8481643195,
                          0.4387372249
                        ]
                      },
                      {
                        "learn": [
                          0.453190163
                        ],
                        "iteration": 216,
                        "passed_time": 0.5659730792,
                        "remaining_time": 12.47488128,
                        "test": [
                          0.8481643195,
                          0.4385353872
                        ]
                      },
                      {
                        "learn": [
                          0.452952081
                        ],
                        "iteration": 217,
                        "passed_time": 0.5685498131,
                        "remaining_time": 12.47158351,
                        "test": [
                          0.8482258164,
                          0.4382522983
                        ]
                      },
                      {
                        "learn": [
                          0.4527135718
                        ],
                        "iteration": 218,
                        "passed_time": 0.5722380562,
                        "remaining_time": 12.49255775,
                        "test": [
                          0.8479183322,
                          0.4381566961
                        ]
                      },
                      {
                        "learn": [
                          0.4525503461
                        ],
                        "iteration": 219,
                        "passed_time": 0.5746951938,
                        "remaining_time": 12.48655921,
                        "test": [
                          0.8477338417,
                          0.4381416456
                        ]
                      },
                      {
                        "learn": [
                          0.4523130459
                        ],
                        "iteration": 220,
                        "passed_time": 0.5774891337,
                        "remaining_time": 12.48787588,
                        "test": [
                          0.847979829,
                          0.4380148217
                        ]
                      },
                      {
                        "learn": [
                          0.452197909
                        ],
                        "iteration": 221,
                        "passed_time": 0.5799992566,
                        "remaining_time": 12.48304706,
                        "test": [
                          0.8482258164,
                          0.437961651
                        ]
                      },
                      {
                        "learn": [
                          0.4520822471
                        ],
                        "iteration": 222,
                        "passed_time": 0.5825913376,
                        "remaining_time": 12.47999471,
                        "test": [
                          0.84834881,
                          0.4378065769
                        ]
                      },
                      {
                        "learn": [
                          0.4520366531
                        ],
                        "iteration": 223,
                        "passed_time": 0.5849194723,
                        "remaining_time": 12.47131875,
                        "test": [
                          0.84834881,
                          0.4377470857
                        ]
                      },
                      {
                        "learn": [
                          0.4517511496
                        ],
                        "iteration": 224,
                        "passed_time": 0.5872853373,
                        "remaining_time": 12.46349994,
                        "test": [
                          0.84834881,
                          0.4374508269
                        ]
                      },
                      {
                        "learn": [
                          0.4516296317
                        ],
                        "iteration": 225,
                        "passed_time": 0.5895141581,
                        "remaining_time": 12.45283447,
                        "test": [
                          0.8481028227,
                          0.4374336963
                        ]
                      },
                      {
                        "learn": [
                          0.4515359097
                        ],
                        "iteration": 226,
                        "passed_time": 0.5918620278,
                        "remaining_time": 12.44474651,
                        "test": [
                          0.8481643195,
                          0.4373946565
                        ]
                      },
                      {
                        "learn": [
                          0.4512614154
                        ],
                        "iteration": 227,
                        "passed_time": 0.5942941792,
                        "remaining_time": 12.43847291,
                        "test": [
                          0.8481028227,
                          0.43702278
                        ]
                      },
                      {
                        "learn": [
                          0.4509421286
                        ],
                        "iteration": 228,
                        "passed_time": 0.5968873048,
                        "remaining_time": 12.4355866,
                        "test": [
                          0.8484103069,
                          0.4366221723
                        ]
                      },
                      {
                        "learn": [
                          0.4508155574
                        ],
                        "iteration": 229,
                        "passed_time": 0.5990873734,
                        "remaining_time": 12.42455118,
                        "test": [
                          0.8485333005,
                          0.4365231475
                        ]
                      },
                      {
                        "learn": [
                          0.4506133459
                        ],
                        "iteration": 230,
                        "passed_time": 0.6013283759,
                        "remaining_time": 12.41443734,
                        "test": [
                          0.8485947974,
                          0.4364612241
                        ]
                      },
                      {
                        "learn": [
                          0.4504976973
                        ],
                        "iteration": 231,
                        "passed_time": 0.6036903087,
                        "remaining_time": 12.40687669,
                        "test": [
                          0.8481335711,
                          0.4362695979
                        ]
                      },
                      {
                        "learn": [
                          0.4503441869
                        ],
                        "iteration": 232,
                        "passed_time": 0.6059089836,
                        "remaining_time": 12.39642972,
                        "test": [
                          0.8481335711,
                          0.4361655881
                        ]
                      },
                      {
                        "learn": [
                          0.4502778407
                        ],
                        "iteration": 233,
                        "passed_time": 0.6080699202,
                        "remaining_time": 12.38487709,
                        "test": [
                          0.8482258164,
                          0.4361174372
                        ]
                      },
                      {
                        "learn": [
                          0.4500643729
                        ],
                        "iteration": 234,
                        "passed_time": 0.610611082,
                        "remaining_time": 12.38111407,
                        "test": [
                          0.8485333005,
                          0.4358842581
                        ]
                      },
                      {
                        "learn": [
                          0.4498171777
                        ],
                        "iteration": 235,
                        "passed_time": 0.6128998088,
                        "remaining_time": 12.37226563,
                        "test": [
                          0.8484718037,
                          0.4355507338
                        ]
                      },
                      {
                        "learn": [
                          0.4496261782
                        ],
                        "iteration": 236,
                        "passed_time": 0.6151011833,
                        "remaining_time": 12.36171703,
                        "test": [
                          0.8485333005,
                          0.4353768886
                        ]
                      },
                      {
                        "learn": [
                          0.4495515131
                        ],
                        "iteration": 237,
                        "passed_time": 0.6175380702,
                        "remaining_time": 12.3559508,
                        "test": [
                          0.8485333005,
                          0.4352974613
                        ]
                      },
                      {
                        "learn": [
                          0.4493679342
                        ],
                        "iteration": 238,
                        "passed_time": 0.6197891758,
                        "remaining_time": 12.34651157,
                        "test": [
                          0.8484718037,
                          0.4349811616
                        ]
                      },
                      {
                        "learn": [
                          0.4492562909
                        ],
                        "iteration": 239,
                        "passed_time": 0.6223092554,
                        "remaining_time": 12.3424669,
                        "test": [
                          0.8485947974,
                          0.4348103508
                        ]
                      },
                      {
                        "learn": [
                          0.4491780888
                        ],
                        "iteration": 240,
                        "passed_time": 0.6247787153,
                        "remaining_time": 12.3374353,
                        "test": [
                          0.8485947974,
                          0.4347505797
                        ]
                      },
                      {
                        "learn": [
                          0.4490990833
                        ],
                        "iteration": 241,
                        "passed_time": 0.6270811089,
                        "remaining_time": 12.32914015,
                        "test": [
                          0.8485947974,
                          0.4347016166
                        ]
                      },
                      {
                        "learn": [
                          0.4490422108
                        ],
                        "iteration": 242,
                        "passed_time": 0.6295272361,
                        "remaining_time": 12.32370808,
                        "test": [
                          0.8486562942,
                          0.4346381883
                        ]
                      },
                      {
                        "learn": [
                          0.4489291282
                        ],
                        "iteration": 243,
                        "passed_time": 0.6322213711,
                        "remaining_time": 12.32313459,
                        "test": [
                          0.8485947974,
                          0.4346190847
                        ]
                      },
                      {
                        "learn": [
                          0.4488377102
                        ],
                        "iteration": 244,
                        "passed_time": 0.634448456,
                        "remaining_time": 12.31347922,
                        "test": [
                          0.8485947974,
                          0.4345863526
                        ]
                      },
                      {
                        "learn": [
                          0.4487467837
                        ],
                        "iteration": 245,
                        "passed_time": 0.6366359584,
                        "remaining_time": 12.30311929,
                        "test": [
                          0.8485947974,
                          0.4344978984
                        ]
                      },
                      {
                        "learn": [
                          0.4485184915
                        ],
                        "iteration": 246,
                        "passed_time": 0.6389990257,
                        "remaining_time": 12.29620392,
                        "test": [
                          0.8486562942,
                          0.4344437199
                        ]
                      },
                      {
                        "learn": [
                          0.4483039489
                        ],
                        "iteration": 247,
                        "passed_time": 0.6415210552,
                        "remaining_time": 12.29237119,
                        "test": [
                          0.8485333005,
                          0.4342356315
                        ]
                      },
                      {
                        "learn": [
                          0.4480761524
                        ],
                        "iteration": 248,
                        "passed_time": 0.6440601079,
                        "remaining_time": 12.28887379,
                        "test": [
                          0.8485947974,
                          0.4340657207
                        ]
                      },
                      {
                        "learn": [
                          0.4477355138
                        ],
                        "iteration": 249,
                        "passed_time": 0.6463491497,
                        "remaining_time": 12.28063384,
                        "test": [
                          0.848717791,
                          0.4337581877
                        ]
                      },
                      {
                        "learn": [
                          0.4474781985
                        ],
                        "iteration": 250,
                        "passed_time": 0.6488673025,
                        "remaining_time": 12.27677617,
                        "test": [
                          0.848717791,
                          0.4334262841
                        ]
                      },
                      {
                        "learn": [
                          0.4473893897
                        ],
                        "iteration": 251,
                        "passed_time": 0.6512435474,
                        "remaining_time": 12.27025541,
                        "test": [
                          0.8486255458,
                          0.4333885218
                        ]
                      },
                      {
                        "learn": [
                          0.4473510177
                        ],
                        "iteration": 252,
                        "passed_time": 0.6536920552,
                        "remaining_time": 12.26512326,
                        "test": [
                          0.8485333005,
                          0.4333559021
                        ]
                      },
                      {
                        "learn": [
                          0.4472566603
                        ],
                        "iteration": 253,
                        "passed_time": 0.6561434238,
                        "remaining_time": 12.26006571,
                        "test": [
                          0.8485947974,
                          0.4332384169
                        ]
                      },
                      {
                        "learn": [
                          0.4471931859
                        ],
                        "iteration": 254,
                        "passed_time": 0.658537535,
                        "remaining_time": 12.25396315,
                        "test": [
                          0.8485947974,
                          0.4332255318
                        ]
                      },
                      {
                        "learn": [
                          0.4471344677
                        ],
                        "iteration": 255,
                        "passed_time": 0.6606605745,
                        "remaining_time": 12.24286627,
                        "test": [
                          0.8485333005,
                          0.4331358513
                        ]
                      },
                      {
                        "learn": [
                          0.4470816373
                        ],
                        "iteration": 256,
                        "passed_time": 0.6630073556,
                        "remaining_time": 12.23596843,
                        "test": [
                          0.8485947974,
                          0.4330953432
                        ]
                      },
                      {
                        "learn": [
                          0.4469602834
                        ],
                        "iteration": 257,
                        "passed_time": 0.6652607957,
                        "remaining_time": 12.22739028,
                        "test": [
                          0.8485947974,
                          0.4329712847
                        ]
                      },
                      {
                        "learn": [
                          0.4468886679
                        ],
                        "iteration": 258,
                        "passed_time": 0.6765049049,
                        "remaining_time": 12.38343534,
                        "test": [
                          0.8486562942,
                          0.4328738214
                        ]
                      },
                      {
                        "learn": [
                          0.4468436398
                        ],
                        "iteration": 259,
                        "passed_time": 0.6792652814,
                        "remaining_time": 12.38352859,
                        "test": [
                          0.8486562942,
                          0.4328464684
                        ]
                      },
                      {
                        "learn": [
                          0.4467519995
                        ],
                        "iteration": 260,
                        "passed_time": 0.6820504745,
                        "remaining_time": 12.38405057,
                        "test": [
                          0.8487792879,
                          0.432735255
                        ]
                      },
                      {
                        "learn": [
                          0.4467133736
                        ],
                        "iteration": 261,
                        "passed_time": 0.6843167005,
                        "remaining_time": 12.37516232,
                        "test": [
                          0.8487792879,
                          0.432671129
                        ]
                      },
                      {
                        "learn": [
                          0.44666514
                        ],
                        "iteration": 262,
                        "passed_time": 0.6861511498,
                        "remaining_time": 12.35854752,
                        "test": [
                          0.848717791,
                          0.4326210165
                        ]
                      },
                      {
                        "learn": [
                          0.4466122083
                        ],
                        "iteration": 263,
                        "passed_time": 0.6885625114,
                        "remaining_time": 12.35239414,
                        "test": [
                          0.8489637784,
                          0.4325710741
                        ]
                      },
                      {
                        "learn": [
                          0.4465082818
                        ],
                        "iteration": 264,
                        "passed_time": 0.6907535869,
                        "remaining_time": 12.34233296,
                        "test": [
                          0.8487792879,
                          0.4324857359
                        ]
                      },
                      {
                        "learn": [
                          0.4464509004
                        ],
                        "iteration": 265,
                        "passed_time": 0.6929399693,
                        "remaining_time": 12.33224742,
                        "test": [
                          0.8487792879,
                          0.4324352015
                        ]
                      },
                      {
                        "learn": [
                          0.4464100094
                        ],
                        "iteration": 266,
                        "passed_time": 0.6953634103,
                        "remaining_time": 12.3264233,
                        "test": [
                          0.8487792879,
                          0.4324330269
                        ]
                      },
                      {
                        "learn": [
                          0.4462711806
                        ],
                        "iteration": 267,
                        "passed_time": 0.697563914,
                        "remaining_time": 12.31668821,
                        "test": [
                          0.8486562942,
                          0.432353584
                        ]
                      },
                      {
                        "learn": [
                          0.4461702916
                        ],
                        "iteration": 268,
                        "passed_time": 0.6997201833,
                        "remaining_time": 12.30623118,
                        "test": [
                          0.8485947974,
                          0.4323067561
                        ]
                      },
                      {
                        "learn": [
                          0.4459975005
                        ],
                        "iteration": 269,
                        "passed_time": 0.7019786271,
                        "remaining_time": 12.29762558,
                        "test": [
                          0.8485947974,
                          0.4320768478
                        ]
                      },
                      {
                        "learn": [
                          0.445931116
                        ],
                        "iteration": 270,
                        "passed_time": 0.7041379455,
                        "remaining_time": 12.28733706,
                        "test": [
                          0.8489637784,
                          0.4320100362
                        ]
                      },
                      {
                        "learn": [
                          0.4458335579
                        ],
                        "iteration": 271,
                        "passed_time": 0.7062500561,
                        "remaining_time": 12.27628774,
                        "test": [
                          0.8487792879,
                          0.431950278
                        ]
                      },
                      {
                        "learn": [
                          0.4457870511
                        ],
                        "iteration": 272,
                        "passed_time": 0.7084775341,
                        "remaining_time": 12.26730148,
                        "test": [
                          0.8488407847,
                          0.4319166974
                        ]
                      },
                      {
                        "learn": [
                          0.445520741
                        ],
                        "iteration": 273,
                        "passed_time": 0.7106910786,
                        "remaining_time": 12.25812422,
                        "test": [
                          0.848717791,
                          0.4315924683
                        ]
                      },
                      {
                        "learn": [
                          0.445401139
                        ],
                        "iteration": 274,
                        "passed_time": 0.7132157145,
                        "remaining_time": 12.25434273,
                        "test": [
                          0.848717791,
                          0.4315625458
                        ]
                      },
                      {
                        "learn": [
                          0.4452626808
                        ],
                        "iteration": 275,
                        "passed_time": 0.7157422177,
                        "remaining_time": 12.25060231,
                        "test": [
                          0.848717791,
                          0.4315049843
                        ]
                      },
                      {
                        "learn": [
                          0.4451935051
                        ],
                        "iteration": 276,
                        "passed_time": 0.7181987586,
                        "remaining_time": 12.24567775,
                        "test": [
                          0.8485333005,
                          0.4314875631
                        ]
                      },
                      {
                        "learn": [
                          0.4451616873
                        ],
                        "iteration": 277,
                        "passed_time": 0.7199291789,
                        "remaining_time": 12.22843735,
                        "test": [
                          0.8485947974,
                          0.4314818783
                        ]
                      },
                      {
                        "learn": [
                          0.4451305044
                        ],
                        "iteration": 278,
                        "passed_time": 0.7241392555,
                        "remaining_time": 12.25326676,
                        "test": [
                          0.8486562942,
                          0.4314765678
                        ]
                      },
                      {
                        "learn": [
                          0.4450367767
                        ],
                        "iteration": 279,
                        "passed_time": 0.7273191805,
                        "remaining_time": 12.26052333,
                        "test": [
                          0.8488407847,
                          0.431378565
                        ]
                      },
                      {
                        "learn": [
                          0.444825679
                        ],
                        "iteration": 280,
                        "passed_time": 0.7296762237,
                        "remaining_time": 12.25388648,
                        "test": [
                          0.8487792879,
                          0.431363849
                        ]
                      },
                      {
                        "learn": [
                          0.4447374914
                        ],
                        "iteration": 281,
                        "passed_time": 0.7320486028,
                        "remaining_time": 12.24753655,
                        "test": [
                          0.848717791,
                          0.4312360822
                        ]
                      },
                      {
                        "learn": [
                          0.4446217002
                        ],
                        "iteration": 282,
                        "passed_time": 0.7345318453,
                        "remaining_time": 12.2430626,
                        "test": [
                          0.8487792879,
                          0.4311981907
                        ]
                      },
                      {
                        "learn": [
                          0.4445400406
                        ],
                        "iteration": 283,
                        "passed_time": 0.7369274193,
                        "remaining_time": 12.23714686,
                        "test": [
                          0.8487485395,
                          0.4311212767
                        ]
                      },
                      {
                        "learn": [
                          0.4444152789
                        ],
                        "iteration": 284,
                        "passed_time": 0.7391815044,
                        "remaining_time": 12.22891506,
                        "test": [
                          0.8488100363,
                          0.4311529849
                        ]
                      },
                      {
                        "learn": [
                          0.4443266751
                        ],
                        "iteration": 285,
                        "passed_time": 0.741295639,
                        "remaining_time": 12.21841833,
                        "test": [
                          0.8490560236,
                          0.4311327119
                        ]
                      },
                      {
                        "learn": [
                          0.4442001009
                        ],
                        "iteration": 286,
                        "passed_time": 0.7435380156,
                        "remaining_time": 12.21008595,
                        "test": [
                          0.8490560236,
                          0.4310105327
                        ]
                      },
                      {
                        "learn": [
                          0.4439974549
                        ],
                        "iteration": 287,
                        "passed_time": 0.7458875084,
                        "remaining_time": 12.2035484,
                        "test": [
                          0.8489330299,
                          0.4308697397
                        ]
                      },
                      {
                        "learn": [
                          0.4438104684
                        ],
                        "iteration": 288,
                        "passed_time": 0.7484145989,
                        "remaining_time": 12.19993486,
                        "test": [
                          0.8489945268,
                          0.4306072109
                        ]
                      },
                      {
                        "learn": [
                          0.4438035826
                        ],
                        "iteration": 289,
                        "passed_time": 0.7507744908,
                        "remaining_time": 12.19361328,
                        "test": [
                          0.8489945268,
                          0.4306092453
                        ]
                      },
                      {
                        "learn": [
                          0.4436691498
                        ],
                        "iteration": 290,
                        "passed_time": 0.7550921185,
                        "remaining_time": 12.21899927,
                        "test": [
                          0.8489945268,
                          0.4306261905
                        ]
                      },
                      {
                        "learn": [
                          0.443406077
                        ],
                        "iteration": 291,
                        "passed_time": 0.7576422221,
                        "remaining_time": 12.2156835,
                        "test": [
                          0.8491790173,
                          0.4302845874
                        ]
                      },
                      {
                        "learn": [
                          0.4432735495
                        ],
                        "iteration": 292,
                        "passed_time": 0.7601920406,
                        "remaining_time": 12.21236838,
                        "test": [
                          0.8491790173,
                          0.4301262766
                        ]
                      },
                      {
                        "learn": [
                          0.4431677937
                        ],
                        "iteration": 293,
                        "passed_time": 0.7625442188,
                        "remaining_time": 12.20589488,
                        "test": [
                          0.8491790173,
                          0.4300216105
                        ]
                      },
                      {
                        "learn": [
                          0.4430836975
                        ],
                        "iteration": 294,
                        "passed_time": 0.7647856682,
                        "remaining_time": 12.19768328,
                        "test": [
                          0.8493635078,
                          0.4299894313
                        ]
                      },
                      {
                        "learn": [
                          0.4430065094
                        ],
                        "iteration": 295,
                        "passed_time": 0.7669482948,
                        "remaining_time": 12.18825939,
                        "test": [
                          0.8493635078,
                          0.4299629859
                        ]
                      },
                      {
                        "learn": [
                          0.4428683412
                        ],
                        "iteration": 296,
                        "passed_time": 0.7696048786,
                        "remaining_time": 12.18670621,
                        "test": [
                          0.8493635078,
                          0.4297256938
                        ]
                      },
                      {
                        "learn": [
                          0.442850602
                        ],
                        "iteration": 297,
                        "passed_time": 0.7717707106,
                        "remaining_time": 12.17740229,
                        "test": [
                          0.8493635078,
                          0.4297267706
                        ]
                      },
                      {
                        "learn": [
                          0.4427523086
                        ],
                        "iteration": 298,
                        "passed_time": 0.7743790284,
                        "remaining_time": 12.17510305,
                        "test": [
                          0.8493020109,
                          0.429664917
                        ]
                      },
                      {
                        "learn": [
                          0.4426328324
                        ],
                        "iteration": 299,
                        "passed_time": 0.7766052914,
                        "remaining_time": 12.16681623,
                        "test": [
                          0.8493635078,
                          0.4296117544
                        ]
                      },
                      {
                        "learn": [
                          0.4425391779
                        ],
                        "iteration": 300,
                        "passed_time": 0.7791850602,
                        "remaining_time": 12.16408837,
                        "test": [
                          0.8493020109,
                          0.4295364895
                        ]
                      },
                      {
                        "learn": [
                          0.4423643363
                        ],
                        "iteration": 301,
                        "passed_time": 0.7816308434,
                        "remaining_time": 12.15927716,
                        "test": [
                          0.8494865014,
                          0.429353017
                        ]
                      },
                      {
                        "learn": [
                          0.4421999279
                        ],
                        "iteration": 302,
                        "passed_time": 0.7839331756,
                        "remaining_time": 12.15225784,
                        "test": [
                          0.8494865014,
                          0.4293063461
                        ]
                      },
                      {
                        "learn": [
                          0.4420628179
                        ],
                        "iteration": 303,
                        "passed_time": 0.78648262,
                        "remaining_time": 12.14908679,
                        "test": [
                          0.8497939856,
                          0.4291814482
                        ]
                      },
                      {
                        "learn": [
                          0.4418958106
                        ],
                        "iteration": 304,
                        "passed_time": 0.7887232517,
                        "remaining_time": 12.14116612,
                        "test": [
                          0.8497324888,
                          0.4290378924
                        ]
                      },
                      {
                        "learn": [
                          0.4418353911
                        ],
                        "iteration": 305,
                        "passed_time": 0.7909139045,
                        "remaining_time": 12.13251591,
                        "test": [
                          0.8496709919,
                          0.4289785516
                        ]
                      },
                      {
                        "learn": [
                          0.4417247055
                        ],
                        "iteration": 306,
                        "passed_time": 0.7932827972,
                        "remaining_time": 12.12663247,
                        "test": [
                          0.8496094951,
                          0.4289640485
                        ]
                      },
                      {
                        "learn": [
                          0.4415827084
                        ],
                        "iteration": 307,
                        "passed_time": 0.7957348576,
                        "remaining_time": 12.1220388,
                        "test": [
                          0.8496709919,
                          0.4287695731
                        ]
                      },
                      {
                        "learn": [
                          0.4414263453
                        ],
                        "iteration": 308,
                        "passed_time": 0.7981109998,
                        "remaining_time": 12.11630647,
                        "test": [
                          0.8497939856,
                          0.4286794507
                        ]
                      },
                      {
                        "learn": [
                          0.44131055
                        ],
                        "iteration": 309,
                        "passed_time": 0.8005851447,
                        "remaining_time": 12.11207848,
                        "test": [
                          0.8499169793,
                          0.428452543
                        ]
                      },
                      {
                        "learn": [
                          0.44126947
                        ],
                        "iteration": 310,
                        "passed_time": 0.8029128308,
                        "remaining_time": 12.10565358,
                        "test": [
                          0.8499477277,
                          0.4283919533
                        ]
                      },
                      {
                        "learn": [
                          0.4412548862
                        ],
                        "iteration": 311,
                        "passed_time": 0.8052893907,
                        "remaining_time": 12.09998931,
                        "test": [
                          0.8499477277,
                          0.4283824254
                        ]
                      },
                      {
                        "learn": [
                          0.4411132671
                        ],
                        "iteration": 312,
                        "passed_time": 0.8077175368,
                        "remaining_time": 12.09511851,
                        "test": [
                          0.8499477277,
                          0.4282864669
                        ]
                      },
                      {
                        "learn": [
                          0.440926497
                        ],
                        "iteration": 313,
                        "passed_time": 0.8098970596,
                        "remaining_time": 12.08655293,
                        "test": [
                          0.8498862309,
                          0.4282876783
                        ]
                      },
                      {
                        "learn": [
                          0.4409024334
                        ],
                        "iteration": 314,
                        "passed_time": 0.8121412562,
                        "remaining_time": 12.07898979,
                        "test": [
                          0.8500092245,
                          0.4282431816
                        ]
                      },
                      {
                        "learn": [
                          0.4408928199
                        ],
                        "iteration": 315,
                        "passed_time": 0.8143350935,
                        "remaining_time": 12.07071385,
                        "test": [
                          0.8500092245,
                          0.4282462409
                        ]
                      },
                      {
                        "learn": [
                          0.4407735396
                        ],
                        "iteration": 316,
                        "passed_time": 0.8168439814,
                        "remaining_time": 12.06713049,
                        "test": [
                          0.8500707214,
                          0.4282165353
                        ]
                      },
                      {
                        "learn": [
                          0.440726462
                        ],
                        "iteration": 317,
                        "passed_time": 0.8189976148,
                        "remaining_time": 12.05832337,
                        "test": [
                          0.8500707214,
                          0.4281770973
                        ]
                      },
                      {
                        "learn": [
                          0.4406551979
                        ],
                        "iteration": 318,
                        "passed_time": 0.8211858708,
                        "remaining_time": 12.05006602,
                        "test": [
                          0.8500707214,
                          0.4281765708
                        ]
                      },
                      {
                        "learn": [
                          0.4406226472
                        ],
                        "iteration": 319,
                        "passed_time": 0.8233915076,
                        "remaining_time": 12.0421008,
                        "test": [
                          0.8500707214,
                          0.4281628174
                        ]
                      },
                      {
                        "learn": [
                          0.4404573253
                        ],
                        "iteration": 320,
                        "passed_time": 0.8256546128,
                        "remaining_time": 12.03500914,
                        "test": [
                          0.850193715,
                          0.4281544126
                        ]
                      },
                      {
                        "learn": [
                          0.4402570037
                        ],
                        "iteration": 321,
                        "passed_time": 0.828208994,
                        "remaining_time": 12.03217911,
                        "test": [
                          0.8502552119,
                          0.4279338407
                        ]
                      },
                      {
                        "learn": [
                          0.4401127309
                        ],
                        "iteration": 322,
                        "passed_time": 0.8306398154,
                        "remaining_time": 12.02756166,
                        "test": [
                          0.8503782055,
                          0.4278156131
                        ]
                      },
                      {
                        "learn": [
                          0.4400398894
                        ],
                        "iteration": 323,
                        "passed_time": 0.8330047945,
                        "remaining_time": 12.02200747,
                        "test": [
                          0.8503782055,
                          0.4277582482
                        ]
                      },
                      {
                        "learn": [
                          0.4399380759
                        ],
                        "iteration": 324,
                        "passed_time": 0.8354207925,
                        "remaining_time": 12.01720678,
                        "test": [
                          0.8502552119,
                          0.4276676702
                        ]
                      },
                      {
                        "learn": [
                          0.4399066388
                        ],
                        "iteration": 325,
                        "passed_time": 0.8375485333,
                        "remaining_time": 12.00828787,
                        "test": [
                          0.8502552119,
                          0.4276813475
                        ]
                      },
                      {
                        "learn": [
                          0.4397740378
                        ],
                        "iteration": 326,
                        "passed_time": 0.8397212735,
                        "remaining_time": 12.00005355,
                        "test": [
                          0.8503782055,
                          0.4275479159
                        ]
                      },
                      {
                        "learn": [
                          0.439626155
                        ],
                        "iteration": 327,
                        "passed_time": 0.8419982335,
                        "remaining_time": 11.99334069,
                        "test": [
                          0.8504397024,
                          0.4275518344
                        ]
                      },
                      {
                        "learn": [
                          0.4395627025
                        ],
                        "iteration": 328,
                        "passed_time": 0.8441757719,
                        "remaining_time": 11.98524325,
                        "test": [
                          0.8502552119,
                          0.4275208296
                        ]
                      },
                      {
                        "learn": [
                          0.4394396374
                        ],
                        "iteration": 329,
                        "passed_time": 0.8467197127,
                        "remaining_time": 11.98236684,
                        "test": [
                          0.8503782055,
                          0.4275256754
                        ]
                      },
                      {
                        "learn": [
                          0.4393322168
                        ],
                        "iteration": 330,
                        "passed_time": 0.8490555388,
                        "remaining_time": 11.97655683,
                        "test": [
                          0.8503167087,
                          0.4274166985
                        ]
                      },
                      {
                        "learn": [
                          0.4393004071
                        ],
                        "iteration": 331,
                        "passed_time": 0.8513803108,
                        "remaining_time": 11.97061232,
                        "test": [
                          0.8503167087,
                          0.4274187149
                        ]
                      },
                      {
                        "learn": [
                          0.4392523861
                        ],
                        "iteration": 332,
                        "passed_time": 0.8536273197,
                        "remaining_time": 11.9635997,
                        "test": [
                          0.8505011992,
                          0.4274045734
                        ]
                      },
                      {
                        "learn": [
                          0.4391903901
                        ],
                        "iteration": 333,
                        "passed_time": 0.855821802,
                        "remaining_time": 11.95588182,
                        "test": [
                          0.8506241929,
                          0.4273915654
                        ]
                      },
                      {
                        "learn": [
                          0.439181172
                        ],
                        "iteration": 334,
                        "passed_time": 0.8576952975,
                        "remaining_time": 11.94372705,
                        "test": [
                          0.8506241929,
                          0.4273821168
                        ]
                      },
                      {
                        "learn": [
                          0.439148387
                        ],
                        "iteration": 335,
                        "passed_time": 0.8604487944,
                        "remaining_time": 11.94384874,
                        "test": [
                          0.8506241929,
                          0.4273395023
                        ]
                      },
                      {
                        "learn": [
                          0.4387131562
                        ],
                        "iteration": 336,
                        "passed_time": 0.8627266494,
                        "remaining_time": 11.93737201,
                        "test": [
                          0.8508086834,
                          0.4270340411
                        ]
                      },
                      {
                        "learn": [
                          0.438646825
                        ],
                        "iteration": 337,
                        "passed_time": 0.8652078252,
                        "remaining_time": 11.9337245,
                        "test": [
                          0.8508701802,
                          0.4269678667
                        ]
                      },
                      {
                        "learn": [
                          0.4385896286
                        ],
                        "iteration": 338,
                        "passed_time": 0.8673685822,
                        "remaining_time": 11.92567835,
                        "test": [
                          0.850562696,
                          0.4269615458
                        ]
                      },
                      {
                        "learn": [
                          0.4384750395
                        ],
                        "iteration": 339,
                        "passed_time": 0.8697909292,
                        "remaining_time": 11.92125215,
                        "test": [
                          0.8506856897,
                          0.4268517912
                        ]
                      },
                      {
                        "learn": [
                          0.438420454
                        ],
                        "iteration": 340,
                        "passed_time": 0.8722238165,
                        "remaining_time": 11.9169817,
                        "test": [
                          0.8510546707,
                          0.426817979
                        ]
                      },
                      {
                        "learn": [
                          0.4384066048
                        ],
                        "iteration": 341,
                        "passed_time": 0.8748921371,
                        "remaining_time": 11.91592858,
                        "test": [
                          0.8508701802,
                          0.4268118494
                        ]
                      },
                      {
                        "learn": [
                          0.4383332848
                        ],
                        "iteration": 342,
                        "passed_time": 0.8773758456,
                        "remaining_time": 11.91235951,
                        "test": [
                          0.850931677,
                          0.4267365996
                        ]
                      },
                      {
                        "learn": [
                          0.4382474355
                        ],
                        "iteration": 343,
                        "passed_time": 0.8801011718,
                        "remaining_time": 11.91206702,
                        "test": [
                          0.8511161675,
                          0.4267590466
                        ]
                      },
                      {
                        "learn": [
                          0.4381261805
                        ],
                        "iteration": 344,
                        "passed_time": 0.8825268296,
                        "remaining_time": 11.90771708,
                        "test": [
                          0.8511776644,
                          0.4265738497
                        ]
                      },
                      {
                        "learn": [
                          0.438047715
                        ],
                        "iteration": 345,
                        "passed_time": 0.8848190709,
                        "remaining_time": 11.90158369,
                        "test": [
                          0.8511776644,
                          0.4265679067
                        ]
                      },
                      {
                        "learn": [
                          0.4379966691
                        ],
                        "iteration": 346,
                        "passed_time": 0.8871785837,
                        "remaining_time": 11.8963745,
                        "test": [
                          0.851300658,
                          0.4265041029
                        ]
                      },
                      {
                        "learn": [
                          0.437898979
                        ],
                        "iteration": 347,
                        "passed_time": 0.8896238301,
                        "remaining_time": 11.89232775,
                        "test": [
                          0.851300658,
                          0.4264547573
                        ]
                      },
                      {
                        "learn": [
                          0.4378238743
                        ],
                        "iteration": 348,
                        "passed_time": 0.8919997114,
                        "remaining_time": 11.88736578,
                        "test": [
                          0.8509931739,
                          0.4264856412
                        ]
                      },
                      {
                        "learn": [
                          0.4377456556
                        ],
                        "iteration": 349,
                        "passed_time": 0.894190896,
                        "remaining_time": 11.87996476,
                        "test": [
                          0.8510546707,
                          0.4264512641
                        ]
                      },
                      {
                        "learn": [
                          0.4376764689
                        ],
                        "iteration": 350,
                        "passed_time": 0.896486385,
                        "remaining_time": 11.87397494,
                        "test": [
                          0.8510546707,
                          0.4264060736
                        ]
                      },
                      {
                        "learn": [
                          0.4375256781
                        ],
                        "iteration": 351,
                        "passed_time": 0.8986980595,
                        "remaining_time": 11.86689938,
                        "test": [
                          0.8511161675,
                          0.4262622672
                        ]
                      },
                      {
                        "learn": [
                          0.4373695984
                        ],
                        "iteration": 352,
                        "passed_time": 0.9008200882,
                        "remaining_time": 11.85867125,
                        "test": [
                          0.8511161675,
                          0.4263192589
                        ]
                      },
                      {
                        "learn": [
                          0.437238144
                        ],
                        "iteration": 353,
                        "passed_time": 0.9029761612,
                        "remaining_time": 11.85092442,
                        "test": [
                          0.8511161675,
                          0.4263271119
                        ]
                      },
                      {
                        "learn": [
                          0.4371262972
                        ],
                        "iteration": 354,
                        "passed_time": 0.9052384826,
                        "remaining_time": 11.8445993,
                        "test": [
                          0.8510546707,
                          0.4263653651
                        ]
                      },
                      {
                        "learn": [
                          0.4370854684
                        ],
                        "iteration": 355,
                        "passed_time": 0.9073629322,
                        "remaining_time": 11.83649847,
                        "test": [
                          0.8509931739,
                          0.4263359301
                        ]
                      },
                      {
                        "learn": [
                          0.437006663
                        ],
                        "iteration": 356,
                        "passed_time": 0.9095237651,
                        "remaining_time": 11.82890432,
                        "test": [
                          0.8509931739,
                          0.4263009808
                        ]
                      },
                      {
                        "learn": [
                          0.4368721516
                        ],
                        "iteration": 357,
                        "passed_time": 0.9119568225,
                        "remaining_time": 11.82487031,
                        "test": [
                          0.8509931739,
                          0.4261233125
                        ]
                      },
                      {
                        "learn": [
                          0.4367935593
                        ],
                        "iteration": 358,
                        "passed_time": 0.9142388648,
                        "remaining_time": 11.81889296,
                        "test": [
                          0.850931677,
                          0.4261219816
                        ]
                      },
                      {
                        "learn": [
                          0.436764194
                        ],
                        "iteration": 359,
                        "passed_time": 0.9165977816,
                        "remaining_time": 11.81392696,
                        "test": [
                          0.850931677,
                          0.426121159
                        ]
                      },
                      {
                        "learn": [
                          0.4366991923
                        ],
                        "iteration": 360,
                        "passed_time": 0.9188170452,
                        "remaining_time": 11.80718081,
                        "test": [
                          0.850931677,
                          0.4260769435
                        ]
                      },
                      {
                        "learn": [
                          0.4366293062
                        ],
                        "iteration": 361,
                        "passed_time": 0.920944902,
                        "remaining_time": 11.79928855,
                        "test": [
                          0.8508701802,
                          0.426151641
                        ]
                      },
                      {
                        "learn": [
                          0.4365180073
                        ],
                        "iteration": 362,
                        "passed_time": 0.9235639274,
                        "remaining_time": 11.79770229,
                        "test": [
                          0.8510546707,
                          0.4259612769
                        ]
                      },
                      {
                        "learn": [
                          0.4364072523
                        ],
                        "iteration": 363,
                        "passed_time": 0.9260475526,
                        "remaining_time": 11.79438586,
                        "test": [
                          0.8511161675,
                          0.4258626202
                        ]
                      },
                      {
                        "learn": [
                          0.4362141969
                        ],
                        "iteration": 364,
                        "passed_time": 0.928433163,
                        "remaining_time": 11.78982934,
                        "test": [
                          0.8514236517,
                          0.4257165012
                        ]
                      },
                      {
                        "learn": [
                          0.4361771138
                        ],
                        "iteration": 365,
                        "passed_time": 0.931215003,
                        "remaining_time": 11.79030143,
                        "test": [
                          0.8512699096,
                          0.4257405796
                        ]
                      },
                      {
                        "learn": [
                          0.4361455058
                        ],
                        "iteration": 366,
                        "passed_time": 0.9337699587,
                        "remaining_time": 11.7878916,
                        "test": [
                          0.8512699096,
                          0.425720298
                        ]
                      },
                      {
                        "learn": [
                          0.4361347431
                        ],
                        "iteration": 367,
                        "passed_time": 0.9358177387,
                        "remaining_time": 11.77909719,
                        "test": [
                          0.8511469159,
                          0.4257009274
                        ]
                      },
                      {
                        "learn": [
                          0.4361122566
                        ],
                        "iteration": 368,
                        "passed_time": 0.9380213223,
                        "remaining_time": 11.7722947,
                        "test": [
                          0.8512084128,
                          0.4256662729
                        ]
                      },
                      {
                        "learn": [
                          0.4360519742
                        ],
                        "iteration": 369,
                        "passed_time": 0.9401892543,
                        "remaining_time": 11.76507094,
                        "test": [
                          0.8512084128,
                          0.4255874745
                        ]
                      },
                      {
                        "learn": [
                          0.4359645096
                        ],
                        "iteration": 370,
                        "passed_time": 0.9427703286,
                        "remaining_time": 11.76302925,
                        "test": [
                          0.8512084128,
                          0.4255873618
                        ]
                      },
                      {
                        "learn": [
                          0.435917804
                        ],
                        "iteration": 371,
                        "passed_time": 0.9735550857,
                        "remaining_time": 12.11186273,
                        "test": [
                          0.8511469159,
                          0.4255692623
                        ]
                      },
                      {
                        "learn": [
                          0.4358328805
                        ],
                        "iteration": 372,
                        "passed_time": 0.9909410353,
                        "remaining_time": 12.29245086,
                        "test": [
                          0.8510854191,
                          0.4255325845
                        ]
                      },
                      {
                        "learn": [
                          0.4357906408
                        ],
                        "iteration": 373,
                        "passed_time": 0.9999119798,
                        "remaining_time": 12.36789524,
                        "test": [
                          0.8510854191,
                          0.4255081236
                        ]
                      },
                      {
                        "learn": [
                          0.4356586653
                        ],
                        "iteration": 374,
                        "passed_time": 1.009556656,
                        "remaining_time": 12.45119876,
                        "test": [
                          0.8510239223,
                          0.4253362448
                        ]
                      },
                      {
                        "learn": [
                          0.4355578342
                        ],
                        "iteration": 375,
                        "passed_time": 1.014815902,
                        "remaining_time": 12.48007642,
                        "test": [
                          0.850562696,
                          0.4253828142
                        ]
                      },
                      {
                        "learn": [
                          0.4355022882
                        ],
                        "iteration": 376,
                        "passed_time": 1.025540547,
                        "remaining_time": 12.57579296,
                        "test": [
                          0.8506241929,
                          0.425382404
                        ]
                      },
                      {
                        "learn": [
                          0.4354825131
                        ],
                        "iteration": 377,
                        "passed_time": 1.029842128,
                        "remaining_time": 12.59240824,
                        "test": [
                          0.8506856897,
                          0.4253344233
                        ]
                      },
                      {
                        "learn": [
                          0.4353947663
                        ],
                        "iteration": 378,
                        "passed_time": 1.037427409,
                        "remaining_time": 12.64895001,
                        "test": [
                          0.8506856897,
                          0.4252706542
                        ]
                      },
                      {
                        "learn": [
                          0.4352993548
                        ],
                        "iteration": 379,
                        "passed_time": 1.042269462,
                        "remaining_time": 12.6718024,
                        "test": [
                          0.8506856897,
                          0.4252004574
                        ]
                      },
                      {
                        "learn": [
                          0.4351669611
                        ],
                        "iteration": 380,
                        "passed_time": 1.047670151,
                        "remaining_time": 12.70128196,
                        "test": [
                          0.8510546707,
                          0.4250888039
                        ]
                      },
                      {
                        "learn": [
                          0.4350618042
                        ],
                        "iteration": 381,
                        "passed_time": 1.052257779,
                        "remaining_time": 12.7207498,
                        "test": [
                          0.8511776644,
                          0.4251020614
                        ]
                      },
                      {
                        "learn": [
                          0.4349495807
                        ],
                        "iteration": 382,
                        "passed_time": 1.057999227,
                        "remaining_time": 12.75400112,
                        "test": [
                          0.8509931739,
                          0.4251167005
                        ]
                      },
                      {
                        "learn": [
                          0.4348232349
                        ],
                        "iteration": 383,
                        "passed_time": 1.062833578,
                        "remaining_time": 12.7761453,
                        "test": [
                          0.8509931739,
                          0.4250316441
                        ]
                      },
                      {
                        "learn": [
                          0.43466964
                        ],
                        "iteration": 384,
                        "passed_time": 1.06737818,
                        "remaining_time": 12.79467611,
                        "test": [
                          0.8510546707,
                          0.4248475951
                        ]
                      },
                      {
                        "learn": [
                          0.4346025986
                        ],
                        "iteration": 385,
                        "passed_time": 1.072787123,
                        "remaining_time": 12.82341913,
                        "test": [
                          0.8508086834,
                          0.4248291808
                        ]
                      },
                      {
                        "learn": [
                          0.4344547244
                        ],
                        "iteration": 386,
                        "passed_time": 1.08496321,
                        "remaining_time": 12.93264932,
                        "test": [
                          0.850931677,
                          0.4248563792
                        ]
                      },
                      {
                        "learn": [
                          0.4344017397
                        ],
                        "iteration": 387,
                        "passed_time": 1.090131363,
                        "remaining_time": 12.95795321,
                        "test": [
                          0.8510546707,
                          0.4247939186
                        ]
                      },
                      {
                        "learn": [
                          0.4341244382
                        ],
                        "iteration": 388,
                        "passed_time": 1.095080386,
                        "remaining_time": 12.98050298,
                        "test": [
                          0.8513621548,
                          0.4248372696
                        ]
                      },
                      {
                        "learn": [
                          0.4341035182
                        ],
                        "iteration": 389,
                        "passed_time": 1.10318535,
                        "remaining_time": 13.04021657,
                        "test": [
                          0.8513621548,
                          0.4248370404
                        ]
                      },
                      {
                        "learn": [
                          0.4340469534
                        ],
                        "iteration": 390,
                        "passed_time": 1.108916344,
                        "remaining_time": 13.07159957,
                        "test": [
                          0.851300658,
                          0.4248048351
                        ]
                      },
                      {
                        "learn": [
                          0.4339656235
                        ],
                        "iteration": 391,
                        "passed_time": 1.114257942,
                        "remaining_time": 13.09821581,
                        "test": [
                          0.8512391612,
                          0.4247326024
                        ]
                      },
                      {
                        "learn": [
                          0.433748858
                        ],
                        "iteration": 392,
                        "passed_time": 1.120938689,
                        "remaining_time": 13.14036779,
                        "test": [
                          0.8512391612,
                          0.4245152276
                        ]
                      },
                      {
                        "learn": [
                          0.4336888181
                        ],
                        "iteration": 393,
                        "passed_time": 1.135253787,
                        "remaining_time": 13.27152016,
                        "test": [
                          0.8514236517,
                          0.424557964
                        ]
                      },
                      {
                        "learn": [
                          0.4336465514
                        ],
                        "iteration": 394,
                        "passed_time": 1.148397065,
                        "remaining_time": 13.38827465,
                        "test": [
                          0.8514236517,
                          0.4245413223
                        ]
                      },
                      {
                        "learn": [
                          0.433486513
                        ],
                        "iteration": 395,
                        "passed_time": 1.159165887,
                        "remaining_time": 13.47676703,
                        "test": [
                          0.8514236517,
                          0.4244125533
                        ]
                      },
                      {
                        "learn": [
                          0.4334204196
                        ],
                        "iteration": 396,
                        "passed_time": 1.168941114,
                        "remaining_time": 13.55323917,
                        "test": [
                          0.8516081422,
                          0.4243582278
                        ]
                      },
                      {
                        "learn": [
                          0.4333324502
                        ],
                        "iteration": 397,
                        "passed_time": 1.176739021,
                        "remaining_time": 13.60641451,
                        "test": [
                          0.8515466453,
                          0.4242110967
                        ]
                      },
                      {
                        "learn": [
                          0.4332642159
                        ],
                        "iteration": 398,
                        "passed_time": 1.188450088,
                        "remaining_time": 13.70440816,
                        "test": [
                          0.8516081422,
                          0.4242738488
                        ]
                      },
                      {
                        "learn": [
                          0.4332269871
                        ],
                        "iteration": 399,
                        "passed_time": 1.199229601,
                        "remaining_time": 13.79114041,
                        "test": [
                          0.851669639,
                          0.424149079
                        ]
                      },
                      {
                        "learn": [
                          0.433162274
                        ],
                        "iteration": 400,
                        "passed_time": 1.202049142,
                        "remaining_time": 13.78609477,
                        "test": [
                          0.851669639,
                          0.4241208007
                        ]
                      },
                      {
                        "learn": [
                          0.433145873
                        ],
                        "iteration": 401,
                        "passed_time": 1.214719754,
                        "remaining_time": 13.8937349,
                        "test": [
                          0.851669639,
                          0.424092299
                        ]
                      },
                      {
                        "learn": [
                          0.4331012837
                        ],
                        "iteration": 402,
                        "passed_time": 1.221621069,
                        "remaining_time": 13.93496787,
                        "test": [
                          0.8517311358,
                          0.4240306163
                        ]
                      },
                      {
                        "learn": [
                          0.4330656509
                        ],
                        "iteration": 403,
                        "passed_time": 1.227984474,
                        "remaining_time": 13.96984317,
                        "test": [
                          0.851669639,
                          0.4239699327
                        ]
                      },
                      {
                        "learn": [
                          0.4330231443
                        ],
                        "iteration": 404,
                        "passed_time": 1.236076254,
                        "remaining_time": 14.02412442,
                        "test": [
                          0.851669639,
                          0.423940144
                        ]
                      },
                      {
                        "learn": [
                          0.4329083739
                        ],
                        "iteration": 405,
                        "passed_time": 1.248094319,
                        "remaining_time": 14.12252537,
                        "test": [
                          0.8517926327,
                          0.4239416743
                        ]
                      },
                      {
                        "learn": [
                          0.4327583037
                        ],
                        "iteration": 406,
                        "passed_time": 1.252791416,
                        "remaining_time": 14.13776652,
                        "test": [
                          0.8522846073,
                          0.423938249
                        ]
                      },
                      {
                        "learn": [
                          0.4326915689
                        ],
                        "iteration": 407,
                        "passed_time": 1.266483965,
                        "remaining_time": 14.25415286,
                        "test": [
                          0.8522231105,
                          0.4238400722
                        ]
                      },
                      {
                        "learn": [
                          0.4326005958
                        ],
                        "iteration": 408,
                        "passed_time": 1.272657268,
                        "remaining_time": 14.28550005,
                        "test": [
                          0.8522231105,
                          0.423869867
                        ]
                      },
                      {
                        "learn": [
                          0.4325324949
                        ],
                        "iteration": 409,
                        "passed_time": 1.279545378,
                        "remaining_time": 14.32466655,
                        "test": [
                          0.8524690978,
                          0.4238554314
                        ]
                      },
                      {
                        "learn": [
                          0.4325045975
                        ],
                        "iteration": 410,
                        "passed_time": 1.286945541,
                        "remaining_time": 14.36932624,
                        "test": [
                          0.8525305947,
                          0.4238662836
                        ]
                      },
                      {
                        "learn": [
                          0.4324816632
                        ],
                        "iteration": 411,
                        "passed_time": 1.291941057,
                        "remaining_time": 14.38695526,
                        "test": [
                          0.8525305947,
                          0.4238083893
                        ]
                      },
                      {
                        "learn": [
                          0.432331029
                        ],
                        "iteration": 412,
                        "passed_time": 1.297884991,
                        "remaining_time": 14.41500836,
                        "test": [
                          0.8525920915,
                          0.4237710624
                        ]
                      },
                      {
                        "learn": [
                          0.4322543747
                        ],
                        "iteration": 413,
                        "passed_time": 1.303255505,
                        "remaining_time": 14.43654528,
                        "test": [
                          0.8525920915,
                          0.4237688046
                        ]
                      },
                      {
                        "learn": [
                          0.4321830828
                        ],
                        "iteration": 414,
                        "passed_time": 1.309027802,
                        "remaining_time": 14.4623915,
                        "test": [
                          0.8525920915,
                          0.4237845134
                        ]
                      },
                      {
                        "learn": [
                          0.4321486232
                        ],
                        "iteration": 415,
                        "passed_time": 1.316872641,
                        "remaining_time": 14.51092353,
                        "test": [
                          0.8525305947,
                          0.4237592693
                        ]
                      },
                      {
                        "learn": [
                          0.4320702172
                        ],
                        "iteration": 416,
                        "passed_time": 1.327660315,
                        "remaining_time": 14.59152812,
                        "test": [
                          0.8525305947,
                          0.4237671553
                        ]
                      },
                      {
                        "learn": [
                          0.4320533295
                        ],
                        "iteration": 417,
                        "passed_time": 1.332234711,
                        "remaining_time": 14.60358719,
                        "test": [
                          0.8524690978,
                          0.4237381911
                        ]
                      },
                      {
                        "learn": [
                          0.4319952256
                        ],
                        "iteration": 418,
                        "passed_time": 1.336868479,
                        "remaining_time": 14.616216,
                        "test": [
                          0.8525305947,
                          0.4236896213
                        ]
                      },
                      {
                        "learn": [
                          0.4319020108
                        ],
                        "iteration": 419,
                        "passed_time": 1.342756139,
                        "remaining_time": 14.64243599,
                        "test": [
                          0.8528380788,
                          0.4236918385
                        ]
                      },
                      {
                        "learn": [
                          0.4317546044
                        ],
                        "iteration": 420,
                        "passed_time": 1.346861989,
                        "remaining_time": 14.64912363,
                        "test": [
                          0.8529610725,
                          0.4235107425
                        ]
                      },
                      {
                        "learn": [
                          0.4316791375
                        ],
                        "iteration": 421,
                        "passed_time": 1.353808387,
                        "remaining_time": 14.68657535,
                        "test": [
                          0.8530840662,
                          0.4234694418
                        ]
                      },
                      {
                        "learn": [
                          0.4315728542
                        ],
                        "iteration": 422,
                        "passed_time": 1.360687085,
                        "remaining_time": 14.7230846,
                        "test": [
                          0.8530225693,
                          0.4233273317
                        ]
                      },
                      {
                        "learn": [
                          0.431509215
                        ],
                        "iteration": 423,
                        "passed_time": 1.367492231,
                        "remaining_time": 14.7585954,
                        "test": [
                          0.8530225693,
                          0.4232925422
                        ]
                      },
                      {
                        "learn": [
                          0.4314826284
                        ],
                        "iteration": 424,
                        "passed_time": 1.371943648,
                        "remaining_time": 14.76856986,
                        "test": [
                          0.8530225693,
                          0.4232698727
                        ]
                      },
                      {
                        "learn": [
                          0.4313725074
                        ],
                        "iteration": 425,
                        "passed_time": 1.379198107,
                        "remaining_time": 14.8085731,
                        "test": [
                          0.8529610725,
                          0.4232899841
                        ]
                      },
                      {
                        "learn": [
                          0.4313040918
                        ],
                        "iteration": 426,
                        "passed_time": 1.387736253,
                        "remaining_time": 14.86210277,
                        "test": [
                          0.8529610725,
                          0.4232590577
                        ]
                      },
                      {
                        "learn": [
                          0.4312923529
                        ],
                        "iteration": 427,
                        "passed_time": 1.395309446,
                        "remaining_time": 14.90503455,
                        "test": [
                          0.8530225693,
                          0.4232360298
                        ]
                      },
                      {
                        "learn": [
                          0.4311886898
                        ],
                        "iteration": 428,
                        "passed_time": 1.404722726,
                        "remaining_time": 14.96733702,
                        "test": [
                          0.8530225693,
                          0.4231209857
                        ]
                      },
                      {
                        "learn": [
                          0.4311381949
                        ],
                        "iteration": 429,
                        "passed_time": 1.41393102,
                        "remaining_time": 15.02712735,
                        "test": [
                          0.8530225693,
                          0.4229908222
                        ]
                      },
                      {
                        "learn": [
                          0.4310851941
                        ],
                        "iteration": 430,
                        "passed_time": 1.417339344,
                        "remaining_time": 15.02511244,
                        "test": [
                          0.8530840662,
                          0.4229970276
                        ]
                      },
                      {
                        "learn": [
                          0.430946133
                        ],
                        "iteration": 431,
                        "passed_time": 1.431284011,
                        "remaining_time": 15.13450315,
                        "test": [
                          0.8532685567,
                          0.4228514744
                        ]
                      },
                      {
                        "learn": [
                          0.4308876638
                        ],
                        "iteration": 432,
                        "passed_time": 1.435020144,
                        "remaining_time": 15.13565127,
                        "test": [
                          0.8532685567,
                          0.4227802062
                        ]
                      },
                      {
                        "learn": [
                          0.4308629983
                        ],
                        "iteration": 433,
                        "passed_time": 1.437544162,
                        "remaining_time": 15.12402453,
                        "test": [
                          0.8532685567,
                          0.4227941597
                        ]
                      },
                      {
                        "learn": [
                          0.4308158229
                        ],
                        "iteration": 434,
                        "passed_time": 1.444654256,
                        "remaining_time": 15.16056707,
                        "test": [
                          0.8532685567,
                          0.4228506619
                        ]
                      },
                      {
                        "learn": [
                          0.4307618571
                        ],
                        "iteration": 435,
                        "passed_time": 1.447514963,
                        "remaining_time": 15.15242727,
                        "test": [
                          0.8534530472,
                          0.4227503368
                        ]
                      },
                      {
                        "learn": [
                          0.4306532909
                        ],
                        "iteration": 436,
                        "passed_time": 1.450108169,
                        "remaining_time": 15.14151848,
                        "test": [
                          0.8544062481,
                          0.4228100049
                        ]
                      },
                      {
                        "learn": [
                          0.4305458018
                        ],
                        "iteration": 437,
                        "passed_time": 1.452722548,
                        "remaining_time": 15.13086818,
                        "test": [
                          0.8543447512,
                          0.4228557918
                        ]
                      },
                      {
                        "learn": [
                          0.4304239519
                        ],
                        "iteration": 438,
                        "passed_time": 1.454952844,
                        "remaining_time": 15.11626406,
                        "test": [
                          0.8544062481,
                          0.4227457132
                        ]
                      },
                      {
                        "learn": [
                          0.4303685153
                        ],
                        "iteration": 439,
                        "passed_time": 1.457265592,
                        "remaining_time": 15.10257068,
                        "test": [
                          0.8545292417,
                          0.4227609922
                        ]
                      },
                      {
                        "learn": [
                          0.4303113545
                        ],
                        "iteration": 440,
                        "passed_time": 1.459657017,
                        "remaining_time": 15.08974227,
                        "test": [
                          0.8545907386,
                          0.4227533556
                        ]
                      },
                      {
                        "learn": [
                          0.430209217
                        ],
                        "iteration": 441,
                        "passed_time": 1.461907976,
                        "remaining_time": 15.07551256,
                        "test": [
                          0.8544677449,
                          0.422793411
                        ]
                      },
                      {
                        "learn": [
                          0.4301316566
                        ],
                        "iteration": 442,
                        "passed_time": 1.46518534,
                        "remaining_time": 15.07189525,
                        "test": [
                          0.8545907386,
                          0.4227441114
                        ]
                      },
                      {
                        "learn": [
                          0.4300166807
                        ],
                        "iteration": 443,
                        "passed_time": 1.467480437,
                        "remaining_time": 15.05820016,
                        "test": [
                          0.8545292417,
                          0.4227074124
                        ]
                      },
                      {
                        "learn": [
                          0.430001089
                        ],
                        "iteration": 444,
                        "passed_time": 1.469702096,
                        "remaining_time": 15.0438046,
                        "test": [
                          0.8544062481,
                          0.422692941
                        ]
                      },
                      {
                        "learn": [
                          0.4299780167
                        ],
                        "iteration": 445,
                        "passed_time": 1.471791007,
                        "remaining_time": 15.02810817,
                        "test": [
                          0.8543447512,
                          0.4226943489
                        ]
                      },
                      {
                        "learn": [
                          0.4299563664
                        ],
                        "iteration": 446,
                        "passed_time": 1.473978591,
                        "remaining_time": 15.01347769,
                        "test": [
                          0.8543447512,
                          0.4226962471
                        ]
                      },
                      {
                        "learn": [
                          0.4298801079
                        ],
                        "iteration": 447,
                        "passed_time": 1.476145969,
                        "remaining_time": 14.99869744,
                        "test": [
                          0.8544062481,
                          0.4226569521
                        ]
                      },
                      {
                        "learn": [
                          0.4298218446
                        ],
                        "iteration": 448,
                        "passed_time": 1.478594392,
                        "remaining_time": 14.986822,
                        "test": [
                          0.8543447512,
                          0.4226698143
                        ]
                      },
                      {
                        "learn": [
                          0.429698077
                        ],
                        "iteration": 449,
                        "passed_time": 1.481004816,
                        "remaining_time": 14.97460425,
                        "test": [
                          0.8543447512,
                          0.4225798394
                        ]
                      },
                      {
                        "learn": [
                          0.4296926156
                        ],
                        "iteration": 450,
                        "passed_time": 1.484028144,
                        "remaining_time": 14.96861203,
                        "test": [
                          0.8543447512,
                          0.4225810985
                        ]
                      },
                      {
                        "learn": [
                          0.4295896245
                        ],
                        "iteration": 451,
                        "passed_time": 1.486349945,
                        "remaining_time": 14.95557422,
                        "test": [
                          0.8544677449,
                          0.4225694441
                        ]
                      },
                      {
                        "learn": [
                          0.4295559603
                        ],
                        "iteration": 452,
                        "passed_time": 1.488519224,
                        "remaining_time": 14.94105279,
                        "test": [
                          0.8544062481,
                          0.4226371848
                        ]
                      },
                      {
                        "learn": [
                          0.4294886837
                        ],
                        "iteration": 453,
                        "passed_time": 1.490881689,
                        "remaining_time": 14.92852017,
                        "test": [
                          0.8544062481,
                          0.4226191403
                        ]
                      },
                      {
                        "learn": [
                          0.4293648254
                        ],
                        "iteration": 454,
                        "passed_time": 1.493353276,
                        "remaining_time": 14.91712229,
                        "test": [
                          0.8542832544,
                          0.422618637
                        ]
                      },
                      {
                        "learn": [
                          0.429323725
                        ],
                        "iteration": 455,
                        "passed_time": 1.495692091,
                        "remaining_time": 14.90444049,
                        "test": [
                          0.8542217576,
                          0.4226094133
                        ]
                      },
                      {
                        "learn": [
                          0.4292578442
                        ],
                        "iteration": 456,
                        "passed_time": 1.498004404,
                        "remaining_time": 14.89154049,
                        "test": [
                          0.8542217576,
                          0.4225991714
                        ]
                      },
                      {
                        "learn": [
                          0.4291516356
                        ],
                        "iteration": 457,
                        "passed_time": 1.50035128,
                        "remaining_time": 14.87902951,
                        "test": [
                          0.8542832544,
                          0.4224420953
                        ]
                      },
                      {
                        "learn": [
                          0.4290753214
                        ],
                        "iteration": 458,
                        "passed_time": 1.502697195,
                        "remaining_time": 14.86655329,
                        "test": [
                          0.8542217576,
                          0.4224572662
                        ]
                      },
                      {
                        "learn": [
                          0.429058787
                        ],
                        "iteration": 459,
                        "passed_time": 1.504873737,
                        "remaining_time": 14.85244949,
                        "test": [
                          0.8542217576,
                          0.4224830594
                        ]
                      },
                      {
                        "learn": [
                          0.4289310231
                        ],
                        "iteration": 460,
                        "passed_time": 1.506995212,
                        "remaining_time": 14.83785524,
                        "test": [
                          0.8541602607,
                          0.4224314591
                        ]
                      },
                      {
                        "learn": [
                          0.4288356436
                        ],
                        "iteration": 461,
                        "passed_time": 1.509110572,
                        "remaining_time": 14.82325492,
                        "test": [
                          0.8542832544,
                          0.4223452246
                        ]
                      },
                      {
                        "learn": [
                          0.4287609201
                        ],
                        "iteration": 462,
                        "passed_time": 1.511266141,
                        "remaining_time": 14.80910255,
                        "test": [
                          0.8541602607,
                          0.4223228292
                        ]
                      },
                      {
                        "learn": [
                          0.4287066982
                        ],
                        "iteration": 463,
                        "passed_time": 1.51345583,
                        "remaining_time": 14.79533544,
                        "test": [
                          0.8541602607,
                          0.4223187667
                        ]
                      },
                      {
                        "learn": [
                          0.4285936263
                        ],
                        "iteration": 464,
                        "passed_time": 1.515671039,
                        "remaining_time": 14.78186701,
                        "test": [
                          0.8540987639,
                          0.4223496208
                        ]
                      },
                      {
                        "learn": [
                          0.4285502586
                        ],
                        "iteration": 465,
                        "passed_time": 1.517855793,
                        "remaining_time": 14.76815057,
                        "test": [
                          0.8544062481,
                          0.4223200399
                        ]
                      },
                      {
                        "learn": [
                          0.4285062414
                        ],
                        "iteration": 466,
                        "passed_time": 1.520210929,
                        "remaining_time": 14.75613735,
                        "test": [
                          0.8542832544,
                          0.4223567522
                        ]
                      },
                      {
                        "learn": [
                          0.4284684897
                        ],
                        "iteration": 467,
                        "passed_time": 1.522422038,
                        "remaining_time": 14.74277067,
                        "test": [
                          0.8542832544,
                          0.4223566133
                        ]
                      },
                      {
                        "learn": [
                          0.4284605362
                        ],
                        "iteration": 468,
                        "passed_time": 1.524634267,
                        "remaining_time": 14.7294624,
                        "test": [
                          0.8542832544,
                          0.4223581755
                        ]
                      },
                      {
                        "learn": [
                          0.4284404949
                        ],
                        "iteration": 469,
                        "passed_time": 1.526951133,
                        "remaining_time": 14.71720986,
                        "test": [
                          0.8542217576,
                          0.4223658832
                        ]
                      },
                      {
                        "learn": [
                          0.4284137367
                        ],
                        "iteration": 470,
                        "passed_time": 1.52913215,
                        "remaining_time": 14.70369322,
                        "test": [
                          0.8542832544,
                          0.4222913645
                        ]
                      },
                      {
                        "learn": [
                          0.4282693323
                        ],
                        "iteration": 471,
                        "passed_time": 1.531285281,
                        "remaining_time": 14.68995711,
                        "test": [
                          0.8545907386,
                          0.4223534208
                        ]
                      },
                      {
                        "learn": [
                          0.4282420917
                        ],
                        "iteration": 472,
                        "passed_time": 1.533665708,
                        "remaining_time": 14.67844537,
                        "test": [
                          0.8545292417,
                          0.4223279207
                        ]
                      },
                      {
                        "learn": [
                          0.4281021832
                        ],
                        "iteration": 473,
                        "passed_time": 1.53626134,
                        "remaining_time": 14.66902706,
                        "test": [
                          0.8545292417,
                          0.4222813576
                        ]
                      },
                      {
                        "learn": [
                          0.42807873
                        ],
                        "iteration": 474,
                        "passed_time": 1.539468189,
                        "remaining_time": 14.66546011,
                        "test": [
                          0.8545907386,
                          0.4222523797
                        ]
                      },
                      {
                        "learn": [
                          0.427979562
                        ],
                        "iteration": 475,
                        "passed_time": 1.54167862,
                        "remaining_time": 14.65242453,
                        "test": [
                          0.8545907386,
                          0.422266599
                        ]
                      },
                      {
                        "learn": [
                          0.4279597387
                        ],
                        "iteration": 476,
                        "passed_time": 1.544555568,
                        "remaining_time": 14.64575437,
                        "test": [
                          0.8545907386,
                          0.4222590963
                        ]
                      },
                      {
                        "learn": [
                          0.4279597371
                        ],
                        "iteration": 477,
                        "passed_time": 1.550362056,
                        "remaining_time": 14.66681426,
                        "test": [
                          0.8545907386,
                          0.422259139
                        ]
                      },
                      {
                        "learn": [
                          0.4278993278
                        ],
                        "iteration": 478,
                        "passed_time": 1.556849397,
                        "remaining_time": 14.69418815,
                        "test": [
                          0.8545292417,
                          0.4222715996
                        ]
                      },
                      {
                        "learn": [
                          0.4277432878
                        ],
                        "iteration": 479,
                        "passed_time": 1.564318329,
                        "remaining_time": 14.73066427,
                        "test": [
                          0.8545292417,
                          0.4223282098
                        ]
                      },
                      {
                        "learn": [
                          0.4276474385
                        ],
                        "iteration": 480,
                        "passed_time": 1.570708143,
                        "remaining_time": 14.75681933,
                        "test": [
                          0.8543447512,
                          0.4221979165
                        ]
                      },
                      {
                        "learn": [
                          0.4276095486
                        ],
                        "iteration": 481,
                        "passed_time": 1.574677392,
                        "remaining_time": 14.76015033,
                        "test": [
                          0.8544677449,
                          0.4221561602
                        ]
                      },
                      {
                        "learn": [
                          0.4275883313
                        ],
                        "iteration": 482,
                        "passed_time": 1.577256047,
                        "remaining_time": 14.7504463,
                        "test": [
                          0.8544677449,
                          0.422144
                        ]
                      },
                      {
                        "learn": [
                          0.4275294369
                        ],
                        "iteration": 483,
                        "passed_time": 1.580413971,
                        "remaining_time": 14.74617664,
                        "test": [
                          0.8545907386,
                          0.4221091818
                        ]
                      },
                      {
                        "learn": [
                          0.4274415953
                        ],
                        "iteration": 484,
                        "passed_time": 1.583445451,
                        "remaining_time": 14.74073446,
                        "test": [
                          0.8543447512,
                          0.4221387251
                        ]
                      },
                      {
                        "learn": [
                          0.4273892963
                        ],
                        "iteration": 485,
                        "passed_time": 1.58702384,
                        "remaining_time": 14.74038193,
                        "test": [
                          0.8542832544,
                          0.4221282032
                        ]
                      },
                      {
                        "learn": [
                          0.4272295118
                        ],
                        "iteration": 486,
                        "passed_time": 1.590343558,
                        "remaining_time": 14.73761905,
                        "test": [
                          0.8544677449,
                          0.4218672881
                        ]
                      },
                      {
                        "learn": [
                          0.4270489381
                        ],
                        "iteration": 487,
                        "passed_time": 1.593020171,
                        "remaining_time": 14.72890781,
                        "test": [
                          0.8544677449,
                          0.4216840015
                        ]
                      },
                      {
                        "learn": [
                          0.4269496156
                        ],
                        "iteration": 488,
                        "passed_time": 1.595677059,
                        "remaining_time": 14.72003929,
                        "test": [
                          0.8542832544,
                          0.421694372
                        ]
                      },
                      {
                        "learn": [
                          0.4268983249
                        ],
                        "iteration": 489,
                        "passed_time": 1.598592159,
                        "remaining_time": 14.71357273,
                        "test": [
                          0.8545907386,
                          0.421631323
                        ]
                      },
                      {
                        "learn": [
                          0.4268370948
                        ],
                        "iteration": 490,
                        "passed_time": 1.601533757,
                        "remaining_time": 14.70736397,
                        "test": [
                          0.8545907386,
                          0.4215057159
                        ]
                      },
                      {
                        "learn": [
                          0.4268039044
                        ],
                        "iteration": 491,
                        "passed_time": 1.604191794,
                        "remaining_time": 14.69857034,
                        "test": [
                          0.8547137322,
                          0.4215065713
                        ]
                      },
                      {
                        "learn": [
                          0.4267849857
                        ],
                        "iteration": 492,
                        "passed_time": 1.606998542,
                        "remaining_time": 14.69116111,
                        "test": [
                          0.8544677449,
                          0.4215097074
                        ]
                      },
                      {
                        "learn": [
                          0.4267153198
                        ],
                        "iteration": 493,
                        "passed_time": 1.610174379,
                        "remaining_time": 14.68713715,
                        "test": [
                          0.8545292417,
                          0.421461399
                        ]
                      },
                      {
                        "learn": [
                          0.4267124494
                        ],
                        "iteration": 494,
                        "passed_time": 1.612753715,
                        "remaining_time": 14.67768785,
                        "test": [
                          0.8545292417,
                          0.4214618614
                        ]
                      },
                      {
                        "learn": [
                          0.4266905819
                        ],
                        "iteration": 495,
                        "passed_time": 1.617366634,
                        "remaining_time": 14.6867325,
                        "test": [
                          0.8544677449,
                          0.4214482997
                        ]
                      },
                      {
                        "learn": [
                          0.4265753724
                        ],
                        "iteration": 496,
                        "passed_time": 1.621102093,
                        "remaining_time": 14.68777209,
                        "test": [
                          0.8541910092,
                          0.4214739007
                        ]
                      },
                      {
                        "learn": [
                          0.4265566851
                        ],
                        "iteration": 497,
                        "passed_time": 1.623828974,
                        "remaining_time": 14.67967478,
                        "test": [
                          0.8541910092,
                          0.4214756931
                        ]
                      },
                      {
                        "learn": [
                          0.4265151417
                        ],
                        "iteration": 498,
                        "passed_time": 1.626594421,
                        "remaining_time": 14.67194687,
                        "test": [
                          0.854252506,
                          0.4215324153
                        ]
                      },
                      {
                        "learn": [
                          0.4264015042
                        ],
                        "iteration": 499,
                        "passed_time": 1.629591196,
                        "remaining_time": 14.66632076,
                        "test": [
                          0.8548674743,
                          0.4215224722
                        ]
                      },
                      {
                        "learn": [
                          0.4263336004
                        ],
                        "iteration": 500,
                        "passed_time": 1.632499816,
                        "remaining_time": 14.65991352,
                        "test": [
                          0.8548674743,
                          0.4215343516
                        ]
                      },
                      {
                        "learn": [
                          0.4262885972
                        ],
                        "iteration": 501,
                        "passed_time": 1.63517711,
                        "remaining_time": 14.6514475,
                        "test": [
                          0.8550519648,
                          0.4214848728
                        ]
                      },
                      {
                        "learn": [
                          0.4261239176
                        ],
                        "iteration": 502,
                        "passed_time": 1.637952757,
                        "remaining_time": 14.6438838,
                        "test": [
                          0.8548674743,
                          0.4213677392
                        ]
                      },
                      {
                        "learn": [
                          0.426105753
                        ],
                        "iteration": 503,
                        "passed_time": 1.64132249,
                        "remaining_time": 14.64163872,
                        "test": [
                          0.8548674743,
                          0.4213348649
                        ]
                      },
                      {
                        "learn": [
                          0.4260383192
                        ],
                        "iteration": 504,
                        "passed_time": 1.647418042,
                        "remaining_time": 14.66365168,
                        "test": [
                          0.854621487,
                          0.4212875927
                        ]
                      },
                      {
                        "learn": [
                          0.4260241529
                        ],
                        "iteration": 505,
                        "passed_time": 1.650207479,
                        "remaining_time": 14.65619053,
                        "test": [
                          0.854621487,
                          0.4212958147
                        ]
                      },
                      {
                        "learn": [
                          0.4260058811
                        ],
                        "iteration": 506,
                        "passed_time": 1.653050406,
                        "remaining_time": 14.64922184,
                        "test": [
                          0.854621487,
                          0.4212824113
                        ]
                      },
                      {
                        "learn": [
                          0.4259389909
                        ],
                        "iteration": 507,
                        "passed_time": 1.659053357,
                        "remaining_time": 14.67021197,
                        "test": [
                          0.854621487,
                          0.42128284
                        ]
                      },
                      {
                        "learn": [
                          0.4258778247
                        ],
                        "iteration": 508,
                        "passed_time": 1.661593681,
                        "remaining_time": 14.66054463,
                        "test": [
                          0.8545599902,
                          0.4211545233
                        ]
                      },
                      {
                        "learn": [
                          0.4258220733
                        ],
                        "iteration": 509,
                        "passed_time": 1.663929414,
                        "remaining_time": 14.64910406,
                        "test": [
                          0.8546829838,
                          0.4210514609
                        ]
                      },
                      {
                        "learn": [
                          0.4257207388
                        ],
                        "iteration": 510,
                        "passed_time": 1.666347273,
                        "remaining_time": 14.63842057,
                        "test": [
                          0.8548674743,
                          0.4210033344
                        ]
                      },
                      {
                        "learn": [
                          0.4256824788
                        ],
                        "iteration": 511,
                        "passed_time": 1.668672107,
                        "remaining_time": 14.62695393,
                        "test": [
                          0.8549289712,
                          0.4209207638
                        ]
                      },
                      {
                        "learn": [
                          0.4256151316
                        ],
                        "iteration": 512,
                        "passed_time": 1.671442301,
                        "remaining_time": 14.61941833,
                        "test": [
                          0.8548059775,
                          0.4209725106
                        ]
                      },
                      {
                        "learn": [
                          0.4255994592
                        ],
                        "iteration": 513,
                        "passed_time": 1.673554795,
                        "remaining_time": 14.60616111,
                        "test": [
                          0.8548674743,
                          0.4209643303
                        ]
                      },
                      {
                        "learn": [
                          0.4255872264
                        ],
                        "iteration": 514,
                        "passed_time": 1.675665664,
                        "remaining_time": 14.59293302,
                        "test": [
                          0.8548674743,
                          0.420969677
                        ]
                      },
                      {
                        "learn": [
                          0.4255585772
                        ],
                        "iteration": 515,
                        "passed_time": 1.678153794,
                        "remaining_time": 14.58302638,
                        "test": [
                          0.8550519648,
                          0.420978513
                        ]
                      },
                      {
                        "learn": [
                          0.4255232465
                        ],
                        "iteration": 516,
                        "passed_time": 1.680315191,
                        "remaining_time": 14.57031528,
                        "test": [
                          0.8550519648,
                          0.4209583725
                        ]
                      },
                      {
                        "learn": [
                          0.425494001
                        ],
                        "iteration": 517,
                        "passed_time": 1.682594819,
                        "remaining_time": 14.55866792,
                        "test": [
                          0.8551134617,
                          0.420937791
                        ]
                      },
                      {
                        "learn": [
                          0.4254019847
                        ],
                        "iteration": 518,
                        "passed_time": 1.684831537,
                        "remaining_time": 14.54668616,
                        "test": [
                          0.8550519648,
                          0.4209345552
                        ]
                      },
                      {
                        "learn": [
                          0.4253160061
                        ],
                        "iteration": 519,
                        "passed_time": 1.686984546,
                        "remaining_time": 14.5340207,
                        "test": [
                          0.8550519648,
                          0.4209537944
                        ]
                      },
                      {
                        "learn": [
                          0.4253160059
                        ],
                        "iteration": 520,
                        "passed_time": 1.688449556,
                        "remaining_time": 14.51548092,
                        "test": [
                          0.8550519648,
                          0.4209538093
                        ]
                      },
                      {
                        "learn": [
                          0.4252710753
                        ],
                        "iteration": 521,
                        "passed_time": 1.690860007,
                        "remaining_time": 14.50511708,
                        "test": [
                          0.8548674743,
                          0.4209231033
                        ]
                      },
                      {
                        "learn": [
                          0.4252215041
                        ],
                        "iteration": 522,
                        "passed_time": 1.69317392,
                        "remaining_time": 14.49395725,
                        "test": [
                          0.8548674743,
                          0.4208966255
                        ]
                      },
                      {
                        "learn": [
                          0.4251222202
                        ],
                        "iteration": 523,
                        "passed_time": 1.696866083,
                        "remaining_time": 14.49460417,
                        "test": [
                          0.8545599902,
                          0.4209506749
                        ]
                      },
                      {
                        "learn": [
                          0.4250831438
                        ],
                        "iteration": 524,
                        "passed_time": 1.699504384,
                        "remaining_time": 14.48625166,
                        "test": [
                          0.854621487,
                          0.4209380218
                        ]
                      },
                      {
                        "learn": [
                          0.424967924
                        ],
                        "iteration": 525,
                        "passed_time": 1.702034583,
                        "remaining_time": 14.47700138,
                        "test": [
                          0.8545599902,
                          0.4209182447
                        ]
                      },
                      {
                        "learn": [
                          0.4249427917
                        ],
                        "iteration": 526,
                        "passed_time": 1.704356988,
                        "remaining_time": 14.46601292,
                        "test": [
                          0.8545599902,
                          0.4208704409
                        ]
                      },
                      {
                        "learn": [
                          0.4248656849
                        ],
                        "iteration": 527,
                        "passed_time": 1.706591702,
                        "remaining_time": 14.45431457,
                        "test": [
                          0.8545599902,
                          0.4208059635
                        ]
                      },
                      {
                        "learn": [
                          0.4248179508
                        ],
                        "iteration": 528,
                        "passed_time": 1.708827893,
                        "remaining_time": 14.44266448,
                        "test": [
                          0.8547444807,
                          0.4207453606
                        ]
                      },
                      {
                        "learn": [
                          0.4247837803
                        ],
                        "iteration": 529,
                        "passed_time": 1.711504954,
                        "remaining_time": 14.4347682,
                        "test": [
                          0.8547444807,
                          0.4207606392
                        ]
                      },
                      {
                        "learn": [
                          0.4247704273
                        ],
                        "iteration": 530,
                        "passed_time": 1.713688794,
                        "remaining_time": 14.42274053,
                        "test": [
                          0.8547444807,
                          0.4207590409
                        ]
                      },
                      {
                        "learn": [
                          0.4246283125
                        ],
                        "iteration": 531,
                        "passed_time": 1.716146803,
                        "remaining_time": 14.41305248,
                        "test": [
                          0.854990468,
                          0.4207159017
                        ]
                      },
                      {
                        "learn": [
                          0.4245195152
                        ],
                        "iteration": 532,
                        "passed_time": 1.71885638,
                        "remaining_time": 14.40549991,
                        "test": [
                          0.8546829838,
                          0.4207507118
                        ]
                      },
                      {
                        "learn": [
                          0.4245114714
                        ],
                        "iteration": 533,
                        "passed_time": 1.721305807,
                        "remaining_time": 14.39578976,
                        "test": [
                          0.8547444807,
                          0.4207338392
                        ]
                      },
                      {
                        "learn": [
                          0.424379955
                        ],
                        "iteration": 534,
                        "passed_time": 1.7239641,
                        "remaining_time": 14.38784992,
                        "test": [
                          0.8549289712,
                          0.4207383626
                        ]
                      },
                      {
                        "learn": [
                          0.4243428746
                        ],
                        "iteration": 535,
                        "passed_time": 1.726314213,
                        "remaining_time": 14.37736314,
                        "test": [
                          0.8549289712,
                          0.4207500407
                        ]
                      },
                      {
                        "learn": [
                          0.4243172572
                        ],
                        "iteration": 536,
                        "passed_time": 1.728706921,
                        "remaining_time": 14.36726069,
                        "test": [
                          0.8548674743,
                          0.4207347436
                        ]
                      },
                      {
                        "learn": [
                          0.4242389128
                        ],
                        "iteration": 537,
                        "passed_time": 1.730819023,
                        "remaining_time": 14.35485963,
                        "test": [
                          0.8548059775,
                          0.4207530123
                        ]
                      },
                      {
                        "learn": [
                          0.4241650066
                        ],
                        "iteration": 538,
                        "passed_time": 1.733115799,
                        "remaining_time": 14.3440252,
                        "test": [
                          0.8548059775,
                          0.4206902581
                        ]
                      },
                      {
                        "learn": [
                          0.4241278462
                        ],
                        "iteration": 539,
                        "passed_time": 1.736580799,
                        "remaining_time": 14.34287105,
                        "test": [
                          0.8548059775,
                          0.4206725433
                        ]
                      },
                      {
                        "learn": [
                          0.4240513573
                        ],
                        "iteration": 540,
                        "passed_time": 1.739015977,
                        "remaining_time": 14.33322041,
                        "test": [
                          0.8549289712,
                          0.4205231384
                        ]
                      },
                      {
                        "learn": [
                          0.4240094784
                        ],
                        "iteration": 541,
                        "passed_time": 1.741283438,
                        "remaining_time": 14.32221692,
                        "test": [
                          0.854990468,
                          0.4204458971
                        ]
                      },
                      {
                        "learn": [
                          0.4240004493
                        ],
                        "iteration": 542,
                        "passed_time": 1.743243107,
                        "remaining_time": 14.3087192,
                        "test": [
                          0.854990468,
                          0.4204355595
                        ]
                      },
                      {
                        "learn": [
                          0.4238426802
                        ],
                        "iteration": 543,
                        "passed_time": 1.745555245,
                        "remaining_time": 14.29815105,
                        "test": [
                          0.8552979522,
                          0.4201202008
                        ]
                      },
                      {
                        "learn": [
                          0.4237586512
                        ],
                        "iteration": 544,
                        "passed_time": 1.747819348,
                        "remaining_time": 14.28722055,
                        "test": [
                          0.8552364553,
                          0.4201127242
                        ]
                      },
                      {
                        "learn": [
                          0.4237356385
                        ],
                        "iteration": 545,
                        "passed_time": 1.749979307,
                        "remaining_time": 14.27547222,
                        "test": [
                          0.8552364553,
                          0.4200960601
                        ]
                      },
                      {
                        "learn": [
                          0.4237331312
                        ],
                        "iteration": 546,
                        "passed_time": 1.751921809,
                        "remaining_time": 14.26198869,
                        "test": [
                          0.8552364553,
                          0.4200958591
                        ]
                      },
                      {
                        "learn": [
                          0.4237112019
                        ],
                        "iteration": 547,
                        "passed_time": 1.754141555,
                        "remaining_time": 14.25079964,
                        "test": [
                          0.8552364553,
                          0.4200680765
                        ]
                      },
                      {
                        "learn": [
                          0.4235963276
                        ],
                        "iteration": 548,
                        "passed_time": 1.756585829,
                        "remaining_time": 14.24146361,
                        "test": [
                          0.8552979522,
                          0.4199093875
                        ]
                      },
                      {
                        "learn": [
                          0.4235344338
                        ],
                        "iteration": 549,
                        "passed_time": 1.758782155,
                        "remaining_time": 14.23014653,
                        "test": [
                          0.8552979522,
                          0.4198974054
                        ]
                      },
                      {
                        "learn": [
                          0.423511619
                        ],
                        "iteration": 550,
                        "passed_time": 1.761024397,
                        "remaining_time": 14.21923329,
                        "test": [
                          0.855359449,
                          0.4198658937
                        ]
                      },
                      {
                        "learn": [
                          0.4234137746
                        ],
                        "iteration": 551,
                        "passed_time": 1.763217951,
                        "remaining_time": 14.20795914,
                        "test": [
                          0.8554209458,
                          0.4197431213
                        ]
                      },
                      {
                        "learn": [
                          0.4233909098
                        ],
                        "iteration": 552,
                        "passed_time": 1.765415574,
                        "remaining_time": 14.19675055,
                        "test": [
                          0.8554209458,
                          0.4197374585
                        ]
                      },
                      {
                        "learn": [
                          0.4233705686
                        ],
                        "iteration": 553,
                        "passed_time": 1.767620943,
                        "remaining_time": 14.18563666,
                        "test": [
                          0.8554209458,
                          0.419736957
                        ]
                      },
                      {
                        "learn": [
                          0.4233256899
                        ],
                        "iteration": 554,
                        "passed_time": 1.770028318,
                        "remaining_time": 14.17617275,
                        "test": [
                          0.8555439395,
                          0.4197845651
                        ]
                      },
                      {
                        "learn": [
                          0.4233056855
                        ],
                        "iteration": 555,
                        "passed_time": 1.772385286,
                        "remaining_time": 14.16633132,
                        "test": [
                          0.8555439395,
                          0.4197807732
                        ]
                      },
                      {
                        "learn": [
                          0.4232273123
                        ],
                        "iteration": 556,
                        "passed_time": 1.775451282,
                        "remaining_time": 14.16217243,
                        "test": [
                          0.8556669332,
                          0.4198354809
                        ]
                      },
                      {
                        "learn": [
                          0.423190375
                        ],
                        "iteration": 557,
                        "passed_time": 1.778269995,
                        "remaining_time": 14.15604896,
                        "test": [
                          0.8556669332,
                          0.4198870046
                        ]
                      },
                      {
                        "learn": [
                          0.423187675
                        ],
                        "iteration": 558,
                        "passed_time": 1.78048313,
                        "remaining_time": 14.14512626,
                        "test": [
                          0.8556669332,
                          0.4198873835
                        ]
                      },
                      {
                        "learn": [
                          0.4231092752
                        ],
                        "iteration": 559,
                        "passed_time": 1.782658334,
                        "remaining_time": 14.13393393,
                        "test": [
                          0.8557899268,
                          0.4197635355
                        ]
                      },
                      {
                        "learn": [
                          0.4230408686
                        ],
                        "iteration": 560,
                        "passed_time": 1.78520969,
                        "remaining_time": 14.12575011,
                        "test": [
                          0.8557899268,
                          0.4196825322
                        ]
                      },
                      {
                        "learn": [
                          0.4229835705
                        ],
                        "iteration": 561,
                        "passed_time": 1.787629424,
                        "remaining_time": 14.11654695,
                        "test": [
                          0.8558514237,
                          0.4196316045
                        ]
                      },
                      {
                        "learn": [
                          0.4229224265
                        ],
                        "iteration": 562,
                        "passed_time": 1.790354031,
                        "remaining_time": 14.10977058,
                        "test": [
                          0.8559129205,
                          0.4196379882
                        ]
                      },
                      {
                        "learn": [
                          0.4229001667
                        ],
                        "iteration": 563,
                        "passed_time": 1.792806706,
                        "remaining_time": 14.10086976,
                        "test": [
                          0.8560359142,
                          0.4195890763
                        ]
                      },
                      {
                        "learn": [
                          0.4228485465
                        ],
                        "iteration": 564,
                        "passed_time": 1.79607793,
                        "remaining_time": 14.09841703,
                        "test": [
                          0.8560359142,
                          0.4194833343
                        ]
                      },
                      {
                        "learn": [
                          0.4228045103
                        ],
                        "iteration": 565,
                        "passed_time": 1.799445617,
                        "remaining_time": 14.09671708,
                        "test": [
                          0.856097411,
                          0.4194820343
                        ]
                      },
                      {
                        "learn": [
                          0.4227590984
                        ],
                        "iteration": 566,
                        "passed_time": 1.802318352,
                        "remaining_time": 14.09114154,
                        "test": [
                          0.856097411,
                          0.419484509
                        ]
                      },
                      {
                        "learn": [
                          0.4226838506
                        ],
                        "iteration": 567,
                        "passed_time": 1.805266439,
                        "remaining_time": 14.08616348,
                        "test": [
                          0.8561589078,
                          0.4194922795
                        ]
                      },
                      {
                        "learn": [
                          0.4225751858
                        ],
                        "iteration": 568,
                        "passed_time": 1.8080148,
                        "remaining_time": 14.07963722,
                        "test": [
                          0.8562204046,
                          0.4194321432
                        ]
                      },
                      {
                        "learn": [
                          0.422492813
                        ],
                        "iteration": 569,
                        "passed_time": 1.810220572,
                        "remaining_time": 14.06890725,
                        "test": [
                          0.8562819015,
                          0.4194467875
                        ]
                      },
                      {
                        "learn": [
                          0.4224508649
                        ],
                        "iteration": 570,
                        "passed_time": 1.812510872,
                        "remaining_time": 14.05886279,
                        "test": [
                          0.8561589078,
                          0.4194048885
                        ]
                      },
                      {
                        "learn": [
                          0.4224297349
                        ],
                        "iteration": 571,
                        "passed_time": 1.814999548,
                        "remaining_time": 14.05038112,
                        "test": [
                          0.856097411,
                          0.4193511715
                        ]
                      },
                      {
                        "learn": [
                          0.4224177219
                        ],
                        "iteration": 572,
                        "passed_time": 1.818161302,
                        "remaining_time": 14.04712056,
                        "test": [
                          0.856097411,
                          0.4193484184
                        ]
                      },
                      {
                        "learn": [
                          0.4223748143
                        ],
                        "iteration": 573,
                        "passed_time": 1.820556467,
                        "remaining_time": 14.03794934,
                        "test": [
                          0.856097411,
                          0.4193909603
                        ]
                      },
                      {
                        "learn": [
                          0.4223489293
                        ],
                        "iteration": 574,
                        "passed_time": 1.822889517,
                        "remaining_time": 14.02832367,
                        "test": [
                          0.8561589078,
                          0.4193324625
                        ]
                      },
                      {
                        "learn": [
                          0.4222868733
                        ],
                        "iteration": 575,
                        "passed_time": 1.825439326,
                        "remaining_time": 14.02038816,
                        "test": [
                          0.856097411,
                          0.4192847959
                        ]
                      },
                      {
                        "learn": [
                          0.4222273077
                        ],
                        "iteration": 576,
                        "passed_time": 1.827998359,
                        "remaining_time": 14.01254201,
                        "test": [
                          0.8561589078,
                          0.419295877
                        ]
                      },
                      {
                        "learn": [
                          0.4222069299
                        ],
                        "iteration": 577,
                        "passed_time": 1.830192737,
                        "remaining_time": 14.00192436,
                        "test": [
                          0.8562204046,
                          0.419301862
                        ]
                      },
                      {
                        "learn": [
                          0.4221193067
                        ],
                        "iteration": 578,
                        "passed_time": 1.832319532,
                        "remaining_time": 13.99081978,
                        "test": [
                          0.8561589078,
                          0.419341135
                        ]
                      },
                      {
                        "learn": [
                          0.4219901809
                        ],
                        "iteration": 579,
                        "passed_time": 1.834746538,
                        "remaining_time": 13.98203396,
                        "test": [
                          0.856097411,
                          0.41913889
                        ]
                      },
                      {
                        "learn": [
                          0.4219058867
                        ],
                        "iteration": 580,
                        "passed_time": 1.837281014,
                        "remaining_time": 13.97408744,
                        "test": [
                          0.8561589078,
                          0.4190724302
                        ]
                      },
                      {
                        "learn": [
                          0.4217975822
                        ],
                        "iteration": 581,
                        "passed_time": 1.840235873,
                        "remaining_time": 13.96935066,
                        "test": [
                          0.856466392,
                          0.4189236069
                        ]
                      },
                      {
                        "learn": [
                          0.4217406574
                        ],
                        "iteration": 582,
                        "passed_time": 1.842715719,
                        "remaining_time": 13.96102115,
                        "test": [
                          0.8567738761,
                          0.4189159742
                        ]
                      },
                      {
                        "learn": [
                          0.4215737442
                        ],
                        "iteration": 583,
                        "passed_time": 1.844984747,
                        "remaining_time": 13.95111754,
                        "test": [
                          0.856835373,
                          0.4186450953
                        ]
                      },
                      {
                        "learn": [
                          0.4215270279
                        ],
                        "iteration": 584,
                        "passed_time": 1.847369945,
                        "remaining_time": 13.94211676,
                        "test": [
                          0.856835373,
                          0.4186812277
                        ]
                      },
                      {
                        "learn": [
                          0.4215153883
                        ],
                        "iteration": 585,
                        "passed_time": 1.84981898,
                        "remaining_time": 13.93361941,
                        "test": [
                          0.8567738761,
                          0.4186658281
                        ]
                      },
                      {
                        "learn": [
                          0.4214707579
                        ],
                        "iteration": 586,
                        "passed_time": 1.852247139,
                        "remaining_time": 13.92498573,
                        "test": [
                          0.8567738761,
                          0.418661442
                        ]
                      },
                      {
                        "learn": [
                          0.4213967787
                        ],
                        "iteration": 587,
                        "passed_time": 1.854652693,
                        "remaining_time": 13.91620354,
                        "test": [
                          0.8565893856,
                          0.4187873011
                        ]
                      },
                      {
                        "learn": [
                          0.4213163637
                        ],
                        "iteration": 588,
                        "passed_time": 1.858336729,
                        "remaining_time": 13.9170175,
                        "test": [
                          0.8566508825,
                          0.4187197054
                        ]
                      },
                      {
                        "learn": [
                          0.4212554583
                        ],
                        "iteration": 589,
                        "passed_time": 1.860677862,
                        "remaining_time": 13.9077786,
                        "test": [
                          0.856835373,
                          0.4186638154
                        ]
                      },
                      {
                        "learn": [
                          0.4212050266
                        ],
                        "iteration": 590,
                        "passed_time": 1.863123311,
                        "remaining_time": 13.89934125,
                        "test": [
                          0.8570198635,
                          0.4187060883
                        ]
                      },
                      {
                        "learn": [
                          0.4211740276
                        ],
                        "iteration": 591,
                        "passed_time": 1.865591392,
                        "remaining_time": 13.89109266,
                        "test": [
                          0.8571428571,
                          0.4186541588
                        ]
                      },
                      {
                        "learn": [
                          0.4211462636
                        ],
                        "iteration": 592,
                        "passed_time": 1.867715172,
                        "remaining_time": 13.88030483,
                        "test": [
                          0.8570813603,
                          0.4185950186
                        ]
                      },
                      {
                        "learn": [
                          0.4211266105
                        ],
                        "iteration": 593,
                        "passed_time": 1.870116932,
                        "remaining_time": 13.87160808,
                        "test": [
                          0.8570813603,
                          0.4186093329
                        ]
                      },
                      {
                        "learn": [
                          0.4211149904
                        ],
                        "iteration": 594,
                        "passed_time": 1.872333846,
                        "remaining_time": 13.86156402,
                        "test": [
                          0.8570813603,
                          0.4186098646
                        ]
                      },
                      {
                        "learn": [
                          0.4210805556
                        ],
                        "iteration": 595,
                        "passed_time": 1.8744745,
                        "remaining_time": 13.85098271,
                        "test": [
                          0.8573273476,
                          0.4185683819
                        ]
                      },
                      {
                        "learn": [
                          0.4210350018
                        ],
                        "iteration": 596,
                        "passed_time": 1.877021061,
                        "remaining_time": 13.84342333,
                        "test": [
                          0.8574503413,
                          0.4184893674
                        ]
                      },
                      {
                        "learn": [
                          0.4210210813
                        ],
                        "iteration": 597,
                        "passed_time": 1.879165768,
                        "remaining_time": 13.83292259,
                        "test": [
                          0.8574503413,
                          0.418514327
                        ]
                      },
                      {
                        "learn": [
                          0.4209520854
                        ],
                        "iteration": 598,
                        "passed_time": 1.881403946,
                        "remaining_time": 13.8231365,
                        "test": [
                          0.8573580961,
                          0.4184593011
                        ]
                      },
                      {
                        "learn": [
                          0.4208533677
                        ],
                        "iteration": 599,
                        "passed_time": 1.883934031,
                        "remaining_time": 13.81551623,
                        "test": [
                          0.8574195929,
                          0.4183949829
                        ]
                      },
                      {
                        "learn": [
                          0.42078273
                        ],
                        "iteration": 600,
                        "passed_time": 1.886659,
                        "remaining_time": 13.80933934,
                        "test": [
                          0.8574810897,
                          0.418302321
                        ]
                      },
                      {
                        "learn": [
                          0.4207529195
                        ],
                        "iteration": 601,
                        "passed_time": 1.889982471,
                        "remaining_time": 13.80754636,
                        "test": [
                          0.8574810897,
                          0.4183063639
                        ]
                      },
                      {
                        "learn": [
                          0.4206973669
                        ],
                        "iteration": 602,
                        "passed_time": 1.892583725,
                        "remaining_time": 13.80048199,
                        "test": [
                          0.8575425866,
                          0.4183346145
                        ]
                      },
                      {
                        "learn": [
                          0.4206780494
                        ],
                        "iteration": 603,
                        "passed_time": 1.895015066,
                        "remaining_time": 13.79219575,
                        "test": [
                          0.8575425866,
                          0.4183191346
                        ]
                      },
                      {
                        "learn": [
                          0.4206171404
                        ],
                        "iteration": 604,
                        "passed_time": 1.898336105,
                        "remaining_time": 13.79039204,
                        "test": [
                          0.8574810897,
                          0.4183211729
                        ]
                      },
                      {
                        "learn": [
                          0.4206090997
                        ],
                        "iteration": 605,
                        "passed_time": 1.900833003,
                        "remaining_time": 13.78260762,
                        "test": [
                          0.8573580961,
                          0.4183231608
                        ]
                      },
                      {
                        "learn": [
                          0.4204703382
                        ],
                        "iteration": 606,
                        "passed_time": 1.903317075,
                        "remaining_time": 13.7747478,
                        "test": [
                          0.8574195929,
                          0.4184761115
                        ]
                      },
                      {
                        "learn": [
                          0.4204228909
                        ],
                        "iteration": 607,
                        "passed_time": 1.905640272,
                        "remaining_time": 13.76574354,
                        "test": [
                          0.8574195929,
                          0.4184622822
                        ]
                      },
                      {
                        "learn": [
                          0.4203756173
                        ],
                        "iteration": 608,
                        "passed_time": 1.907830474,
                        "remaining_time": 13.75580232,
                        "test": [
                          0.8574810897,
                          0.4184202544
                        ]
                      },
                      {
                        "learn": [
                          0.420277225
                        ],
                        "iteration": 609,
                        "passed_time": 1.910434635,
                        "remaining_time": 13.74886565,
                        "test": [
                          0.8574810897,
                          0.4183122567
                        ]
                      },
                      {
                        "learn": [
                          0.4202645774
                        ],
                        "iteration": 610,
                        "passed_time": 1.912688645,
                        "remaining_time": 13.73942792,
                        "test": [
                          0.8574810897,
                          0.4183399414
                        ]
                      },
                      {
                        "learn": [
                          0.4200858389
                        ],
                        "iteration": 611,
                        "passed_time": 1.915278537,
                        "remaining_time": 13.73242193,
                        "test": [
                          0.8575425866,
                          0.418275206
                        ]
                      },
                      {
                        "learn": [
                          0.4199217286
                        ],
                        "iteration": 612,
                        "passed_time": 1.917667272,
                        "remaining_time": 13.72399074,
                        "test": [
                          0.8571121087,
                          0.4183541162
                        ]
                      },
                      {
                        "learn": [
                          0.4198797129
                        ],
                        "iteration": 613,
                        "passed_time": 1.919885896,
                        "remaining_time": 13.71436407,
                        "test": [
                          0.8572965992,
                          0.4183081938
                        ]
                      },
                      {
                        "learn": [
                          0.4197994514
                        ],
                        "iteration": 614,
                        "passed_time": 1.922142999,
                        "remaining_time": 13.70503586,
                        "test": [
                          0.8571736056,
                          0.4183173922
                        ]
                      },
                      {
                        "learn": [
                          0.4196974092
                        ],
                        "iteration": 615,
                        "passed_time": 1.924616645,
                        "remaining_time": 13.6972717,
                        "test": [
                          0.8571736056,
                          0.4181768213
                        ]
                      },
                      {
                        "learn": [
                          0.4196637006
                        ],
                        "iteration": 616,
                        "passed_time": 1.926977185,
                        "remaining_time": 13.68872123,
                        "test": [
                          0.8572351024,
                          0.4182048674
                        ]
                      },
                      {
                        "learn": [
                          0.4196526159
                        ],
                        "iteration": 617,
                        "passed_time": 1.929351323,
                        "remaining_time": 13.68028721,
                        "test": [
                          0.8572965992,
                          0.4181936854
                        ]
                      },
                      {
                        "learn": [
                          0.4196367517
                        ],
                        "iteration": 618,
                        "passed_time": 1.931846984,
                        "remaining_time": 13.67273286,
                        "test": [
                          0.8573580961,
                          0.418189306
                        ]
                      },
                      {
                        "learn": [
                          0.4196092464
                        ],
                        "iteration": 619,
                        "passed_time": 1.934375054,
                        "remaining_time": 13.66542377,
                        "test": [
                          0.8572351024,
                          0.4181957039
                        ]
                      },
                      {
                        "learn": [
                          0.4195641872
                        ],
                        "iteration": 620,
                        "passed_time": 1.937585586,
                        "remaining_time": 13.66294248,
                        "test": [
                          0.8572965992,
                          0.4181946733
                        ]
                      },
                      {
                        "learn": [
                          0.4195373342
                        ],
                        "iteration": 621,
                        "passed_time": 1.940107391,
                        "remaining_time": 13.65561119,
                        "test": [
                          0.8575425866,
                          0.4182210493
                        ]
                      },
                      {
                        "learn": [
                          0.4194951179
                        ],
                        "iteration": 622,
                        "passed_time": 1.942411289,
                        "remaining_time": 13.64676439,
                        "test": [
                          0.8576040834,
                          0.4181865688
                        ]
                      },
                      {
                        "learn": [
                          0.4194848029
                        ],
                        "iteration": 623,
                        "passed_time": 1.944823088,
                        "remaining_time": 13.63869525,
                        "test": [
                          0.8576040834,
                          0.4181797489
                        ]
                      },
                      {
                        "learn": [
                          0.4194519103
                        ],
                        "iteration": 624,
                        "passed_time": 1.949768572,
                        "remaining_time": 13.64838,
                        "test": [
                          0.8574195929,
                          0.4181596034
                        ]
                      },
                      {
                        "learn": [
                          0.4193906219
                        ],
                        "iteration": 625,
                        "passed_time": 1.95386362,
                        "remaining_time": 13.65207584,
                        "test": [
                          0.8574195929,
                          0.4181431725
                        ]
                      },
                      {
                        "learn": [
                          0.4193722283
                        ],
                        "iteration": 626,
                        "passed_time": 1.958111616,
                        "remaining_time": 13.65681355,
                        "test": [
                          0.8574810897,
                          0.4181312234
                        ]
                      },
                      {
                        "learn": [
                          0.4192348842
                        ],
                        "iteration": 627,
                        "passed_time": 1.960843095,
                        "remaining_time": 13.65096499,
                        "test": [
                          0.8574810897,
                          0.4179271221
                        ]
                      },
                      {
                        "learn": [
                          0.4192296751
                        ],
                        "iteration": 628,
                        "passed_time": 1.963236976,
                        "remaining_time": 13.64278032,
                        "test": [
                          0.8574810897,
                          0.4179248564
                        ]
                      },
                      {
                        "learn": [
                          0.4191665229
                        ],
                        "iteration": 629,
                        "passed_time": 1.965386122,
                        "remaining_time": 13.63291644,
                        "test": [
                          0.8575425866,
                          0.4179788834
                        ]
                      },
                      {
                        "learn": [
                          0.419051389
                        ],
                        "iteration": 630,
                        "passed_time": 1.967809281,
                        "remaining_time": 13.62497424,
                        "test": [
                          0.8575425866,
                          0.4180403979
                        ]
                      },
                      {
                        "learn": [
                          0.4189859402
                        ],
                        "iteration": 631,
                        "passed_time": 1.96984594,
                        "remaining_time": 13.61437827,
                        "test": [
                          0.8574195929,
                          0.4181175338
                        ]
                      },
                      {
                        "learn": [
                          0.4189739235
                        ],
                        "iteration": 632,
                        "passed_time": 1.972016295,
                        "remaining_time": 13.60473169,
                        "test": [
                          0.8574195929,
                          0.4181179571
                        ]
                      },
                      {
                        "learn": [
                          0.4189277075
                        ],
                        "iteration": 633,
                        "passed_time": 1.974629228,
                        "remaining_time": 13.59815648,
                        "test": [
                          0.8574810897,
                          0.4181091318
                        ]
                      },
                      {
                        "learn": [
                          0.4188896552
                        ],
                        "iteration": 634,
                        "passed_time": 1.978453708,
                        "remaining_time": 13.59992195,
                        "test": [
                          0.8574810897,
                          0.4180639465
                        ]
                      },
                      {
                        "learn": [
                          0.418858541
                        ],
                        "iteration": 635,
                        "passed_time": 1.980987247,
                        "remaining_time": 13.59281187,
                        "test": [
                          0.8574195929,
                          0.4180630829
                        ]
                      },
                      {
                        "learn": [
                          0.4187724144
                        ],
                        "iteration": 636,
                        "passed_time": 1.983646215,
                        "remaining_time": 13.58657525,
                        "test": [
                          0.8575425866,
                          0.4180645966
                        ]
                      },
                      {
                        "learn": [
                          0.4186558924
                        ],
                        "iteration": 637,
                        "passed_time": 1.986153709,
                        "remaining_time": 13.57931423,
                        "test": [
                          0.8575425866,
                          0.4179531869
                        ]
                      },
                      {
                        "learn": [
                          0.4186331603
                        ],
                        "iteration": 638,
                        "passed_time": 1.988440062,
                        "remaining_time": 13.57055886,
                        "test": [
                          0.8573580961,
                          0.41795468
                        ]
                      },
                      {
                        "learn": [
                          0.4185415185
                        ],
                        "iteration": 639,
                        "passed_time": 1.990735729,
                        "remaining_time": 13.56188715,
                        "test": [
                          0.8572965992,
                          0.4179875748
                        ]
                      },
                      {
                        "learn": [
                          0.4185253518
                        ],
                        "iteration": 640,
                        "passed_time": 1.992960487,
                        "remaining_time": 13.55275314,
                        "test": [
                          0.8572965992,
                          0.4179727935
                        ]
                      },
                      {
                        "learn": [
                          0.4184433297
                        ],
                        "iteration": 641,
                        "passed_time": 1.995705988,
                        "remaining_time": 13.54717554,
                        "test": [
                          0.8572965992,
                          0.4178655894
                        ]
                      },
                      {
                        "learn": [
                          0.4184177134
                        ],
                        "iteration": 642,
                        "passed_time": 1.998023812,
                        "remaining_time": 13.53870879,
                        "test": [
                          0.8573580961,
                          0.4178100278
                        ]
                      },
                      {
                        "learn": [
                          0.4183880378
                        ],
                        "iteration": 643,
                        "passed_time": 2.011896811,
                        "remaining_time": 13.60842004,
                        "test": [
                          0.8572351024,
                          0.417808103
                        ]
                      },
                      {
                        "learn": [
                          0.418333778
                        ],
                        "iteration": 644,
                        "passed_time": 2.029821756,
                        "remaining_time": 13.70523062,
                        "test": [
                          0.8572965992,
                          0.417830005
                        ]
                      },
                      {
                        "learn": [
                          0.4182542394
                        ],
                        "iteration": 645,
                        "passed_time": 2.036352137,
                        "remaining_time": 13.72488731,
                        "test": [
                          0.8573580961,
                          0.4178400731
                        ]
                      },
                      {
                        "learn": [
                          0.4182031683
                        ],
                        "iteration": 646,
                        "passed_time": 2.040918142,
                        "remaining_time": 13.73124679,
                        "test": [
                          0.8573580961,
                          0.4178018884
                        ]
                      },
                      {
                        "learn": [
                          0.4181888391
                        ],
                        "iteration": 647,
                        "passed_time": 2.04732104,
                        "remaining_time": 13.74990921,
                        "test": [
                          0.8572965992,
                          0.4177874923
                        ]
                      },
                      {
                        "learn": [
                          0.4180775364
                        ],
                        "iteration": 648,
                        "passed_time": 2.053500074,
                        "remaining_time": 13.76699356,
                        "test": [
                          0.8574195929,
                          0.4177315287
                        ]
                      },
                      {
                        "learn": [
                          0.4179684646
                        ],
                        "iteration": 649,
                        "passed_time": 2.057257448,
                        "remaining_time": 13.76779984,
                        "test": [
                          0.8574195929,
                          0.417677348
                        ]
                      },
                      {
                        "learn": [
                          0.4179613435
                        ],
                        "iteration": 650,
                        "passed_time": 2.06232641,
                        "remaining_time": 13.77735416,
                        "test": [
                          0.8574195929,
                          0.417673118
                        ]
                      },
                      {
                        "learn": [
                          0.4179442547
                        ],
                        "iteration": 651,
                        "passed_time": 2.064727565,
                        "remaining_time": 13.76907278,
                        "test": [
                          0.8574195929,
                          0.4176491861
                        ]
                      },
                      {
                        "learn": [
                          0.4178993561
                        ],
                        "iteration": 652,
                        "passed_time": 2.067376995,
                        "remaining_time": 13.76246217,
                        "test": [
                          0.8575425866,
                          0.4176468527
                        ]
                      },
                      {
                        "learn": [
                          0.4178899512
                        ],
                        "iteration": 653,
                        "passed_time": 2.069644703,
                        "remaining_time": 13.75332704,
                        "test": [
                          0.8575425866,
                          0.4176362944
                        ]
                      },
                      {
                        "learn": [
                          0.4178665102
                        ],
                        "iteration": 654,
                        "passed_time": 2.072000934,
                        "remaining_time": 13.74480009,
                        "test": [
                          0.8576040834,
                          0.4176151108
                        ]
                      },
                      {
                        "learn": [
                          0.4177977777
                        ],
                        "iteration": 655,
                        "passed_time": 2.074395727,
                        "remaining_time": 13.73654731,
                        "test": [
                          0.8577270771,
                          0.4176463382
                        ]
                      },
                      {
                        "learn": [
                          0.4177844193
                        ],
                        "iteration": 656,
                        "passed_time": 2.076642601,
                        "remaining_time": 13.72733457,
                        "test": [
                          0.8577270771,
                          0.4176288569
                        ]
                      },
                      {
                        "learn": [
                          0.4176478368
                        ],
                        "iteration": 657,
                        "passed_time": 2.079119063,
                        "remaining_time": 13.71965801,
                        "test": [
                          0.8574810897,
                          0.4175146572
                        ]
                      },
                      {
                        "learn": [
                          0.4175759804
                        ],
                        "iteration": 658,
                        "passed_time": 2.081723974,
                        "remaining_time": 13.71284335,
                        "test": [
                          0.8574195929,
                          0.4175527237
                        ]
                      },
                      {
                        "learn": [
                          0.4175485515
                        ],
                        "iteration": 659,
                        "passed_time": 2.088033539,
                        "remaining_time": 13.73040236,
                        "test": [
                          0.8574810897,
                          0.4175817382
                        ]
                      },
                      {
                        "learn": [
                          0.4175404423
                        ],
                        "iteration": 660,
                        "passed_time": 2.093547874,
                        "remaining_time": 13.74266903,
                        "test": [
                          0.8574810897,
                          0.4175850021
                        ]
                      },
                      {
                        "learn": [
                          0.4174952967
                        ],
                        "iteration": 661,
                        "passed_time": 2.096566174,
                        "remaining_time": 13.73852577,
                        "test": [
                          0.8574810897,
                          0.4174944822
                        ]
                      },
                      {
                        "learn": [
                          0.4174619789
                        ],
                        "iteration": 662,
                        "passed_time": 2.10542112,
                        "remaining_time": 13.77256621,
                        "test": [
                          0.8576655802,
                          0.4174679275
                        ]
                      },
                      {
                        "learn": [
                          0.4173372262
                        ],
                        "iteration": 663,
                        "passed_time": 2.110684576,
                        "remaining_time": 13.78302458,
                        "test": [
                          0.8574810897,
                          0.417460894
                        ]
                      },
                      {
                        "learn": [
                          0.4172837001
                        ],
                        "iteration": 664,
                        "passed_time": 2.113099973,
                        "remaining_time": 13.77486975,
                        "test": [
                          0.8576655802,
                          0.4174229915
                        ]
                      },
                      {
                        "learn": [
                          0.4172625184
                        ],
                        "iteration": 665,
                        "passed_time": 2.11549303,
                        "remaining_time": 13.76658677,
                        "test": [
                          0.8576655802,
                          0.4174163123
                        ]
                      },
                      {
                        "learn": [
                          0.4172316572
                        ],
                        "iteration": 666,
                        "passed_time": 2.11831117,
                        "remaining_time": 13.76108291,
                        "test": [
                          0.8576655802,
                          0.4173927856
                        ]
                      },
                      {
                        "learn": [
                          0.4171428272
                        ],
                        "iteration": 667,
                        "passed_time": 2.121131342,
                        "remaining_time": 13.75560026,
                        "test": [
                          0.8578500707,
                          0.4174288572
                        ]
                      },
                      {
                        "learn": [
                          0.4170679397
                        ],
                        "iteration": 668,
                        "passed_time": 2.125632604,
                        "remaining_time": 13.76100868,
                        "test": [
                          0.8578500707,
                          0.4174117905
                        ]
                      },
                      {
                        "learn": [
                          0.4170606992
                        ],
                        "iteration": 669,
                        "passed_time": 2.130300422,
                        "remaining_time": 13.76746392,
                        "test": [
                          0.8577885739,
                          0.4174003374
                        ]
                      },
                      {
                        "learn": [
                          0.4170463027
                        ],
                        "iteration": 670,
                        "passed_time": 2.132630285,
                        "remaining_time": 13.75880254,
                        "test": [
                          0.8577885739,
                          0.4174225239
                        ]
                      },
                      {
                        "learn": [
                          0.4169429134
                        ],
                        "iteration": 671,
                        "passed_time": 2.135215094,
                        "remaining_time": 13.75180198,
                        "test": [
                          0.8577270771,
                          0.4173932891
                        ]
                      },
                      {
                        "learn": [
                          0.4169130482
                        ],
                        "iteration": 672,
                        "passed_time": 2.137770231,
                        "remaining_time": 13.74462376,
                        "test": [
                          0.8577885739,
                          0.4173496502
                        ]
                      },
                      {
                        "learn": [
                          0.4168580131
                        ],
                        "iteration": 673,
                        "passed_time": 2.141910566,
                        "remaining_time": 13.74763369,
                        "test": [
                          0.8577885739,
                          0.4173332162
                        ]
                      },
                      {
                        "learn": [
                          0.4168045376
                        ],
                        "iteration": 674,
                        "passed_time": 2.144402303,
                        "remaining_time": 13.7400592,
                        "test": [
                          0.8577885739,
                          0.4173767144
                        ]
                      },
                      {
                        "learn": [
                          0.4167543649
                        ],
                        "iteration": 675,
                        "passed_time": 2.146887673,
                        "remaining_time": 13.73245902,
                        "test": [
                          0.8579115676,
                          0.4173411709
                        ]
                      },
                      {
                        "learn": [
                          0.4167115203
                        ],
                        "iteration": 676,
                        "passed_time": 2.149556447,
                        "remaining_time": 13.72604508,
                        "test": [
                          0.8579730644,
                          0.4173313619
                        ]
                      },
                      {
                        "learn": [
                          0.4166856939
                        ],
                        "iteration": 677,
                        "passed_time": 2.151818536,
                        "remaining_time": 13.71704973,
                        "test": [
                          0.8580960581,
                          0.4173354894
                        ]
                      },
                      {
                        "learn": [
                          0.4166254943
                        ],
                        "iteration": 678,
                        "passed_time": 2.154150798,
                        "remaining_time": 13.70852076,
                        "test": [
                          0.8580345612,
                          0.4174051718
                        ]
                      },
                      {
                        "learn": [
                          0.4165792458
                        ],
                        "iteration": 679,
                        "passed_time": 2.15631509,
                        "remaining_time": 13.69894292,
                        "test": [
                          0.8580960581,
                          0.4173281119
                        ]
                      },
                      {
                        "learn": [
                          0.4165550159
                        ],
                        "iteration": 680,
                        "passed_time": 2.158517232,
                        "remaining_time": 13.68962691,
                        "test": [
                          0.8580960581,
                          0.4173326369
                        ]
                      },
                      {
                        "learn": [
                          0.416521764
                        ],
                        "iteration": 681,
                        "passed_time": 2.160731322,
                        "remaining_time": 13.68040741,
                        "test": [
                          0.8582190517,
                          0.4174131175
                        ]
                      },
                      {
                        "learn": [
                          0.4164281496
                        ],
                        "iteration": 682,
                        "passed_time": 2.163283244,
                        "remaining_time": 13.67334372,
                        "test": [
                          0.8580960581,
                          0.4174385491
                        ]
                      },
                      {
                        "learn": [
                          0.4163908416
                        ],
                        "iteration": 683,
                        "passed_time": 2.166127444,
                        "remaining_time": 13.6681375,
                        "test": [
                          0.8580960581,
                          0.4174477999
                        ]
                      },
                      {
                        "learn": [
                          0.4163166798
                        ],
                        "iteration": 684,
                        "passed_time": 2.168749149,
                        "remaining_time": 13.66153661,
                        "test": [
                          0.8580960581,
                          0.4173069559
                        ]
                      },
                      {
                        "learn": [
                          0.4162191208
                        ],
                        "iteration": 685,
                        "passed_time": 2.171363735,
                        "remaining_time": 13.65490256,
                        "test": [
                          0.8577885739,
                          0.4173564413
                        ]
                      },
                      {
                        "learn": [
                          0.41620005
                        ],
                        "iteration": 686,
                        "passed_time": 2.17359079,
                        "remaining_time": 13.64584727,
                        "test": [
                          0.8577885739,
                          0.4173452931
                        ]
                      },
                      {
                        "learn": [
                          0.4161297269
                        ],
                        "iteration": 687,
                        "passed_time": 2.176214893,
                        "remaining_time": 13.63930032,
                        "test": [
                          0.8577885739,
                          0.4173138181
                        ]
                      },
                      {
                        "learn": [
                          0.4161273912
                        ],
                        "iteration": 688,
                        "passed_time": 2.178436118,
                        "remaining_time": 13.63024399,
                        "test": [
                          0.8577885739,
                          0.4173026683
                        ]
                      },
                      {
                        "learn": [
                          0.4161224482
                        ],
                        "iteration": 689,
                        "passed_time": 2.181730237,
                        "remaining_time": 13.62790916,
                        "test": [
                          0.8578500707,
                          0.4172946374
                        ]
                      },
                      {
                        "learn": [
                          0.4160757451
                        ],
                        "iteration": 690,
                        "passed_time": 2.184190602,
                        "remaining_time": 13.62037237,
                        "test": [
                          0.8579730644,
                          0.4172474297
                        ]
                      },
                      {
                        "learn": [
                          0.4160447632
                        ],
                        "iteration": 691,
                        "passed_time": 2.186398385,
                        "remaining_time": 13.6112778,
                        "test": [
                          0.8579730644,
                          0.4172576269
                        ]
                      },
                      {
                        "learn": [
                          0.4160117053
                        ],
                        "iteration": 692,
                        "passed_time": 2.188957573,
                        "remaining_time": 13.60438711,
                        "test": [
                          0.8580345612,
                          0.4172250538
                        ]
                      },
                      {
                        "learn": [
                          0.4159783177
                        ],
                        "iteration": 693,
                        "passed_time": 2.191094003,
                        "remaining_time": 13.59488585,
                        "test": [
                          0.8579730644,
                          0.4172448503
                        ]
                      },
                      {
                        "learn": [
                          0.415953155
                        ],
                        "iteration": 694,
                        "passed_time": 2.193843497,
                        "remaining_time": 13.58920324,
                        "test": [
                          0.8579730644,
                          0.4172496577
                        ]
                      },
                      {
                        "learn": [
                          0.4159476916
                        ],
                        "iteration": 695,
                        "passed_time": 2.196555372,
                        "remaining_time": 13.58329644,
                        "test": [
                          0.8579115676,
                          0.417236529
                        ]
                      },
                      {
                        "learn": [
                          0.4159012121
                        ],
                        "iteration": 696,
                        "passed_time": 2.198844943,
                        "remaining_time": 13.57479166,
                        "test": [
                          0.8579115676,
                          0.4172675337
                        ]
                      },
                      {
                        "learn": [
                          0.4158714892
                        ],
                        "iteration": 697,
                        "passed_time": 2.201128679,
                        "remaining_time": 13.56626874,
                        "test": [
                          0.8579115676,
                          0.4172298232
                        ]
                      },
                      {
                        "learn": [
                          0.4158041917
                        ],
                        "iteration": 698,
                        "passed_time": 2.203637157,
                        "remaining_time": 13.55914651,
                        "test": [
                          0.8578500707,
                          0.4172107076
                        ]
                      },
                      {
                        "learn": [
                          0.4157273308
                        ],
                        "iteration": 699,
                        "passed_time": 2.205882884,
                        "remaining_time": 13.55042343,
                        "test": [
                          0.8577270771,
                          0.4170973163
                        ]
                      },
                      {
                        "learn": [
                          0.4156951174
                        ],
                        "iteration": 700,
                        "passed_time": 2.208282408,
                        "remaining_time": 13.54266201,
                        "test": [
                          0.8577270771,
                          0.4171044821
                        ]
                      },
                      {
                        "learn": [
                          0.4155532778
                        ],
                        "iteration": 701,
                        "passed_time": 2.210717938,
                        "remaining_time": 13.53513632,
                        "test": [
                          0.8576655802,
                          0.4170926027
                        ]
                      },
                      {
                        "learn": [
                          0.4154674211
                        ],
                        "iteration": 702,
                        "passed_time": 2.213007099,
                        "remaining_time": 13.52673045,
                        "test": [
                          0.8577270771,
                          0.4170275069
                        ]
                      },
                      {
                        "learn": [
                          0.4154288682
                        ],
                        "iteration": 703,
                        "passed_time": 2.215378809,
                        "remaining_time": 13.51884569,
                        "test": [
                          0.8576655802,
                          0.4170809029
                        ]
                      },
                      {
                        "learn": [
                          0.4154273238
                        ],
                        "iteration": 704,
                        "passed_time": 2.217242885,
                        "remaining_time": 13.50788396,
                        "test": [
                          0.8576655802,
                          0.4170806457
                        ]
                      },
                      {
                        "learn": [
                          0.4153930767
                        ],
                        "iteration": 705,
                        "passed_time": 2.219481256,
                        "remaining_time": 13.49922452,
                        "test": [
                          0.8577270771,
                          0.417080353
                        ]
                      },
                      {
                        "learn": [
                          0.4152768779
                        ],
                        "iteration": 706,
                        "passed_time": 2.222933156,
                        "remaining_time": 13.49795196,
                        "test": [
                          0.8577270771,
                          0.4170095642
                        ]
                      },
                      {
                        "learn": [
                          0.4152288061
                        ],
                        "iteration": 707,
                        "passed_time": 2.225546214,
                        "remaining_time": 13.49158806,
                        "test": [
                          0.8577270771,
                          0.4170552297
                        ]
                      },
                      {
                        "learn": [
                          0.415115271
                        ],
                        "iteration": 708,
                        "passed_time": 2.228481016,
                        "remaining_time": 13.487182,
                        "test": [
                          0.8579115676,
                          0.4171177947
                        ]
                      },
                      {
                        "learn": [
                          0.4150645314
                        ],
                        "iteration": 709,
                        "passed_time": 2.230920737,
                        "remaining_time": 13.47978868,
                        "test": [
                          0.8580960581,
                          0.4170673852
                        ]
                      },
                      {
                        "learn": [
                          0.4150509974
                        ],
                        "iteration": 710,
                        "passed_time": 2.233122946,
                        "remaining_time": 13.47097653,
                        "test": [
                          0.8580345612,
                          0.4170612411
                        ]
                      },
                      {
                        "learn": [
                          0.4149828259
                        ],
                        "iteration": 711,
                        "passed_time": 2.235465572,
                        "remaining_time": 13.46302861,
                        "test": [
                          0.8579730644,
                          0.4170823291
                        ]
                      },
                      {
                        "learn": [
                          0.4149738702
                        ],
                        "iteration": 712,
                        "passed_time": 2.237667712,
                        "remaining_time": 13.45425173,
                        "test": [
                          0.8579730644,
                          0.4170445163
                        ]
                      },
                      {
                        "learn": [
                          0.4149284881
                        ],
                        "iteration": 713,
                        "passed_time": 2.239969135,
                        "remaining_time": 13.44608923,
                        "test": [
                          0.8584650391,
                          0.4169657854
                        ]
                      },
                      {
                        "learn": [
                          0.4147881708
                        ],
                        "iteration": 714,
                        "passed_time": 2.24261152,
                        "remaining_time": 13.43998652,
                        "test": [
                          0.8583420454,
                          0.4169600317
                        ]
                      },
                      {
                        "learn": [
                          0.4147141747
                        ],
                        "iteration": 715,
                        "passed_time": 2.245192977,
                        "remaining_time": 13.43352893,
                        "test": [
                          0.8582190517,
                          0.4169776908
                        ]
                      },
                      {
                        "learn": [
                          0.4146422906
                        ],
                        "iteration": 716,
                        "passed_time": 2.247706888,
                        "remaining_time": 13.42667866,
                        "test": [
                          0.8582190517,
                          0.4169508324
                        ]
                      },
                      {
                        "learn": [
                          0.4145603732
                        ],
                        "iteration": 717,
                        "passed_time": 2.250235565,
                        "remaining_time": 13.41992854,
                        "test": [
                          0.8584035422,
                          0.4169762159
                        ]
                      },
                      {
                        "learn": [
                          0.4145341496
                        ],
                        "iteration": 718,
                        "passed_time": 2.253896032,
                        "remaining_time": 13.41992895,
                        "test": [
                          0.8582190517,
                          0.4169196118
                        ]
                      },
                      {
                        "learn": [
                          0.4144339979
                        ],
                        "iteration": 719,
                        "passed_time": 2.258090398,
                        "remaining_time": 13.42309292,
                        "test": [
                          0.8582805486,
                          0.4168973919
                        ]
                      },
                      {
                        "learn": [
                          0.4143687126
                        ],
                        "iteration": 720,
                        "passed_time": 2.262887644,
                        "remaining_time": 13.42981446,
                        "test": [
                          0.8581575549,
                          0.41688066
                        ]
                      },
                      {
                        "learn": [
                          0.4143037899
                        ],
                        "iteration": 721,
                        "passed_time": 2.268589066,
                        "remaining_time": 13.44186153,
                        "test": [
                          0.8582805486,
                          0.4167850714
                        ]
                      },
                      {
                        "learn": [
                          0.4142561877
                        ],
                        "iteration": 722,
                        "passed_time": 2.272074038,
                        "remaining_time": 13.4407478,
                        "test": [
                          0.8581575549,
                          0.4168230049
                        ]
                      },
                      {
                        "learn": [
                          0.4141676461
                        ],
                        "iteration": 723,
                        "passed_time": 2.274891162,
                        "remaining_time": 13.43568316,
                        "test": [
                          0.8582805486,
                          0.4167968623
                        ]
                      },
                      {
                        "learn": [
                          0.4141122195
                        ],
                        "iteration": 724,
                        "passed_time": 2.27747885,
                        "remaining_time": 13.42927184,
                        "test": [
                          0.8582805486,
                          0.4168071096
                        ]
                      },
                      {
                        "learn": [
                          0.414032092
                        ],
                        "iteration": 725,
                        "passed_time": 2.279846766,
                        "remaining_time": 13.42157724,
                        "test": [
                          0.8584650391,
                          0.4167619986
                        ]
                      },
                      {
                        "learn": [
                          0.4139181397
                        ],
                        "iteration": 726,
                        "passed_time": 2.282461678,
                        "remaining_time": 13.41534903,
                        "test": [
                          0.8587110264,
                          0.416568219
                        ]
                      },
                      {
                        "learn": [
                          0.413870926
                        ],
                        "iteration": 727,
                        "passed_time": 2.285262577,
                        "remaining_time": 13.41022216,
                        "test": [
                          0.8587725232,
                          0.4165644172
                        ]
                      },
                      {
                        "learn": [
                          0.4138123989
                        ],
                        "iteration": 728,
                        "passed_time": 2.290050143,
                        "remaining_time": 13.41674096,
                        "test": [
                          0.8590185105,
                          0.416470653
                        ]
                      },
                      {
                        "learn": [
                          0.413782624
                        ],
                        "iteration": 729,
                        "passed_time": 2.292620266,
                        "remaining_time": 13.41025827,
                        "test": [
                          0.8589570137,
                          0.4164937953
                        ]
                      },
                      {
                        "learn": [
                          0.4137667758
                        ],
                        "iteration": 730,
                        "passed_time": 2.295145491,
                        "remaining_time": 13.40352408,
                        "test": [
                          0.8590185105,
                          0.4165375557
                        ]
                      },
                      {
                        "learn": [
                          0.4136825705
                        ],
                        "iteration": 731,
                        "passed_time": 2.297473353,
                        "remaining_time": 13.39565064,
                        "test": [
                          0.8590800074,
                          0.4165741484
                        ]
                      },
                      {
                        "learn": [
                          0.4136049906
                        ],
                        "iteration": 732,
                        "passed_time": 2.29987595,
                        "remaining_time": 13.38822739,
                        "test": [
                          0.8591415042,
                          0.4166291328
                        ]
                      },
                      {
                        "learn": [
                          0.4135957515
                        ],
                        "iteration": 733,
                        "passed_time": 2.302283399,
                        "remaining_time": 13.38084602,
                        "test": [
                          0.8591415042,
                          0.4166178238
                        ]
                      },
                      {
                        "learn": [
                          0.413523744
                        ],
                        "iteration": 734,
                        "passed_time": 2.304844818,
                        "remaining_time": 13.37437163,
                        "test": [
                          0.8591415042,
                          0.4167201208
                        ]
                      },
                      {
                        "learn": [
                          0.4135081918
                        ],
                        "iteration": 735,
                        "passed_time": 2.307041944,
                        "remaining_time": 13.36579735,
                        "test": [
                          0.8591415042,
                          0.4167091853
                        ]
                      },
                      {
                        "learn": [
                          0.4134499474
                        ],
                        "iteration": 736,
                        "passed_time": 2.309552519,
                        "remaining_time": 13.35905344,
                        "test": [
                          0.8592644979,
                          0.4167885688
                        ]
                      },
                      {
                        "learn": [
                          0.4134226987
                        ],
                        "iteration": 737,
                        "passed_time": 2.311725191,
                        "remaining_time": 13.3503696,
                        "test": [
                          0.8594489884,
                          0.4167731338
                        ]
                      },
                      {
                        "learn": [
                          0.413356671
                        ],
                        "iteration": 738,
                        "passed_time": 2.314122644,
                        "remaining_time": 13.34299944,
                        "test": [
                          0.8594489884,
                          0.4167701472
                        ]
                      },
                      {
                        "learn": [
                          0.4133192569
                        ],
                        "iteration": 739,
                        "passed_time": 2.316448679,
                        "remaining_time": 13.33523158,
                        "test": [
                          0.8594489884,
                          0.416768674
                        ]
                      },
                      {
                        "learn": [
                          0.4131865173
                        ],
                        "iteration": 740,
                        "passed_time": 2.318852805,
                        "remaining_time": 13.32792726,
                        "test": [
                          0.8589570137,
                          0.4168339248
                        ]
                      },
                      {
                        "learn": [
                          0.4131689022
                        ],
                        "iteration": 741,
                        "passed_time": 2.32106094,
                        "remaining_time": 13.31951143,
                        "test": [
                          0.8589570137,
                          0.4168155959
                        ]
                      },
                      {
                        "learn": [
                          0.4131440392
                        ],
                        "iteration": 742,
                        "passed_time": 2.323343019,
                        "remaining_time": 13.31153598,
                        "test": [
                          0.8589570137,
                          0.4168028085
                        ]
                      },
                      {
                        "learn": [
                          0.4130325886
                        ],
                        "iteration": 743,
                        "passed_time": 2.325701199,
                        "remaining_time": 13.30401116,
                        "test": [
                          0.8591107558,
                          0.4168342523
                        ]
                      },
                      {
                        "learn": [
                          0.4130279763
                        ],
                        "iteration": 744,
                        "passed_time": 2.327969401,
                        "remaining_time": 13.29598631,
                        "test": [
                          0.8591107558,
                          0.4168298852
                        ]
                      },
                      {
                        "learn": [
                          0.4129953041
                        ],
                        "iteration": 745,
                        "passed_time": 2.330377297,
                        "remaining_time": 13.28877349,
                        "test": [
                          0.8591107558,
                          0.4168300436
                        ]
                      },
                      {
                        "learn": [
                          0.4128714989
                        ],
                        "iteration": 746,
                        "passed_time": 2.332726472,
                        "remaining_time": 13.2812392,
                        "test": [
                          0.8591107558,
                          0.4167614681
                        ]
                      },
                      {
                        "learn": [
                          0.4128626508
                        ],
                        "iteration": 747,
                        "passed_time": 2.335150534,
                        "remaining_time": 13.27414448,
                        "test": [
                          0.8591107558,
                          0.4167636841
                        ]
                      },
                      {
                        "learn": [
                          0.4128288386
                        ],
                        "iteration": 748,
                        "passed_time": 2.337358518,
                        "remaining_time": 13.26583586,
                        "test": [
                          0.859049259,
                          0.4167039813
                        ]
                      },
                      {
                        "learn": [
                          0.4127669499
                        ],
                        "iteration": 749,
                        "passed_time": 2.339520184,
                        "remaining_time": 13.25728104,
                        "test": [
                          0.859049259,
                          0.416756508
                        ]
                      },
                      {
                        "learn": [
                          0.4126969327
                        ],
                        "iteration": 750,
                        "passed_time": 2.341814644,
                        "remaining_time": 13.24949457,
                        "test": [
                          0.8593567431,
                          0.4167297534
                        ]
                      },
                      {
                        "learn": [
                          0.4126783557
                        ],
                        "iteration": 751,
                        "passed_time": 2.344144192,
                        "remaining_time": 13.24192092,
                        "test": [
                          0.8592337495,
                          0.4167187297
                        ]
                      },
                      {
                        "learn": [
                          0.4124451071
                        ],
                        "iteration": 752,
                        "passed_time": 2.346618252,
                        "remaining_time": 13.23517625,
                        "test": [
                          0.8599102146,
                          0.4166692058
                        ]
                      },
                      {
                        "learn": [
                          0.412388059
                        ],
                        "iteration": 753,
                        "passed_time": 2.34921177,
                        "remaining_time": 13.22911562,
                        "test": [
                          0.8599717115,
                          0.4166577489
                        ]
                      },
                      {
                        "learn": [
                          0.4123717331
                        ],
                        "iteration": 754,
                        "passed_time": 2.351368886,
                        "remaining_time": 13.22061049,
                        "test": [
                          0.8599102146,
                          0.4166410831
                        ]
                      },
                      {
                        "learn": [
                          0.4123584989
                        ],
                        "iteration": 755,
                        "passed_time": 2.353540478,
                        "remaining_time": 13.21220342,
                        "test": [
                          0.8599102146,
                          0.4166357059
                        ]
                      },
                      {
                        "learn": [
                          0.4122843008
                        ],
                        "iteration": 756,
                        "passed_time": 2.3560836,
                        "remaining_time": 13.20589527,
                        "test": [
                          0.8600332083,
                          0.4167020346
                        ]
                      },
                      {
                        "learn": [
                          0.412218184
                        ],
                        "iteration": 757,
                        "passed_time": 2.358373189,
                        "remaining_time": 13.19817819,
                        "test": [
                          0.860156202,
                          0.4167202734
                        ]
                      },
                      {
                        "learn": [
                          0.4121771595
                        ],
                        "iteration": 758,
                        "passed_time": 2.360942082,
                        "remaining_time": 13.19203606,
                        "test": [
                          0.8600947051,
                          0.4167677818
                        ]
                      },
                      {
                        "learn": [
                          0.4121530519
                        ],
                        "iteration": 759,
                        "passed_time": 2.363418305,
                        "remaining_time": 13.18538633,
                        "test": [
                          0.860156202,
                          0.4167558313
                        ]
                      },
                      {
                        "learn": [
                          0.4120770445
                        ],
                        "iteration": 760,
                        "passed_time": 2.365919139,
                        "remaining_time": 13.17888467,
                        "test": [
                          0.8602791956,
                          0.4168469885
                        ]
                      },
                      {
                        "learn": [
                          0.4119931483
                        ],
                        "iteration": 761,
                        "passed_time": 2.368224835,
                        "remaining_time": 13.1713082,
                        "test": [
                          0.8602176988,
                          0.4169593517
                        ]
                      },
                      {
                        "learn": [
                          0.4119051724
                        ],
                        "iteration": 762,
                        "passed_time": 2.370856947,
                        "remaining_time": 13.16555817,
                        "test": [
                          0.8602791956,
                          0.4169443168
                        ]
                      },
                      {
                        "learn": [
                          0.411856965
                        ],
                        "iteration": 763,
                        "passed_time": 2.373559744,
                        "remaining_time": 13.16020821,
                        "test": [
                          0.8600332083,
                          0.4170136963
                        ]
                      },
                      {
                        "learn": [
                          0.4118315261
                        ],
                        "iteration": 764,
                        "passed_time": 2.375987613,
                        "remaining_time": 13.15334319,
                        "test": [
                          0.8600332083,
                          0.4170183444
                        ]
                      },
                      {
                        "learn": [
                          0.4117709631
                        ],
                        "iteration": 765,
                        "passed_time": 2.378420121,
                        "remaining_time": 13.14651539,
                        "test": [
                          0.8600947051,
                          0.417015553
                        ]
                      },
                      {
                        "learn": [
                          0.4116566519
                        ],
                        "iteration": 766,
                        "passed_time": 2.380931654,
                        "remaining_time": 13.14013519,
                        "test": [
                          0.8600947051,
                          0.4171066475
                        ]
                      },
                      {
                        "learn": [
                          0.4115584222
                        ],
                        "iteration": 767,
                        "passed_time": 2.383673237,
                        "remaining_time": 13.13503274,
                        "test": [
                          0.8600332083,
                          0.4171225177
                        ]
                      },
                      {
                        "learn": [
                          0.4115448655
                        ],
                        "iteration": 768,
                        "passed_time": 2.386037323,
                        "remaining_time": 13.12785945,
                        "test": [
                          0.8599717115,
                          0.4171335894
                        ]
                      },
                      {
                        "learn": [
                          0.4114931139
                        ],
                        "iteration": 769,
                        "passed_time": 2.388685619,
                        "remaining_time": 13.12225996,
                        "test": [
                          0.8599717115,
                          0.4171125108
                        ]
                      },
                      {
                        "learn": [
                          0.4114814835
                        ],
                        "iteration": 770,
                        "passed_time": 2.390994054,
                        "remaining_time": 13.11480396,
                        "test": [
                          0.8600947051,
                          0.4171285628
                        ]
                      },
                      {
                        "learn": [
                          0.4114494169
                        ],
                        "iteration": 771,
                        "passed_time": 2.393221231,
                        "remaining_time": 13.10691628,
                        "test": [
                          0.860156202,
                          0.4171281047
                        ]
                      },
                      {
                        "learn": [
                          0.4114102394
                        ],
                        "iteration": 772,
                        "passed_time": 2.395827014,
                        "remaining_time": 13.10111357,
                        "test": [
                          0.860156202,
                          0.4171155006
                        ]
                      },
                      {
                        "learn": [
                          0.4113731134
                        ],
                        "iteration": 773,
                        "passed_time": 2.398131367,
                        "remaining_time": 13.09367333,
                        "test": [
                          0.8602176988,
                          0.4171183829
                        ]
                      },
                      {
                        "learn": [
                          0.4113174502
                        ],
                        "iteration": 774,
                        "passed_time": 2.40062743,
                        "remaining_time": 13.08729147,
                        "test": [
                          0.8599717115,
                          0.4170677495
                        ]
                      },
                      {
                        "learn": [
                          0.4112955335
                        ],
                        "iteration": 775,
                        "passed_time": 2.405729248,
                        "remaining_time": 13.09510353,
                        "test": [
                          0.8599717115,
                          0.4170654587
                        ]
                      },
                      {
                        "learn": [
                          0.4112893452
                        ],
                        "iteration": 776,
                        "passed_time": 2.410115482,
                        "remaining_time": 13.09899315,
                        "test": [
                          0.8599717115,
                          0.417064542
                        ]
                      },
                      {
                        "learn": [
                          0.4112158018
                        ],
                        "iteration": 777,
                        "passed_time": 2.412783781,
                        "remaining_time": 13.09353872,
                        "test": [
                          0.8599102146,
                          0.4170984186
                        ]
                      },
                      {
                        "learn": [
                          0.4111624354
                        ],
                        "iteration": 778,
                        "passed_time": 2.415539555,
                        "remaining_time": 13.08856542,
                        "test": [
                          0.8599102146,
                          0.4170322472
                        ]
                      },
                      {
                        "learn": [
                          0.4110936572
                        ],
                        "iteration": 779,
                        "passed_time": 2.4181518,
                        "remaining_time": 13.08282127,
                        "test": [
                          0.8599717115,
                          0.4170298006
                        ]
                      },
                      {
                        "learn": [
                          0.4110441154
                        ],
                        "iteration": 780,
                        "passed_time": 2.420551825,
                        "remaining_time": 13.07593873,
                        "test": [
                          0.8599102146,
                          0.4170206883
                        ]
                      },
                      {
                        "learn": [
                          0.4110047538
                        ],
                        "iteration": 781,
                        "passed_time": 2.425410708,
                        "remaining_time": 13.08233039,
                        "test": [
                          0.8596642273,
                          0.4170911094
                        ]
                      },
                      {
                        "learn": [
                          0.4109004279
                        ],
                        "iteration": 782,
                        "passed_time": 2.428117403,
                        "remaining_time": 13.07710228,
                        "test": [
                          0.8595412336,
                          0.4171694094
                        ]
                      },
                      {
                        "learn": [
                          0.4108519421
                        ],
                        "iteration": 783,
                        "passed_time": 2.431827472,
                        "remaining_time": 13.07727631,
                        "test": [
                          0.8595412336,
                          0.417193544
                        ]
                      },
                      {
                        "learn": [
                          0.4108238318
                        ],
                        "iteration": 784,
                        "passed_time": 2.435015983,
                        "remaining_time": 13.07463996,
                        "test": [
                          0.8595412336,
                          0.4171869938
                        ]
                      },
                      {
                        "learn": [
                          0.4107932747
                        ],
                        "iteration": 785,
                        "passed_time": 2.437850523,
                        "remaining_time": 13.07010446,
                        "test": [
                          0.8595412336,
                          0.4172048839
                        ]
                      },
                      {
                        "learn": [
                          0.4107399649
                        ],
                        "iteration": 786,
                        "passed_time": 2.440769524,
                        "remaining_time": 13.06602542,
                        "test": [
                          0.8595412336,
                          0.4172009264
                        ]
                      },
                      {
                        "learn": [
                          0.41066069
                        ],
                        "iteration": 787,
                        "passed_time": 2.444039731,
                        "remaining_time": 13.06382658,
                        "test": [
                          0.8595412336,
                          0.4173038169
                        ]
                      },
                      {
                        "learn": [
                          0.4106417167
                        ],
                        "iteration": 788,
                        "passed_time": 2.446877079,
                        "remaining_time": 13.0593148,
                        "test": [
                          0.8595412336,
                          0.4172975435
                        ]
                      },
                      {
                        "learn": [
                          0.4106266572
                        ],
                        "iteration": 789,
                        "passed_time": 2.449564778,
                        "remaining_time": 13.05400976,
                        "test": [
                          0.8596027305,
                          0.4172816685
                        ]
                      },
                      {
                        "learn": [
                          0.4106207251
                        ],
                        "iteration": 790,
                        "passed_time": 2.4518437,
                        "remaining_time": 13.0465362,
                        "test": [
                          0.8596027305,
                          0.4172912548
                        ]
                      },
                      {
                        "learn": [
                          0.4106016121
                        ],
                        "iteration": 791,
                        "passed_time": 2.45437174,
                        "remaining_time": 13.04039934,
                        "test": [
                          0.8596027305,
                          0.4172468769
                        ]
                      },
                      {
                        "learn": [
                          0.4105764928
                        ],
                        "iteration": 792,
                        "passed_time": 2.457148497,
                        "remaining_time": 13.03559108,
                        "test": [
                          0.8597257241,
                          0.4172403822
                        ]
                      },
                      {
                        "learn": [
                          0.4105497925
                        ],
                        "iteration": 793,
                        "passed_time": 2.459419514,
                        "remaining_time": 13.02810891,
                        "test": [
                          0.859787221,
                          0.4172177988
                        ]
                      },
                      {
                        "learn": [
                          0.4104709336
                        ],
                        "iteration": 794,
                        "passed_time": 2.462202035,
                        "remaining_time": 13.02334536,
                        "test": [
                          0.8597257241,
                          0.4171971034
                        ]
                      },
                      {
                        "learn": [
                          0.4104345407
                        ],
                        "iteration": 795,
                        "passed_time": 2.466044933,
                        "remaining_time": 13.02418706,
                        "test": [
                          0.8597257241,
                          0.4172308143
                        ]
                      },
                      {
                        "learn": [
                          0.4104168163
                        ],
                        "iteration": 796,
                        "passed_time": 2.46841841,
                        "remaining_time": 13.01726798,
                        "test": [
                          0.8598487178,
                          0.4172361757
                        ]
                      },
                      {
                        "learn": [
                          0.4102902866
                        ],
                        "iteration": 797,
                        "passed_time": 2.470734958,
                        "remaining_time": 13.01006052,
                        "test": [
                          0.8597257241,
                          0.4173143278
                        ]
                      },
                      {
                        "learn": [
                          0.4102556659
                        ],
                        "iteration": 798,
                        "passed_time": 2.473364177,
                        "remaining_time": 13.00450927,
                        "test": [
                          0.8597257241,
                          0.417333946
                        ]
                      },
                      {
                        "learn": [
                          0.4102290617
                        ],
                        "iteration": 799,
                        "passed_time": 2.475650831,
                        "remaining_time": 12.99716686,
                        "test": [
                          0.8594797368,
                          0.4173902866
                        ]
                      },
                      {
                        "learn": [
                          0.410182532
                        ],
                        "iteration": 800,
                        "passed_time": 2.477923851,
                        "remaining_time": 12.98976561,
                        "test": [
                          0.8592952463,
                          0.4174360174
                        ]
                      },
                      {
                        "learn": [
                          0.4101598447
                        ],
                        "iteration": 801,
                        "passed_time": 2.480869885,
                        "remaining_time": 12.98589997,
                        "test": [
                          0.8592952463,
                          0.4174324051
                        ]
                      },
                      {
                        "learn": [
                          0.4101492787
                        ],
                        "iteration": 802,
                        "passed_time": 2.483033451,
                        "remaining_time": 12.97794694,
                        "test": [
                          0.8592952463,
                          0.4174283563
                        ]
                      },
                      {
                        "learn": [
                          0.4100839166
                        ],
                        "iteration": 803,
                        "passed_time": 2.485162286,
                        "remaining_time": 12.96982706,
                        "test": [
                          0.8592952463,
                          0.4174418745
                        ]
                      },
                      {
                        "learn": [
                          0.4100749984
                        ],
                        "iteration": 804,
                        "passed_time": 2.4873676,
                        "remaining_time": 12.9621206,
                        "test": [
                          0.8593567431,
                          0.4174332366
                        ]
                      },
                      {
                        "learn": [
                          0.4100447142
                        ],
                        "iteration": 805,
                        "passed_time": 2.489555816,
                        "remaining_time": 12.95433883,
                        "test": [
                          0.8592952463,
                          0.4174211413
                        ]
                      },
                      {
                        "learn": [
                          0.4100056003
                        ],
                        "iteration": 806,
                        "passed_time": 2.491718905,
                        "remaining_time": 12.94644036,
                        "test": [
                          0.8594797368,
                          0.4173964757
                        ]
                      },
                      {
                        "learn": [
                          0.4099912259
                        ],
                        "iteration": 807,
                        "passed_time": 2.493924962,
                        "remaining_time": 12.93877901,
                        "test": [
                          0.8594797368,
                          0.4173994882
                        ]
                      },
                      {
                        "learn": [
                          0.4098786643
                        ],
                        "iteration": 808,
                        "passed_time": 2.496219036,
                        "remaining_time": 12.93158712,
                        "test": [
                          0.8595412336,
                          0.4173177788
                        ]
                      },
                      {
                        "learn": [
                          0.4098252973
                        ],
                        "iteration": 809,
                        "passed_time": 2.49882411,
                        "remaining_time": 12.92601607,
                        "test": [
                          0.859787221,
                          0.4172543413
                        ]
                      },
                      {
                        "learn": [
                          0.4097878522
                        ],
                        "iteration": 810,
                        "passed_time": 2.502500748,
                        "remaining_time": 12.92598722,
                        "test": [
                          0.859787221,
                          0.4172644732
                        ]
                      },
                      {
                        "learn": [
                          0.4097679936
                        ],
                        "iteration": 811,
                        "passed_time": 2.504866994,
                        "remaining_time": 12.91919085,
                        "test": [
                          0.859787221,
                          0.4172598667
                        ]
                      },
                      {
                        "learn": [
                          0.4096921859
                        ],
                        "iteration": 812,
                        "passed_time": 2.507324571,
                        "remaining_time": 12.91287574,
                        "test": [
                          0.859787221,
                          0.4171877614
                        ]
                      },
                      {
                        "learn": [
                          0.4095113993
                        ],
                        "iteration": 813,
                        "passed_time": 2.510368469,
                        "remaining_time": 12.90958527,
                        "test": [
                          0.8599717115,
                          0.4171160138
                        ]
                      },
                      {
                        "learn": [
                          0.4094378698
                        ],
                        "iteration": 814,
                        "passed_time": 2.512970513,
                        "remaining_time": 12.9040265,
                        "test": [
                          0.8599717115,
                          0.4171481418
                        ]
                      },
                      {
                        "learn": [
                          0.409276891
                        ],
                        "iteration": 815,
                        "passed_time": 2.515653827,
                        "remaining_time": 12.89889168,
                        "test": [
                          0.8599717115,
                          0.4172096143
                        ]
                      },
                      {
                        "learn": [
                          0.4092685202
                        ],
                        "iteration": 816,
                        "passed_time": 2.518215084,
                        "remaining_time": 12.89313794,
                        "test": [
                          0.8599717115,
                          0.4172057582
                        ]
                      },
                      {
                        "learn": [
                          0.409170398
                        ],
                        "iteration": 817,
                        "passed_time": 2.520662971,
                        "remaining_time": 12.8868124,
                        "test": [
                          0.8599102146,
                          0.4171917679
                        ]
                      },
                      {
                        "learn": [
                          0.4091467188
                        ],
                        "iteration": 818,
                        "passed_time": 2.523188839,
                        "remaining_time": 12.88089443,
                        "test": [
                          0.8599102146,
                          0.4171780224
                        ]
                      },
                      {
                        "learn": [
                          0.4091084616
                        ],
                        "iteration": 819,
                        "passed_time": 2.525747361,
                        "remaining_time": 12.87515118,
                        "test": [
                          0.8597257241,
                          0.4171151477
                        ]
                      },
                      {
                        "learn": [
                          0.4091057531
                        ],
                        "iteration": 820,
                        "passed_time": 2.528090153,
                        "remaining_time": 12.8683176,
                        "test": [
                          0.8597257241,
                          0.4171147727
                        ]
                      },
                      {
                        "learn": [
                          0.4090557559
                        ],
                        "iteration": 821,
                        "passed_time": 2.530539604,
                        "remaining_time": 12.86203706,
                        "test": [
                          0.8596642273,
                          0.4171468266
                        ]
                      },
                      {
                        "learn": [
                          0.4090408793
                        ],
                        "iteration": 822,
                        "passed_time": 2.532806198,
                        "remaining_time": 12.85483777,
                        "test": [
                          0.8596642273,
                          0.4171448293
                        ]
                      },
                      {
                        "learn": [
                          0.409000046
                        ],
                        "iteration": 823,
                        "passed_time": 2.535197179,
                        "remaining_time": 12.84828085,
                        "test": [
                          0.8599102146,
                          0.4171408542
                        ]
                      },
                      {
                        "learn": [
                          0.4089524991
                        ],
                        "iteration": 824,
                        "passed_time": 2.53742904,
                        "remaining_time": 12.84092878,
                        "test": [
                          0.8599717115,
                          0.4171318812
                        ]
                      },
                      {
                        "learn": [
                          0.4089134522
                        ],
                        "iteration": 825,
                        "passed_time": 2.539850381,
                        "remaining_time": 12.8345466,
                        "test": [
                          0.8600332083,
                          0.4171010497
                        ]
                      },
                      {
                        "learn": [
                          0.4087917755
                        ],
                        "iteration": 826,
                        "passed_time": 2.542482517,
                        "remaining_time": 12.82923766,
                        "test": [
                          0.8596642273,
                          0.4171786
                        ]
                      },
                      {
                        "learn": [
                          0.4086724645
                        ],
                        "iteration": 827,
                        "passed_time": 2.544983611,
                        "remaining_time": 12.82327491,
                        "test": [
                          0.8597257241,
                          0.4172562566
                        ]
                      },
                      {
                        "learn": [
                          0.4085185258
                        ],
                        "iteration": 828,
                        "passed_time": 2.547448586,
                        "remaining_time": 12.81713878,
                        "test": [
                          0.8597257241,
                          0.4173176622
                        ]
                      },
                      {
                        "learn": [
                          0.4084898374
                        ],
                        "iteration": 829,
                        "passed_time": 2.549965131,
                        "remaining_time": 12.8112706,
                        "test": [
                          0.8596642273,
                          0.4172342736
                        ]
                      },
                      {
                        "learn": [
                          0.4084709977
                        ],
                        "iteration": 830,
                        "passed_time": 2.552395088,
                        "remaining_time": 12.80497608,
                        "test": [
                          0.8597257241,
                          0.4172221211
                        ]
                      },
                      {
                        "learn": [
                          0.4084216815
                        ],
                        "iteration": 831,
                        "passed_time": 2.554717058,
                        "remaining_time": 12.79814988,
                        "test": [
                          0.8599102146,
                          0.417217379
                        ]
                      },
                      {
                        "learn": [
                          0.4083543677
                        ],
                        "iteration": 832,
                        "passed_time": 2.556975824,
                        "remaining_time": 12.79101832,
                        "test": [
                          0.8599717115,
                          0.417171041
                        ]
                      },
                      {
                        "learn": [
                          0.4083010671
                        ],
                        "iteration": 833,
                        "passed_time": 2.559315794,
                        "remaining_time": 12.78430407,
                        "test": [
                          0.8599102146,
                          0.4172277504
                        ]
                      },
                      {
                        "learn": [
                          0.4082501975
                        ],
                        "iteration": 834,
                        "passed_time": 2.561691873,
                        "remaining_time": 12.77778042,
                        "test": [
                          0.8594797368,
                          0.417327767
                        ]
                      },
                      {
                        "learn": [
                          0.4082258074
                        ],
                        "iteration": 835,
                        "passed_time": 2.564076296,
                        "remaining_time": 12.77130825,
                        "test": [
                          0.8592337495,
                          0.4173575909
                        ]
                      },
                      {
                        "learn": [
                          0.4082100082
                        ],
                        "iteration": 836,
                        "passed_time": 2.566275302,
                        "remaining_time": 12.76392364,
                        "test": [
                          0.8592337495,
                          0.4173610467
                        ]
                      },
                      {
                        "learn": [
                          0.4081881456
                        ],
                        "iteration": 837,
                        "passed_time": 2.568486248,
                        "remaining_time": 12.7566107,
                        "test": [
                          0.8593567431,
                          0.4173261994
                        ]
                      },
                      {
                        "learn": [
                          0.408172878
                        ],
                        "iteration": 838,
                        "passed_time": 2.570909839,
                        "remaining_time": 12.75036453,
                        "test": [
                          0.8593567431,
                          0.4173241821
                        ]
                      },
                      {
                        "learn": [
                          0.4080887785
                        ],
                        "iteration": 839,
                        "passed_time": 2.573116897,
                        "remaining_time": 12.74305511,
                        "test": [
                          0.8592337495,
                          0.4173161357
                        ]
                      },
                      {
                        "learn": [
                          0.4080687239
                        ],
                        "iteration": 840,
                        "passed_time": 2.575327213,
                        "remaining_time": 12.73577393,
                        "test": [
                          0.8593567431,
                          0.4172980121
                        ]
                      },
                      {
                        "learn": [
                          0.4080538841
                        ],
                        "iteration": 841,
                        "passed_time": 2.577599868,
                        "remaining_time": 12.72881265,
                        "test": [
                          0.8592952463,
                          0.4172694505
                        ]
                      },
                      {
                        "learn": [
                          0.4079845751
                        ],
                        "iteration": 842,
                        "passed_time": 2.580059392,
                        "remaining_time": 12.72278398,
                        "test": [
                          0.8597257241,
                          0.4172677464
                        ]
                      },
                      {
                        "learn": [
                          0.4079502972
                        ],
                        "iteration": 843,
                        "passed_time": 2.582480829,
                        "remaining_time": 12.71657622,
                        "test": [
                          0.8598487178,
                          0.4172604836
                        ]
                      },
                      {
                        "learn": [
                          0.4079261711
                        ],
                        "iteration": 844,
                        "passed_time": 2.584681451,
                        "remaining_time": 12.70929163,
                        "test": [
                          0.859787221,
                          0.4172480786
                        ]
                      },
                      {
                        "learn": [
                          0.4078985883
                        ],
                        "iteration": 845,
                        "passed_time": 2.587190307,
                        "remaining_time": 12.70353255,
                        "test": [
                          0.8599102146,
                          0.4172533813
                        ]
                      },
                      {
                        "learn": [
                          0.4078258245
                        ],
                        "iteration": 846,
                        "passed_time": 2.589579939,
                        "remaining_time": 12.69719656,
                        "test": [
                          0.859787221,
                          0.4173123629
                        ]
                      },
                      {
                        "learn": [
                          0.4077827486
                        ],
                        "iteration": 847,
                        "passed_time": 2.592107902,
                        "remaining_time": 12.69154718,
                        "test": [
                          0.859787221,
                          0.4172856328
                        ]
                      },
                      {
                        "learn": [
                          0.4076885692
                        ],
                        "iteration": 848,
                        "passed_time": 2.594308518,
                        "remaining_time": 12.68430466,
                        "test": [
                          0.8596642273,
                          0.417248908
                        ]
                      },
                      {
                        "learn": [
                          0.4076836851
                        ],
                        "iteration": 849,
                        "passed_time": 2.596639491,
                        "remaining_time": 12.67771045,
                        "test": [
                          0.8596027305,
                          0.4172573286
                        ]
                      },
                      {
                        "learn": [
                          0.4076716769
                        ],
                        "iteration": 850,
                        "passed_time": 2.598774878,
                        "remaining_time": 12.6701727,
                        "test": [
                          0.8596642273,
                          0.4172577825
                        ]
                      },
                      {
                        "learn": [
                          0.407566583
                        ],
                        "iteration": 851,
                        "passed_time": 2.601022448,
                        "remaining_time": 12.66319379,
                        "test": [
                          0.8596642273,
                          0.417181921
                        ]
                      },
                      {
                        "learn": [
                          0.4074834409
                        ],
                        "iteration": 852,
                        "passed_time": 2.6033157,
                        "remaining_time": 12.65644808,
                        "test": [
                          0.8596642273,
                          0.417183742
                        ]
                      },
                      {
                        "learn": [
                          0.4074380573
                        ],
                        "iteration": 853,
                        "passed_time": 2.605583823,
                        "remaining_time": 12.64959079,
                        "test": [
                          0.8597257241,
                          0.417175074
                        ]
                      },
                      {
                        "learn": [
                          0.4074098598
                        ],
                        "iteration": 854,
                        "passed_time": 2.607850335,
                        "remaining_time": 12.64273642,
                        "test": [
                          0.8598487178,
                          0.4171618533
                        ]
                      },
                      {
                        "learn": [
                          0.4073076582
                        ],
                        "iteration": 855,
                        "passed_time": 2.610236591,
                        "remaining_time": 12.63647247,
                        "test": [
                          0.8599717115,
                          0.4170875989
                        ]
                      },
                      {
                        "learn": [
                          0.4072399209
                        ],
                        "iteration": 856,
                        "passed_time": 2.612522275,
                        "remaining_time": 12.62973137,
                        "test": [
                          0.8599717115,
                          0.4171014333
                        ]
                      },
                      {
                        "learn": [
                          0.4072080222
                        ],
                        "iteration": 857,
                        "passed_time": 2.615075794,
                        "remaining_time": 12.62429363,
                        "test": [
                          0.8599102146,
                          0.4171136266
                        ]
                      },
                      {
                        "learn": [
                          0.4071473402
                        ],
                        "iteration": 858,
                        "passed_time": 2.617580077,
                        "remaining_time": 12.61862526,
                        "test": [
                          0.8600332083,
                          0.4170989986
                        ]
                      },
                      {
                        "learn": [
                          0.4071277434
                        ],
                        "iteration": 859,
                        "passed_time": 2.619986005,
                        "remaining_time": 12.61249077,
                        "test": [
                          0.8600332083,
                          0.4170990542
                        ]
                      },
                      {
                        "learn": [
                          0.4070864212
                        ],
                        "iteration": 860,
                        "passed_time": 2.622583525,
                        "remaining_time": 12.60728596,
                        "test": [
                          0.8599102146,
                          0.4171432861
                        ]
                      },
                      {
                        "learn": [
                          0.4070232716
                        ],
                        "iteration": 861,
                        "passed_time": 2.625119509,
                        "remaining_time": 12.6017918,
                        "test": [
                          0.8599102146,
                          0.4171328393
                        ]
                      },
                      {
                        "learn": [
                          0.406979944
                        ],
                        "iteration": 862,
                        "passed_time": 2.627635594,
                        "remaining_time": 12.5962091,
                        "test": [
                          0.8597257241,
                          0.4171626018
                        ]
                      },
                      {
                        "learn": [
                          0.4068827682
                        ],
                        "iteration": 863,
                        "passed_time": 2.630174953,
                        "remaining_time": 12.59074491,
                        "test": [
                          0.8598487178,
                          0.4170978028
                        ]
                      },
                      {
                        "learn": [
                          0.4067690405
                        ],
                        "iteration": 864,
                        "passed_time": 2.632781544,
                        "remaining_time": 12.58560888,
                        "test": [
                          0.8599717115,
                          0.4171741982
                        ]
                      },
                      {
                        "learn": [
                          0.4067510425
                        ],
                        "iteration": 865,
                        "passed_time": 2.635260425,
                        "remaining_time": 12.57986905,
                        "test": [
                          0.8599717115,
                          0.4171550014
                        ]
                      },
                      {
                        "learn": [
                          0.4066951599
                        ],
                        "iteration": 866,
                        "passed_time": 2.637618131,
                        "remaining_time": 12.5735591,
                        "test": [
                          0.8599717115,
                          0.4171721508
                        ]
                      },
                      {
                        "learn": [
                          0.4066169162
                        ],
                        "iteration": 867,
                        "passed_time": 2.640378775,
                        "remaining_time": 12.56917638,
                        "test": [
                          0.8599717115,
                          0.4171125734
                        ]
                      },
                      {
                        "learn": [
                          0.4065643009
                        ],
                        "iteration": 868,
                        "passed_time": 2.646015758,
                        "remaining_time": 12.57847076,
                        "test": [
                          0.8600947051,
                          0.4170107874
                        ]
                      },
                      {
                        "learn": [
                          0.4064889502
                        ],
                        "iteration": 869,
                        "passed_time": 2.648547466,
                        "remaining_time": 12.5729897,
                        "test": [
                          0.8600332083,
                          0.4169704006
                        ]
                      },
                      {
                        "learn": [
                          0.4064631213
                        ],
                        "iteration": 870,
                        "passed_time": 2.651992341,
                        "remaining_time": 12.57184429,
                        "test": [
                          0.8599717115,
                          0.4169641302
                        ]
                      },
                      {
                        "learn": [
                          0.4063769819
                        ],
                        "iteration": 871,
                        "passed_time": 2.654908884,
                        "remaining_time": 12.56819252,
                        "test": [
                          0.8600332083,
                          0.417008689
                        ]
                      },
                      {
                        "learn": [
                          0.4062655237
                        ],
                        "iteration": 872,
                        "passed_time": 2.657234455,
                        "remaining_time": 12.56174868,
                        "test": [
                          0.8599717115,
                          0.4170851043
                        ]
                      },
                      {
                        "learn": [
                          0.406192192
                        ],
                        "iteration": 873,
                        "passed_time": 2.660071311,
                        "remaining_time": 12.55772795,
                        "test": [
                          0.8599717115,
                          0.4170899486
                        ]
                      },
                      {
                        "learn": [
                          0.4061752893
                        ],
                        "iteration": 874,
                        "passed_time": 2.662494877,
                        "remaining_time": 12.55176156,
                        "test": [
                          0.8599717115,
                          0.4170821862
                        ]
                      },
                      {
                        "learn": [
                          0.4061127628
                        ],
                        "iteration": 875,
                        "passed_time": 2.66512977,
                        "remaining_time": 12.54679814,
                        "test": [
                          0.8600947051,
                          0.4170655769
                        ]
                      },
                      {
                        "learn": [
                          0.4061032003
                        ],
                        "iteration": 876,
                        "passed_time": 2.667416206,
                        "remaining_time": 12.54020184,
                        "test": [
                          0.8600332083,
                          0.4170910384
                        ]
                      },
                      {
                        "learn": [
                          0.4060822249
                        ],
                        "iteration": 877,
                        "passed_time": 2.669793939,
                        "remaining_time": 12.53404398,
                        "test": [
                          0.8599717115,
                          0.4170842982
                        ]
                      },
                      {
                        "learn": [
                          0.4060580909
                        ],
                        "iteration": 878,
                        "passed_time": 2.674753855,
                        "remaining_time": 12.54000072,
                        "test": [
                          0.8599717115,
                          0.4170619362
                        ]
                      },
                      {
                        "learn": [
                          0.4060443547
                        ],
                        "iteration": 879,
                        "passed_time": 2.677600398,
                        "remaining_time": 12.53603823,
                        "test": [
                          0.8599717115,
                          0.4170616265
                        ]
                      },
                      {
                        "learn": [
                          0.4060004084
                        ],
                        "iteration": 880,
                        "passed_time": 2.680297121,
                        "remaining_time": 12.5313778,
                        "test": [
                          0.8599717115,
                          0.4170657173
                        ]
                      },
                      {
                        "learn": [
                          0.4059699778
                        ],
                        "iteration": 881,
                        "passed_time": 2.682711871,
                        "remaining_time": 12.52540531,
                        "test": [
                          0.8599717115,
                          0.4170607805
                        ]
                      },
                      {
                        "learn": [
                          0.405937133
                        ],
                        "iteration": 882,
                        "passed_time": 2.684976412,
                        "remaining_time": 12.51874053,
                        "test": [
                          0.8599717115,
                          0.417142433
                        ]
                      },
                      {
                        "learn": [
                          0.405880445
                        ],
                        "iteration": 883,
                        "passed_time": 2.687574958,
                        "remaining_time": 12.51364087,
                        "test": [
                          0.859787221,
                          0.4172018076
                        ]
                      },
                      {
                        "learn": [
                          0.4058065522
                        ],
                        "iteration": 884,
                        "passed_time": 2.690146834,
                        "remaining_time": 12.50842285,
                        "test": [
                          0.859787221,
                          0.4172048174
                        ]
                      },
                      {
                        "learn": [
                          0.405798298
                        ],
                        "iteration": 885,
                        "passed_time": 2.692682756,
                        "remaining_time": 12.50304386,
                        "test": [
                          0.8598487178,
                          0.4172025558
                        ]
                      },
                      {
                        "learn": [
                          0.4057305801
                        ],
                        "iteration": 886,
                        "passed_time": 2.694900107,
                        "remaining_time": 12.49619407,
                        "test": [
                          0.8597257241,
                          0.4173167161
                        ]
                      },
                      {
                        "learn": [
                          0.405622218
                        ],
                        "iteration": 887,
                        "passed_time": 2.697377232,
                        "remaining_time": 12.49055763,
                        "test": [
                          0.8597257241,
                          0.4173928768
                        ]
                      },
                      {
                        "learn": [
                          0.4056125813
                        ],
                        "iteration": 888,
                        "passed_time": 2.699863042,
                        "remaining_time": 12.48496846,
                        "test": [
                          0.8597257241,
                          0.4173964594
                        ]
                      },
                      {
                        "learn": [
                          0.4055929501
                        ],
                        "iteration": 889,
                        "passed_time": 2.70214158,
                        "remaining_time": 12.47842909,
                        "test": [
                          0.8597257241,
                          0.4173982985
                        ]
                      },
                      {
                        "learn": [
                          0.4055191904
                        ],
                        "iteration": 890,
                        "passed_time": 2.704464621,
                        "remaining_time": 12.47210452,
                        "test": [
                          0.8598487178,
                          0.4173583956
                        ]
                      },
                      {
                        "learn": [
                          0.4055115031
                        ],
                        "iteration": 891,
                        "passed_time": 2.706977009,
                        "remaining_time": 12.46666094,
                        "test": [
                          0.859787221,
                          0.4173332571
                        ]
                      },
                      {
                        "learn": [
                          0.4054825738
                        ],
                        "iteration": 892,
                        "passed_time": 2.709354667,
                        "remaining_time": 12.46060428,
                        "test": [
                          0.859787221,
                          0.4173311189
                        ]
                      },
                      {
                        "learn": [
                          0.4054532605
                        ],
                        "iteration": 893,
                        "passed_time": 2.712080005,
                        "remaining_time": 12.45615269,
                        "test": [
                          0.8599102146,
                          0.4173533283
                        ]
                      },
                      {
                        "learn": [
                          0.4054492783
                        ],
                        "iteration": 894,
                        "passed_time": 2.714761918,
                        "remaining_time": 12.45150578,
                        "test": [
                          0.8599102146,
                          0.4173530422
                        ]
                      },
                      {
                        "learn": [
                          0.405403157
                        ],
                        "iteration": 895,
                        "passed_time": 2.71747567,
                        "remaining_time": 12.4470091,
                        "test": [
                          0.8598487178,
                          0.417356685
                        ]
                      },
                      {
                        "learn": [
                          0.4053979919
                        ],
                        "iteration": 896,
                        "passed_time": 2.719772548,
                        "remaining_time": 12.44060955,
                        "test": [
                          0.859787221,
                          0.4173495366
                        ]
                      },
                      {
                        "learn": [
                          0.4053501732
                        ],
                        "iteration": 897,
                        "passed_time": 2.722234431,
                        "remaining_time": 12.43497287,
                        "test": [
                          0.8597257241,
                          0.4173652806
                        ]
                      },
                      {
                        "learn": [
                          0.4052786369
                        ],
                        "iteration": 898,
                        "passed_time": 2.725154361,
                        "remaining_time": 12.43143274,
                        "test": [
                          0.859787221,
                          0.4173295846
                        ]
                      },
                      {
                        "learn": [
                          0.4052719116
                        ],
                        "iteration": 899,
                        "passed_time": 2.727641594,
                        "remaining_time": 12.42592282,
                        "test": [
                          0.859787221,
                          0.4173275522
                        ]
                      },
                      {
                        "learn": [
                          0.4052246395
                        ],
                        "iteration": 900,
                        "passed_time": 2.730322558,
                        "remaining_time": 12.42130096,
                        "test": [
                          0.8597257241,
                          0.4174147001
                        ]
                      },
                      {
                        "learn": [
                          0.4051777656
                        ],
                        "iteration": 901,
                        "passed_time": 2.732895092,
                        "remaining_time": 12.41619078,
                        "test": [
                          0.8597257241,
                          0.4174151274
                        ]
                      },
                      {
                        "learn": [
                          0.4050903604
                        ],
                        "iteration": 902,
                        "passed_time": 2.735202327,
                        "remaining_time": 12.40988254,
                        "test": [
                          0.8597257241,
                          0.4174775509
                        ]
                      },
                      {
                        "learn": [
                          0.4050855606
                        ],
                        "iteration": 903,
                        "passed_time": 2.738622174,
                        "remaining_time": 12.40862436,
                        "test": [
                          0.8597257241,
                          0.417479391
                        ]
                      },
                      {
                        "learn": [
                          0.4050519597
                        ],
                        "iteration": 904,
                        "passed_time": 2.743655405,
                        "remaining_time": 12.41466175,
                        "test": [
                          0.859787221,
                          0.4174382399
                        ]
                      },
                      {
                        "learn": [
                          0.4049820864
                        ],
                        "iteration": 905,
                        "passed_time": 2.747785691,
                        "remaining_time": 12.4165945,
                        "test": [
                          0.8599717115,
                          0.4175232175
                        ]
                      },
                      {
                        "learn": [
                          0.4049479179
                        ],
                        "iteration": 906,
                        "passed_time": 2.752376954,
                        "remaining_time": 12.42059413,
                        "test": [
                          0.8599717115,
                          0.417479316
                        ]
                      },
                      {
                        "learn": [
                          0.4048787256
                        ],
                        "iteration": 907,
                        "passed_time": 2.755470994,
                        "remaining_time": 12.41782743,
                        "test": [
                          0.8600332083,
                          0.4174612009
                        ]
                      },
                      {
                        "learn": [
                          0.4047952292
                        ],
                        "iteration": 908,
                        "passed_time": 2.758262825,
                        "remaining_time": 12.41369991,
                        "test": [
                          0.8600332083,
                          0.4174660111
                        ]
                      },
                      {
                        "learn": [
                          0.4047643251
                        ],
                        "iteration": 909,
                        "passed_time": 2.761004745,
                        "remaining_time": 12.409351,
                        "test": [
                          0.8600332083,
                          0.4175202549
                        ]
                      },
                      {
                        "learn": [
                          0.4047202802
                        ],
                        "iteration": 910,
                        "passed_time": 2.763423895,
                        "remaining_time": 12.40355687,
                        "test": [
                          0.8600332083,
                          0.4175116088
                        ]
                      },
                      {
                        "learn": [
                          0.4045957666
                        ],
                        "iteration": 911,
                        "passed_time": 2.765939752,
                        "remaining_time": 12.39820363,
                        "test": [
                          0.8599717115,
                          0.4175656173
                        ]
                      },
                      {
                        "learn": [
                          0.4045362993
                        ],
                        "iteration": 912,
                        "passed_time": 2.768464314,
                        "remaining_time": 12.39289557,
                        "test": [
                          0.8600947051,
                          0.4175156463
                        ]
                      },
                      {
                        "learn": [
                          0.4045239696
                        ],
                        "iteration": 913,
                        "passed_time": 2.770826171,
                        "remaining_time": 12.38686623,
                        "test": [
                          0.8600947051,
                          0.4175165703
                        ]
                      },
                      {
                        "learn": [
                          0.4043845566
                        ],
                        "iteration": 914,
                        "passed_time": 2.773383223,
                        "remaining_time": 12.38171636,
                        "test": [
                          0.8600332083,
                          0.4175767657
                        ]
                      },
                      {
                        "learn": [
                          0.4042799342
                        ],
                        "iteration": 915,
                        "passed_time": 2.776260885,
                        "remaining_time": 12.37800159,
                        "test": [
                          0.860156202,
                          0.4175142683
                        ]
                      },
                      {
                        "learn": [
                          0.4042571819
                        ],
                        "iteration": 916,
                        "passed_time": 2.778656677,
                        "remaining_time": 12.37214309,
                        "test": [
                          0.860156202,
                          0.4175027766
                        ]
                      },
                      {
                        "learn": [
                          0.4042110981
                        ],
                        "iteration": 917,
                        "passed_time": 2.781024172,
                        "remaining_time": 12.36616631,
                        "test": [
                          0.860156202,
                          0.4174695458
                        ]
                      },
                      {
                        "learn": [
                          0.40412603
                        ],
                        "iteration": 918,
                        "passed_time": 2.783785746,
                        "remaining_time": 12.36194737,
                        "test": [
                          0.860156202,
                          0.4174631596
                        ]
                      },
                      {
                        "learn": [
                          0.4041098669
                        ],
                        "iteration": 919,
                        "passed_time": 2.786287354,
                        "remaining_time": 12.3565787,
                        "test": [
                          0.860156202,
                          0.417457498
                        ]
                      },
                      {
                        "learn": [
                          0.404017804
                        ],
                        "iteration": 920,
                        "passed_time": 2.788682632,
                        "remaining_time": 12.35074534,
                        "test": [
                          0.8600332083,
                          0.4175100415
                        ]
                      },
                      {
                        "learn": [
                          0.4039250985
                        ],
                        "iteration": 921,
                        "passed_time": 2.791128124,
                        "remaining_time": 12.34514153,
                        "test": [
                          0.8600332083,
                          0.4174403416
                        ]
                      },
                      {
                        "learn": [
                          0.4039064088
                        ],
                        "iteration": 922,
                        "passed_time": 2.79351925,
                        "remaining_time": 12.33930442,
                        "test": [
                          0.8600332083,
                          0.4174399414
                        ]
                      },
                      {
                        "learn": [
                          0.4038586394
                        ],
                        "iteration": 923,
                        "passed_time": 2.795837522,
                        "remaining_time": 12.3331534,
                        "test": [
                          0.860156202,
                          0.4175293182
                        ]
                      },
                      {
                        "learn": [
                          0.4037871969
                        ],
                        "iteration": 924,
                        "passed_time": 2.798311506,
                        "remaining_time": 12.32769663,
                        "test": [
                          0.8600332083,
                          0.4176044961
                        ]
                      },
                      {
                        "learn": [
                          0.403766613
                        ],
                        "iteration": 925,
                        "passed_time": 2.8007599,
                        "remaining_time": 12.32213373,
                        "test": [
                          0.8600332083,
                          0.4175916105
                        ]
                      },
                      {
                        "learn": [
                          0.4037531425
                        ],
                        "iteration": 926,
                        "passed_time": 2.802951432,
                        "remaining_time": 12.31544896,
                        "test": [
                          0.8600332083,
                          0.4175921294
                        ]
                      },
                      {
                        "learn": [
                          0.4036710178
                        ],
                        "iteration": 927,
                        "passed_time": 2.805488343,
                        "remaining_time": 12.31028937,
                        "test": [
                          0.8599102146,
                          0.4177107317
                        ]
                      },
                      {
                        "learn": [
                          0.403655283
                        ],
                        "iteration": 928,
                        "passed_time": 2.807970711,
                        "remaining_time": 12.30489641,
                        "test": [
                          0.8598487178,
                          0.4177033601
                        ]
                      },
                      {
                        "learn": [
                          0.4036054991
                        ],
                        "iteration": 929,
                        "passed_time": 2.810169467,
                        "remaining_time": 12.29826853,
                        "test": [
                          0.8599102146,
                          0.4176985182
                        ]
                      },
                      {
                        "learn": [
                          0.4035828987
                        ],
                        "iteration": 930,
                        "passed_time": 2.812663043,
                        "remaining_time": 12.29293869,
                        "test": [
                          0.8599102146,
                          0.4176920615
                        ]
                      },
                      {
                        "learn": [
                          0.4035581853
                        ],
                        "iteration": 931,
                        "passed_time": 2.814978833,
                        "remaining_time": 12.28683894,
                        "test": [
                          0.8598487178,
                          0.4176512382
                        ]
                      },
                      {
                        "learn": [
                          0.4035232926
                        ],
                        "iteration": 932,
                        "passed_time": 2.82063028,
                        "remaining_time": 12.29528762,
                        "test": [
                          0.8598487178,
                          0.4176606208
                        ]
                      },
                      {
                        "learn": [
                          0.4034697399
                        ],
                        "iteration": 933,
                        "passed_time": 2.824109203,
                        "remaining_time": 12.29424841,
                        "test": [
                          0.8598487178,
                          0.417661383
                        ]
                      },
                      {
                        "learn": [
                          0.4033527159
                        ],
                        "iteration": 934,
                        "passed_time": 2.832380341,
                        "remaining_time": 12.3140386,
                        "test": [
                          0.8596027305,
                          0.4175759031
                        ]
                      },
                      {
                        "learn": [
                          0.4032977757
                        ],
                        "iteration": 935,
                        "passed_time": 2.836315328,
                        "remaining_time": 12.31494177,
                        "test": [
                          0.8595412336,
                          0.4176032026
                        ]
                      },
                      {
                        "learn": [
                          0.4031791917
                        ],
                        "iteration": 936,
                        "passed_time": 2.84080176,
                        "remaining_time": 12.31822578,
                        "test": [
                          0.8596027305,
                          0.4176573564
                        ]
                      },
                      {
                        "learn": [
                          0.4031263568
                        ],
                        "iteration": 937,
                        "passed_time": 2.843715779,
                        "remaining_time": 12.3146839,
                        "test": [
                          0.8596027305,
                          0.4176391821
                        ]
                      },
                      {
                        "learn": [
                          0.4030356109
                        ],
                        "iteration": 938,
                        "passed_time": 2.848084103,
                        "remaining_time": 12.31743295,
                        "test": [
                          0.859787221,
                          0.4175708275
                        ]
                      },
                      {
                        "learn": [
                          0.4029484735
                        ],
                        "iteration": 939,
                        "passed_time": 2.850914134,
                        "remaining_time": 12.31352275,
                        "test": [
                          0.8597257241,
                          0.4175209289
                        ]
                      },
                      {
                        "learn": [
                          0.4029258415
                        ],
                        "iteration": 940,
                        "passed_time": 2.853891973,
                        "remaining_time": 12.31025241,
                        "test": [
                          0.8599717115,
                          0.4175005152
                        ]
                      },
                      {
                        "learn": [
                          0.4028265514
                        ],
                        "iteration": 941,
                        "passed_time": 2.857084686,
                        "remaining_time": 12.30790834,
                        "test": [
                          0.8599717115,
                          0.4175748094
                        ]
                      },
                      {
                        "learn": [
                          0.4027765764
                        ],
                        "iteration": 942,
                        "passed_time": 2.859848241,
                        "remaining_time": 12.30371613,
                        "test": [
                          0.8599717115,
                          0.4174580609
                        ]
                      },
                      {
                        "learn": [
                          0.4027487885
                        ],
                        "iteration": 943,
                        "passed_time": 2.862833261,
                        "remaining_time": 12.3004785,
                        "test": [
                          0.8599717115,
                          0.4174447636
                        ]
                      },
                      {
                        "learn": [
                          0.4025864981
                        ],
                        "iteration": 944,
                        "passed_time": 2.867681493,
                        "remaining_time": 12.30523646,
                        "test": [
                          0.8599102146,
                          0.4174348188
                        ]
                      },
                      {
                        "learn": [
                          0.4025534519
                        ],
                        "iteration": 945,
                        "passed_time": 2.871919714,
                        "remaining_time": 12.30735996,
                        "test": [
                          0.8599102146,
                          0.4174944018
                        ]
                      },
                      {
                        "learn": [
                          0.4025310275
                        ],
                        "iteration": 946,
                        "passed_time": 2.879453891,
                        "remaining_time": 12.32357616,
                        "test": [
                          0.8599717115,
                          0.4174977661
                        ]
                      },
                      {
                        "learn": [
                          0.4024364237
                        ],
                        "iteration": 947,
                        "passed_time": 2.882816716,
                        "remaining_time": 12.3219128,
                        "test": [
                          0.8602176988,
                          0.4175072167
                        ]
                      },
                      {
                        "learn": [
                          0.402419813
                        ],
                        "iteration": 948,
                        "passed_time": 2.885310752,
                        "remaining_time": 12.31653726,
                        "test": [
                          0.8602176988,
                          0.4175045738
                        ]
                      },
                      {
                        "learn": [
                          0.402323025
                        ],
                        "iteration": 949,
                        "passed_time": 2.887615845,
                        "remaining_time": 12.31036229,
                        "test": [
                          0.8599102146,
                          0.4175785847
                        ]
                      },
                      {
                        "learn": [
                          0.4022536727
                        ],
                        "iteration": 950,
                        "passed_time": 2.889990248,
                        "remaining_time": 12.30449055,
                        "test": [
                          0.8599102146,
                          0.4176064079
                        ]
                      },
                      {
                        "learn": [
                          0.4022349665
                        ],
                        "iteration": 951,
                        "passed_time": 2.892455201,
                        "remaining_time": 12.29901119,
                        "test": [
                          0.8599102146,
                          0.4176073564
                        ]
                      },
                      {
                        "learn": [
                          0.4022115283
                        ],
                        "iteration": 952,
                        "passed_time": 2.896244493,
                        "remaining_time": 12.29916208,
                        "test": [
                          0.8599102146,
                          0.4176025725
                        ]
                      },
                      {
                        "learn": [
                          0.4021264675
                        ],
                        "iteration": 953,
                        "passed_time": 2.900192484,
                        "remaining_time": 12.29997777,
                        "test": [
                          0.8600332083,
                          0.4175553165
                        ]
                      },
                      {
                        "learn": [
                          0.4020559666
                        ],
                        "iteration": 954,
                        "passed_time": 2.903078929,
                        "remaining_time": 12.29628719,
                        "test": [
                          0.8599717115,
                          0.4175580656
                        ]
                      },
                      {
                        "learn": [
                          0.4020131033
                        ],
                        "iteration": 955,
                        "passed_time": 2.906795799,
                        "remaining_time": 12.2961111,
                        "test": [
                          0.8600332083,
                          0.4175528639
                        ]
                      },
                      {
                        "learn": [
                          0.4020020669
                        ],
                        "iteration": 956,
                        "passed_time": 2.913135441,
                        "remaining_time": 12.30700793,
                        "test": [
                          0.8600332083,
                          0.4175230051
                        ]
                      },
                      {
                        "learn": [
                          0.4019147388
                        ],
                        "iteration": 957,
                        "passed_time": 2.919364814,
                        "remaining_time": 12.31740353,
                        "test": [
                          0.8599717115,
                          0.4175618885
                        ]
                      },
                      {
                        "learn": [
                          0.4019075795
                        ],
                        "iteration": 958,
                        "passed_time": 2.9249009,
                        "remaining_time": 12.3248431,
                        "test": [
                          0.8600332083,
                          0.4175319732
                        ]
                      },
                      {
                        "learn": [
                          0.4017576835
                        ],
                        "iteration": 959,
                        "passed_time": 2.932002469,
                        "remaining_time": 12.33884372,
                        "test": [
                          0.8599102146,
                          0.4174706452
                        ]
                      },
                      {
                        "learn": [
                          0.4017017421
                        ],
                        "iteration": 960,
                        "passed_time": 2.93559673,
                        "remaining_time": 12.33805952,
                        "test": [
                          0.8600332083,
                          0.4175303658
                        ]
                      },
                      {
                        "learn": [
                          0.4016783059
                        ],
                        "iteration": 961,
                        "passed_time": 2.942768469,
                        "remaining_time": 12.35228594,
                        "test": [
                          0.860156202,
                          0.4175804446
                        ]
                      },
                      {
                        "learn": [
                          0.4016614815
                        ],
                        "iteration": 962,
                        "passed_time": 2.946094302,
                        "remaining_time": 12.35034548,
                        "test": [
                          0.860156202,
                          0.4176078855
                        ]
                      },
                      {
                        "learn": [
                          0.4016450326
                        ],
                        "iteration": 963,
                        "passed_time": 2.9537206,
                        "remaining_time": 12.36640699,
                        "test": [
                          0.8602176988,
                          0.417609581
                        ]
                      },
                      {
                        "learn": [
                          0.4016141248
                        ],
                        "iteration": 964,
                        "passed_time": 2.96139732,
                        "remaining_time": 12.38263025,
                        "test": [
                          0.860156202,
                          0.417618644
                        ]
                      },
                      {
                        "learn": [
                          0.401594769
                        ],
                        "iteration": 965,
                        "passed_time": 2.96508877,
                        "remaining_time": 12.38216159,
                        "test": [
                          0.860156202,
                          0.4176194209
                        ]
                      },
                      {
                        "learn": [
                          0.4015856023
                        ],
                        "iteration": 966,
                        "passed_time": 2.972364212,
                        "remaining_time": 12.39663378,
                        "test": [
                          0.860156202,
                          0.4176202377
                        ]
                      },
                      {
                        "learn": [
                          0.4014972385
                        ],
                        "iteration": 967,
                        "passed_time": 2.975382608,
                        "remaining_time": 12.39332921,
                        "test": [
                          0.8602176988,
                          0.4175524296
                        ]
                      },
                      {
                        "learn": [
                          0.4014423417
                        ],
                        "iteration": 968,
                        "passed_time": 2.984641482,
                        "remaining_time": 12.41598536,
                        "test": [
                          0.8603406925,
                          0.4175782596
                        ]
                      },
                      {
                        "learn": [
                          0.4013537421
                        ],
                        "iteration": 969,
                        "passed_time": 2.98804518,
                        "remaining_time": 12.41424956,
                        "test": [
                          0.8602791956,
                          0.4176222896
                        ]
                      },
                      {
                        "learn": [
                          0.4013316399
                        ],
                        "iteration": 970,
                        "passed_time": 3.026315775,
                        "remaining_time": 12.55718461,
                        "test": [
                          0.8602176988,
                          0.4175842172
                        ]
                      },
                      {
                        "learn": [
                          0.4013005216
                        ],
                        "iteration": 971,
                        "passed_time": 3.031691303,
                        "remaining_time": 12.56342857,
                        "test": [
                          0.8602176988,
                          0.4176381345
                        ]
                      },
                      {
                        "learn": [
                          0.4012773029
                        ],
                        "iteration": 972,
                        "passed_time": 3.04293322,
                        "remaining_time": 12.59392814,
                        "test": [
                          0.8600947051,
                          0.4176341899
                        ]
                      },
                      {
                        "learn": [
                          0.4012754344
                        ],
                        "iteration": 973,
                        "passed_time": 3.047007939,
                        "remaining_time": 12.59471659,
                        "test": [
                          0.8600947051,
                          0.4176176733
                        ]
                      },
                      {
                        "learn": [
                          0.401254572
                        ],
                        "iteration": 974,
                        "passed_time": 3.061724527,
                        "remaining_time": 12.63942689,
                        "test": [
                          0.8600947051,
                          0.4176138401
                        ]
                      },
                      {
                        "learn": [
                          0.4012328726
                        ],
                        "iteration": 975,
                        "passed_time": 3.06485791,
                        "remaining_time": 12.63625843,
                        "test": [
                          0.860156202,
                          0.4176171574
                        ]
                      },
                      {
                        "learn": [
                          0.4012109596
                        ],
                        "iteration": 976,
                        "passed_time": 3.072928762,
                        "remaining_time": 12.65342109,
                        "test": [
                          0.860156202,
                          0.4176063328
                        ]
                      },
                      {
                        "learn": [
                          0.4011179319
                        ],
                        "iteration": 977,
                        "passed_time": 3.089240232,
                        "remaining_time": 12.70442149,
                        "test": [
                          0.8600947051,
                          0.4176793697
                        ]
                      },
                      {
                        "learn": [
                          0.4010527639
                        ],
                        "iteration": 978,
                        "passed_time": 3.092285681,
                        "remaining_time": 12.70079747,
                        "test": [
                          0.8600947051,
                          0.4177021364
                        ]
                      },
                      {
                        "learn": [
                          0.4009977506
                        ],
                        "iteration": 979,
                        "passed_time": 3.107028178,
                        "remaining_time": 12.7451564,
                        "test": [
                          0.8600332083,
                          0.4178018053
                        ]
                      },
                      {
                        "learn": [
                          0.40096275
                        ],
                        "iteration": 980,
                        "passed_time": 3.110434697,
                        "remaining_time": 12.74295316,
                        "test": [
                          0.8599717115,
                          0.4177342746
                        ]
                      },
                      {
                        "learn": [
                          0.4009474976
                        ],
                        "iteration": 981,
                        "passed_time": 3.113424587,
                        "remaining_time": 12.73904276,
                        "test": [
                          0.8599717115,
                          0.4177336818
                        ]
                      },
                      {
                        "learn": [
                          0.4009259834
                        ],
                        "iteration": 982,
                        "passed_time": 3.119061814,
                        "remaining_time": 12.7459525,
                        "test": [
                          0.8599717115,
                          0.4177230562
                        ]
                      },
                      {
                        "learn": [
                          0.4008842188
                        ],
                        "iteration": 983,
                        "passed_time": 3.122771663,
                        "remaining_time": 12.74497053,
                        "test": [
                          0.8600332083,
                          0.4177372683
                        ]
                      },
                      {
                        "learn": [
                          0.4008174906
                        ],
                        "iteration": 984,
                        "passed_time": 3.126007693,
                        "remaining_time": 12.74205166,
                        "test": [
                          0.8599717115,
                          0.4178112067
                        ]
                      },
                      {
                        "learn": [
                          0.4007741254
                        ],
                        "iteration": 985,
                        "passed_time": 3.132206456,
                        "remaining_time": 12.75119342,
                        "test": [
                          0.8599717115,
                          0.4178252872
                        ]
                      },
                      {
                        "learn": [
                          0.4006032733
                        ],
                        "iteration": 986,
                        "passed_time": 3.136704436,
                        "remaining_time": 12.75338896,
                        "test": [
                          0.8598487178,
                          0.417846347
                        ]
                      },
                      {
                        "learn": [
                          0.4005991702
                        ],
                        "iteration": 987,
                        "passed_time": 3.139310209,
                        "remaining_time": 12.7478872,
                        "test": [
                          0.8599102146,
                          0.417852847
                        ]
                      },
                      {
                        "learn": [
                          0.4005386642
                        ],
                        "iteration": 988,
                        "passed_time": 3.142397649,
                        "remaining_time": 12.74434476,
                        "test": [
                          0.8599102146,
                          0.4178139164
                        ]
                      },
                      {
                        "learn": [
                          0.4004603247
                        ],
                        "iteration": 989,
                        "passed_time": 3.146813258,
                        "remaining_time": 12.746183,
                        "test": [
                          0.8598487178,
                          0.4178162312
                        ]
                      },
                      {
                        "learn": [
                          0.400395563
                        ],
                        "iteration": 990,
                        "passed_time": 3.149756094,
                        "remaining_time": 12.74205064,
                        "test": [
                          0.8595412336,
                          0.4178897332
                        ]
                      },
                      {
                        "learn": [
                          0.4003742115
                        ],
                        "iteration": 991,
                        "passed_time": 3.156430346,
                        "remaining_time": 12.7529968,
                        "test": [
                          0.8595412336,
                          0.4178792627
                        ]
                      },
                      {
                        "learn": [
                          0.4002177622
                        ],
                        "iteration": 992,
                        "passed_time": 3.162137343,
                        "remaining_time": 12.76000436,
                        "test": [
                          0.8596027305,
                          0.417812053
                        ]
                      },
                      {
                        "learn": [
                          0.4001086973
                        ],
                        "iteration": 993,
                        "passed_time": 3.165267877,
                        "remaining_time": 12.75660273,
                        "test": [
                          0.8594797368,
                          0.4178006416
                        ]
                      },
                      {
                        "learn": [
                          0.4000860773
                        ],
                        "iteration": 994,
                        "passed_time": 3.169894957,
                        "remaining_time": 12.75922543,
                        "test": [
                          0.8596642273,
                          0.4177842683
                        ]
                      },
                      {
                        "learn": [
                          0.3999568246
                        ],
                        "iteration": 995,
                        "passed_time": 3.172734395,
                        "remaining_time": 12.7546471,
                        "test": [
                          0.859787221,
                          0.4177973542
                        ]
                      },
                      {
                        "learn": [
                          0.3999521734
                        ],
                        "iteration": 996,
                        "passed_time": 3.175400989,
                        "remaining_time": 12.74937829,
                        "test": [
                          0.859787221,
                          0.4177973522
                        ]
                      },
                      {
                        "learn": [
                          0.3998609081
                        ],
                        "iteration": 997,
                        "passed_time": 3.181176066,
                        "remaining_time": 12.75657977,
                        "test": [
                          0.8599102146,
                          0.4178700244
                        ]
                      },
                      {
                        "learn": [
                          0.3998361961
                        ],
                        "iteration": 998,
                        "passed_time": 3.184649981,
                        "remaining_time": 12.75453911,
                        "test": [
                          0.8597257241,
                          0.4179365745
                        ]
                      },
                      {
                        "learn": [
                          0.3996820861
                        ],
                        "iteration": 999,
                        "passed_time": 3.190881012,
                        "remaining_time": 12.76352405,
                        "test": [
                          0.859787221,
                          0.4178963798
                        ]
                      },
                      {
                        "learn": [
                          0.3995252603
                        ],
                        "iteration": 1000,
                        "passed_time": 3.197561002,
                        "remaining_time": 12.77427217,
                        "test": [
                          0.859787221,
                          0.4178676453
                        ]
                      },
                      {
                        "learn": [
                          0.3994855721
                        ],
                        "iteration": 1001,
                        "passed_time": 3.203075127,
                        "remaining_time": 12.78033369,
                        "test": [
                          0.8597257241,
                          0.4179335891
                        ]
                      },
                      {
                        "learn": [
                          0.3994146899
                        ],
                        "iteration": 1002,
                        "passed_time": 3.209449232,
                        "remaining_time": 12.78979918,
                        "test": [
                          0.8596642273,
                          0.4181177843
                        ]
                      },
                      {
                        "learn": [
                          0.3993879982
                        ],
                        "iteration": 1003,
                        "passed_time": 3.215322969,
                        "remaining_time": 12.79724162,
                        "test": [
                          0.8594797368,
                          0.4181314037
                        ]
                      },
                      {
                        "learn": [
                          0.3993264866
                        ],
                        "iteration": 1004,
                        "passed_time": 3.220250685,
                        "remaining_time": 12.800897,
                        "test": [
                          0.8591107558,
                          0.4181139646
                        ]
                      },
                      {
                        "learn": [
                          0.3992866124
                        ],
                        "iteration": 1005,
                        "passed_time": 3.225896406,
                        "remaining_time": 12.80738593,
                        "test": [
                          0.8591722526,
                          0.4181482472
                        ]
                      },
                      {
                        "learn": [
                          0.3991973908
                        ],
                        "iteration": 1006,
                        "passed_time": 3.233988527,
                        "remaining_time": 12.82355133,
                        "test": [
                          0.8591722526,
                          0.4182063133
                        ]
                      },
                      {
                        "learn": [
                          0.3991122261
                        ],
                        "iteration": 1007,
                        "passed_time": 3.237247832,
                        "remaining_time": 12.82052911,
                        "test": [
                          0.8593567431,
                          0.4181399949
                        ]
                      },
                      {
                        "learn": [
                          0.3990387195
                        ],
                        "iteration": 1008,
                        "passed_time": 3.245270822,
                        "remaining_time": 12.83634871,
                        "test": [
                          0.8592337495,
                          0.4181510409
                        ]
                      },
                      {
                        "learn": [
                          0.3990173333
                        ],
                        "iteration": 1009,
                        "passed_time": 3.250270885,
                        "remaining_time": 12.84017904,
                        "test": [
                          0.8592337495,
                          0.4181477968
                        ]
                      },
                      {
                        "learn": [
                          0.3989677236
                        ],
                        "iteration": 1010,
                        "passed_time": 3.25569502,
                        "remaining_time": 12.84566512,
                        "test": [
                          0.8592952463,
                          0.4181505487
                        ]
                      },
                      {
                        "learn": [
                          0.3989069396
                        ],
                        "iteration": 1011,
                        "passed_time": 3.258718504,
                        "remaining_time": 12.84166936,
                        "test": [
                          0.85941824,
                          0.4181471628
                        ]
                      },
                      {
                        "learn": [
                          0.3988856679
                        ],
                        "iteration": 1012,
                        "passed_time": 3.268164313,
                        "remaining_time": 12.86295273,
                        "test": [
                          0.8592337495,
                          0.4181676488
                        ]
                      },
                      {
                        "learn": [
                          0.398871403
                        ],
                        "iteration": 1013,
                        "passed_time": 3.272442134,
                        "remaining_time": 12.8638603,
                        "test": [
                          0.8592337495,
                          0.4181563075
                        ]
                      },
                      {
                        "learn": [
                          0.3987959614
                        ],
                        "iteration": 1014,
                        "passed_time": 3.279442034,
                        "remaining_time": 12.87544483,
                        "test": [
                          0.859049259,
                          0.4181545625
                        ]
                      },
                      {
                        "learn": [
                          0.398733618
                        ],
                        "iteration": 1015,
                        "passed_time": 3.285156417,
                        "remaining_time": 12.88195193,
                        "test": [
                          0.859049259,
                          0.4181518572
                        ]
                      },
                      {
                        "learn": [
                          0.3986625787
                        ],
                        "iteration": 1016,
                        "passed_time": 3.291237161,
                        "remaining_time": 12.88986983,
                        "test": [
                          0.8592337495,
                          0.4181082193
                        ]
                      },
                      {
                        "learn": [
                          0.3986321005
                        ],
                        "iteration": 1017,
                        "passed_time": 3.297077752,
                        "remaining_time": 12.89682083,
                        "test": [
                          0.85941824,
                          0.4180973354
                        ]
                      },
                      {
                        "learn": [
                          0.3985491845
                        ],
                        "iteration": 1018,
                        "passed_time": 3.302686929,
                        "remaining_time": 12.90284265,
                        "test": [
                          0.8592337495,
                          0.4181131443
                        ]
                      },
                      {
                        "learn": [
                          0.3985427807
                        ],
                        "iteration": 1019,
                        "passed_time": 3.307809138,
                        "remaining_time": 12.90694154,
                        "test": [
                          0.8592337495,
                          0.4181111035
                        ]
                      },
                      {
                        "learn": [
                          0.3985165025
                        ],
                        "iteration": 1020,
                        "passed_time": 3.313571075,
                        "remaining_time": 12.91351548,
                        "test": [
                          0.8592337495,
                          0.4180753035
                        ]
                      },
                      {
                        "learn": [
                          0.3984792993
                        ],
                        "iteration": 1021,
                        "passed_time": 3.319373539,
                        "remaining_time": 12.92022303,
                        "test": [
                          0.859049259,
                          0.4180655465
                        ]
                      },
                      {
                        "learn": [
                          0.3984533477
                        ],
                        "iteration": 1022,
                        "passed_time": 3.325750242,
                        "remaining_time": 12.92913853,
                        "test": [
                          0.859049259,
                          0.4180299279
                        ]
                      },
                      {
                        "learn": [
                          0.3984278849
                        ],
                        "iteration": 1023,
                        "passed_time": 3.334612049,
                        "remaining_time": 12.94767335,
                        "test": [
                          0.8592337495,
                          0.4179948156
                        ]
                      },
                      {
                        "learn": [
                          0.3982661297
                        ],
                        "iteration": 1024,
                        "passed_time": 3.347047434,
                        "remaining_time": 12.98001322,
                        "test": [
                          0.8593567431,
                          0.418020307
                        ]
                      },
                      {
                        "learn": [
                          0.3982503702
                        ],
                        "iteration": 1025,
                        "passed_time": 3.355409722,
                        "remaining_time": 12.99648951,
                        "test": [
                          0.85941824,
                          0.4180150047
                        ]
                      },
                      {
                        "learn": [
                          0.3982326811
                        ],
                        "iteration": 1026,
                        "passed_time": 3.362760347,
                        "remaining_time": 13.00900376,
                        "test": [
                          0.8591722526,
                          0.4180383149
                        ]
                      },
                      {
                        "learn": [
                          0.3982060134
                        ],
                        "iteration": 1027,
                        "passed_time": 3.366046405,
                        "remaining_time": 13.00577463,
                        "test": [
                          0.8592952463,
                          0.4180220263
                        ]
                      },
                      {
                        "learn": [
                          0.398146369
                        ],
                        "iteration": 1028,
                        "passed_time": 3.373206533,
                        "remaining_time": 13.01749576,
                        "test": [
                          0.8592952463,
                          0.4180155307
                        ]
                      },
                      {
                        "learn": [
                          0.398088715
                        ],
                        "iteration": 1029,
                        "passed_time": 3.378636117,
                        "remaining_time": 13.02251008,
                        "test": [
                          0.8591107558,
                          0.4180873602
                        ]
                      },
                      {
                        "learn": [
                          0.3980698222
                        ],
                        "iteration": 1030,
                        "passed_time": 3.385790008,
                        "remaining_time": 13.03414214,
                        "test": [
                          0.8591107558,
                          0.4180864452
                        ]
                      },
                      {
                        "learn": [
                          0.398059421
                        ],
                        "iteration": 1031,
                        "passed_time": 3.392173873,
                        "remaining_time": 13.04277706,
                        "test": [
                          0.8591722526,
                          0.4180579775
                        ]
                      },
                      {
                        "learn": [
                          0.3980370497
                        ],
                        "iteration": 1032,
                        "passed_time": 3.399185402,
                        "remaining_time": 13.05379331,
                        "test": [
                          0.859049259,
                          0.4180543878
                        ]
                      },
                      {
                        "learn": [
                          0.3979571133
                        ],
                        "iteration": 1033,
                        "passed_time": 3.404748279,
                        "remaining_time": 13.05921825,
                        "test": [
                          0.859049259,
                          0.4179916766
                        ]
                      },
                      {
                        "learn": [
                          0.3979442457
                        ],
                        "iteration": 1034,
                        "passed_time": 3.408595284,
                        "remaining_time": 13.0580486,
                        "test": [
                          0.8592952463,
                          0.4179934481
                        ]
                      },
                      {
                        "learn": [
                          0.3979017874
                        ],
                        "iteration": 1035,
                        "passed_time": 3.415484638,
                        "remaining_time": 13.06851458,
                        "test": [
                          0.8592952463,
                          0.4179845757
                        ]
                      },
                      {
                        "learn": [
                          0.3978349279
                        ],
                        "iteration": 1036,
                        "passed_time": 3.42349503,
                        "remaining_time": 13.08323125,
                        "test": [
                          0.8593567431,
                          0.4179930395
                        ]
                      },
                      {
                        "learn": [
                          0.3977593646
                        ],
                        "iteration": 1037,
                        "passed_time": 3.430503122,
                        "remaining_time": 13.09407839,
                        "test": [
                          0.8592337495,
                          0.4179925891
                        ]
                      },
                      {
                        "learn": [
                          0.3977418747
                        ],
                        "iteration": 1038,
                        "passed_time": 3.435367849,
                        "remaining_time": 13.09671997,
                        "test": [
                          0.8592952463,
                          0.4179779965
                        ]
                      },
                      {
                        "learn": [
                          0.3976082081
                        ],
                        "iteration": 1039,
                        "passed_time": 3.441238295,
                        "remaining_time": 13.10317658,
                        "test": [
                          0.8592952463,
                          0.4180324366
                        ]
                      },
                      {
                        "learn": [
                          0.3975821199
                        ],
                        "iteration": 1040,
                        "passed_time": 3.447565961,
                        "remaining_time": 13.11134836,
                        "test": [
                          0.8593567431,
                          0.4180028524
                        ]
                      },
                      {
                        "learn": [
                          0.3975607568
                        ],
                        "iteration": 1041,
                        "passed_time": 3.453982926,
                        "remaining_time": 13.1198315,
                        "test": [
                          0.85941824,
                          0.4179926755
                        ]
                      },
                      {
                        "learn": [
                          0.397560163
                        ],
                        "iteration": 1042,
                        "passed_time": 3.457185821,
                        "remaining_time": 13.11609232,
                        "test": [
                          0.85941824,
                          0.417992774
                        ]
                      },
                      {
                        "learn": [
                          0.3975402709
                        ],
                        "iteration": 1043,
                        "passed_time": 3.465076128,
                        "remaining_time": 13.13011606,
                        "test": [
                          0.8594797368,
                          0.4179617436
                        ]
                      },
                      {
                        "learn": [
                          0.3975310783
                        ],
                        "iteration": 1044,
                        "passed_time": 3.485797426,
                        "remaining_time": 13.19265916,
                        "test": [
                          0.8592952463,
                          0.4179621744
                        ]
                      },
                      {
                        "learn": [
                          0.3974580424
                        ],
                        "iteration": 1045,
                        "passed_time": 3.494715479,
                        "remaining_time": 13.21042543,
                        "test": [
                          0.8592337495,
                          0.4179923729
                        ]
                      },
                      {
                        "learn": [
                          0.3974403914
                        ],
                        "iteration": 1046,
                        "passed_time": 3.504385517,
                        "remaining_time": 13.23097989,
                        "test": [
                          0.8592337495,
                          0.4179920361
                        ]
                      },
                      {
                        "learn": [
                          0.3974155965
                        ],
                        "iteration": 1047,
                        "passed_time": 3.520012131,
                        "remaining_time": 13.27393887,
                        "test": [
                          0.8592337495,
                          0.4179754955
                        ]
                      },
                      {
                        "learn": [
                          0.3973686999
                        ],
                        "iteration": 1048,
                        "passed_time": 3.527006904,
                        "remaining_time": 13.28427481,
                        "test": [
                          0.8592337495,
                          0.4179706787
                        ]
                      },
                      {
                        "learn": [
                          0.3973226552
                        ],
                        "iteration": 1049,
                        "passed_time": 3.535466562,
                        "remaining_time": 13.3000885,
                        "test": [
                          0.8592337495,
                          0.4179909525
                        ]
                      },
                      {
                        "learn": [
                          0.3972991802
                        ],
                        "iteration": 1050,
                        "passed_time": 3.542113339,
                        "remaining_time": 13.30904431,
                        "test": [
                          0.8592337495,
                          0.4180048482
                        ]
                      },
                      {
                        "learn": [
                          0.397274392
                        ],
                        "iteration": 1051,
                        "passed_time": 3.548927347,
                        "remaining_time": 13.31859807,
                        "test": [
                          0.8591722526,
                          0.4180831935
                        ]
                      },
                      {
                        "learn": [
                          0.3972474825
                        ],
                        "iteration": 1052,
                        "passed_time": 3.555089658,
                        "remaining_time": 13.32567795,
                        "test": [
                          0.8591722526,
                          0.4180444273
                        ]
                      },
                      {
                        "learn": [
                          0.3970978558
                        ],
                        "iteration": 1053,
                        "passed_time": 3.560690516,
                        "remaining_time": 13.33063072,
                        "test": [
                          0.8591107558,
                          0.4179830441
                        ]
                      },
                      {
                        "learn": [
                          0.3970646615
                        ],
                        "iteration": 1054,
                        "passed_time": 3.56635937,
                        "remaining_time": 13.33581774,
                        "test": [
                          0.8591107558,
                          0.4179911194
                        ]
                      },
                      {
                        "learn": [
                          0.3970533773
                        ],
                        "iteration": 1055,
                        "passed_time": 3.572580996,
                        "remaining_time": 13.34304872,
                        "test": [
                          0.8591107558,
                          0.4179887132
                        ]
                      },
                      {
                        "learn": [
                          0.3970243696
                        ],
                        "iteration": 1056,
                        "passed_time": 3.577753613,
                        "remaining_time": 13.34634105,
                        "test": [
                          0.858680278,
                          0.4180305179
                        ]
                      },
                      {
                        "learn": [
                          0.3969603146
                        ],
                        "iteration": 1057,
                        "passed_time": 3.582204412,
                        "remaining_time": 13.34692797,
                        "test": [
                          0.8587417748,
                          0.4180581357
                        ]
                      },
                      {
                        "learn": [
                          0.3969436429
                        ],
                        "iteration": 1058,
                        "passed_time": 3.597547153,
                        "remaining_time": 13.38803903,
                        "test": [
                          0.8587417748,
                          0.418057354
                        ]
                      },
                      {
                        "learn": [
                          0.3968933321
                        ],
                        "iteration": 1059,
                        "passed_time": 3.603822382,
                        "remaining_time": 13.3953398,
                        "test": [
                          0.8588032716,
                          0.4180994708
                        ]
                      },
                      {
                        "learn": [
                          0.3968031608
                        ],
                        "iteration": 1060,
                        "passed_time": 3.610051628,
                        "remaining_time": 13.40244426,
                        "test": [
                          0.8583727938,
                          0.4181250255
                        ]
                      },
                      {
                        "learn": [
                          0.3967055797
                        ],
                        "iteration": 1061,
                        "passed_time": 3.622315173,
                        "remaining_time": 13.43189939,
                        "test": [
                          0.8581268065,
                          0.4181427931
                        ]
                      },
                      {
                        "learn": [
                          0.3966943091
                        ],
                        "iteration": 1062,
                        "passed_time": 3.629337945,
                        "remaining_time": 13.44186594,
                        "test": [
                          0.8581883033,
                          0.4181374267
                        ]
                      },
                      {
                        "learn": [
                          0.3966834455
                        ],
                        "iteration": 1063,
                        "passed_time": 3.634023573,
                        "remaining_time": 13.44315487,
                        "test": [
                          0.8581883033,
                          0.4181384192
                        ]
                      },
                      {
                        "learn": [
                          0.3966567278
                        ],
                        "iteration": 1064,
                        "passed_time": 3.65308672,
                        "remaining_time": 13.49755516,
                        "test": [
                          0.8582498001,
                          0.418099766
                        ]
                      },
                      {
                        "learn": [
                          0.3966330398
                        ],
                        "iteration": 1065,
                        "passed_time": 3.66760094,
                        "remaining_time": 13.53503011,
                        "test": [
                          0.8582498001,
                          0.4181175246
                        ]
                      },
                      {
                        "learn": [
                          0.3965447362
                        ],
                        "iteration": 1066,
                        "passed_time": 3.673932548,
                        "remaining_time": 13.54224621,
                        "test": [
                          0.8581883033,
                          0.4181879304
                        ]
                      },
                      {
                        "learn": [
                          0.3964699282
                        ],
                        "iteration": 1067,
                        "passed_time": 3.679596948,
                        "remaining_time": 13.54698052,
                        "test": [
                          0.858311297,
                          0.4181467478
                        ]
                      },
                      {
                        "learn": [
                          0.3964319389
                        ],
                        "iteration": 1068,
                        "passed_time": 3.693581688,
                        "remaining_time": 13.5822915,
                        "test": [
                          0.8583727938,
                          0.418214885
                        ]
                      },
                      {
                        "learn": [
                          0.3964062876
                        ],
                        "iteration": 1069,
                        "passed_time": 3.701162919,
                        "remaining_time": 13.59399091,
                        "test": [
                          0.858680278,
                          0.4182191034
                        ]
                      },
                      {
                        "learn": [
                          0.3963761032
                        ],
                        "iteration": 1070,
                        "passed_time": 3.710265064,
                        "remaining_time": 13.61123384,
                        "test": [
                          0.8586187811,
                          0.4182043006
                        ]
                      },
                      {
                        "learn": [
                          0.3962438473
                        ],
                        "iteration": 1071,
                        "passed_time": 3.725884208,
                        "remaining_time": 13.65230706,
                        "test": [
                          0.8581268065,
                          0.41813801
                        ]
                      },
                      {
                        "learn": [
                          0.3962231424
                        ],
                        "iteration": 1072,
                        "passed_time": 3.73244183,
                        "remaining_time": 13.66011096,
                        "test": [
                          0.8581268065,
                          0.4181284852
                        ]
                      },
                      {
                        "learn": [
                          0.3962061607
                        ],
                        "iteration": 1073,
                        "passed_time": 3.736716441,
                        "remaining_time": 13.65954259,
                        "test": [
                          0.8581268065,
                          0.4181145592
                        ]
                      },
                      {
                        "learn": [
                          0.3961986015
                        ],
                        "iteration": 1074,
                        "passed_time": 3.742203922,
                        "remaining_time": 13.66339572,
                        "test": [
                          0.8581268065,
                          0.4181196283
                        ]
                      },
                      {
                        "learn": [
                          0.3960936741
                        ],
                        "iteration": 1075,
                        "passed_time": 3.748525167,
                        "remaining_time": 13.67027208,
                        "test": [
                          0.858311297,
                          0.4180978815
                        ]
                      },
                      {
                        "learn": [
                          0.3960528665
                        ],
                        "iteration": 1076,
                        "passed_time": 3.753643495,
                        "remaining_time": 13.67274227,
                        "test": [
                          0.858311297,
                          0.4181010339
                        ]
                      },
                      {
                        "learn": [
                          0.3959771319
                        ],
                        "iteration": 1077,
                        "passed_time": 3.75949532,
                        "remaining_time": 13.67786702,
                        "test": [
                          0.858311297,
                          0.4181187914
                        ]
                      },
                      {
                        "learn": [
                          0.395944031
                        ],
                        "iteration": 1078,
                        "passed_time": 3.765348292,
                        "remaining_time": 13.68297558,
                        "test": [
                          0.858311297,
                          0.4180997956
                        ]
                      },
                      {
                        "learn": [
                          0.3958827261
                        ],
                        "iteration": 1079,
                        "passed_time": 3.778171768,
                        "remaining_time": 13.71336419,
                        "test": [
                          0.8582498001,
                          0.4180924101
                        ]
                      },
                      {
                        "learn": [
                          0.3958756777
                        ],
                        "iteration": 1080,
                        "passed_time": 3.785513534,
                        "remaining_time": 13.72379976,
                        "test": [
                          0.858311297,
                          0.418092629
                        ]
                      },
                      {
                        "learn": [
                          0.3958352167
                        ],
                        "iteration": 1081,
                        "passed_time": 3.79894775,
                        "remaining_time": 13.75626366,
                        "test": [
                          0.8583727938,
                          0.4181726917
                        ]
                      },
                      {
                        "learn": [
                          0.3957192355
                        ],
                        "iteration": 1082,
                        "passed_time": 3.806240898,
                        "remaining_time": 13.76643176,
                        "test": [
                          0.8584957875,
                          0.4179940749
                        ]
                      },
                      {
                        "learn": [
                          0.3956308676
                        ],
                        "iteration": 1083,
                        "passed_time": 3.813950681,
                        "remaining_time": 13.77807275,
                        "test": [
                          0.8587417748,
                          0.417983511
                        ]
                      },
                      {
                        "learn": [
                          0.3956129193
                        ],
                        "iteration": 1084,
                        "passed_time": 3.826828757,
                        "remaining_time": 13.80832681,
                        "test": [
                          0.858680278,
                          0.4180257534
                        ]
                      },
                      {
                        "learn": [
                          0.3956043126
                        ],
                        "iteration": 1085,
                        "passed_time": 3.830776405,
                        "remaining_time": 13.8063157,
                        "test": [
                          0.858680278,
                          0.4180183363
                        ]
                      },
                      {
                        "learn": [
                          0.3955931307
                        ],
                        "iteration": 1086,
                        "passed_time": 3.835780232,
                        "remaining_time": 13.80810308,
                        "test": [
                          0.8587417748,
                          0.4180128873
                        ]
                      },
                      {
                        "learn": [
                          0.395576258
                        ],
                        "iteration": 1087,
                        "passed_time": 3.843725763,
                        "remaining_time": 13.82045513,
                        "test": [
                          0.8587417748,
                          0.4180126686
                        ]
                      },
                      {
                        "learn": [
                          0.3955147425
                        ],
                        "iteration": 1088,
                        "passed_time": 3.855887666,
                        "remaining_time": 13.84791245,
                        "test": [
                          0.8586187811,
                          0.4180938259
                        ]
                      },
                      {
                        "learn": [
                          0.395475284
                        ],
                        "iteration": 1089,
                        "passed_time": 3.863309677,
                        "remaining_time": 13.85829435,
                        "test": [
                          0.858680278,
                          0.4181130916
                        ]
                      },
                      {
                        "learn": [
                          0.395467983
                        ],
                        "iteration": 1090,
                        "passed_time": 3.870952573,
                        "remaining_time": 13.86943502,
                        "test": [
                          0.858680278,
                          0.4181182904
                        ]
                      },
                      {
                        "learn": [
                          0.3954218841
                        ],
                        "iteration": 1091,
                        "passed_time": 3.884569052,
                        "remaining_time": 13.90191928,
                        "test": [
                          0.8587417748,
                          0.418090422
                        ]
                      },
                      {
                        "learn": [
                          0.3953758464
                        ],
                        "iteration": 1092,
                        "passed_time": 3.891651261,
                        "remaining_time": 13.91096201,
                        "test": [
                          0.8587417748,
                          0.4181464599
                        ]
                      },
                      {
                        "learn": [
                          0.3953602675
                        ],
                        "iteration": 1093,
                        "passed_time": 3.905796023,
                        "remaining_time": 13.94519128,
                        "test": [
                          0.8587417748,
                          0.4181258339
                        ]
                      },
                      {
                        "learn": [
                          0.3953276532
                        ],
                        "iteration": 1094,
                        "passed_time": 3.911053464,
                        "remaining_time": 13.94763815,
                        "test": [
                          0.8587417748,
                          0.4181302973
                        ]
                      },
                      {
                        "learn": [
                          0.3953045709
                        ],
                        "iteration": 1095,
                        "passed_time": 3.918890983,
                        "remaining_time": 13.95926131,
                        "test": [
                          0.858680278,
                          0.4181259116
                        ]
                      },
                      {
                        "learn": [
                          0.3952512298
                        ],
                        "iteration": 1096,
                        "passed_time": 3.932090429,
                        "remaining_time": 13.98992611,
                        "test": [
                          0.8585572843,
                          0.4182758747
                        ]
                      },
                      {
                        "learn": [
                          0.3952189732
                        ],
                        "iteration": 1097,
                        "passed_time": 3.937271198,
                        "remaining_time": 13.99201477,
                        "test": [
                          0.857942316,
                          0.4183654871
                        ]
                      },
                      {
                        "learn": [
                          0.395091516
                        ],
                        "iteration": 1098,
                        "passed_time": 3.943302791,
                        "remaining_time": 13.99711027,
                        "test": [
                          0.857942316,
                          0.4183520104
                        ]
                      },
                      {
                        "learn": [
                          0.3950429108
                        ],
                        "iteration": 1099,
                        "passed_time": 3.951367994,
                        "remaining_time": 14.00939562,
                        "test": [
                          0.857942316,
                          0.4183453986
                        ]
                      },
                      {
                        "learn": [
                          0.394996077
                        ],
                        "iteration": 1100,
                        "passed_time": 3.95505294,
                        "remaining_time": 14.00613207,
                        "test": [
                          0.857942316,
                          0.4182842941
                        ]
                      },
                      {
                        "learn": [
                          0.3949899617
                        ],
                        "iteration": 1101,
                        "passed_time": 3.96194889,
                        "remaining_time": 14.01422575,
                        "test": [
                          0.857942316,
                          0.4183035877
                        ]
                      },
                      {
                        "learn": [
                          0.3949787961
                        ],
                        "iteration": 1102,
                        "passed_time": 3.970405149,
                        "remaining_time": 14.02780496,
                        "test": [
                          0.857942316,
                          0.4183134684
                        ]
                      },
                      {
                        "learn": [
                          0.3948967845
                        ],
                        "iteration": 1103,
                        "passed_time": 3.979556074,
                        "remaining_time": 14.04379571,
                        "test": [
                          0.857942316,
                          0.4182796435
                        ]
                      },
                      {
                        "learn": [
                          0.3948630005
                        ],
                        "iteration": 1104,
                        "passed_time": 3.992762273,
                        "remaining_time": 14.07403534,
                        "test": [
                          0.857942316,
                          0.4182946209
                        ]
                      },
                      {
                        "learn": [
                          0.3948544204
                        ],
                        "iteration": 1105,
                        "passed_time": 4.000217647,
                        "remaining_time": 14.08394893,
                        "test": [
                          0.857942316,
                          0.4182987107
                        ]
                      },
                      {
                        "learn": [
                          0.3947104149
                        ],
                        "iteration": 1106,
                        "passed_time": 4.012044975,
                        "remaining_time": 14.10920604,
                        "test": [
                          0.8578808191,
                          0.4183214202
                        ]
                      },
                      {
                        "learn": [
                          0.3946649425
                        ],
                        "iteration": 1107,
                        "passed_time": 4.020319894,
                        "remaining_time": 14.12191789,
                        "test": [
                          0.8584342906,
                          0.418315284
                        ]
                      },
                      {
                        "learn": [
                          0.3946405921
                        ],
                        "iteration": 1108,
                        "passed_time": 4.029488919,
                        "remaining_time": 14.13772893,
                        "test": [
                          0.8580038128,
                          0.4183058706
                        ]
                      },
                      {
                        "learn": [
                          0.3946061853
                        ],
                        "iteration": 1109,
                        "passed_time": 4.035369972,
                        "remaining_time": 14.14197224,
                        "test": [
                          0.8580653096,
                          0.4183181121
                        ]
                      },
                      {
                        "learn": [
                          0.394604112
                        ],
                        "iteration": 1110,
                        "passed_time": 4.048581288,
                        "remaining_time": 14.17185655,
                        "test": [
                          0.8580653096,
                          0.4183157603
                        ]
                      },
                      {
                        "learn": [
                          0.3945857027
                        ],
                        "iteration": 1111,
                        "passed_time": 4.078594212,
                        "remaining_time": 14.26040854,
                        "test": [
                          0.8580038128,
                          0.4183414736
                        ]
                      },
                      {
                        "learn": [
                          0.3945534377
                        ],
                        "iteration": 1112,
                        "passed_time": 4.083680181,
                        "remaining_time": 14.2616935,
                        "test": [
                          0.857942316,
                          0.4183022862
                        ]
                      },
                      {
                        "learn": [
                          0.3944502272
                        ],
                        "iteration": 1113,
                        "passed_time": 4.098996696,
                        "remaining_time": 14.29865454,
                        "test": [
                          0.857942316,
                          0.4183538707
                        ]
                      },
                      {
                        "learn": [
                          0.3944465618
                        ],
                        "iteration": 1114,
                        "passed_time": 4.115570706,
                        "remaining_time": 14.33990331,
                        "test": [
                          0.857942316,
                          0.418359624
                        ]
                      },
                      {
                        "learn": [
                          0.3944008224
                        ],
                        "iteration": 1115,
                        "passed_time": 4.120059555,
                        "remaining_time": 14.33898863,
                        "test": [
                          0.857942316,
                          0.41829951
                        ]
                      },
                      {
                        "learn": [
                          0.3943596199
                        ],
                        "iteration": 1116,
                        "passed_time": 4.131826694,
                        "remaining_time": 14.36336889,
                        "test": [
                          0.857942316,
                          0.4182907924
                        ]
                      },
                      {
                        "learn": [
                          0.3943101801
                        ],
                        "iteration": 1117,
                        "passed_time": 4.135885862,
                        "remaining_time": 14.36092032,
                        "test": [
                          0.857942316,
                          0.4182864315
                        ]
                      },
                      {
                        "learn": [
                          0.3942718942
                        ],
                        "iteration": 1118,
                        "passed_time": 4.148096001,
                        "remaining_time": 14.38673868,
                        "test": [
                          0.8578193223,
                          0.418292111
                        ]
                      },
                      {
                        "learn": [
                          0.394145824
                        ],
                        "iteration": 1119,
                        "passed_time": 4.153537173,
                        "remaining_time": 14.38903949,
                        "test": [
                          0.8578193223,
                          0.4182566321
                        ]
                      },
                      {
                        "learn": [
                          0.3940996013
                        ],
                        "iteration": 1120,
                        "passed_time": 4.166063108,
                        "remaining_time": 14.41584192,
                        "test": [
                          0.8578193223,
                          0.4182559863
                        ]
                      },
                      {
                        "learn": [
                          0.3940667307
                        ],
                        "iteration": 1121,
                        "passed_time": 4.176105935,
                        "remaining_time": 14.43399181,
                        "test": [
                          0.8578193223,
                          0.418226809
                        ]
                      },
                      {
                        "learn": [
                          0.3939943201
                        ],
                        "iteration": 1122,
                        "passed_time": 4.193363257,
                        "remaining_time": 14.47699853,
                        "test": [
                          0.8578193223,
                          0.4183084548
                        ]
                      },
                      {
                        "learn": [
                          0.3939263038
                        ],
                        "iteration": 1123,
                        "passed_time": 4.20087323,
                        "remaining_time": 14.48628527,
                        "test": [
                          0.8578808191,
                          0.4183072397
                        ]
                      },
                      {
                        "learn": [
                          0.3939180038
                        ],
                        "iteration": 1124,
                        "passed_time": 4.216012538,
                        "remaining_time": 14.52182097,
                        "test": [
                          0.8578808191,
                          0.4183239856
                        ]
                      },
                      {
                        "learn": [
                          0.3938776424
                        ],
                        "iteration": 1125,
                        "passed_time": 4.219386818,
                        "remaining_time": 14.5167891,
                        "test": [
                          0.8578808191,
                          0.4183154685
                        ]
                      },
                      {
                        "learn": [
                          0.3938532815
                        ],
                        "iteration": 1126,
                        "passed_time": 4.222701432,
                        "remaining_time": 14.51155514,
                        "test": [
                          0.8578808191,
                          0.4182830433
                        ]
                      },
                      {
                        "learn": [
                          0.3938128456
                        ],
                        "iteration": 1127,
                        "passed_time": 4.245697473,
                        "remaining_time": 14.57388352,
                        "test": [
                          0.857942316,
                          0.4182607448
                        ]
                      },
                      {
                        "learn": [
                          0.3937748409
                        ],
                        "iteration": 1128,
                        "passed_time": 4.251603258,
                        "remaining_time": 14.57746343,
                        "test": [
                          0.857942316,
                          0.4182533747
                        ]
                      },
                      {
                        "learn": [
                          0.3936902881
                        ],
                        "iteration": 1129,
                        "passed_time": 4.259020274,
                        "remaining_time": 14.58620218,
                        "test": [
                          0.857942316,
                          0.4182468212
                        ]
                      },
                      {
                        "learn": [
                          0.393665299
                        ],
                        "iteration": 1130,
                        "passed_time": 4.265935825,
                        "remaining_time": 14.59319691,
                        "test": [
                          0.8578808191,
                          0.4182514256
                        ]
                      },
                      {
                        "learn": [
                          0.3935816784
                        ],
                        "iteration": 1131,
                        "passed_time": 4.270579106,
                        "remaining_time": 14.59240281,
                        "test": [
                          0.8578193223,
                          0.4183189282
                        ]
                      },
                      {
                        "learn": [
                          0.3934434689
                        ],
                        "iteration": 1132,
                        "passed_time": 4.277681032,
                        "remaining_time": 14.59999342,
                        "test": [
                          0.8578193223,
                          0.4182963799
                        ]
                      },
                      {
                        "learn": [
                          0.3933089623
                        ],
                        "iteration": 1133,
                        "passed_time": 4.295036834,
                        "remaining_time": 14.64251534,
                        "test": [
                          0.8578808191,
                          0.4182763154
                        ]
                      },
                      {
                        "learn": [
                          0.3931639947
                        ],
                        "iteration": 1134,
                        "passed_time": 4.300039573,
                        "remaining_time": 14.64286603,
                        "test": [
                          0.8577578255,
                          0.4181744059
                        ]
                      },
                      {
                        "learn": [
                          0.3931446825
                        ],
                        "iteration": 1135,
                        "passed_time": 4.306119158,
                        "remaining_time": 14.64687009,
                        "test": [
                          0.8577578255,
                          0.4181657895
                        ]
                      },
                      {
                        "learn": [
                          0.3931233333
                        ],
                        "iteration": 1136,
                        "passed_time": 4.32124055,
                        "remaining_time": 14.68157629,
                        "test": [
                          0.8577578255,
                          0.4181360675
                        ]
                      },
                      {
                        "learn": [
                          0.3931033895
                        ],
                        "iteration": 1137,
                        "passed_time": 4.326277838,
                        "remaining_time": 14.68197277,
                        "test": [
                          0.8577578255,
                          0.4181388485
                        ]
                      },
                      {
                        "learn": [
                          0.3930671642
                        ],
                        "iteration": 1138,
                        "passed_time": 4.340594784,
                        "remaining_time": 14.71381603,
                        "test": [
                          0.8576963286,
                          0.4181211783
                        ]
                      },
                      {
                        "learn": [
                          0.3930472345
                        ],
                        "iteration": 1139,
                        "passed_time": 4.347704878,
                        "remaining_time": 14.72117617,
                        "test": [
                          0.8576963286,
                          0.4180829636
                        ]
                      },
                      {
                        "learn": [
                          0.3930377057
                        ],
                        "iteration": 1140,
                        "passed_time": 4.35857952,
                        "remaining_time": 14.74124309,
                        "test": [
                          0.8576963286,
                          0.4180561829
                        ]
                      },
                      {
                        "learn": [
                          0.3929893388
                        ],
                        "iteration": 1141,
                        "passed_time": 4.372837645,
                        "remaining_time": 14.7726862,
                        "test": [
                          0.8576963286,
                          0.4180520198
                        ]
                      },
                      {
                        "learn": [
                          0.3929501593
                        ],
                        "iteration": 1142,
                        "passed_time": 4.379088129,
                        "remaining_time": 14.77702792,
                        "test": [
                          0.8578808191,
                          0.4179832249
                        ]
                      },
                      {
                        "learn": [
                          0.3928906974
                        ],
                        "iteration": 1143,
                        "passed_time": 4.392597848,
                        "remaining_time": 14.80581932,
                        "test": [
                          0.8577578255,
                          0.4180658038
                        ]
                      },
                      {
                        "learn": [
                          0.3928713438
                        ],
                        "iteration": 1144,
                        "passed_time": 4.398551774,
                        "remaining_time": 14.80909789,
                        "test": [
                          0.8577578255,
                          0.4180631036
                        ]
                      },
                      {
                        "learn": [
                          0.3928321349
                        ],
                        "iteration": 1145,
                        "passed_time": 4.411920289,
                        "remaining_time": 14.83729563,
                        "test": [
                          0.8578193223,
                          0.4180401086
                        ]
                      },
                      {
                        "learn": [
                          0.3928236515
                        ],
                        "iteration": 1146,
                        "passed_time": 4.418754566,
                        "remaining_time": 14.84347109,
                        "test": [
                          0.8577578255,
                          0.4180577182
                        ]
                      },
                      {
                        "learn": [
                          0.3927714909
                        ],
                        "iteration": 1147,
                        "passed_time": 4.422564231,
                        "remaining_time": 14.8394751,
                        "test": [
                          0.8578193223,
                          0.4180406558
                        ]
                      },
                      {
                        "learn": [
                          0.3927478524
                        ],
                        "iteration": 1148,
                        "passed_time": 4.436839499,
                        "remaining_time": 14.87055606,
                        "test": [
                          0.8578193223,
                          0.4180371982
                        ]
                      },
                      {
                        "learn": [
                          0.3927053971
                        ],
                        "iteration": 1149,
                        "passed_time": 4.444102237,
                        "remaining_time": 14.8780814,
                        "test": [
                          0.8581883033,
                          0.4179584801
                        ]
                      },
                      {
                        "learn": [
                          0.3926076014
                        ],
                        "iteration": 1150,
                        "passed_time": 4.459340106,
                        "remaining_time": 14.91225027,
                        "test": [
                          0.8581883033,
                          0.4179687397
                        ]
                      },
                      {
                        "learn": [
                          0.3925911938
                        ],
                        "iteration": 1151,
                        "passed_time": 4.465233004,
                        "remaining_time": 14.91511858,
                        "test": [
                          0.8581883033,
                          0.4179552866
                        ]
                      },
                      {
                        "learn": [
                          0.3925873318
                        ],
                        "iteration": 1152,
                        "passed_time": 4.486503532,
                        "remaining_time": 14.96927935,
                        "test": [
                          0.8581883033,
                          0.4179551619
                        ]
                      },
                      {
                        "learn": [
                          0.3925668315
                        ],
                        "iteration": 1153,
                        "passed_time": 4.493502895,
                        "remaining_time": 14.97574708,
                        "test": [
                          0.8582498001,
                          0.4179397222
                        ]
                      },
                      {
                        "learn": [
                          0.3925445029
                        ],
                        "iteration": 1154,
                        "passed_time": 4.499856958,
                        "remaining_time": 14.98004329,
                        "test": [
                          0.8581883033,
                          0.4179354837
                        ]
                      },
                      {
                        "learn": [
                          0.3924634856
                        ],
                        "iteration": 1155,
                        "passed_time": 4.503112625,
                        "remaining_time": 14.97401811,
                        "test": [
                          0.8581883033,
                          0.4179316354
                        ]
                      },
                      {
                        "learn": [
                          0.3924322865
                        ],
                        "iteration": 1156,
                        "passed_time": 4.505908282,
                        "remaining_time": 14.96646977,
                        "test": [
                          0.8581268065,
                          0.4179426872
                        ]
                      },
                      {
                        "learn": [
                          0.3924176186
                        ],
                        "iteration": 1157,
                        "passed_time": 4.508716013,
                        "remaining_time": 14.95896971,
                        "test": [
                          0.8581883033,
                          0.4179720097
                        ]
                      },
                      {
                        "learn": [
                          0.3923528699
                        ],
                        "iteration": 1158,
                        "passed_time": 4.512012845,
                        "remaining_time": 14.95309865,
                        "test": [
                          0.8581883033,
                          0.4179767702
                        ]
                      },
                      {
                        "learn": [
                          0.392345115
                        ],
                        "iteration": 1159,
                        "passed_time": 4.515390937,
                        "remaining_time": 14.94750103,
                        "test": [
                          0.8581883033,
                          0.417949576
                        ]
                      },
                      {
                        "learn": [
                          0.3923419847
                        ],
                        "iteration": 1160,
                        "passed_time": 4.518303243,
                        "remaining_time": 14.94036705,
                        "test": [
                          0.8581883033,
                          0.4179493735
                        ]
                      },
                      {
                        "learn": [
                          0.3921970523
                        ],
                        "iteration": 1161,
                        "passed_time": 4.521446065,
                        "remaining_time": 14.93400172,
                        "test": [
                          0.858311297,
                          0.4178936011
                        ]
                      },
                      {
                        "learn": [
                          0.3921766804
                        ],
                        "iteration": 1162,
                        "passed_time": 4.52448424,
                        "remaining_time": 14.92729667,
                        "test": [
                          0.858311297,
                          0.4178923802
                        ]
                      },
                      {
                        "learn": [
                          0.3921669385
                        ],
                        "iteration": 1163,
                        "passed_time": 4.52726181,
                        "remaining_time": 14.91973909,
                        "test": [
                          0.858311297,
                          0.417890596
                        ]
                      },
                      {
                        "learn": [
                          0.3921290437
                        ],
                        "iteration": 1164,
                        "passed_time": 4.530659741,
                        "remaining_time": 14.91423185,
                        "test": [
                          0.8583727938,
                          0.4179697702
                        ]
                      },
                      {
                        "learn": [
                          0.3920978708
                        ],
                        "iteration": 1165,
                        "passed_time": 4.533614776,
                        "remaining_time": 14.90727191,
                        "test": [
                          0.8583727938,
                          0.4180272457
                        ]
                      },
                      {
                        "learn": [
                          0.3920925653
                        ],
                        "iteration": 1166,
                        "passed_time": 4.536667332,
                        "remaining_time": 14.90063915,
                        "test": [
                          0.8584342906,
                          0.4180255268
                        ]
                      },
                      {
                        "learn": [
                          0.3920861049
                        ],
                        "iteration": 1167,
                        "passed_time": 4.539222037,
                        "remaining_time": 14.89237915,
                        "test": [
                          0.8584342906,
                          0.4180258897
                        ]
                      },
                      {
                        "learn": [
                          0.3920713982
                        ],
                        "iteration": 1168,
                        "passed_time": 4.542109197,
                        "remaining_time": 14.88521842,
                        "test": [
                          0.8584342906,
                          0.4180249683
                        ]
                      },
                      {
                        "learn": [
                          0.3919550531
                        ],
                        "iteration": 1169,
                        "passed_time": 4.544907823,
                        "remaining_time": 14.87777518,
                        "test": [
                          0.8585572843,
                          0.4179485274
                        ]
                      },
                      {
                        "learn": [
                          0.3918714853
                        ],
                        "iteration": 1170,
                        "passed_time": 4.548300355,
                        "remaining_time": 14.87228186,
                        "test": [
                          0.8585572843,
                          0.4179505432
                        ]
                      },
                      {
                        "learn": [
                          0.3918547851
                        ],
                        "iteration": 1171,
                        "passed_time": 4.551184089,
                        "remaining_time": 14.86513028,
                        "test": [
                          0.8585572843,
                          0.417942907
                        ]
                      },
                      {
                        "learn": [
                          0.3918326407
                        ],
                        "iteration": 1172,
                        "passed_time": 4.55413803,
                        "remaining_time": 14.85821504,
                        "test": [
                          0.8585572843,
                          0.4179921636
                        ]
                      },
                      {
                        "learn": [
                          0.3917858192
                        ],
                        "iteration": 1173,
                        "passed_time": 4.557286357,
                        "remaining_time": 14.85194004,
                        "test": [
                          0.8585572843,
                          0.417988251
                        ]
                      },
                      {
                        "learn": [
                          0.3917304365
                        ],
                        "iteration": 1174,
                        "passed_time": 4.560723213,
                        "remaining_time": 14.84660961,
                        "test": [
                          0.8586187811,
                          0.4178600856
                        ]
                      },
                      {
                        "learn": [
                          0.3916918562
                        ],
                        "iteration": 1175,
                        "passed_time": 4.564168954,
                        "remaining_time": 14.84131129,
                        "test": [
                          0.858680278,
                          0.4178385255
                        ]
                      },
                      {
                        "learn": [
                          0.3916323047
                        ],
                        "iteration": 1176,
                        "passed_time": 4.574609116,
                        "remaining_time": 14.85873462,
                        "test": [
                          0.858680278,
                          0.4178469726
                        ]
                      },
                      {
                        "learn": [
                          0.3916317847
                        ],
                        "iteration": 1177,
                        "passed_time": 4.579609131,
                        "remaining_time": 14.85846019,
                        "test": [
                          0.858680278,
                          0.4178469669
                        ]
                      },
                      {
                        "learn": [
                          0.3916155846
                        ],
                        "iteration": 1178,
                        "passed_time": 4.583014522,
                        "remaining_time": 14.85300974,
                        "test": [
                          0.858680278,
                          0.4178479075
                        ]
                      },
                      {
                        "learn": [
                          0.3916059795
                        ],
                        "iteration": 1179,
                        "passed_time": 4.589135895,
                        "remaining_time": 14.85635519,
                        "test": [
                          0.858680278,
                          0.4178485774
                        ]
                      },
                      {
                        "learn": [
                          0.3915481608
                        ],
                        "iteration": 1180,
                        "passed_time": 4.597004482,
                        "remaining_time": 14.86533456,
                        "test": [
                          0.8586187811,
                          0.4177633871
                        ]
                      },
                      {
                        "learn": [
                          0.391537332
                        ],
                        "iteration": 1181,
                        "passed_time": 4.601088943,
                        "remaining_time": 14.86206226,
                        "test": [
                          0.8586187811,
                          0.4177582721
                        ]
                      },
                      {
                        "learn": [
                          0.3914783256
                        ],
                        "iteration": 1182,
                        "passed_time": 4.608583817,
                        "remaining_time": 14.86979242,
                        "test": [
                          0.8584957875,
                          0.4179025541
                        ]
                      },
                      {
                        "learn": [
                          0.3914593879
                        ],
                        "iteration": 1183,
                        "passed_time": 4.612813395,
                        "remaining_time": 14.8669729,
                        "test": [
                          0.8584957875,
                          0.4178941206
                        ]
                      },
                      {
                        "learn": [
                          0.3913089478
                        ],
                        "iteration": 1184,
                        "passed_time": 4.618822698,
                        "remaining_time": 14.86988067,
                        "test": [
                          0.858680278,
                          0.4177650341
                        ]
                      },
                      {
                        "learn": [
                          0.3913026455
                        ],
                        "iteration": 1185,
                        "passed_time": 4.625257034,
                        "remaining_time": 14.87414024,
                        "test": [
                          0.858680278,
                          0.4177881305
                        ]
                      },
                      {
                        "learn": [
                          0.3912578689
                        ],
                        "iteration": 1186,
                        "passed_time": 4.629765392,
                        "remaining_time": 14.87219498,
                        "test": [
                          0.858680278,
                          0.4178306536
                        ]
                      },
                      {
                        "learn": [
                          0.3912523801
                        ],
                        "iteration": 1187,
                        "passed_time": 4.637256425,
                        "remaining_time": 14.87981607,
                        "test": [
                          0.858680278,
                          0.4178044351
                        ]
                      },
                      {
                        "learn": [
                          0.3912252542
                        ],
                        "iteration": 1188,
                        "passed_time": 4.641757947,
                        "remaining_time": 14.87782972,
                        "test": [
                          0.858680278,
                          0.4178057554
                        ]
                      },
                      {
                        "learn": [
                          0.3912103067
                        ],
                        "iteration": 1189,
                        "passed_time": 4.647775191,
                        "remaining_time": 14.880692,
                        "test": [
                          0.858680278,
                          0.4177968291
                        ]
                      },
                      {
                        "learn": [
                          0.3911884915
                        ],
                        "iteration": 1190,
                        "passed_time": 4.651791071,
                        "remaining_time": 14.8771387,
                        "test": [
                          0.858680278,
                          0.4178460968
                        ]
                      },
                      {
                        "learn": [
                          0.3911789415
                        ],
                        "iteration": 1191,
                        "passed_time": 4.658029075,
                        "remaining_time": 14.88068349,
                        "test": [
                          0.858680278,
                          0.4178387127
                        ]
                      },
                      {
                        "learn": [
                          0.391169527
                        ],
                        "iteration": 1192,
                        "passed_time": 4.661775533,
                        "remaining_time": 14.87626107,
                        "test": [
                          0.858680278,
                          0.4178391505
                        ]
                      },
                      {
                        "learn": [
                          0.3910472573
                        ],
                        "iteration": 1193,
                        "passed_time": 4.66997037,
                        "remaining_time": 14.88601945,
                        "test": [
                          0.8587417748,
                          0.417778744
                        ]
                      },
                      {
                        "learn": [
                          0.3909157559
                        ],
                        "iteration": 1194,
                        "passed_time": 4.677275473,
                        "remaining_time": 14.89291479,
                        "test": [
                          0.8589877621,
                          0.4177346303
                        ]
                      },
                      {
                        "learn": [
                          0.3908988875
                        ],
                        "iteration": 1195,
                        "passed_time": 4.681165218,
                        "remaining_time": 14.88892349,
                        "test": [
                          0.8589877621,
                          0.4177018672
                        ]
                      },
                      {
                        "learn": [
                          0.3908813043
                        ],
                        "iteration": 1196,
                        "passed_time": 4.688429806,
                        "remaining_time": 14.8956546,
                        "test": [
                          0.8589877621,
                          0.4177019962
                        ]
                      },
                      {
                        "learn": [
                          0.3908670892
                        ],
                        "iteration": 1197,
                        "passed_time": 4.693972334,
                        "remaining_time": 14.89689717,
                        "test": [
                          0.8589877621,
                          0.4176938594
                        ]
                      },
                      {
                        "learn": [
                          0.3907899125
                        ],
                        "iteration": 1198,
                        "passed_time": 4.70150154,
                        "remaining_time": 14.90442648,
                        "test": [
                          0.8589877621,
                          0.4177117649
                        ]
                      },
                      {
                        "learn": [
                          0.3907440957
                        ],
                        "iteration": 1199,
                        "passed_time": 4.706206086,
                        "remaining_time": 14.90298594,
                        "test": [
                          0.8589877621,
                          0.4177078404
                        ]
                      },
                      {
                        "learn": [
                          0.3906624652
                        ],
                        "iteration": 1200,
                        "passed_time": 4.713546469,
                        "remaining_time": 14.90987763,
                        "test": [
                          0.8589262653,
                          0.4177733561
                        ]
                      },
                      {
                        "learn": [
                          0.3906448698
                        ],
                        "iteration": 1201,
                        "passed_time": 4.717781575,
                        "remaining_time": 14.9069338,
                        "test": [
                          0.8589262653,
                          0.4177699329
                        ]
                      },
                      {
                        "learn": [
                          0.3906297606
                        ],
                        "iteration": 1202,
                        "passed_time": 4.72423308,
                        "remaining_time": 14.91098338,
                        "test": [
                          0.8589262653,
                          0.4177797008
                        ]
                      },
                      {
                        "learn": [
                          0.3905269921
                        ],
                        "iteration": 1203,
                        "passed_time": 4.72872992,
                        "remaining_time": 14.9088528,
                        "test": [
                          0.8589877621,
                          0.4176874615
                        ]
                      },
                      {
                        "learn": [
                          0.3905159301
                        ],
                        "iteration": 1204,
                        "passed_time": 4.735843376,
                        "remaining_time": 14.91495902,
                        "test": [
                          0.8589877621,
                          0.4176876428
                        ]
                      },
                      {
                        "learn": [
                          0.3904582881
                        ],
                        "iteration": 1205,
                        "passed_time": 4.740830394,
                        "remaining_time": 14.91435366,
                        "test": [
                          0.859049259,
                          0.4177431222
                        ]
                      },
                      {
                        "learn": [
                          0.3904559815
                        ],
                        "iteration": 1206,
                        "passed_time": 4.745942798,
                        "remaining_time": 14.91413507,
                        "test": [
                          0.859049259,
                          0.4177246944
                        ]
                      },
                      {
                        "learn": [
                          0.3904378294
                        ],
                        "iteration": 1207,
                        "passed_time": 4.752295709,
                        "remaining_time": 14.91780243,
                        "test": [
                          0.8591107558,
                          0.4177274956
                        ]
                      },
                      {
                        "learn": [
                          0.3903645199
                        ],
                        "iteration": 1208,
                        "passed_time": 4.757358802,
                        "remaining_time": 14.91740878,
                        "test": [
                          0.8591107558,
                          0.4176697387
                        ]
                      },
                      {
                        "learn": [
                          0.3903564905
                        ],
                        "iteration": 1209,
                        "passed_time": 4.762385244,
                        "remaining_time": 14.91689262,
                        "test": [
                          0.859049259,
                          0.4176573845
                        ]
                      },
                      {
                        "learn": [
                          0.3903365993
                        ],
                        "iteration": 1210,
                        "passed_time": 4.768145473,
                        "remaining_time": 14.9186649,
                        "test": [
                          0.8591107558,
                          0.4176421963
                        ]
                      },
                      {
                        "learn": [
                          0.3903218391
                        ],
                        "iteration": 1211,
                        "passed_time": 4.773565533,
                        "remaining_time": 14.91936158,
                        "test": [
                          0.8591107558,
                          0.4176373484
                        ]
                      },
                      {
                        "learn": [
                          0.3903195684
                        ],
                        "iteration": 1212,
                        "passed_time": 4.779117686,
                        "remaining_time": 14.92046058,
                        "test": [
                          0.8591107558,
                          0.4176191643
                        ]
                      },
                      {
                        "learn": [
                          0.3902895202
                        ],
                        "iteration": 1213,
                        "passed_time": 4.786612422,
                        "remaining_time": 14.92760678,
                        "test": [
                          0.8591107558,
                          0.4176302762
                        ]
                      },
                      {
                        "learn": [
                          0.3902600009
                        ],
                        "iteration": 1214,
                        "passed_time": 4.792387149,
                        "remaining_time": 14.92937067,
                        "test": [
                          0.8591722526,
                          0.4176911062
                        ]
                      },
                      {
                        "learn": [
                          0.3902427314
                        ],
                        "iteration": 1215,
                        "passed_time": 4.797434202,
                        "remaining_time": 14.92885775,
                        "test": [
                          0.8591722526,
                          0.4176750909
                        ]
                      },
                      {
                        "learn": [
                          0.3902228514
                        ],
                        "iteration": 1216,
                        "passed_time": 4.803678705,
                        "remaining_time": 14.93205961,
                        "test": [
                          0.8591722526,
                          0.4176780461
                        ]
                      },
                      {
                        "learn": [
                          0.3902045534
                        ],
                        "iteration": 1217,
                        "passed_time": 4.808142867,
                        "remaining_time": 14.92971784,
                        "test": [
                          0.8591722526,
                          0.4176701033
                        ]
                      },
                      {
                        "learn": [
                          0.3901283161
                        ],
                        "iteration": 1218,
                        "passed_time": 4.814156861,
                        "remaining_time": 14.93217973,
                        "test": [
                          0.8591107558,
                          0.4177205932
                        ]
                      },
                      {
                        "learn": [
                          0.3901252786
                        ],
                        "iteration": 1219,
                        "passed_time": 4.819097604,
                        "remaining_time": 14.93130241,
                        "test": [
                          0.8591107558,
                          0.4177171023
                        ]
                      },
                      {
                        "learn": [
                          0.3900862455
                        ],
                        "iteration": 1220,
                        "passed_time": 4.823958697,
                        "remaining_time": 14.93017192,
                        "test": [
                          0.8591107558,
                          0.4177090783
                        ]
                      },
                      {
                        "learn": [
                          0.3899511461
                        ],
                        "iteration": 1221,
                        "passed_time": 4.832442926,
                        "remaining_time": 14.9402368,
                        "test": [
                          0.8591722526,
                          0.4177379765
                        ]
                      },
                      {
                        "learn": [
                          0.389900853
                        ],
                        "iteration": 1222,
                        "passed_time": 4.839036087,
                        "remaining_time": 14.94443115,
                        "test": [
                          0.859049259,
                          0.4178358652
                        ]
                      },
                      {
                        "learn": [
                          0.3898735179
                        ],
                        "iteration": 1223,
                        "passed_time": 4.845696634,
                        "remaining_time": 14.94881576,
                        "test": [
                          0.859049259,
                          0.4178047031
                        ]
                      },
                      {
                        "learn": [
                          0.3898365271
                        ],
                        "iteration": 1224,
                        "passed_time": 4.851863531,
                        "remaining_time": 14.95166109,
                        "test": [
                          0.8591107558,
                          0.417776568
                        ]
                      },
                      {
                        "learn": [
                          0.3897041028
                        ],
                        "iteration": 1225,
                        "passed_time": 4.857093626,
                        "remaining_time": 14.95160795,
                        "test": [
                          0.859049259,
                          0.417696463
                        ]
                      },
                      {
                        "learn": [
                          0.3896900681
                        ],
                        "iteration": 1226,
                        "passed_time": 4.864277774,
                        "remaining_time": 14.95755504,
                        "test": [
                          0.8589877621,
                          0.4177350081
                        ]
                      },
                      {
                        "learn": [
                          0.3896453001
                        ],
                        "iteration": 1227,
                        "passed_time": 4.868593073,
                        "remaining_time": 14.95466862,
                        "test": [
                          0.8589877621,
                          0.4177901673
                        ]
                      },
                      {
                        "learn": [
                          0.3895479032
                        ],
                        "iteration": 1228,
                        "passed_time": 4.871783138,
                        "remaining_time": 14.94832727,
                        "test": [
                          0.8589262653,
                          0.4178414714
                        ]
                      },
                      {
                        "learn": [
                          0.3894007636
                        ],
                        "iteration": 1229,
                        "passed_time": 4.878084176,
                        "remaining_time": 14.9515263,
                        "test": [
                          0.8588647685,
                          0.4178764669
                        ]
                      },
                      {
                        "learn": [
                          0.389331337
                        ],
                        "iteration": 1230,
                        "passed_time": 4.885186251,
                        "remaining_time": 14.95716245,
                        "test": [
                          0.8586187811,
                          0.4180320126
                        ]
                      },
                      {
                        "learn": [
                          0.3892900222
                        ],
                        "iteration": 1231,
                        "passed_time": 4.890675924,
                        "remaining_time": 14.95784649,
                        "test": [
                          0.8586187811,
                          0.4180582631
                        ]
                      },
                      {
                        "learn": [
                          0.3892240103
                        ],
                        "iteration": 1232,
                        "passed_time": 4.897019417,
                        "remaining_time": 14.96112907,
                        "test": [
                          0.8588647685,
                          0.4181574617
                        ]
                      },
                      {
                        "learn": [
                          0.3891999453
                        ],
                        "iteration": 1233,
                        "passed_time": 4.903171565,
                        "remaining_time": 14.96381208,
                        "test": [
                          0.8588647685,
                          0.4181300662
                        ]
                      },
                      {
                        "learn": [
                          0.3891897684
                        ],
                        "iteration": 1234,
                        "passed_time": 4.912708303,
                        "remaining_time": 14.976799,
                        "test": [
                          0.8588647685,
                          0.4181415351
                        ]
                      },
                      {
                        "learn": [
                          0.3891809616
                        ],
                        "iteration": 1235,
                        "passed_time": 4.919103483,
                        "remaining_time": 14.98018245,
                        "test": [
                          0.8588647685,
                          0.4181419291
                        ]
                      },
                      {
                        "learn": [
                          0.3890822233
                        ],
                        "iteration": 1236,
                        "passed_time": 4.925447669,
                        "remaining_time": 14.98339497,
                        "test": [
                          0.8588647685,
                          0.4180525685
                        ]
                      },
                      {
                        "learn": [
                          0.3890494998
                        ],
                        "iteration": 1237,
                        "passed_time": 4.931726456,
                        "remaining_time": 14.98639332,
                        "test": [
                          0.8589262653,
                          0.4180355414
                        ]
                      },
                      {
                        "learn": [
                          0.3890388313
                        ],
                        "iteration": 1238,
                        "passed_time": 4.936093619,
                        "remaining_time": 14.98357393,
                        "test": [
                          0.8589262653,
                          0.4180418013
                        ]
                      },
                      {
                        "learn": [
                          0.3890193722
                        ],
                        "iteration": 1239,
                        "passed_time": 4.941950324,
                        "remaining_time": 14.98526872,
                        "test": [
                          0.8589262653,
                          0.4180261451
                        ]
                      },
                      {
                        "learn": [
                          0.3889757306
                        ],
                        "iteration": 1240,
                        "passed_time": 4.947691678,
                        "remaining_time": 14.98660195,
                        "test": [
                          0.8589877621,
                          0.4180227154
                        ]
                      },
                      {
                        "learn": [
                          0.388965407
                        ],
                        "iteration": 1241,
                        "passed_time": 4.953635455,
                        "remaining_time": 14.98853626,
                        "test": [
                          0.8589877621,
                          0.4180228933
                        ]
                      },
                      {
                        "learn": [
                          0.3889563524
                        ],
                        "iteration": 1242,
                        "passed_time": 4.959874333,
                        "remaining_time": 14.99134986,
                        "test": [
                          0.8589877621,
                          0.417997294
                        ]
                      },
                      {
                        "learn": [
                          0.3889370769
                        ],
                        "iteration": 1243,
                        "passed_time": 4.964294159,
                        "remaining_time": 14.98865664,
                        "test": [
                          0.8589877621,
                          0.4180020903
                        ]
                      },
                      {
                        "learn": [
                          0.3888943183
                        ],
                        "iteration": 1244,
                        "passed_time": 4.970326479,
                        "remaining_time": 14.99082404,
                        "test": [
                          0.859049259,
                          0.4179783433
                        ]
                      },
                      {
                        "learn": [
                          0.3888746357
                        ],
                        "iteration": 1245,
                        "passed_time": 4.975440085,
                        "remaining_time": 14.99021034,
                        "test": [
                          0.859049259,
                          0.4179780938
                        ]
                      },
                      {
                        "learn": [
                          0.3888417509
                        ],
                        "iteration": 1246,
                        "passed_time": 4.982632479,
                        "remaining_time": 14.99584578,
                        "test": [
                          0.8587417748,
                          0.4179295719
                        ]
                      },
                      {
                        "learn": [
                          0.3888324946
                        ],
                        "iteration": 1247,
                        "passed_time": 4.988084157,
                        "remaining_time": 14.99622737,
                        "test": [
                          0.8587417748,
                          0.4179043684
                        ]
                      },
                      {
                        "learn": [
                          0.3888153712
                        ],
                        "iteration": 1248,
                        "passed_time": 4.993671157,
                        "remaining_time": 14.99700601,
                        "test": [
                          0.859049259,
                          0.4179107826
                        ]
                      },
                      {
                        "learn": [
                          0.3887664829
                        ],
                        "iteration": 1249,
                        "passed_time": 5.001702905,
                        "remaining_time": 15.00510871,
                        "test": [
                          0.8588032716,
                          0.4180100251
                        ]
                      },
                      {
                        "learn": [
                          0.3887608103
                        ],
                        "iteration": 1250,
                        "passed_time": 5.006395307,
                        "remaining_time": 15.00317826,
                        "test": [
                          0.8588032716,
                          0.4180326537
                        ]
                      },
                      {
                        "learn": [
                          0.388745585
                        ],
                        "iteration": 1251,
                        "passed_time": 5.015382631,
                        "remaining_time": 15.01410072,
                        "test": [
                          0.8587417748,
                          0.4180614018
                        ]
                      },
                      {
                        "learn": [
                          0.3887439761
                        ],
                        "iteration": 1252,
                        "passed_time": 5.024011809,
                        "remaining_time": 15.02392039,
                        "test": [
                          0.8587417748,
                          0.4180552673
                        ]
                      },
                      {
                        "learn": [
                          0.3885736618
                        ],
                        "iteration": 1253,
                        "passed_time": 5.030705879,
                        "remaining_time": 15.02793,
                        "test": [
                          0.8587417748,
                          0.4180294934
                        ]
                      },
                      {
                        "learn": [
                          0.3884792316
                        ],
                        "iteration": 1254,
                        "passed_time": 5.036329109,
                        "remaining_time": 15.0287271,
                        "test": [
                          0.8588647685,
                          0.4180801119
                        ]
                      },
                      {
                        "learn": [
                          0.3884360947
                        ],
                        "iteration": 1255,
                        "passed_time": 5.041881471,
                        "remaining_time": 15.02930273,
                        "test": [
                          0.8588032716,
                          0.418140046
                        ]
                      },
                      {
                        "learn": [
                          0.3884249246
                        ],
                        "iteration": 1256,
                        "passed_time": 5.05081426,
                        "remaining_time": 15.03993459,
                        "test": [
                          0.8587417748,
                          0.4181300191
                        ]
                      },
                      {
                        "learn": [
                          0.3884124067
                        ],
                        "iteration": 1257,
                        "passed_time": 5.054260521,
                        "remaining_time": 15.03421532,
                        "test": [
                          0.858680278,
                          0.4181298875
                        ]
                      },
                      {
                        "learn": [
                          0.3884008567
                        ],
                        "iteration": 1258,
                        "passed_time": 5.062651399,
                        "remaining_time": 15.04319212,
                        "test": [
                          0.8586187811,
                          0.4181068293
                        ]
                      },
                      {
                        "learn": [
                          0.3883926039
                        ],
                        "iteration": 1259,
                        "passed_time": 5.068221406,
                        "remaining_time": 15.0437683,
                        "test": [
                          0.8585572843,
                          0.4181003011
                        ]
                      },
                      {
                        "learn": [
                          0.3883845407
                        ],
                        "iteration": 1260,
                        "passed_time": 5.074625031,
                        "remaining_time": 15.04680649,
                        "test": [
                          0.8585572843,
                          0.4180804658
                        ]
                      },
                      {
                        "learn": [
                          0.3883510545
                        ],
                        "iteration": 1261,
                        "passed_time": 5.08269986,
                        "remaining_time": 15.05477977,
                        "test": [
                          0.8586187811,
                          0.4180558436
                        ]
                      },
                      {
                        "learn": [
                          0.3883040433
                        ],
                        "iteration": 1262,
                        "passed_time": 5.0870317,
                        "remaining_time": 15.05165278,
                        "test": [
                          0.858680278,
                          0.4181044569
                        ]
                      },
                      {
                        "learn": [
                          0.3882894176
                        ],
                        "iteration": 1263,
                        "passed_time": 5.094767971,
                        "remaining_time": 15.05858635,
                        "test": [
                          0.858680278,
                          0.4180879582
                        ]
                      },
                      {
                        "learn": [
                          0.3881703181
                        ],
                        "iteration": 1264,
                        "passed_time": 5.101382293,
                        "remaining_time": 15.06218408,
                        "test": [
                          0.8586187811,
                          0.4180795751
                        ]
                      },
                      {
                        "learn": [
                          0.3881533344
                        ],
                        "iteration": 1265,
                        "passed_time": 5.107251991,
                        "remaining_time": 15.06356946,
                        "test": [
                          0.8586187811,
                          0.4180619275
                        ]
                      },
                      {
                        "learn": [
                          0.3881343031
                        ],
                        "iteration": 1266,
                        "passed_time": 5.112288634,
                        "remaining_time": 15.06248893,
                        "test": [
                          0.8586187811,
                          0.4180465587
                        ]
                      },
                      {
                        "learn": [
                          0.3881261752
                        ],
                        "iteration": 1267,
                        "passed_time": 5.118420279,
                        "remaining_time": 15.06462499,
                        "test": [
                          0.8586187811,
                          0.4180280259
                        ]
                      },
                      {
                        "learn": [
                          0.3880835013
                        ],
                        "iteration": 1268,
                        "passed_time": 5.12520608,
                        "remaining_time": 15.0686713,
                        "test": [
                          0.858680278,
                          0.4180485044
                        ]
                      },
                      {
                        "learn": [
                          0.3880201049
                        ],
                        "iteration": 1269,
                        "passed_time": 5.12930537,
                        "remaining_time": 15.06481026,
                        "test": [
                          0.8588032716,
                          0.4180087904
                        ]
                      },
                      {
                        "learn": [
                          0.3880064198
                        ],
                        "iteration": 1270,
                        "passed_time": 5.135186332,
                        "remaining_time": 15.06617611,
                        "test": [
                          0.8588032716,
                          0.4180075552
                        ]
                      },
                      {
                        "learn": [
                          0.3879979909
                        ],
                        "iteration": 1271,
                        "passed_time": 5.139802473,
                        "remaining_time": 15.0638236,
                        "test": [
                          0.8588032716,
                          0.4180060755
                        ]
                      },
                      {
                        "learn": [
                          0.3879795597
                        ],
                        "iteration": 1272,
                        "passed_time": 5.144651799,
                        "remaining_time": 15.06215024,
                        "test": [
                          0.8589877621,
                          0.4179911804
                        ]
                      },
                      {
                        "learn": [
                          0.3879037573
                        ],
                        "iteration": 1273,
                        "passed_time": 5.151152886,
                        "remaining_time": 15.06530271,
                        "test": [
                          0.8589262653,
                          0.4180212213
                        ]
                      },
                      {
                        "learn": [
                          0.3878365688
                        ],
                        "iteration": 1274,
                        "passed_time": 5.156621625,
                        "remaining_time": 15.06542396,
                        "test": [
                          0.8591107558,
                          0.4181741903
                        ]
                      },
                      {
                        "learn": [
                          0.3878290516
                        ],
                        "iteration": 1275,
                        "passed_time": 5.163576028,
                        "remaining_time": 15.06987236,
                        "test": [
                          0.8591107558,
                          0.4181748067
                        ]
                      },
                      {
                        "learn": [
                          0.3878143157
                        ],
                        "iteration": 1276,
                        "passed_time": 5.168468391,
                        "remaining_time": 15.06829117,
                        "test": [
                          0.8589877621,
                          0.4181983205
                        ]
                      },
                      {
                        "learn": [
                          0.3877382029
                        ],
                        "iteration": 1277,
                        "passed_time": 5.174469593,
                        "remaining_time": 15.06993414,
                        "test": [
                          0.8589877621,
                          0.4182122019
                        ]
                      },
                      {
                        "learn": [
                          0.3877348715
                        ],
                        "iteration": 1278,
                        "passed_time": 5.17956229,
                        "remaining_time": 15.06892203,
                        "test": [
                          0.8589877621,
                          0.4182174167
                        ]
                      },
                      {
                        "learn": [
                          0.3877179831
                        ],
                        "iteration": 1279,
                        "passed_time": 5.185856796,
                        "remaining_time": 15.07139631,
                        "test": [
                          0.8589877621,
                          0.4182140939
                        ]
                      },
                      {
                        "learn": [
                          0.3877096623
                        ],
                        "iteration": 1280,
                        "passed_time": 5.189962685,
                        "remaining_time": 15.06750291,
                        "test": [
                          0.8589877621,
                          0.4181892918
                        ]
                      },
                      {
                        "learn": [
                          0.3876998071
                        ],
                        "iteration": 1281,
                        "passed_time": 5.19706341,
                        "remaining_time": 15.07229466,
                        "test": [
                          0.8589262653,
                          0.418196273
                        ]
                      },
                      {
                        "learn": [
                          0.3876943801
                        ],
                        "iteration": 1282,
                        "passed_time": 5.200414716,
                        "remaining_time": 15.06620538,
                        "test": [
                          0.8587417748,
                          0.4182186356
                        ]
                      },
                      {
                        "learn": [
                          0.3876799325
                        ],
                        "iteration": 1283,
                        "passed_time": 5.2079113,
                        "remaining_time": 15.07211713,
                        "test": [
                          0.8587417748,
                          0.4182184919
                        ]
                      },
                      {
                        "learn": [
                          0.3876604685
                        ],
                        "iteration": 1284,
                        "passed_time": 5.214704288,
                        "remaining_time": 15.07597388,
                        "test": [
                          0.8587417748,
                          0.4181905815
                        ]
                      },
                      {
                        "learn": [
                          0.3876410642
                        ],
                        "iteration": 1285,
                        "passed_time": 5.217773914,
                        "remaining_time": 15.0690609,
                        "test": [
                          0.8587417748,
                          0.4182088356
                        ]
                      },
                      {
                        "learn": [
                          0.387627932
                        ],
                        "iteration": 1286,
                        "passed_time": 5.224235467,
                        "remaining_time": 15.07193962,
                        "test": [
                          0.8588032716,
                          0.4181885789
                        ]
                      },
                      {
                        "learn": [
                          0.3875964891
                        ],
                        "iteration": 1287,
                        "passed_time": 5.229521898,
                        "remaining_time": 15.07141715,
                        "test": [
                          0.8588032716,
                          0.4181626869
                        ]
                      },
                      {
                        "learn": [
                          0.3875209742
                        ],
                        "iteration": 1288,
                        "passed_time": 5.247789545,
                        "remaining_time": 15.10825989,
                        "test": [
                          0.8588032716,
                          0.4182246219
                        ]
                      },
                      {
                        "learn": [
                          0.3874935169
                        ],
                        "iteration": 1289,
                        "passed_time": 5.250956687,
                        "remaining_time": 15.10158861,
                        "test": [
                          0.8589262653,
                          0.4181666462
                        ]
                      },
                      {
                        "learn": [
                          0.3874670421
                        ],
                        "iteration": 1290,
                        "passed_time": 5.257016403,
                        "remaining_time": 15.10323303,
                        "test": [
                          0.8586187811,
                          0.4182465445
                        ]
                      },
                      {
                        "learn": [
                          0.3874523291
                        ],
                        "iteration": 1291,
                        "passed_time": 5.272296782,
                        "remaining_time": 15.13132853,
                        "test": [
                          0.8586187811,
                          0.4182420436
                        ]
                      },
                      {
                        "learn": [
                          0.3874226111
                        ],
                        "iteration": 1292,
                        "passed_time": 5.276670312,
                        "remaining_time": 15.12808728,
                        "test": [
                          0.8586187811,
                          0.4182035781
                        ]
                      },
                      {
                        "learn": [
                          0.387297655
                        ],
                        "iteration": 1293,
                        "passed_time": 5.289580606,
                        "remaining_time": 15.14929345,
                        "test": [
                          0.8586187811,
                          0.4181707326
                        ]
                      },
                      {
                        "learn": [
                          0.3872636336
                        ],
                        "iteration": 1294,
                        "passed_time": 5.296996087,
                        "remaining_time": 15.15472626,
                        "test": [
                          0.8585572843,
                          0.4181201692
                        ]
                      },
                      {
                        "learn": [
                          0.3872619871
                        ],
                        "iteration": 1295,
                        "passed_time": 5.309565695,
                        "remaining_time": 15.17486986,
                        "test": [
                          0.8585572843,
                          0.4181196261
                        ]
                      },
                      {
                        "learn": [
                          0.3872546052
                        ],
                        "iteration": 1296,
                        "passed_time": 5.314571019,
                        "remaining_time": 15.1733666,
                        "test": [
                          0.8585572843,
                          0.4181174155
                        ]
                      },
                      {
                        "learn": [
                          0.3872509359
                        ],
                        "iteration": 1297,
                        "passed_time": 5.330588514,
                        "remaining_time": 15.20326554,
                        "test": [
                          0.8585572843,
                          0.4181187923
                        ]
                      },
                      {
                        "learn": [
                          0.3872101045
                        ],
                        "iteration": 1298,
                        "passed_time": 5.33627831,
                        "remaining_time": 15.203669,
                        "test": [
                          0.8586187811,
                          0.4180996487
                        ]
                      },
                      {
                        "learn": [
                          0.3872012166
                        ],
                        "iteration": 1299,
                        "passed_time": 5.346639593,
                        "remaining_time": 15.21735884,
                        "test": [
                          0.8586187811,
                          0.4180913676
                        ]
                      },
                      {
                        "learn": [
                          0.3871879144
                        ],
                        "iteration": 1300,
                        "passed_time": 5.351449333,
                        "remaining_time": 15.21522758,
                        "test": [
                          0.8586187811,
                          0.4180898839
                        ]
                      },
                      {
                        "learn": [
                          0.3871734764
                        ],
                        "iteration": 1301,
                        "passed_time": 5.363589726,
                        "remaining_time": 15.23391306,
                        "test": [
                          0.8589262653,
                          0.4180854641
                        ]
                      },
                      {
                        "learn": [
                          0.3871471868
                        ],
                        "iteration": 1302,
                        "passed_time": 5.368549362,
                        "remaining_time": 15.23217728,
                        "test": [
                          0.8589262653,
                          0.4180505698
                        ]
                      },
                      {
                        "learn": [
                          0.3871201932
                        ],
                        "iteration": 1303,
                        "passed_time": 5.39695508,
                        "remaining_time": 15.29689109,
                        "test": [
                          0.8589262653,
                          0.418018224
                        ]
                      },
                      {
                        "learn": [
                          0.3871064565
                        ],
                        "iteration": 1304,
                        "passed_time": 5.401390834,
                        "remaining_time": 15.2935932,
                        "test": [
                          0.8589262653,
                          0.4180052641
                        ]
                      },
                      {
                        "learn": [
                          0.3870829966
                        ],
                        "iteration": 1305,
                        "passed_time": 5.40643054,
                        "remaining_time": 15.29200185,
                        "test": [
                          0.8589262653,
                          0.4180025848
                        ]
                      },
                      {
                        "learn": [
                          0.3870656829
                        ],
                        "iteration": 1306,
                        "passed_time": 5.416869168,
                        "remaining_time": 15.30566017,
                        "test": [
                          0.8589262653,
                          0.4179999755
                        ]
                      },
                      {
                        "learn": [
                          0.3869749316
                        ],
                        "iteration": 1307,
                        "passed_time": 5.421600911,
                        "remaining_time": 15.30317321,
                        "test": [
                          0.8584957875,
                          0.4180494801
                        ]
                      },
                      {
                        "learn": [
                          0.3868471008
                        ],
                        "iteration": 1308,
                        "passed_time": 5.425608979,
                        "remaining_time": 15.29864228,
                        "test": [
                          0.8583727938,
                          0.4180176049
                        ]
                      },
                      {
                        "learn": [
                          0.3868339465
                        ],
                        "iteration": 1309,
                        "passed_time": 5.432414114,
                        "remaining_time": 15.3019909,
                        "test": [
                          0.8583727938,
                          0.4180460922
                        ]
                      },
                      {
                        "learn": [
                          0.386815839
                        ],
                        "iteration": 1310,
                        "passed_time": 5.438306249,
                        "remaining_time": 15.30275496,
                        "test": [
                          0.8583727938,
                          0.4180193532
                        ]
                      },
                      {
                        "learn": [
                          0.3867599207
                        ],
                        "iteration": 1311,
                        "passed_time": 5.441640549,
                        "remaining_time": 15.29631886,
                        "test": [
                          0.8583727938,
                          0.4180130884
                        ]
                      },
                      {
                        "learn": [
                          0.3867255041
                        ],
                        "iteration": 1312,
                        "passed_time": 5.444348863,
                        "remaining_time": 15.28812967,
                        "test": [
                          0.8585572843,
                          0.41790968
                        ]
                      },
                      {
                        "learn": [
                          0.3865835902
                        ],
                        "iteration": 1313,
                        "passed_time": 5.44905149,
                        "remaining_time": 15.28554322,
                        "test": [
                          0.858680278,
                          0.4177915093
                        ]
                      },
                      {
                        "learn": [
                          0.3865701018
                        ],
                        "iteration": 1314,
                        "passed_time": 5.454322522,
                        "remaining_time": 15.28454638,
                        "test": [
                          0.858680278,
                          0.4177538032
                        ]
                      },
                      {
                        "learn": [
                          0.3865441566
                        ],
                        "iteration": 1315,
                        "passed_time": 5.459496589,
                        "remaining_time": 15.28327161,
                        "test": [
                          0.8584957875,
                          0.417754436
                        ]
                      },
                      {
                        "learn": [
                          0.3865273515
                        ],
                        "iteration": 1316,
                        "passed_time": 5.463655332,
                        "remaining_time": 15.27915155,
                        "test": [
                          0.8584957875,
                          0.4177222525
                        ]
                      },
                      {
                        "learn": [
                          0.3865017084
                        ],
                        "iteration": 1317,
                        "passed_time": 5.466603472,
                        "remaining_time": 15.27164946,
                        "test": [
                          0.8583727938,
                          0.4178025177
                        ]
                      },
                      {
                        "learn": [
                          0.3864715577
                        ],
                        "iteration": 1318,
                        "passed_time": 5.473393777,
                        "remaining_time": 15.2748768,
                        "test": [
                          0.8583727938,
                          0.4177879199
                        ]
                      },
                      {
                        "learn": [
                          0.3864589466
                        ],
                        "iteration": 1319,
                        "passed_time": 5.475982083,
                        "remaining_time": 15.26637429,
                        "test": [
                          0.8583727938,
                          0.4177866895
                        ]
                      },
                      {
                        "learn": [
                          0.3863835487
                        ],
                        "iteration": 1320,
                        "passed_time": 5.482287815,
                        "remaining_time": 15.26823382,
                        "test": [
                          0.8583727938,
                          0.4177606586
                        ]
                      },
                      {
                        "learn": [
                          0.3863750591
                        ],
                        "iteration": 1321,
                        "passed_time": 5.490491682,
                        "remaining_time": 15.27536188,
                        "test": [
                          0.8584957875,
                          0.4177586773
                        ]
                      },
                      {
                        "learn": [
                          0.3863483135
                        ],
                        "iteration": 1322,
                        "passed_time": 5.498215423,
                        "remaining_time": 15.28113236,
                        "test": [
                          0.8584957875,
                          0.4177020428
                        ]
                      },
                      {
                        "learn": [
                          0.3863321045
                        ],
                        "iteration": 1323,
                        "passed_time": 5.503614172,
                        "remaining_time": 15.28042726,
                        "test": [
                          0.8584957875,
                          0.4176774257
                        ]
                      },
                      {
                        "learn": [
                          0.3862634443
                        ],
                        "iteration": 1324,
                        "passed_time": 5.512483375,
                        "remaining_time": 15.28934068,
                        "test": [
                          0.8584342906,
                          0.417721981
                        ]
                      },
                      {
                        "learn": [
                          0.3861907936
                        ],
                        "iteration": 1325,
                        "passed_time": 5.522617124,
                        "remaining_time": 15.30173101,
                        "test": [
                          0.858311297,
                          0.4177412028
                        ]
                      },
                      {
                        "learn": [
                          0.3861204515
                        ],
                        "iteration": 1326,
                        "passed_time": 5.528660563,
                        "remaining_time": 15.30276582,
                        "test": [
                          0.858311297,
                          0.417733528
                        ]
                      },
                      {
                        "learn": [
                          0.3860282
                        ],
                        "iteration": 1327,
                        "passed_time": 5.539150561,
                        "remaining_time": 15.31608499,
                        "test": [
                          0.858311297,
                          0.4176646609
                        ]
                      },
                      {
                        "learn": [
                          0.3859906312
                        ],
                        "iteration": 1328,
                        "passed_time": 5.547088083,
                        "remaining_time": 15.3223178,
                        "test": [
                          0.8582498001,
                          0.4176916195
                        ]
                      },
                      {
                        "learn": [
                          0.3859729123
                        ],
                        "iteration": 1329,
                        "passed_time": 5.553608479,
                        "remaining_time": 15.32461889,
                        "test": [
                          0.8583727938,
                          0.4176784492
                        ]
                      },
                      {
                        "learn": [
                          0.3858644515
                        ],
                        "iteration": 1330,
                        "passed_time": 5.562198935,
                        "remaining_time": 15.33261299,
                        "test": [
                          0.8584957875,
                          0.4176506046
                        ]
                      },
                      {
                        "learn": [
                          0.3858510558
                        ],
                        "iteration": 1331,
                        "passed_time": 5.567733031,
                        "remaining_time": 15.33216573,
                        "test": [
                          0.8584957875,
                          0.4176510035
                        ]
                      },
                      {
                        "learn": [
                          0.3858328709
                        ],
                        "iteration": 1332,
                        "passed_time": 5.573735838,
                        "remaining_time": 15.33300024,
                        "test": [
                          0.8584342906,
                          0.4176430243
                        ]
                      },
                      {
                        "learn": [
                          0.3857296633
                        ],
                        "iteration": 1333,
                        "passed_time": 5.579447147,
                        "remaining_time": 15.33302342,
                        "test": [
                          0.8584342906,
                          0.4176509146
                        ]
                      },
                      {
                        "learn": [
                          0.3856671007
                        ],
                        "iteration": 1334,
                        "passed_time": 5.585796932,
                        "remaining_time": 15.33479083,
                        "test": [
                          0.8583727938,
                          0.4176754594
                        ]
                      },
                      {
                        "learn": [
                          0.3856261062
                        ],
                        "iteration": 1335,
                        "passed_time": 5.592183635,
                        "remaining_time": 15.33664733,
                        "test": [
                          0.858311297,
                          0.4177057446
                        ]
                      },
                      {
                        "learn": [
                          0.3856224546
                        ],
                        "iteration": 1336,
                        "passed_time": 5.59498935,
                        "remaining_time": 15.32868062,
                        "test": [
                          0.858311297,
                          0.4177070794
                        ]
                      },
                      {
                        "learn": [
                          0.385619294
                        ],
                        "iteration": 1337,
                        "passed_time": 5.597285356,
                        "remaining_time": 15.31932659,
                        "test": [
                          0.858311297,
                          0.4177126571
                        ]
                      },
                      {
                        "learn": [
                          0.3855650515
                        ],
                        "iteration": 1338,
                        "passed_time": 5.600563332,
                        "remaining_time": 15.31266793,
                        "test": [
                          0.8578193223,
                          0.4178036473
                        ]
                      },
                      {
                        "learn": [
                          0.3855332601
                        ],
                        "iteration": 1339,
                        "passed_time": 5.60447466,
                        "remaining_time": 15.30774422,
                        "test": [
                          0.8578193223,
                          0.4178983932
                        ]
                      },
                      {
                        "learn": [
                          0.3855291105
                        ],
                        "iteration": 1340,
                        "passed_time": 5.610791153,
                        "remaining_time": 15.30938466,
                        "test": [
                          0.8578193223,
                          0.4178950367
                        ]
                      },
                      {
                        "learn": [
                          0.3854388084
                        ],
                        "iteration": 1341,
                        "passed_time": 5.618801583,
                        "remaining_time": 15.31563054,
                        "test": [
                          0.8578193223,
                          0.4178281654
                        ]
                      },
                      {
                        "learn": [
                          0.385414467
                        ],
                        "iteration": 1342,
                        "passed_time": 5.621662479,
                        "remaining_time": 15.30783297,
                        "test": [
                          0.8578193223,
                          0.4178000704
                        ]
                      },
                      {
                        "learn": [
                          0.38536127
                        ],
                        "iteration": 1343,
                        "passed_time": 5.624992715,
                        "remaining_time": 15.30131947,
                        "test": [
                          0.8580653096,
                          0.4178917338
                        ]
                      },
                      {
                        "learn": [
                          0.3852932332
                        ],
                        "iteration": 1344,
                        "passed_time": 5.631177531,
                        "remaining_time": 15.30256794,
                        "test": [
                          0.8580653096,
                          0.41789717
                        ]
                      },
                      {
                        "learn": [
                          0.3852704132
                        ],
                        "iteration": 1345,
                        "passed_time": 5.635457147,
                        "remaining_time": 15.29863329,
                        "test": [
                          0.8580653096,
                          0.4179038434
                        ]
                      },
                      {
                        "learn": [
                          0.3851999868
                        ],
                        "iteration": 1346,
                        "passed_time": 5.640981708,
                        "remaining_time": 15.29807437,
                        "test": [
                          0.8581268065,
                          0.4178695634
                        ]
                      },
                      {
                        "learn": [
                          0.3851578449
                        ],
                        "iteration": 1347,
                        "passed_time": 5.647426464,
                        "remaining_time": 15.30000107,
                        "test": [
                          0.8581268065,
                          0.4178374587
                        ]
                      },
                      {
                        "learn": [
                          0.3851369109
                        ],
                        "iteration": 1348,
                        "passed_time": 5.652586134,
                        "remaining_time": 15.29843734,
                        "test": [
                          0.8581268065,
                          0.4178787353
                        ]
                      },
                      {
                        "learn": [
                          0.3851364529
                        ],
                        "iteration": 1349,
                        "passed_time": 5.656694387,
                        "remaining_time": 15.29402556,
                        "test": [
                          0.8581268065,
                          0.4178787266
                        ]
                      },
                      {
                        "learn": [
                          0.3851158215
                        ],
                        "iteration": 1350,
                        "passed_time": 5.659063554,
                        "remaining_time": 15.28491703,
                        "test": [
                          0.8580653096,
                          0.4179033644
                        ]
                      },
                      {
                        "learn": [
                          0.3850820473
                        ],
                        "iteration": 1351,
                        "passed_time": 5.661648458,
                        "remaining_time": 15.27640057,
                        "test": [
                          0.8580038128,
                          0.4179383833
                        ]
                      },
                      {
                        "learn": [
                          0.3850316486
                        ],
                        "iteration": 1352,
                        "passed_time": 5.664012746,
                        "remaining_time": 15.26729821,
                        "test": [
                          0.857942316,
                          0.4178949569
                        ]
                      },
                      {
                        "learn": [
                          0.3850231422
                        ],
                        "iteration": 1353,
                        "passed_time": 5.666205555,
                        "remaining_time": 15.25774406,
                        "test": [
                          0.8580653096,
                          0.4178879587
                        ]
                      },
                      {
                        "learn": [
                          0.3849068882
                        ],
                        "iteration": 1354,
                        "passed_time": 5.668791981,
                        "remaining_time": 15.24925961,
                        "test": [
                          0.8578808191,
                          0.4178828089
                        ]
                      },
                      {
                        "learn": [
                          0.38485682
                        ],
                        "iteration": 1355,
                        "passed_time": 5.671162543,
                        "remaining_time": 15.24020377,
                        "test": [
                          0.8580038128,
                          0.4179490296
                        ]
                      },
                      {
                        "learn": [
                          0.3848338398
                        ],
                        "iteration": 1356,
                        "passed_time": 5.673436331,
                        "remaining_time": 15.23089798,
                        "test": [
                          0.8580038128,
                          0.4179413319
                        ]
                      },
                      {
                        "learn": [
                          0.3848071346
                        ],
                        "iteration": 1357,
                        "passed_time": 5.675731439,
                        "remaining_time": 15.22165972,
                        "test": [
                          0.8580038128,
                          0.417933176
                        ]
                      },
                      {
                        "learn": [
                          0.3848054676
                        ],
                        "iteration": 1358,
                        "passed_time": 5.677976884,
                        "remaining_time": 15.21229863,
                        "test": [
                          0.8580038128,
                          0.4179343371
                        ]
                      },
                      {
                        "learn": [
                          0.3847976951
                        ],
                        "iteration": 1359,
                        "passed_time": 5.680564755,
                        "remaining_time": 15.20386449,
                        "test": [
                          0.8580038128,
                          0.4179529759
                        ]
                      },
                      {
                        "learn": [
                          0.3847907808
                        ],
                        "iteration": 1360,
                        "passed_time": 5.682889101,
                        "remaining_time": 15.19473434,
                        "test": [
                          0.8580038128,
                          0.4179797374
                        ]
                      },
                      {
                        "learn": [
                          0.3847293406
                        ],
                        "iteration": 1361,
                        "passed_time": 5.685229746,
                        "remaining_time": 15.18565772,
                        "test": [
                          0.857942316,
                          0.4180254504
                        ]
                      },
                      {
                        "learn": [
                          0.3846968447
                        ],
                        "iteration": 1362,
                        "passed_time": 5.68780172,
                        "remaining_time": 15.17720826,
                        "test": [
                          0.8578808191,
                          0.4180174511
                        ]
                      },
                      {
                        "learn": [
                          0.3846745652
                        ],
                        "iteration": 1363,
                        "passed_time": 5.690131058,
                        "remaining_time": 15.16812062,
                        "test": [
                          0.857942316,
                          0.4179826405
                        ]
                      },
                      {
                        "learn": [
                          0.3846573953
                        ],
                        "iteration": 1364,
                        "passed_time": 5.692559483,
                        "remaining_time": 15.15930675,
                        "test": [
                          0.8578193223,
                          0.4179697111
                        ]
                      },
                      {
                        "learn": [
                          0.3846088706
                        ],
                        "iteration": 1365,
                        "passed_time": 5.695071202,
                        "remaining_time": 15.15072383,
                        "test": [
                          0.8577578255,
                          0.4179487463
                        ]
                      },
                      {
                        "learn": [
                          0.3845904814
                        ],
                        "iteration": 1366,
                        "passed_time": 5.697634132,
                        "remaining_time": 15.14228588,
                        "test": [
                          0.8578193223,
                          0.4179222664
                        ]
                      },
                      {
                        "learn": [
                          0.3845274029
                        ],
                        "iteration": 1367,
                        "passed_time": 5.699864387,
                        "remaining_time": 15.13297328,
                        "test": [
                          0.8580038128,
                          0.4180215743
                        ]
                      },
                      {
                        "learn": [
                          0.3844587898
                        ],
                        "iteration": 1368,
                        "passed_time": 5.70240784,
                        "remaining_time": 15.12450173,
                        "test": [
                          0.8581268065,
                          0.4179884032
                        ]
                      },
                      {
                        "learn": [
                          0.3844177282
                        ],
                        "iteration": 1369,
                        "passed_time": 5.704604782,
                        "remaining_time": 15.1151207,
                        "test": [
                          0.8580038128,
                          0.418072851
                        ]
                      },
                      {
                        "learn": [
                          0.384308561
                        ],
                        "iteration": 1370,
                        "passed_time": 5.707235595,
                        "remaining_time": 15.1068986,
                        "test": [
                          0.8580038128,
                          0.4179736132
                        ]
                      },
                      {
                        "learn": [
                          0.384293346
                        ],
                        "iteration": 1371,
                        "passed_time": 5.709668766,
                        "remaining_time": 15.09816202,
                        "test": [
                          0.8580038128,
                          0.4179593054
                        ]
                      },
                      {
                        "learn": [
                          0.3841582594
                        ],
                        "iteration": 1372,
                        "passed_time": 5.712206031,
                        "remaining_time": 15.08970959,
                        "test": [
                          0.8580653096,
                          0.4178694065
                        ]
                      },
                      {
                        "learn": [
                          0.3840848068
                        ],
                        "iteration": 1373,
                        "passed_time": 5.717062758,
                        "remaining_time": 15.08738687,
                        "test": [
                          0.8580653096,
                          0.4178717291
                        ]
                      },
                      {
                        "learn": [
                          0.3839956666
                        ],
                        "iteration": 1374,
                        "passed_time": 5.719841111,
                        "remaining_time": 15.07958111,
                        "test": [
                          0.8576963286,
                          0.4179219661
                        ]
                      },
                      {
                        "learn": [
                          0.383979845
                        ],
                        "iteration": 1375,
                        "passed_time": 5.722349977,
                        "remaining_time": 15.07107291,
                        "test": [
                          0.8576963286,
                          0.4179223047
                        ]
                      },
                      {
                        "learn": [
                          0.3839750827
                        ],
                        "iteration": 1376,
                        "passed_time": 5.724603926,
                        "remaining_time": 15.0619027,
                        "test": [
                          0.8576963286,
                          0.4179255221
                        ]
                      },
                      {
                        "learn": [
                          0.3839480409
                        ],
                        "iteration": 1377,
                        "passed_time": 5.727022695,
                        "remaining_time": 15.05317576,
                        "test": [
                          0.8576963286,
                          0.417890798
                        ]
                      },
                      {
                        "learn": [
                          0.3838811681
                        ],
                        "iteration": 1378,
                        "passed_time": 5.729539356,
                        "remaining_time": 15.04471502,
                        "test": [
                          0.8576963286,
                          0.4179284159
                        ]
                      },
                      {
                        "learn": [
                          0.3838509524
                        ],
                        "iteration": 1379,
                        "passed_time": 5.732316349,
                        "remaining_time": 15.03694578,
                        "test": [
                          0.8576963286,
                          0.4179413515
                        ]
                      },
                      {
                        "learn": [
                          0.3838433984
                        ],
                        "iteration": 1380,
                        "passed_time": 5.734678926,
                        "remaining_time": 15.02809778,
                        "test": [
                          0.8576963286,
                          0.4179188774
                        ]
                      },
                      {
                        "learn": [
                          0.3837914292
                        ],
                        "iteration": 1381,
                        "passed_time": 5.737105446,
                        "remaining_time": 15.01942656,
                        "test": [
                          0.8575118381,
                          0.4180113256
                        ]
                      },
                      {
                        "learn": [
                          0.3837751953
                        ],
                        "iteration": 1382,
                        "passed_time": 5.739358321,
                        "remaining_time": 15.01031023,
                        "test": [
                          0.8575118381,
                          0.4180089844
                        ]
                      },
                      {
                        "learn": [
                          0.3837513344
                        ],
                        "iteration": 1383,
                        "passed_time": 5.741579752,
                        "remaining_time": 15.00112167,
                        "test": [
                          0.8577578255,
                          0.4179706327
                        ]
                      },
                      {
                        "learn": [
                          0.3837093673
                        ],
                        "iteration": 1384,
                        "passed_time": 5.743763092,
                        "remaining_time": 14.99184374,
                        "test": [
                          0.8576348318,
                          0.4180551162
                        ]
                      },
                      {
                        "learn": [
                          0.3836970723
                        ],
                        "iteration": 1385,
                        "passed_time": 5.745988361,
                        "remaining_time": 14.98268538,
                        "test": [
                          0.8576348318,
                          0.4180539646
                        ]
                      },
                      {
                        "learn": [
                          0.3836256931
                        ],
                        "iteration": 1386,
                        "passed_time": 5.748214753,
                        "remaining_time": 14.97353994,
                        "test": [
                          0.8576348318,
                          0.4180563162
                        ]
                      },
                      {
                        "learn": [
                          0.3835850768
                        ],
                        "iteration": 1387,
                        "passed_time": 5.750497563,
                        "remaining_time": 14.9645513,
                        "test": [
                          0.8576348318,
                          0.4180534707
                        ]
                      },
                      {
                        "learn": [
                          0.383545281
                        ],
                        "iteration": 1388,
                        "passed_time": 5.753008021,
                        "remaining_time": 14.95616412,
                        "test": [
                          0.8576348318,
                          0.4180506781
                        ]
                      },
                      {
                        "learn": [
                          0.3835286624
                        ],
                        "iteration": 1389,
                        "passed_time": 5.75551545,
                        "remaining_time": 14.94777754,
                        "test": [
                          0.8576963286,
                          0.4180372853
                        ]
                      },
                      {
                        "learn": [
                          0.383459279
                        ],
                        "iteration": 1390,
                        "passed_time": 5.758074176,
                        "remaining_time": 14.9395325,
                        "test": [
                          0.8578808191,
                          0.4179784093
                        ]
                      },
                      {
                        "learn": [
                          0.3834453982
                        ],
                        "iteration": 1391,
                        "passed_time": 5.760382771,
                        "remaining_time": 14.9306473,
                        "test": [
                          0.8578808191,
                          0.4179742724
                        ]
                      },
                      {
                        "learn": [
                          0.3834405061
                        ],
                        "iteration": 1392,
                        "passed_time": 5.762682361,
                        "remaining_time": 14.92174822,
                        "test": [
                          0.8578808191,
                          0.4179961869
                        ]
                      },
                      {
                        "learn": [
                          0.383381235
                        ],
                        "iteration": 1393,
                        "passed_time": 5.76526871,
                        "remaining_time": 14.91360041,
                        "test": [
                          0.8578808191,
                          0.4179821369
                        ]
                      },
                      {
                        "learn": [
                          0.3832809254
                        ],
                        "iteration": 1394,
                        "passed_time": 5.767894446,
                        "remaining_time": 14.90556235,
                        "test": [
                          0.8576963286,
                          0.4180078266
                        ]
                      },
                      {
                        "learn": [
                          0.3832181315
                        ],
                        "iteration": 1395,
                        "passed_time": 5.770285154,
                        "remaining_time": 14.89692528,
                        "test": [
                          0.8576963286,
                          0.4180816208
                        ]
                      },
                      {
                        "learn": [
                          0.3831019567
                        ],
                        "iteration": 1396,
                        "passed_time": 5.772768585,
                        "remaining_time": 14.8885363,
                        "test": [
                          0.8576963286,
                          0.4180551056
                        ]
                      },
                      {
                        "learn": [
                          0.3830898655
                        ],
                        "iteration": 1397,
                        "passed_time": 5.775127854,
                        "remaining_time": 14.87983586,
                        "test": [
                          0.8576348318,
                          0.41805378
                        ]
                      },
                      {
                        "learn": [
                          0.383047537
                        ],
                        "iteration": 1398,
                        "passed_time": 5.777577374,
                        "remaining_time": 14.87137679,
                        "test": [
                          0.8576963286,
                          0.4180155279
                        ]
                      },
                      {
                        "learn": [
                          0.3829745999
                        ],
                        "iteration": 1399,
                        "passed_time": 5.780023875,
                        "remaining_time": 14.86291854,
                        "test": [
                          0.8576963286,
                          0.4180168961
                        ]
                      },
                      {
                        "learn": [
                          0.3829656537
                        ],
                        "iteration": 1400,
                        "passed_time": 5.782662771,
                        "remaining_time": 14.85496311,
                        "test": [
                          0.8578808191,
                          0.4180297488
                        ]
                      },
                      {
                        "learn": [
                          0.3829297668
                        ],
                        "iteration": 1401,
                        "passed_time": 5.785542036,
                        "remaining_time": 14.84763213,
                        "test": [
                          0.857573335,
                          0.4180897034
                        ]
                      },
                      {
                        "learn": [
                          0.3828627283
                        ],
                        "iteration": 1402,
                        "passed_time": 5.787989217,
                        "remaining_time": 14.83919972,
                        "test": [
                          0.857573335,
                          0.4180578143
                        ]
                      },
                      {
                        "learn": [
                          0.382834054
                        ],
                        "iteration": 1403,
                        "passed_time": 5.790328796,
                        "remaining_time": 14.83050025,
                        "test": [
                          0.857573335,
                          0.4180134548
                        ]
                      },
                      {
                        "learn": [
                          0.3827221155
                        ],
                        "iteration": 1404,
                        "passed_time": 5.792818205,
                        "remaining_time": 14.8221932,
                        "test": [
                          0.8578808191,
                          0.4180082299
                        ]
                      },
                      {
                        "learn": [
                          0.382689689
                        ],
                        "iteration": 1405,
                        "passed_time": 5.795182092,
                        "remaining_time": 14.81357357,
                        "test": [
                          0.8578808191,
                          0.4180431441
                        ]
                      },
                      {
                        "learn": [
                          0.3826621434
                        ],
                        "iteration": 1406,
                        "passed_time": 5.797443986,
                        "remaining_time": 14.80470238,
                        "test": [
                          0.8580038128,
                          0.4180208451
                        ]
                      },
                      {
                        "learn": [
                          0.3826602898
                        ],
                        "iteration": 1407,
                        "passed_time": 5.799641335,
                        "remaining_time": 14.79567591,
                        "test": [
                          0.8580038128,
                          0.4180106928
                        ]
                      },
                      {
                        "learn": [
                          0.3826544164
                        ],
                        "iteration": 1408,
                        "passed_time": 5.80203909,
                        "remaining_time": 14.78716989,
                        "test": [
                          0.8580038128,
                          0.4179874749
                        ]
                      },
                      {
                        "learn": [
                          0.3826030124
                        ],
                        "iteration": 1409,
                        "passed_time": 5.80457297,
                        "remaining_time": 14.77901912,
                        "test": [
                          0.8577578255,
                          0.4180752361
                        ]
                      },
                      {
                        "learn": [
                          0.3825925114
                        ],
                        "iteration": 1410,
                        "passed_time": 5.807225669,
                        "remaining_time": 14.77117854,
                        "test": [
                          0.8577578255,
                          0.4181109551
                        ]
                      },
                      {
                        "learn": [
                          0.3825642961
                        ],
                        "iteration": 1411,
                        "passed_time": 5.8094993,
                        "remaining_time": 14.76238208,
                        "test": [
                          0.8578193223,
                          0.4180970556
                        ]
                      },
                      {
                        "learn": [
                          0.3825383991
                        ],
                        "iteration": 1412,
                        "passed_time": 5.812170755,
                        "remaining_time": 14.75460474,
                        "test": [
                          0.8577578255,
                          0.4180925226
                        ]
                      },
                      {
                        "learn": [
                          0.3825240703
                        ],
                        "iteration": 1413,
                        "passed_time": 5.814553283,
                        "remaining_time": 14.74610189,
                        "test": [
                          0.8577578255,
                          0.4180811226
                        ]
                      },
                      {
                        "learn": [
                          0.3825124522
                        ],
                        "iteration": 1414,
                        "passed_time": 5.817071991,
                        "remaining_time": 14.73795271,
                        "test": [
                          0.8577578255,
                          0.4180796341
                        ]
                      },
                      {
                        "learn": [
                          0.3824963958
                        ],
                        "iteration": 1415,
                        "passed_time": 5.819446526,
                        "remaining_time": 14.72944658,
                        "test": [
                          0.8576963286,
                          0.4180679095
                        ]
                      },
                      {
                        "learn": [
                          0.3824341663
                        ],
                        "iteration": 1416,
                        "passed_time": 5.821832503,
                        "remaining_time": 14.72097802,
                        "test": [
                          0.8576963286,
                          0.4180598162
                        ]
                      },
                      {
                        "learn": [
                          0.3823838676
                        ],
                        "iteration": 1417,
                        "passed_time": 5.824303464,
                        "remaining_time": 14.71273273,
                        "test": [
                          0.8573273476,
                          0.4181534832
                        ]
                      },
                      {
                        "learn": [
                          0.3823760238
                        ],
                        "iteration": 1418,
                        "passed_time": 5.82646488,
                        "remaining_time": 14.7037144,
                        "test": [
                          0.8573273476,
                          0.4181511055
                        ]
                      },
                      {
                        "learn": [
                          0.382373816
                        ],
                        "iteration": 1419,
                        "passed_time": 5.828728978,
                        "remaining_time": 14.69496461,
                        "test": [
                          0.8573273476,
                          0.4181493421
                        ]
                      },
                      {
                        "learn": [
                          0.3823346181
                        ],
                        "iteration": 1420,
                        "passed_time": 5.8310086,
                        "remaining_time": 14.68626304,
                        "test": [
                          0.8576348318,
                          0.4181780074
                        ]
                      },
                      {
                        "learn": [
                          0.3822642924
                        ],
                        "iteration": 1421,
                        "passed_time": 5.833536341,
                        "remaining_time": 14.67819482,
                        "test": [
                          0.8573273476,
                          0.4182652038
                        ]
                      },
                      {
                        "learn": [
                          0.3822568478
                        ],
                        "iteration": 1422,
                        "passed_time": 5.836041817,
                        "remaining_time": 14.67007841,
                        "test": [
                          0.8573273476,
                          0.4182605296
                        ]
                      },
                      {
                        "learn": [
                          0.3822313401
                        ],
                        "iteration": 1423,
                        "passed_time": 5.83865031,
                        "remaining_time": 14.66222859,
                        "test": [
                          0.8573888445,
                          0.4182567281
                        ]
                      },
                      {
                        "learn": [
                          0.3821168628
                        ],
                        "iteration": 1424,
                        "passed_time": 5.841305193,
                        "remaining_time": 14.6545025,
                        "test": [
                          0.8574503413,
                          0.418051909
                        ]
                      },
                      {
                        "learn": [
                          0.3821035626
                        ],
                        "iteration": 1425,
                        "passed_time": 5.843708912,
                        "remaining_time": 14.64615403,
                        "test": [
                          0.8573888445,
                          0.4180442632
                        ]
                      },
                      {
                        "learn": [
                          0.3820542151
                        ],
                        "iteration": 1426,
                        "passed_time": 5.846213059,
                        "remaining_time": 14.63806535,
                        "test": [
                          0.8575118381,
                          0.4181384746
                        ]
                      },
                      {
                        "learn": [
                          0.3820247186
                        ],
                        "iteration": 1427,
                        "passed_time": 5.849038999,
                        "remaining_time": 14.63078943,
                        "test": [
                          0.8574503413,
                          0.4181258738
                        ]
                      },
                      {
                        "learn": [
                          0.3819118678
                        ],
                        "iteration": 1428,
                        "passed_time": 5.851484291,
                        "remaining_time": 14.62256851,
                        "test": [
                          0.8573273476,
                          0.4180732626
                        ]
                      },
                      {
                        "learn": [
                          0.3818249446
                        ],
                        "iteration": 1429,
                        "passed_time": 5.854104503,
                        "remaining_time": 14.61479236,
                        "test": [
                          0.8573888445,
                          0.4181239248
                        ]
                      },
                      {
                        "learn": [
                          0.3818187371
                        ],
                        "iteration": 1430,
                        "passed_time": 5.856297342,
                        "remaining_time": 14.60595752,
                        "test": [
                          0.8572658508,
                          0.4181141663
                        ]
                      },
                      {
                        "learn": [
                          0.3818119737
                        ],
                        "iteration": 1431,
                        "passed_time": 5.858674984,
                        "remaining_time": 14.59759242,
                        "test": [
                          0.8572658508,
                          0.4181092401
                        ]
                      },
                      {
                        "learn": [
                          0.3818082481
                        ],
                        "iteration": 1432,
                        "passed_time": 5.86101944,
                        "remaining_time": 14.58915307,
                        "test": [
                          0.8572658508,
                          0.4180994313
                        ]
                      },
                      {
                        "learn": [
                          0.3817903918
                        ],
                        "iteration": 1433,
                        "passed_time": 5.863500726,
                        "remaining_time": 14.58106247,
                        "test": [
                          0.857204354,
                          0.4180782401
                        ]
                      },
                      {
                        "learn": [
                          0.3817716657
                        ],
                        "iteration": 1434,
                        "passed_time": 5.86582776,
                        "remaining_time": 14.57259649,
                        "test": [
                          0.857204354,
                          0.4180781338
                        ]
                      },
                      {
                        "learn": [
                          0.3816864082
                        ],
                        "iteration": 1435,
                        "passed_time": 5.868461948,
                        "remaining_time": 14.56490138,
                        "test": [
                          0.857204354,
                          0.4181289113
                        ]
                      },
                      {
                        "learn": [
                          0.3816559431
                        ],
                        "iteration": 1436,
                        "passed_time": 5.871135413,
                        "remaining_time": 14.5573107,
                        "test": [
                          0.8572658508,
                          0.4181190858
                        ]
                      },
                      {
                        "learn": [
                          0.3815519312
                        ],
                        "iteration": 1437,
                        "passed_time": 5.873382586,
                        "remaining_time": 14.54867091,
                        "test": [
                          0.8572658508,
                          0.4180614351
                        ]
                      },
                      {
                        "learn": [
                          0.3815448929
                        ],
                        "iteration": 1438,
                        "passed_time": 5.875841966,
                        "remaining_time": 14.54056514,
                        "test": [
                          0.8572658508,
                          0.4180657463
                        ]
                      },
                      {
                        "learn": [
                          0.3815338956
                        ],
                        "iteration": 1439,
                        "passed_time": 5.878375183,
                        "remaining_time": 14.53264976,
                        "test": [
                          0.8572658508,
                          0.418082124
                        ]
                      },
                      {
                        "learn": [
                          0.3814927657
                        ],
                        "iteration": 1440,
                        "passed_time": 5.880695312,
                        "remaining_time": 14.52421556,
                        "test": [
                          0.8574503413,
                          0.4180317343
                        ]
                      },
                      {
                        "learn": [
                          0.3814707825
                        ],
                        "iteration": 1441,
                        "passed_time": 5.882971112,
                        "remaining_time": 14.51568046,
                        "test": [
                          0.8574503413,
                          0.4180835393
                        ]
                      },
                      {
                        "learn": [
                          0.3814607092
                        ],
                        "iteration": 1442,
                        "passed_time": 5.885329548,
                        "remaining_time": 14.50735773,
                        "test": [
                          0.8574503413,
                          0.4180863268
                        ]
                      },
                      {
                        "learn": [
                          0.3813491474
                        ],
                        "iteration": 1443,
                        "passed_time": 5.887813667,
                        "remaining_time": 14.49935277,
                        "test": [
                          0.8574503413,
                          0.4180622733
                        ]
                      },
                      {
                        "learn": [
                          0.3812729887
                        ],
                        "iteration": 1444,
                        "passed_time": 5.890293247,
                        "remaining_time": 14.49134429,
                        "test": [
                          0.857573335,
                          0.4178910136
                        ]
                      },
                      {
                        "learn": [
                          0.38122309
                        ],
                        "iteration": 1445,
                        "passed_time": 5.892732742,
                        "remaining_time": 14.48324493,
                        "test": [
                          0.8575118381,
                          0.4178861352
                        ]
                      },
                      {
                        "learn": [
                          0.3811850676
                        ],
                        "iteration": 1446,
                        "passed_time": 5.89509176,
                        "remaining_time": 14.47495579,
                        "test": [
                          0.857573335,
                          0.4178793795
                        ]
                      },
                      {
                        "learn": [
                          0.3811271154
                        ],
                        "iteration": 1447,
                        "passed_time": 5.897490535,
                        "remaining_time": 14.46677236,
                        "test": [
                          0.8578193223,
                          0.417855908
                        ]
                      },
                      {
                        "learn": [
                          0.3810949299
                        ],
                        "iteration": 1448,
                        "passed_time": 5.899786184,
                        "remaining_time": 14.4583442,
                        "test": [
                          0.8578193223,
                          0.4178447101
                        ]
                      },
                      {
                        "learn": [
                          0.3810545513
                        ],
                        "iteration": 1449,
                        "passed_time": 5.902240246,
                        "remaining_time": 14.45031233,
                        "test": [
                          0.8576348318,
                          0.417850425
                        ]
                      },
                      {
                        "learn": [
                          0.3809300236
                        ],
                        "iteration": 1450,
                        "passed_time": 5.904656586,
                        "remaining_time": 14.44219588,
                        "test": [
                          0.8576963286,
                          0.4178860275
                        ]
                      },
                      {
                        "learn": [
                          0.3809070045
                        ],
                        "iteration": 1451,
                        "passed_time": 5.906949474,
                        "remaining_time": 14.43378563,
                        "test": [
                          0.8577578255,
                          0.4178687742
                        ]
                      },
                      {
                        "learn": [
                          0.3808468515
                        ],
                        "iteration": 1452,
                        "passed_time": 5.909115884,
                        "remaining_time": 14.42507505,
                        "test": [
                          0.8577578255,
                          0.4178421369
                        ]
                      },
                      {
                        "learn": [
                          0.3808426937
                        ],
                        "iteration": 1453,
                        "passed_time": 5.911563913,
                        "remaining_time": 14.41706027,
                        "test": [
                          0.8577578255,
                          0.417863813
                        ]
                      },
                      {
                        "learn": [
                          0.3807817883
                        ],
                        "iteration": 1454,
                        "passed_time": 5.913995805,
                        "remaining_time": 14.40901383,
                        "test": [
                          0.8576963286,
                          0.4178665701
                        ]
                      },
                      {
                        "learn": [
                          0.3807670529
                        ],
                        "iteration": 1455,
                        "passed_time": 5.916613568,
                        "remaining_time": 14.40142753,
                        "test": [
                          0.8576963286,
                          0.4178695061
                        ]
                      },
                      {
                        "learn": [
                          0.3807338639
                        ],
                        "iteration": 1456,
                        "passed_time": 5.919159646,
                        "remaining_time": 14.39367373,
                        "test": [
                          0.8576348318,
                          0.4178425114
                        ]
                      },
                      {
                        "learn": [
                          0.3806696037
                        ],
                        "iteration": 1457,
                        "passed_time": 5.921541182,
                        "remaining_time": 14.38552734,
                        "test": [
                          0.8576963286,
                          0.4178355845
                        ]
                      },
                      {
                        "learn": [
                          0.3806591447
                        ],
                        "iteration": 1458,
                        "passed_time": 5.923970089,
                        "remaining_time": 14.37750383,
                        "test": [
                          0.8576963286,
                          0.4178396124
                        ]
                      },
                      {
                        "learn": [
                          0.3806353932
                        ],
                        "iteration": 1459,
                        "passed_time": 5.926339923,
                        "remaining_time": 14.36934475,
                        "test": [
                          0.8578193223,
                          0.4179193555
                        ]
                      },
                      {
                        "learn": [
                          0.3806066646
                        ],
                        "iteration": 1460,
                        "passed_time": 5.928760941,
                        "remaining_time": 14.36131757,
                        "test": [
                          0.8577578255,
                          0.4180064564
                        ]
                      },
                      {
                        "learn": [
                          0.3805848966
                        ],
                        "iteration": 1461,
                        "passed_time": 5.931115467,
                        "remaining_time": 14.35313716,
                        "test": [
                          0.8577578255,
                          0.4180137402
                        ]
                      },
                      {
                        "learn": [
                          0.3805709155
                        ],
                        "iteration": 1462,
                        "passed_time": 5.933474126,
                        "remaining_time": 14.3449747,
                        "test": [
                          0.8578193223,
                          0.4180028947
                        ]
                      },
                      {
                        "learn": [
                          0.3805312322
                        ],
                        "iteration": 1463,
                        "passed_time": 5.93593706,
                        "remaining_time": 14.33707203,
                        "test": [
                          0.857942316,
                          0.4179643891
                        ]
                      },
                      {
                        "learn": [
                          0.380526893
                        ],
                        "iteration": 1464,
                        "passed_time": 5.938658543,
                        "remaining_time": 14.32980065,
                        "test": [
                          0.8578193223,
                          0.4179856706
                        ]
                      },
                      {
                        "learn": [
                          0.3804622811
                        ],
                        "iteration": 1465,
                        "passed_time": 5.941348423,
                        "remaining_time": 14.32245929,
                        "test": [
                          0.8580038128,
                          0.417955765
                        ]
                      },
                      {
                        "learn": [
                          0.3804447679
                        ],
                        "iteration": 1466,
                        "passed_time": 5.944060479,
                        "remaining_time": 14.31517769,
                        "test": [
                          0.8580038128,
                          0.4179290944
                        ]
                      },
                      {
                        "learn": [
                          0.3803756946
                        ],
                        "iteration": 1467,
                        "passed_time": 5.947154824,
                        "remaining_time": 14.3088221,
                        "test": [
                          0.8576963286,
                          0.4179885509
                        ]
                      },
                      {
                        "learn": [
                          0.3803680189
                        ],
                        "iteration": 1468,
                        "passed_time": 5.949388128,
                        "remaining_time": 14.30040128,
                        "test": [
                          0.8576348318,
                          0.4179806304
                        ]
                      }
                    ],
                    "meta": {
                      "test_sets": [
                        "test"
                      ],
                      "test_metrics": [
                        {
                          "best_value": "Max",
                          "name": "AUC"
                        },
                        {
                          "best_value": "Min",
                          "name": "Logloss"
                        }
                      ],
                      "learn_metrics": [
                        {
                          "best_value": "Min",
                          "name": "Logloss"
                        }
                      ],
                      "launch_mode": "Train",
                      "parameters": "",
                      "iteration_count": 5000,
                      "learn_sets": [
                        "learn"
                      ],
                      "name": "experiment"
                    }
                  }
                }
              }
            },
            "layout": "IPY_MODEL_b60e59ccfb4b4fbbb100203129107c0c"
          }
        }
      }
    }
  },
  "cells": [
    {
      "cell_type": "code",
      "source": [
        "!pip install catboost"
      ],
      "metadata": {
        "colab": {
          "base_uri": "https://localhost:8080/"
        },
        "id": "d3Xde5MiHXTJ",
        "outputId": "1f2f2b4d-141b-4753-9c8b-42f02d3311f8"
      },
      "execution_count": 5,
      "outputs": [
        {
          "output_type": "stream",
          "name": "stdout",
          "text": [
            "Requirement already satisfied: catboost in /usr/local/lib/python3.10/dist-packages (1.2)\n",
            "Requirement already satisfied: graphviz in /usr/local/lib/python3.10/dist-packages (from catboost) (0.20.1)\n",
            "Requirement already satisfied: matplotlib in /usr/local/lib/python3.10/dist-packages (from catboost) (3.7.1)\n",
            "Requirement already satisfied: numpy>=1.16.0 in /usr/local/lib/python3.10/dist-packages (from catboost) (1.23.5)\n",
            "Requirement already satisfied: pandas>=0.24 in /usr/local/lib/python3.10/dist-packages (from catboost) (1.5.3)\n",
            "Requirement already satisfied: scipy in /usr/local/lib/python3.10/dist-packages (from catboost) (1.10.1)\n",
            "Requirement already satisfied: plotly in /usr/local/lib/python3.10/dist-packages (from catboost) (5.13.1)\n",
            "Requirement already satisfied: six in /usr/local/lib/python3.10/dist-packages (from catboost) (1.16.0)\n",
            "Requirement already satisfied: python-dateutil>=2.8.1 in /usr/local/lib/python3.10/dist-packages (from pandas>=0.24->catboost) (2.8.2)\n",
            "Requirement already satisfied: pytz>=2020.1 in /usr/local/lib/python3.10/dist-packages (from pandas>=0.24->catboost) (2022.7.1)\n",
            "Requirement already satisfied: contourpy>=1.0.1 in /usr/local/lib/python3.10/dist-packages (from matplotlib->catboost) (1.1.0)\n",
            "Requirement already satisfied: cycler>=0.10 in /usr/local/lib/python3.10/dist-packages (from matplotlib->catboost) (0.11.0)\n",
            "Requirement already satisfied: fonttools>=4.22.0 in /usr/local/lib/python3.10/dist-packages (from matplotlib->catboost) (4.42.0)\n",
            "Requirement already satisfied: kiwisolver>=1.0.1 in /usr/local/lib/python3.10/dist-packages (from matplotlib->catboost) (1.4.4)\n",
            "Requirement already satisfied: packaging>=20.0 in /usr/local/lib/python3.10/dist-packages (from matplotlib->catboost) (23.1)\n",
            "Requirement already satisfied: pillow>=6.2.0 in /usr/local/lib/python3.10/dist-packages (from matplotlib->catboost) (9.4.0)\n",
            "Requirement already satisfied: pyparsing>=2.3.1 in /usr/local/lib/python3.10/dist-packages (from matplotlib->catboost) (3.1.1)\n",
            "Requirement already satisfied: tenacity>=6.2.0 in /usr/local/lib/python3.10/dist-packages (from plotly->catboost) (8.2.2)\n"
          ]
        }
      ]
    },
    {
      "cell_type": "code",
      "source": [
        "import pandas as pd\n",
        "import numpy as np\n",
        "import matplotlib.pyplot as plt\n",
        "import seaborn as sns\n",
        "from sklearn.preprocessing import LabelEncoder\n",
        "from sklearn.model_selection import train_test_split\n",
        "import catboost\n",
        "from catboost import CatBoostClassifier\n",
        "from sklearn.metrics import confusion_matrix\n",
        "from sklearn.metrics import accuracy_score"
      ],
      "metadata": {
        "id": "Z1qMj4CHHaw6"
      },
      "execution_count": 6,
      "outputs": []
    },
    {
      "cell_type": "code",
      "source": [
        "df=pd.read_csv(\"titanic3.csv\")"
      ],
      "metadata": {
        "id": "HEPac3t0Hd9u"
      },
      "execution_count": 7,
      "outputs": []
    },
    {
      "cell_type": "code",
      "source": [
        "df.shape"
      ],
      "metadata": {
        "colab": {
          "base_uri": "https://localhost:8080/"
        },
        "id": "UIm2OJKaHfk_",
        "outputId": "a4e05625-3eaa-4861-9987-5769c75e8889"
      },
      "execution_count": 8,
      "outputs": [
        {
          "output_type": "execute_result",
          "data": {
            "text/plain": [
              "(1309, 14)"
            ]
          },
          "metadata": {},
          "execution_count": 8
        }
      ]
    },
    {
      "cell_type": "code",
      "source": [
        "df.head()"
      ],
      "metadata": {
        "colab": {
          "base_uri": "https://localhost:8080/",
          "height": 319
        },
        "id": "Ps1Z8nAAHlfT",
        "outputId": "cf9aa7c0-6c46-4b0c-d824-c6b480c14ed2"
      },
      "execution_count": 9,
      "outputs": [
        {
          "output_type": "execute_result",
          "data": {
            "text/plain": [
              "   pclass  survived                                             name     sex  \\\n",
              "0       1         1                    Allen, Miss. Elisabeth Walton  female   \n",
              "1       1         1                   Allison, Master. Hudson Trevor    male   \n",
              "2       1         0                     Allison, Miss. Helen Loraine  female   \n",
              "3       1         0             Allison, Mr. Hudson Joshua Creighton    male   \n",
              "4       1         0  Allison, Mrs. Hudson J C (Bessie Waldo Daniels)  female   \n",
              "\n",
              "     age  sibsp  parch  ticket      fare    cabin embarked boat   body  \\\n",
              "0  29.00      0      0   24160  211.3375       B5        S    2    NaN   \n",
              "1   0.92      1      2  113781  151.5500  C22 C26        S   11    NaN   \n",
              "2   2.00      1      2  113781  151.5500  C22 C26        S  NaN    NaN   \n",
              "3  30.00      1      2  113781  151.5500  C22 C26        S  NaN  135.0   \n",
              "4  25.00      1      2  113781  151.5500  C22 C26        S  NaN    NaN   \n",
              "\n",
              "                         home.dest  \n",
              "0                     St Louis, MO  \n",
              "1  Montreal, PQ / Chesterville, ON  \n",
              "2  Montreal, PQ / Chesterville, ON  \n",
              "3  Montreal, PQ / Chesterville, ON  \n",
              "4  Montreal, PQ / Chesterville, ON  "
            ],
            "text/html": [
              "\n",
              "\n",
              "  <div id=\"df-6f7a9ed9-1f3c-442d-903a-9ae1940aadca\">\n",
              "    <div class=\"colab-df-container\">\n",
              "      <div>\n",
              "<style scoped>\n",
              "    .dataframe tbody tr th:only-of-type {\n",
              "        vertical-align: middle;\n",
              "    }\n",
              "\n",
              "    .dataframe tbody tr th {\n",
              "        vertical-align: top;\n",
              "    }\n",
              "\n",
              "    .dataframe thead th {\n",
              "        text-align: right;\n",
              "    }\n",
              "</style>\n",
              "<table border=\"1\" class=\"dataframe\">\n",
              "  <thead>\n",
              "    <tr style=\"text-align: right;\">\n",
              "      <th></th>\n",
              "      <th>pclass</th>\n",
              "      <th>survived</th>\n",
              "      <th>name</th>\n",
              "      <th>sex</th>\n",
              "      <th>age</th>\n",
              "      <th>sibsp</th>\n",
              "      <th>parch</th>\n",
              "      <th>ticket</th>\n",
              "      <th>fare</th>\n",
              "      <th>cabin</th>\n",
              "      <th>embarked</th>\n",
              "      <th>boat</th>\n",
              "      <th>body</th>\n",
              "      <th>home.dest</th>\n",
              "    </tr>\n",
              "  </thead>\n",
              "  <tbody>\n",
              "    <tr>\n",
              "      <th>0</th>\n",
              "      <td>1</td>\n",
              "      <td>1</td>\n",
              "      <td>Allen, Miss. Elisabeth Walton</td>\n",
              "      <td>female</td>\n",
              "      <td>29.00</td>\n",
              "      <td>0</td>\n",
              "      <td>0</td>\n",
              "      <td>24160</td>\n",
              "      <td>211.3375</td>\n",
              "      <td>B5</td>\n",
              "      <td>S</td>\n",
              "      <td>2</td>\n",
              "      <td>NaN</td>\n",
              "      <td>St Louis, MO</td>\n",
              "    </tr>\n",
              "    <tr>\n",
              "      <th>1</th>\n",
              "      <td>1</td>\n",
              "      <td>1</td>\n",
              "      <td>Allison, Master. Hudson Trevor</td>\n",
              "      <td>male</td>\n",
              "      <td>0.92</td>\n",
              "      <td>1</td>\n",
              "      <td>2</td>\n",
              "      <td>113781</td>\n",
              "      <td>151.5500</td>\n",
              "      <td>C22 C26</td>\n",
              "      <td>S</td>\n",
              "      <td>11</td>\n",
              "      <td>NaN</td>\n",
              "      <td>Montreal, PQ / Chesterville, ON</td>\n",
              "    </tr>\n",
              "    <tr>\n",
              "      <th>2</th>\n",
              "      <td>1</td>\n",
              "      <td>0</td>\n",
              "      <td>Allison, Miss. Helen Loraine</td>\n",
              "      <td>female</td>\n",
              "      <td>2.00</td>\n",
              "      <td>1</td>\n",
              "      <td>2</td>\n",
              "      <td>113781</td>\n",
              "      <td>151.5500</td>\n",
              "      <td>C22 C26</td>\n",
              "      <td>S</td>\n",
              "      <td>NaN</td>\n",
              "      <td>NaN</td>\n",
              "      <td>Montreal, PQ / Chesterville, ON</td>\n",
              "    </tr>\n",
              "    <tr>\n",
              "      <th>3</th>\n",
              "      <td>1</td>\n",
              "      <td>0</td>\n",
              "      <td>Allison, Mr. Hudson Joshua Creighton</td>\n",
              "      <td>male</td>\n",
              "      <td>30.00</td>\n",
              "      <td>1</td>\n",
              "      <td>2</td>\n",
              "      <td>113781</td>\n",
              "      <td>151.5500</td>\n",
              "      <td>C22 C26</td>\n",
              "      <td>S</td>\n",
              "      <td>NaN</td>\n",
              "      <td>135.0</td>\n",
              "      <td>Montreal, PQ / Chesterville, ON</td>\n",
              "    </tr>\n",
              "    <tr>\n",
              "      <th>4</th>\n",
              "      <td>1</td>\n",
              "      <td>0</td>\n",
              "      <td>Allison, Mrs. Hudson J C (Bessie Waldo Daniels)</td>\n",
              "      <td>female</td>\n",
              "      <td>25.00</td>\n",
              "      <td>1</td>\n",
              "      <td>2</td>\n",
              "      <td>113781</td>\n",
              "      <td>151.5500</td>\n",
              "      <td>C22 C26</td>\n",
              "      <td>S</td>\n",
              "      <td>NaN</td>\n",
              "      <td>NaN</td>\n",
              "      <td>Montreal, PQ / Chesterville, ON</td>\n",
              "    </tr>\n",
              "  </tbody>\n",
              "</table>\n",
              "</div>\n",
              "      <button class=\"colab-df-convert\" onclick=\"convertToInteractive('df-6f7a9ed9-1f3c-442d-903a-9ae1940aadca')\"\n",
              "              title=\"Convert this dataframe to an interactive table.\"\n",
              "              style=\"display:none;\">\n",
              "\n",
              "  <svg xmlns=\"http://www.w3.org/2000/svg\" height=\"24px\"viewBox=\"0 0 24 24\"\n",
              "       width=\"24px\">\n",
              "    <path d=\"M0 0h24v24H0V0z\" fill=\"none\"/>\n",
              "    <path d=\"M18.56 5.44l.94 2.06.94-2.06 2.06-.94-2.06-.94-.94-2.06-.94 2.06-2.06.94zm-11 1L8.5 8.5l.94-2.06 2.06-.94-2.06-.94L8.5 2.5l-.94 2.06-2.06.94zm10 10l.94 2.06.94-2.06 2.06-.94-2.06-.94-.94-2.06-.94 2.06-2.06.94z\"/><path d=\"M17.41 7.96l-1.37-1.37c-.4-.4-.92-.59-1.43-.59-.52 0-1.04.2-1.43.59L10.3 9.45l-7.72 7.72c-.78.78-.78 2.05 0 2.83L4 21.41c.39.39.9.59 1.41.59.51 0 1.02-.2 1.41-.59l7.78-7.78 2.81-2.81c.8-.78.8-2.07 0-2.86zM5.41 20L4 18.59l7.72-7.72 1.47 1.35L5.41 20z\"/>\n",
              "  </svg>\n",
              "      </button>\n",
              "\n",
              "\n",
              "\n",
              "    <div id=\"df-d803c96b-9e49-40dc-9aac-1b99e362079d\">\n",
              "      <button class=\"colab-df-quickchart\" onclick=\"quickchart('df-d803c96b-9e49-40dc-9aac-1b99e362079d')\"\n",
              "              title=\"Suggest charts.\"\n",
              "              style=\"display:none;\">\n",
              "\n",
              "<svg xmlns=\"http://www.w3.org/2000/svg\" height=\"24px\"viewBox=\"0 0 24 24\"\n",
              "     width=\"24px\">\n",
              "    <g>\n",
              "        <path d=\"M19 3H5c-1.1 0-2 .9-2 2v14c0 1.1.9 2 2 2h14c1.1 0 2-.9 2-2V5c0-1.1-.9-2-2-2zM9 17H7v-7h2v7zm4 0h-2V7h2v10zm4 0h-2v-4h2v4z\"/>\n",
              "    </g>\n",
              "</svg>\n",
              "      </button>\n",
              "    </div>\n",
              "\n",
              "<style>\n",
              "  .colab-df-quickchart {\n",
              "    background-color: #E8F0FE;\n",
              "    border: none;\n",
              "    border-radius: 50%;\n",
              "    cursor: pointer;\n",
              "    display: none;\n",
              "    fill: #1967D2;\n",
              "    height: 32px;\n",
              "    padding: 0 0 0 0;\n",
              "    width: 32px;\n",
              "  }\n",
              "\n",
              "  .colab-df-quickchart:hover {\n",
              "    background-color: #E2EBFA;\n",
              "    box-shadow: 0px 1px 2px rgba(60, 64, 67, 0.3), 0px 1px 3px 1px rgba(60, 64, 67, 0.15);\n",
              "    fill: #174EA6;\n",
              "  }\n",
              "\n",
              "  [theme=dark] .colab-df-quickchart {\n",
              "    background-color: #3B4455;\n",
              "    fill: #D2E3FC;\n",
              "  }\n",
              "\n",
              "  [theme=dark] .colab-df-quickchart:hover {\n",
              "    background-color: #434B5C;\n",
              "    box-shadow: 0px 1px 3px 1px rgba(0, 0, 0, 0.15);\n",
              "    filter: drop-shadow(0px 1px 2px rgba(0, 0, 0, 0.3));\n",
              "    fill: #FFFFFF;\n",
              "  }\n",
              "</style>\n",
              "\n",
              "    <script>\n",
              "      async function quickchart(key) {\n",
              "        const containerElement = document.querySelector('#' + key);\n",
              "        const charts = await google.colab.kernel.invokeFunction(\n",
              "            'suggestCharts', [key], {});\n",
              "      }\n",
              "    </script>\n",
              "\n",
              "      <script>\n",
              "\n",
              "function displayQuickchartButton(domScope) {\n",
              "  let quickchartButtonEl =\n",
              "    domScope.querySelector('#df-d803c96b-9e49-40dc-9aac-1b99e362079d button.colab-df-quickchart');\n",
              "  quickchartButtonEl.style.display =\n",
              "    google.colab.kernel.accessAllowed ? 'block' : 'none';\n",
              "}\n",
              "\n",
              "        displayQuickchartButton(document);\n",
              "      </script>\n",
              "      <style>\n",
              "    .colab-df-container {\n",
              "      display:flex;\n",
              "      flex-wrap:wrap;\n",
              "      gap: 12px;\n",
              "    }\n",
              "\n",
              "    .colab-df-convert {\n",
              "      background-color: #E8F0FE;\n",
              "      border: none;\n",
              "      border-radius: 50%;\n",
              "      cursor: pointer;\n",
              "      display: none;\n",
              "      fill: #1967D2;\n",
              "      height: 32px;\n",
              "      padding: 0 0 0 0;\n",
              "      width: 32px;\n",
              "    }\n",
              "\n",
              "    .colab-df-convert:hover {\n",
              "      background-color: #E2EBFA;\n",
              "      box-shadow: 0px 1px 2px rgba(60, 64, 67, 0.3), 0px 1px 3px 1px rgba(60, 64, 67, 0.15);\n",
              "      fill: #174EA6;\n",
              "    }\n",
              "\n",
              "    [theme=dark] .colab-df-convert {\n",
              "      background-color: #3B4455;\n",
              "      fill: #D2E3FC;\n",
              "    }\n",
              "\n",
              "    [theme=dark] .colab-df-convert:hover {\n",
              "      background-color: #434B5C;\n",
              "      box-shadow: 0px 1px 3px 1px rgba(0, 0, 0, 0.15);\n",
              "      filter: drop-shadow(0px 1px 2px rgba(0, 0, 0, 0.3));\n",
              "      fill: #FFFFFF;\n",
              "    }\n",
              "  </style>\n",
              "\n",
              "      <script>\n",
              "        const buttonEl =\n",
              "          document.querySelector('#df-6f7a9ed9-1f3c-442d-903a-9ae1940aadca button.colab-df-convert');\n",
              "        buttonEl.style.display =\n",
              "          google.colab.kernel.accessAllowed ? 'block' : 'none';\n",
              "\n",
              "        async function convertToInteractive(key) {\n",
              "          const element = document.querySelector('#df-6f7a9ed9-1f3c-442d-903a-9ae1940aadca');\n",
              "          const dataTable =\n",
              "            await google.colab.kernel.invokeFunction('convertToInteractive',\n",
              "                                                     [key], {});\n",
              "          if (!dataTable) return;\n",
              "\n",
              "          const docLinkHtml = 'Like what you see? Visit the ' +\n",
              "            '<a target=\"_blank\" href=https://colab.research.google.com/notebooks/data_table.ipynb>data table notebook</a>'\n",
              "            + ' to learn more about interactive tables.';\n",
              "          element.innerHTML = '';\n",
              "          dataTable['output_type'] = 'display_data';\n",
              "          await google.colab.output.renderOutput(dataTable, element);\n",
              "          const docLink = document.createElement('div');\n",
              "          docLink.innerHTML = docLinkHtml;\n",
              "          element.appendChild(docLink);\n",
              "        }\n",
              "      </script>\n",
              "    </div>\n",
              "  </div>\n"
            ]
          },
          "metadata": {},
          "execution_count": 9
        }
      ]
    },
    {
      "cell_type": "code",
      "source": [
        "df.dtypes"
      ],
      "metadata": {
        "colab": {
          "base_uri": "https://localhost:8080/"
        },
        "id": "vuvZydLIIBZU",
        "outputId": "5b22e6a2-5eb7-4338-e900-9a399d3e5278"
      },
      "execution_count": 10,
      "outputs": [
        {
          "output_type": "execute_result",
          "data": {
            "text/plain": [
              "pclass         int64\n",
              "survived       int64\n",
              "name          object\n",
              "sex           object\n",
              "age          float64\n",
              "sibsp          int64\n",
              "parch          int64\n",
              "ticket        object\n",
              "fare         float64\n",
              "cabin         object\n",
              "embarked      object\n",
              "boat          object\n",
              "body         float64\n",
              "home.dest     object\n",
              "dtype: object"
            ]
          },
          "metadata": {},
          "execution_count": 10
        }
      ]
    },
    {
      "cell_type": "code",
      "source": [
        "df.isna().sum()"
      ],
      "metadata": {
        "colab": {
          "base_uri": "https://localhost:8080/"
        },
        "id": "zje7pKD1HncZ",
        "outputId": "04f78078-88fd-40c7-acd6-9559a455fe09"
      },
      "execution_count": 11,
      "outputs": [
        {
          "output_type": "execute_result",
          "data": {
            "text/plain": [
              "pclass          0\n",
              "survived        0\n",
              "name            0\n",
              "sex             0\n",
              "age           263\n",
              "sibsp           0\n",
              "parch           0\n",
              "ticket          0\n",
              "fare            1\n",
              "cabin        1014\n",
              "embarked        2\n",
              "boat          823\n",
              "body         1188\n",
              "home.dest     564\n",
              "dtype: int64"
            ]
          },
          "metadata": {},
          "execution_count": 11
        }
      ]
    },
    {
      "cell_type": "code",
      "source": [
        "df['embarked'] = df['embarked'].replace(np.NaN, 'Unknown')"
      ],
      "metadata": {
        "id": "0HJfypr8Ho07"
      },
      "execution_count": 12,
      "outputs": []
    },
    {
      "cell_type": "code",
      "source": [
        "df['cabin'] = df['cabin'].replace(np.NaN, 'U')\n",
        "df['cabin'] = [ln[0] for ln in df['cabin'].values]\n",
        "df['cabin'] = df['cabin'].replace('U', 'Unknown')"
      ],
      "metadata": {
        "id": "QBEKEYVBHrs7"
      },
      "execution_count": 13,
      "outputs": []
    },
    {
      "cell_type": "code",
      "source": [
        "df[\"cabin\"].isna()"
      ],
      "metadata": {
        "colab": {
          "base_uri": "https://localhost:8080/"
        },
        "id": "YibKfwQLHuO-",
        "outputId": "95dda248-3305-4adb-bd72-6f69d6dec947"
      },
      "execution_count": 14,
      "outputs": [
        {
          "output_type": "execute_result",
          "data": {
            "text/plain": [
              "0       False\n",
              "1       False\n",
              "2       False\n",
              "3       False\n",
              "4       False\n",
              "        ...  \n",
              "1304    False\n",
              "1305    False\n",
              "1306    False\n",
              "1307    False\n",
              "1308    False\n",
              "Name: cabin, Length: 1309, dtype: bool"
            ]
          },
          "metadata": {},
          "execution_count": 14
        }
      ]
    },
    {
      "cell_type": "code",
      "source": [
        "df['cabin'].head()"
      ],
      "metadata": {
        "colab": {
          "base_uri": "https://localhost:8080/"
        },
        "id": "8YRvK639Hvux",
        "outputId": "30a4d084-fef1-47e8-a5f1-aa740e3f6da1"
      },
      "execution_count": 15,
      "outputs": [
        {
          "output_type": "execute_result",
          "data": {
            "text/plain": [
              "0    B\n",
              "1    C\n",
              "2    C\n",
              "3    C\n",
              "4    C\n",
              "Name: cabin, dtype: object"
            ]
          },
          "metadata": {},
          "execution_count": 15
        }
      ]
    },
    {
      "cell_type": "code",
      "source": [
        "df = df[[f for f in list(df) if f not in ['name', 'boat','body', 'ticket', 'home.dest']]]"
      ],
      "metadata": {
        "id": "MIl0oe2ZHxsT"
      },
      "execution_count": 16,
      "outputs": []
    },
    {
      "cell_type": "code",
      "source": [
        "lblenc=LabelEncoder()\n",
        "\n",
        "df[\"sex\"]=lblenc.fit_transform(df[\"sex\"])\n",
        "\n",
        "df[\"pclass\"]=lblenc.fit_transform(df[\"pclass\"])"
      ],
      "metadata": {
        "colab": {
          "base_uri": "https://localhost:8080/"
        },
        "id": "wPcRVNKpH0Q8",
        "outputId": "0e80dad6-ae00-4dbe-deab-10025d99dde2"
      },
      "execution_count": 17,
      "outputs": [
        {
          "output_type": "stream",
          "name": "stderr",
          "text": [
            "<ipython-input-17-42efb274acd4>:3: SettingWithCopyWarning: \n",
            "A value is trying to be set on a copy of a slice from a DataFrame.\n",
            "Try using .loc[row_indexer,col_indexer] = value instead\n",
            "\n",
            "See the caveats in the documentation: https://pandas.pydata.org/pandas-docs/stable/user_guide/indexing.html#returning-a-view-versus-a-copy\n",
            "  df[\"sex\"]=lblenc.fit_transform(df[\"sex\"])\n",
            "<ipython-input-17-42efb274acd4>:5: SettingWithCopyWarning: \n",
            "A value is trying to be set on a copy of a slice from a DataFrame.\n",
            "Try using .loc[row_indexer,col_indexer] = value instead\n",
            "\n",
            "See the caveats in the documentation: https://pandas.pydata.org/pandas-docs/stable/user_guide/indexing.html#returning-a-view-versus-a-copy\n",
            "  df[\"pclass\"]=lblenc.fit_transform(df[\"pclass\"])\n"
          ]
        }
      ]
    },
    {
      "cell_type": "code",
      "source": [
        "df['age']=df['age'].fillna(df['age'].mean())"
      ],
      "metadata": {
        "colab": {
          "base_uri": "https://localhost:8080/"
        },
        "id": "tJcbn1MvH3P5",
        "outputId": "85bfc2e9-fd2b-4903-8fec-8fe1c27466ed"
      },
      "execution_count": 18,
      "outputs": [
        {
          "output_type": "stream",
          "name": "stderr",
          "text": [
            "<ipython-input-18-2f8578dfdb1e>:1: SettingWithCopyWarning: \n",
            "A value is trying to be set on a copy of a slice from a DataFrame.\n",
            "Try using .loc[row_indexer,col_indexer] = value instead\n",
            "\n",
            "See the caveats in the documentation: https://pandas.pydata.org/pandas-docs/stable/user_guide/indexing.html#returning-a-view-versus-a-copy\n",
            "  df['age']=df['age'].fillna(df['age'].mean())\n"
          ]
        }
      ]
    },
    {
      "cell_type": "code",
      "source": [
        "df.isna().sum()"
      ],
      "metadata": {
        "colab": {
          "base_uri": "https://localhost:8080/"
        },
        "id": "22etJ5HJH5Di",
        "outputId": "697b3feb-dcfa-48d8-80f6-c8628171305f"
      },
      "execution_count": 19,
      "outputs": [
        {
          "output_type": "execute_result",
          "data": {
            "text/plain": [
              "pclass      0\n",
              "survived    0\n",
              "sex         0\n",
              "age         0\n",
              "sibsp       0\n",
              "parch       0\n",
              "fare        1\n",
              "cabin       0\n",
              "embarked    0\n",
              "dtype: int64"
            ]
          },
          "metadata": {},
          "execution_count": 19
        }
      ]
    },
    {
      "cell_type": "code",
      "source": [
        "df=df.dropna()"
      ],
      "metadata": {
        "id": "EcXsnOFTH6MJ"
      },
      "execution_count": 20,
      "outputs": []
    },
    {
      "cell_type": "code",
      "source": [
        "df.shape"
      ],
      "metadata": {
        "colab": {
          "base_uri": "https://localhost:8080/"
        },
        "id": "CD-4buiAH77e",
        "outputId": "9f52cd84-bc56-4643-cf1f-2b27e6459e1f"
      },
      "execution_count": 21,
      "outputs": [
        {
          "output_type": "execute_result",
          "data": {
            "text/plain": [
              "(1308, 9)"
            ]
          },
          "metadata": {},
          "execution_count": 21
        }
      ]
    },
    {
      "cell_type": "code",
      "source": [
        "x=df.drop(labels=\"survived\",axis=1)\n",
        "y=df['survived']"
      ],
      "metadata": {
        "id": "o367U671H9PV"
      },
      "execution_count": 22,
      "outputs": []
    },
    {
      "cell_type": "code",
      "source": [
        "features = [feat for feat in list(df) if feat != 'survived']\n",
        "titanic_categories = np.where(df[features].dtypes != np.float)[0]"
      ],
      "metadata": {
        "colab": {
          "base_uri": "https://localhost:8080/"
        },
        "id": "Pecc68UeIG1r",
        "outputId": "cd7d3d92-8807-40ca-8602-32cc8f1dac2d"
      },
      "execution_count": 23,
      "outputs": [
        {
          "output_type": "stream",
          "name": "stderr",
          "text": [
            "<ipython-input-23-bee2fd65c8cd>:2: DeprecationWarning: `np.float` is a deprecated alias for the builtin `float`. To silence this warning, use `float` by itself. Doing this will not modify any behavior and is safe. If you specifically wanted the numpy scalar type, use `np.float64` here.\n",
            "Deprecated in NumPy 1.20; for more details and guidance: https://numpy.org/devdocs/release/1.20.0-notes.html#deprecations\n",
            "  titanic_categories = np.where(df[features].dtypes != np.float)[0]\n"
          ]
        }
      ]
    },
    {
      "cell_type": "code",
      "source": [
        "X_train, X_test, y_train, y_test = train_test_split(df[features],\n",
        "                                                    df[['survived']],\n",
        "                                                    test_size=0.2,\n",
        "                                                     random_state=0)"
      ],
      "metadata": {
        "id": "k2E8aC6dIJwD"
      },
      "execution_count": 24,
      "outputs": []
    },
    {
      "cell_type": "code",
      "source": [
        "params = {'iterations':5000,\n",
        "        'learning_rate':0.01,\n",
        "        'cat_features':titanic_categories,\n",
        "        'depth':3,\n",
        "        'eval_metric':'AUC',\n",
        "        'verbose':200,\n",
        "        'od_type':\"Iter\",\n",
        "        'od_wait':500,\n",
        "        'random_seed': 0         }"
      ],
      "metadata": {
        "id": "THVxVwZ1ILXp"
      },
      "execution_count": 25,
      "outputs": []
    },
    {
      "cell_type": "code",
      "source": [
        "cat_model = CatBoostClassifier(**params)\n",
        "cat_model.fit(X_train, y_train,\n",
        "          eval_set=(X_test, y_test),\n",
        "          use_best_model=True,\n",
        "          plot=True\n",
        "         );"
      ],
      "metadata": {
        "colab": {
          "base_uri": "https://localhost:8080/",
          "height": 260,
          "referenced_widgets": [
            "fb017b501b294ce68e561234c97e1a71"
          ]
        },
        "id": "3JUNy_59IPAc",
        "outputId": "4c6dca2d-f41b-4afc-d46f-87bcdf26b255"
      },
      "execution_count": 26,
      "outputs": [
        {
          "output_type": "display_data",
          "data": {
            "text/plain": [
              "MetricVisualizer(layout=Layout(align_self='stretch', height='500px'))"
            ],
            "application/vnd.jupyter.widget-view+json": {
              "version_major": 2,
              "version_minor": 0,
              "model_id": "fb017b501b294ce68e561234c97e1a71"
            }
          },
          "metadata": {}
        },
        {
          "output_type": "stream",
          "name": "stdout",
          "text": [
            "0:\ttest: 0.8412152\tbest: 0.8412152 (0)\ttotal: 13.4ms\tremaining: 1m 6s\n",
            "200:\ttest: 0.8476416\tbest: 0.8483181 (182)\ttotal: 529ms\tremaining: 12.6s\n",
            "400:\ttest: 0.8516696\tbest: 0.8516696 (399)\ttotal: 1.2s\tremaining: 13.8s\n",
            "600:\ttest: 0.8574811\tbest: 0.8574811 (600)\ttotal: 1.89s\tremaining: 13.8s\n",
            "800:\ttest: 0.8592952\tbest: 0.8602792 (760)\ttotal: 2.48s\tremaining: 13s\n",
            "1000:\ttest: 0.8597872\tbest: 0.8603407 (968)\ttotal: 3.2s\tremaining: 12.8s\n",
            "1200:\ttest: 0.8589263\tbest: 0.8603407 (968)\ttotal: 4.71s\tremaining: 14.9s\n",
            "1400:\ttest: 0.8578808\tbest: 0.8603407 (968)\ttotal: 5.78s\tremaining: 14.9s\n",
            "Stopped by overfitting detector  (500 iterations wait)\n",
            "\n",
            "bestTest = 0.8603406925\n",
            "bestIteration = 968\n",
            "\n",
            "Shrink model to first 969 iterations.\n"
          ]
        }
      ]
    },
    {
      "cell_type": "code",
      "execution_count": 27,
      "metadata": {
        "colab": {
          "base_uri": "https://localhost:8080/",
          "height": 447
        },
        "id": "zn3n63CNB-fr",
        "outputId": "0d4faa31-3a6d-4c24-a48b-185332980744"
      },
      "outputs": [
        {
          "output_type": "execute_result",
          "data": {
            "text/plain": [
              "<Axes: >"
            ]
          },
          "metadata": {},
          "execution_count": 27
        },
        {
          "output_type": "display_data",
          "data": {
            "text/plain": [
              "<Figure size 640x480 with 2 Axes>"
            ],
            "image/png": "[encoded data removed]"
          },
          "metadata": {}
        }
      ],
      "source": [
        "y_pred = cat_model.predict(X_test)\n",
        "cm = confusion_matrix(y_test, [1 if p > 0.5 else 0 for p in y_pred])\n",
        "plt.ticklabel_format( axis='y', useOffset=False)\n",
        "sns.heatmap(cm, annot=True, annot_kws={\"size\": 16})"
      ]
    },
    {
      "cell_type": "code",
      "source": [
        "accuracy = accuracy_score(y_test, [1 if p > 0.5 else 0 for p in y_pred])\n",
        "\n",
        "print(\"Accuracy:\", accuracy)"
      ],
      "metadata": {
        "colab": {
          "base_uri": "https://localhost:8080/"
        },
        "id": "DHiIvi5qITvz",
        "outputId": "e97132be-25b8-4e3c-c53d-108205fa7014"
      },
      "execution_count": 28,
      "outputs": [
        {
          "output_type": "stream",
          "name": "stdout",
          "text": [
            "Accuracy: 0.8282442748091603\n"
          ]
        }
      ]
    }
  ]
}