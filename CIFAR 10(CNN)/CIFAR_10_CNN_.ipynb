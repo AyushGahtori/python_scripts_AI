{
  "nbformat": 4,
  "nbformat_minor": 0,
  "metadata": {
    "colab": {
      "provenance": []
    },
    "kernelspec": {
      "name": "python3",
      "display_name": "Python 3"
    },
    "language_info": {
      "name": "python"
    }
  },
  "cells": [
    {
      "cell_type": "code",
      "execution_count": 11,
      "metadata": {
        "id": "ZfooSfcGMKjx"
      },
      "outputs": [],
      "source": [
        "import tensorflow as tf\n",
        "from tensorflow.keras import datasets, layers, models\n",
        "import matplotlib.pyplot as plt"
      ]
    },
    {
      "cell_type": "code",
      "source": [
        "(train_imgs, train_labels), (test_imgs, test_labels) = datasets.cifar10.load_data()\n",
        "train_imgs, test_imgs = train_imgs / 255.0, test_imgs / 255.0"
      ],
      "metadata": {
        "colab": {
          "base_uri": "https://localhost:8080/"
        },
        "id": "O8z7Ic6nMjXN",
        "outputId": "f6b5fa26-e940-408c-c637-e47368ae1d3a"
      },
      "execution_count": 2,
      "outputs": [
        {
          "output_type": "stream",
          "name": "stdout",
          "text": [
            "Downloading data from https://www.cs.toronto.edu/~kriz/cifar-10-python.tar.gz\n",
            "170498071/170498071 [==============================] - 3s 0us/step\n"
          ]
        }
      ]
    },
    {
      "cell_type": "code",
      "source": [
        "model = models.Sequential()"
      ],
      "metadata": {
        "id": "WJZ0ozjWMmA1"
      },
      "execution_count": 3,
      "outputs": []
    },
    {
      "cell_type": "code",
      "source": [
        "model.add(layers.Conv2D(32, (3, 3), activation='relu', input_shape=(32, 32, 3)))\n",
        "model.add(layers.MaxPooling2D((2, 2)))\n",
        "\n",
        "model.add(layers.Conv2D(64, (3, 3), activation='relu'))\n",
        "model.add(layers.MaxPooling2D((2, 2)))\n",
        "\n",
        "model.add(layers.Conv2D(128, (3, 3), activation='relu'))\n",
        "model.add(layers.MaxPooling2D((2, 2)))\n",
        "\n",
        "model.add(layers.Flatten())\n",
        "\n",
        "model.add(layers.Dense(512, activation='relu'))\n",
        "model.add(layers.Dropout(0.5))\n",
        "\n",
        "model.add(layers.Dense(256, activation='relu'))\n",
        "model.add(layers.Dropout(0.5))\n",
        "\n",
        "model.add(layers.Dense(10))"
      ],
      "metadata": {
        "id": "2s-C-Y3QMpz1"
      },
      "execution_count": 4,
      "outputs": []
    },
    {
      "cell_type": "code",
      "source": [
        "model.summary()"
      ],
      "metadata": {
        "colab": {
          "base_uri": "https://localhost:8080/"
        },
        "id": "xXRsDD9GMrlZ",
        "outputId": "b37c141f-e074-41b8-b7b3-1f361b835d3b"
      },
      "execution_count": 5,
      "outputs": [
        {
          "output_type": "stream",
          "name": "stdout",
          "text": [
            "Model: \"sequential\"\n",
            "_________________________________________________________________\n",
            " Layer (type)                Output Shape              Param #   \n",
            "=================================================================\n",
            " conv2d (Conv2D)             (None, 30, 30, 32)        896       \n",
            "                                                                 \n",
            " max_pooling2d (MaxPooling2D  (None, 15, 15, 32)       0         \n",
            " )                                                               \n",
            "                                                                 \n",
            " conv2d_1 (Conv2D)           (None, 13, 13, 64)        18496     \n",
            "                                                                 \n",
            " max_pooling2d_1 (MaxPooling  (None, 6, 6, 64)         0         \n",
            " 2D)                                                             \n",
            "                                                                 \n",
            " conv2d_2 (Conv2D)           (None, 4, 4, 128)         73856     \n",
            "                                                                 \n",
            " max_pooling2d_2 (MaxPooling  (None, 2, 2, 128)        0         \n",
            " 2D)                                                             \n",
            "                                                                 \n",
            " flatten (Flatten)           (None, 512)               0         \n",
            "                                                                 \n",
            " dense (Dense)               (None, 512)               262656    \n",
            "                                                                 \n",
            " dropout (Dropout)           (None, 512)               0         \n",
            "                                                                 \n",
            " dense_1 (Dense)             (None, 256)               131328    \n",
            "                                                                 \n",
            " dropout_1 (Dropout)         (None, 256)               0         \n",
            "                                                                 \n",
            " dense_2 (Dense)             (None, 10)                2570      \n",
            "                                                                 \n",
            "=================================================================\n",
            "Total params: 489,802\n",
            "Trainable params: 489,802\n",
            "Non-trainable params: 0\n",
            "_________________________________________________________________\n"
          ]
        }
      ]
    },
    {
      "cell_type": "code",
      "source": [
        "model.compile(optimizer='adam',\n",
        "              loss=tf.keras.losses.SparseCategoricalCrossentropy(from_logits=True),\n",
        "              metrics=['accuracy'])"
      ],
      "metadata": {
        "id": "YpqfwYKoMxXk"
      },
      "execution_count": 6,
      "outputs": []
    },
    {
      "cell_type": "code",
      "source": [
        "history = model.fit(train_imgs, train_labels, epochs=10,\n",
        "                    validation_data=(test_imgs, test_labels))"
      ],
      "metadata": {
        "colab": {
          "base_uri": "https://localhost:8080/"
        },
        "id": "4bpRMcbjM1X6",
        "outputId": "c98a9351-183e-4ba8-9ded-c3524469a5bd"
      },
      "execution_count": 9,
      "outputs": [
        {
          "output_type": "stream",
          "name": "stdout",
          "text": [
            "Epoch 1/10\n",
            "1563/1563 [==============================] - 104s 66ms/step - loss: 0.8963 - accuracy: 0.6926 - val_loss: 0.9231 - val_accuracy: 0.6772\n",
            "Epoch 2/10\n",
            "1563/1563 [==============================] - 96s 62ms/step - loss: 0.8418 - accuracy: 0.7110 - val_loss: 0.9012 - val_accuracy: 0.6882\n",
            "Epoch 3/10\n",
            "1563/1563 [==============================] - 96s 61ms/step - loss: 0.7944 - accuracy: 0.7263 - val_loss: 0.8695 - val_accuracy: 0.6983\n",
            "Epoch 4/10\n",
            "1563/1563 [==============================] - 96s 62ms/step - loss: 0.7592 - accuracy: 0.7391 - val_loss: 0.8765 - val_accuracy: 0.7054\n",
            "Epoch 5/10\n",
            "1563/1563 [==============================] - 100s 64ms/step - loss: 0.7162 - accuracy: 0.7522 - val_loss: 0.8570 - val_accuracy: 0.7134\n",
            "Epoch 6/10\n",
            "1563/1563 [==============================] - 97s 62ms/step - loss: 0.6836 - accuracy: 0.7657 - val_loss: 0.8493 - val_accuracy: 0.7140\n",
            "Epoch 7/10\n",
            "1563/1563 [==============================] - 94s 60ms/step - loss: 0.6539 - accuracy: 0.7746 - val_loss: 0.8418 - val_accuracy: 0.7155\n",
            "Epoch 8/10\n",
            "1563/1563 [==============================] - 95s 61ms/step - loss: 0.6271 - accuracy: 0.7831 - val_loss: 0.8814 - val_accuracy: 0.7115\n",
            "Epoch 9/10\n",
            "1563/1563 [==============================] - 96s 62ms/step - loss: 0.6147 - accuracy: 0.7880 - val_loss: 0.9273 - val_accuracy: 0.7042\n",
            "Epoch 10/10\n",
            "1563/1563 [==============================] - 94s 60ms/step - loss: 0.5919 - accuracy: 0.7950 - val_loss: 0.8694 - val_accuracy: 0.7163\n"
          ]
        }
      ]
    },
    {
      "cell_type": "code",
      "source": [
        "plt.plot(history.history['accuracy'], label='accuracy')\n",
        "plt.plot(history.history['val_accuracy'], label = 'val_accuracy')\n",
        "plt.legend(loc='lower right')"
      ],
      "metadata": {
        "colab": {
          "base_uri": "https://localhost:8080/",
          "height": 451
        },
        "id": "vbajmLxwSFCl",
        "outputId": "a5e665ef-3e0e-4cea-d197-bc6ebbe5e2f4"
      },
      "execution_count": 13,
      "outputs": [
        {
          "output_type": "execute_result",
          "data": {
            "text/plain": [
              "<matplotlib.legend.Legend at 0x7e523a352e30>"
            ]
          },
          "metadata": {},
          "execution_count": 13
        },
        {
          "output_type": "display_data",
          "data": {
            "text/plain": [
              "<Figure size 640x480 with 1 Axes>"
            ],
            "image/png": "[encoded data removed]"
          },
          "metadata": {}
        }
      ]
    }
  ]
}